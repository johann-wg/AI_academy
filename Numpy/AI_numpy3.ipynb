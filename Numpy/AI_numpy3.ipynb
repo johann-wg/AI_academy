{
 "cells": [
  {
   "attachments": {},
   "cell_type": "markdown",
   "metadata": {},
   "source": [
    "# 선형 대수"
   ]
  },
  {
   "cell_type": "code",
   "execution_count": 1,
   "metadata": {},
   "outputs": [],
   "source": [
    "import numpy as np"
   ]
  },
  {
   "cell_type": "code",
   "execution_count": 2,
   "metadata": {},
   "outputs": [
    {
     "name": "stdout",
     "output_type": "stream",
     "text": [
      "[ 1  5 -4]\n",
      "[[1 2 3]\n",
      " [4 5 6]]\n"
     ]
    }
   ],
   "source": [
    "v1 = np.array([1, 5, -4])\n",
    "\n",
    "arr1 = np.array([[1,2,3],[4,5,6]])\n",
    "print(v1)\n",
    "print(arr1)"
   ]
  },
  {
   "attachments": {},
   "cell_type": "markdown",
   "metadata": {},
   "source": [
    "# 내적"
   ]
  },
  {
   "cell_type": "code",
   "execution_count": 3,
   "metadata": {},
   "outputs": [
    {
     "data": {
      "text/plain": [
       "-16"
      ]
     },
     "execution_count": 3,
     "metadata": {},
     "output_type": "execute_result"
    }
   ],
   "source": [
    "v1 = np.array([1,2,3])\n",
    "v2 = np.array([5,0,-7])\n",
    "np.dot(v1, v2)"
   ]
  },
  {
   "cell_type": "code",
   "execution_count": 4,
   "metadata": {},
   "outputs": [
    {
     "data": {
      "text/plain": [
       "0"
      ]
     },
     "execution_count": 4,
     "metadata": {},
     "output_type": "execute_result"
    }
   ],
   "source": [
    "v1 = np.array([5,0])\n",
    "v2 = np.array([0,4])\n",
    "np.dot(v1, v2)"
   ]
  },
  {
   "cell_type": "code",
   "execution_count": 5,
   "metadata": {},
   "outputs": [
    {
     "data": {
      "text/plain": [
       "-10"
      ]
     },
     "execution_count": 5,
     "metadata": {},
     "output_type": "execute_result"
    }
   ],
   "source": [
    "v1 = np.array([5,0])\n",
    "v2 = np.array([-2,4])\n",
    "np.dot(v1, v2)"
   ]
  },
  {
   "cell_type": "code",
   "execution_count": 6,
   "metadata": {},
   "outputs": [
    {
     "ename": "ValueError",
     "evalue": "shapes (3,2) and (3,2) not aligned: 2 (dim 1) != 3 (dim 0)",
     "output_type": "error",
     "traceback": [
      "\u001b[1;31m---------------------------------------------------------------------------\u001b[0m",
      "\u001b[1;31mValueError\u001b[0m                                Traceback (most recent call last)",
      "Cell \u001b[1;32mIn[6], line 4\u001b[0m\n\u001b[0;32m      1\u001b[0m arr1 \u001b[39m=\u001b[39m np\u001b[39m.\u001b[39marray([[\u001b[39m1\u001b[39m,\u001b[39m2\u001b[39m],[\u001b[39m3\u001b[39m,\u001b[39m4\u001b[39m],[\u001b[39m5\u001b[39m,\u001b[39m6\u001b[39m]])\n\u001b[0;32m      2\u001b[0m arr2 \u001b[39m=\u001b[39m np\u001b[39m.\u001b[39marray([[\u001b[39m6\u001b[39m,\u001b[39m23\u001b[39m],[\u001b[39m-\u001b[39m\u001b[39m1\u001b[39m,\u001b[39m7\u001b[39m],[\u001b[39m8\u001b[39m,\u001b[39m9\u001b[39m]])\n\u001b[1;32m----> 4\u001b[0m np\u001b[39m.\u001b[39;49mdot(arr1,arr2)\n",
      "File \u001b[1;32m<__array_function__ internals>:200\u001b[0m, in \u001b[0;36mdot\u001b[1;34m(*args, **kwargs)\u001b[0m\n",
      "\u001b[1;31mValueError\u001b[0m: shapes (3,2) and (3,2) not aligned: 2 (dim 1) != 3 (dim 0)"
     ]
    }
   ],
   "source": [
    "arr1 = np.array([[1,2],[3,4],[5,6]])\n",
    "arr2 = np.array([[6,23],[-1,7],[8,9]])\n",
    "\n",
    "np.dot(arr1,arr2)"
   ]
  },
  {
   "cell_type": "code",
   "execution_count": 7,
   "metadata": {},
   "outputs": [
    {
     "data": {
      "text/plain": [
       "array([[ 52,  13,  26],\n",
       "       [110,  25,  60],\n",
       "       [168,  37,  94]])"
      ]
     },
     "execution_count": 7,
     "metadata": {},
     "output_type": "execute_result"
    }
   ],
   "source": [
    "np.dot(arr1, arr2.T)"
   ]
  },
  {
   "cell_type": "code",
   "execution_count": 8,
   "metadata": {},
   "outputs": [
    {
     "data": {
      "text/plain": [
       "array([[ 43,  89],\n",
       "       [ 56, 128]])"
      ]
     },
     "execution_count": 8,
     "metadata": {},
     "output_type": "execute_result"
    }
   ],
   "source": [
    "np.dot(arr1.T, arr2)"
   ]
  },
  {
   "cell_type": "code",
   "execution_count": 9,
   "metadata": {},
   "outputs": [],
   "source": [
    "from sklearn.datasets import load_iris"
   ]
  },
  {
   "cell_type": "code",
   "execution_count": 10,
   "metadata": {},
   "outputs": [],
   "source": [
    "iris = load_iris()\n",
    "# iris.data\n",
    "# iris['data']\n",
    "X = iris.data\n",
    "Y = iris.target"
   ]
  },
  {
   "cell_type": "code",
   "execution_count": 11,
   "metadata": {},
   "outputs": [
    {
     "name": "stdout",
     "output_type": "stream",
     "text": [
      "(150, 4)\n",
      "(150,)\n"
     ]
    }
   ],
   "source": [
    "print(X.shape)\n",
    "print(Y.shape)"
   ]
  },
  {
   "cell_type": "code",
   "execution_count": 12,
   "metadata": {},
   "outputs": [
    {
     "name": "stdout",
     "output_type": "stream",
     "text": [
      "setosa\n",
      "[5.006 3.428 1.462 0.246]\n",
      "[0.34894699 0.37525458 0.17191859 0.10432641]\n",
      "versicolor\n",
      "[5.936 2.77  4.26  1.326]\n",
      "[0.51098337 0.31064449 0.46518813 0.19576517]\n",
      "virginica\n",
      "[6.588 2.974 5.552 2.026]\n",
      "[0.62948868 0.31925538 0.54634787 0.27188968]\n"
     ]
    }
   ],
   "source": [
    "X[Y == 0] # y가 true인 것들만 x에서 가져온다\n",
    "for i in range(3):\n",
    "    print(iris.target_names[i])\n",
    "    print(X[Y == i].mean(axis=0))\n",
    "    print(X[Y == i].std(axis=0))"
   ]
  },
  {
   "cell_type": "code",
   "execution_count": 57,
   "metadata": {},
   "outputs": [],
   "source": [
    "def cos_sim(sample, standard):\n",
    "    return np.dot(sample, standard) / (np.linalg.norm(sample, axis=1) * np.linalg.norm(standard))\n",
    "    # / 뒤에 거는 벡터 크기 구하는 함수\n",
    "    # cos0 == a.b / |a||b|"
   ]
  },
  {
   "cell_type": "code",
   "execution_count": 14,
   "metadata": {},
   "outputs": [
    {
     "data": {
      "text/plain": [
       "array([[5.1, 3.5, 1.4, 0.2]])"
      ]
     },
     "execution_count": 14,
     "metadata": {},
     "output_type": "execute_result"
    }
   ],
   "source": [
    "X[Y == 0][0:1]\n",
    "# 샘플 하나만 가져올 때"
   ]
  },
  {
   "cell_type": "code",
   "execution_count": 15,
   "metadata": {},
   "outputs": [
    {
     "data": {
      "text/plain": [
       "array([0.99987243])"
      ]
     },
     "execution_count": 15,
     "metadata": {},
     "output_type": "execute_result"
    }
   ],
   "source": [
    "sample = X[Y == 0][0:1]\n",
    "setosa = X[Y == 0].mean(axis=0)\n",
    "cos_sim(sample, setosa)\n",
    "# 유사도"
   ]
  },
  {
   "attachments": {},
   "cell_type": "markdown",
   "metadata": {},
   "source": [
    "(150, 4) . (4, 1) -> (150, 1)  \n",
    "\n",
    "(150, 4) . (4, ) -> (150, )\n"
   ]
  },
  {
   "cell_type": "code",
   "execution_count": 16,
   "metadata": {},
   "outputs": [
    {
     "data": {
      "text/plain": [
       "(150,)"
      ]
     },
     "execution_count": 16,
     "metadata": {},
     "output_type": "execute_result"
    }
   ],
   "source": [
    "np.dot(X, setosa).shape"
   ]
  },
  {
   "cell_type": "code",
   "execution_count": 17,
   "metadata": {},
   "outputs": [
    {
     "data": {
      "text/plain": [
       "array([0.99987243, 0.99875167, 0.99991528, 0.99958212, 0.99962191,\n",
       "       0.99944014, 0.99931449, 0.99994583, 0.99958036, 0.99898192,\n",
       "       0.999891  , 0.99943689, 0.99890941, 0.99930953, 0.99763752,\n",
       "       0.99786694, 0.99855875, 0.99987249, 0.99989947, 0.99921484,\n",
       "       0.99897733, 0.99939929, 0.9958143 , 0.99823312, 0.99697821,\n",
       "       0.99780355, 0.99944933, 0.9999334 , 0.99964213, 0.99926624,\n",
       "       0.99897565, 0.99905228, 0.99746199, 0.99798723, 0.99922182,\n",
       "       0.99883515, 0.99863146, 0.99915394, 0.99998938, 0.99989107,\n",
       "       0.99955949, 0.99204386, 0.99961181, 0.99821815, 0.99759829,\n",
       "       0.99908581, 0.99916021, 0.99992803, 0.99988308, 0.99981486,\n",
       "       0.93380331, 0.931688  , 0.92351558, 0.91259304, 0.91942619,\n",
       "       0.91367682, 0.92510393, 0.93834199, 0.92598037, 0.92216769,\n",
       "       0.91752488, 0.92938985, 0.91939376, 0.91485821, 0.94537314,\n",
       "       0.93674082, 0.91410836, 0.93026818, 0.89874561, 0.92739332,\n",
       "       0.90930284, 0.93594771, 0.89768757, 0.914521  , 0.93277988,\n",
       "       0.93324959, 0.91825574, 0.91272916, 0.91849587, 0.94598046,\n",
       "       0.92638329, 0.93127205, 0.93446049, 0.89038013, 0.90995511,\n",
       "       0.92881417, 0.92697692, 0.90981054, 0.9314272 , 0.91938514,\n",
       "       0.90914966, 0.92087915, 0.92821894, 0.93643025, 0.91991899,\n",
       "       0.93098537, 0.92704476, 0.93057253, 0.95219929, 0.92780287,\n",
       "       0.86806512, 0.88093049, 0.88619625, 0.88222543, 0.87628339,\n",
       "       0.87437918, 0.87852375, 0.87871595, 0.87091065, 0.8912307 ,\n",
       "       0.90705243, 0.88654397, 0.89299268, 0.87357521, 0.87325637,\n",
       "       0.89349002, 0.89237478, 0.89208995, 0.85310929, 0.87812602,\n",
       "       0.89084026, 0.88446544, 0.86856217, 0.89944005, 0.89313866,\n",
       "       0.89437272, 0.90401765, 0.90464979, 0.87644933, 0.89718793,\n",
       "       0.88210959, 0.90555946, 0.87465683, 0.90046008, 0.87382453,\n",
       "       0.88703474, 0.88516023, 0.89322124, 0.90611334, 0.90032031,\n",
       "       0.88561123, 0.90516449, 0.88093049, 0.88305611, 0.88602317,\n",
       "       0.89650444, 0.88796137, 0.89868869, 0.89122605, 0.89384585])"
      ]
     },
     "execution_count": 17,
     "metadata": {},
     "output_type": "execute_result"
    }
   ],
   "source": [
    "setosa = X[Y == 0].mean(axis=0)\n",
    "cos_sim(X, setosa)"
   ]
  },
  {
   "cell_type": "code",
   "execution_count": 18,
   "metadata": {},
   "outputs": [
    {
     "name": "stdout",
     "output_type": "stream",
     "text": [
      "[5.006 3.428 1.462 0.246]\n",
      "[5.936 2.77  4.26  1.326]\n",
      "[6.588 2.974 5.552 2.026]\n"
     ]
    }
   ],
   "source": [
    "setosa = X[Y == 0].mean(axis=0)\n",
    "versicolor = X[Y == 1].mean(axis=0)\n",
    "verginica = X[Y == 2].mean(axis=0)\n",
    "\n",
    "print(setosa)\n",
    "print(versicolor)\n",
    "print(verginica)"
   ]
  },
  {
   "cell_type": "code",
   "execution_count": 19,
   "metadata": {},
   "outputs": [],
   "source": [
    "setosa_cos = cos_sim(X, setosa)\n",
    "versicolor_cos = cos_sim(X, versicolor)\n",
    "verginica_cos = cos_sim(X, verginica)"
   ]
  },
  {
   "cell_type": "code",
   "execution_count": 20,
   "metadata": {},
   "outputs": [
    {
     "data": {
      "text/plain": [
       "(3, 150)"
      ]
     },
     "execution_count": 20,
     "metadata": {},
     "output_type": "execute_result"
    }
   ],
   "source": [
    "# np.concatenate([setosa_cos, versicolor_cos, verginica_cos], axis=1).shape\n",
    "# 1차원인라서 오류남.\n",
    "cos = np.stack([setosa_cos, versicolor_cos, verginica_cos])\n",
    "cos.shape"
   ]
  },
  {
   "cell_type": "code",
   "execution_count": 21,
   "metadata": {},
   "outputs": [
    {
     "data": {
      "text/plain": [
       "0.9733333333333334"
      ]
     },
     "execution_count": 21,
     "metadata": {},
     "output_type": "execute_result"
    }
   ],
   "source": [
    "np.sum(np.argmax(cos, axis=0) == Y) / len(Y)\n",
    "# np.argmax(cos, axis=0) - 예측결과\n",
    "# Y - 정답"
   ]
  },
  {
   "cell_type": "code",
   "execution_count": 65,
   "metadata": {},
   "outputs": [
    {
     "data": {
      "text/plain": [
       "0.9733333333333334"
      ]
     },
     "execution_count": 65,
     "metadata": {},
     "output_type": "execute_result"
    }
   ],
   "source": [
    "setosa = X[Y == 0].mean(axis=0)\n",
    "versicolor = X[Y == 1].mean(axis=0)\n",
    "verginica = X[Y == 2].mean(axis=0)\n",
    "\n",
    "setosa_cos = cos_sim(X, setosa)\n",
    "versicolor_cos = cos_sim(X, versicolor)\n",
    "verginica_cos = cos_sim(X, verginica)\n",
    "\n",
    "cos = np.stack([setosa_cos, versicolor_cos, verginica_cos])\n",
    "\n",
    "np.sum(np.argmax(cos, axis=0) == Y) / len(Y)"
   ]
  },
  {
   "cell_type": "code",
   "execution_count": 76,
   "metadata": {},
   "outputs": [
    {
     "name": "stdout",
     "output_type": "stream",
     "text": [
      "0.9733333333333334\n"
     ]
    }
   ],
   "source": [
    "temp = []\n",
    "for i in range(3):\n",
    "    means = X[Y == i].mean(axis=0)\n",
    "    cos = cos_sim(X, means)\n",
    "    temp.append(cos)\n",
    "result_cos = np.stack(temp)\n",
    "print(np.sum(np.argmax(result_cos, axis=0) == Y) / len(Y))\n"
   ]
  },
  {
   "cell_type": "code",
   "execution_count": 81,
   "metadata": {},
   "outputs": [
    {
     "name": "stdout",
     "output_type": "stream",
     "text": [
      "0.9733333333333334\n"
     ]
    }
   ],
   "source": [
    "temp = []\n",
    "for i in range(3):\n",
    "    means = X[Y == i].mean(axis=0)\n",
    "    cos = cos_sim(X, means)\n",
    "    temp.append(cos)\n",
    "result_cos = np.stack(temp)\n",
    "print(np.sum(np.argmax(result_cos, axis=0) == Y) / len(Y))"
   ]
  },
  {
   "cell_type": "code",
   "execution_count": 124,
   "metadata": {},
   "outputs": [
    {
     "data": {
      "text/plain": [
       "array([1, 2, 3, 4, 5])"
      ]
     },
     "execution_count": 124,
     "metadata": {},
     "output_type": "execute_result"
    }
   ],
   "source": [
    "arr1 = np.array([1,2,3,4,5])\n",
    "arr1"
   ]
  },
  {
   "cell_type": "code",
   "execution_count": 125,
   "metadata": {},
   "outputs": [
    {
     "data": {
      "text/plain": [
       "array([2, 3])"
      ]
     },
     "execution_count": 125,
     "metadata": {},
     "output_type": "execute_result"
    }
   ],
   "source": [
    "arr2 = arr1[1:3].copy()\n",
    "arr2"
   ]
  },
  {
   "cell_type": "code",
   "execution_count": 126,
   "metadata": {},
   "outputs": [
    {
     "data": {
      "text/plain": [
       "array([20, 30])"
      ]
     },
     "execution_count": 126,
     "metadata": {},
     "output_type": "execute_result"
    }
   ],
   "source": [
    "arr2 *= 10\n",
    "arr2"
   ]
  },
  {
   "cell_type": "code",
   "execution_count": 127,
   "metadata": {},
   "outputs": [
    {
     "data": {
      "text/plain": [
       "array([1, 2, 3, 4, 5])"
      ]
     },
     "execution_count": 127,
     "metadata": {},
     "output_type": "execute_result"
    }
   ],
   "source": [
    "arr1"
   ]
  },
  {
   "cell_type": "code",
   "execution_count": 134,
   "metadata": {},
   "outputs": [
    {
     "name": "stdout",
     "output_type": "stream",
     "text": [
      "2278726931824\n",
      "2278726938800\n"
     ]
    }
   ],
   "source": [
    "print(id(arr1[1]))\n",
    "print(id(arr2[0]))"
   ]
  },
  {
   "cell_type": "code",
   "execution_count": null,
   "metadata": {},
   "outputs": [],
   "source": []
  }
 ],
 "metadata": {
  "kernelspec": {
   "display_name": "CW_AI_Academy",
   "language": "python",
   "name": "python3"
  },
  "language_info": {
   "codemirror_mode": {
    "name": "ipython",
    "version": 3
   },
   "file_extension": ".py",
   "mimetype": "text/x-python",
   "name": "python",
   "nbconvert_exporter": "python",
   "pygments_lexer": "ipython3",
   "version": "3.11.1"
  },
  "orig_nbformat": 4
 },
 "nbformat": 4,
 "nbformat_minor": 2
}
