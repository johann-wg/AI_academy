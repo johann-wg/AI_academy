{
 "cells": [
  {
   "cell_type": "markdown",
   "metadata": {
    "id": "xDmViO1_kZv1"
   },
   "source": [
    "##  Box plot 이상탐지(통계적 기법)\n",
    "___\n",
    "* 정의\n",
    "```\n",
    "# 많은 데이터를 눈으로 확인하기 어려울 때 그림을 이용해 데이터 집합의 범위와 중앙값을 빠르게 확인(EDA 때도 활용됨)\n",
    "# Box plot은 최소 정상값(min), 1사분위수(Q1), 중앙값(Q2), 3사분위수(Q3), 최대 정상값(max)를 나타내는 시각화 방법\n",
    "```\n",
    "<img src = \"https://drive.google.com/uc?id=1pQT3D1JhZXEL5Cc79fZJAd5F3LORGezM\">\n",
    "\n",
    "* 장단점\n",
    "```\n",
    "  # [good] 데이터를 눈으로 확인하기 어려울 때, 그림을 이용해 데이터의 범위를 빠르게 파악\n",
    "  # [good] 통계적으로 이상치(Outlier)가 있는지 확인 가능\n",
    "  # [good] 다양한 정보를 손쉽게 표현할 수 있음\n",
    "  # [bad] 위치정보에 기반하고 있기 때문에 분포를 확인하기는 어려움\n",
    "  # [bad] 가운데 선은 평균이 아니다. 오해 소지가 있음\n",
    "```\n",
    "  \n",
    "* 사용방법\n",
    "```\n",
    "# 주어진 데이터에서 각 사분위수를 계산한다.\n",
    "# 그래프에서 제 1사분위수와 제 3사분위수를 기준으로 박스를 그린다.\n",
    "# 제 2사분위수에 해당하는 위치에 선을 긎는다.\n",
    "# 제 3사분위수에서 1.5*IQR을 더한 위치에 가로 선을 긋고 제 3사분위수부터 가로선까지 세로선을 긋는다.\n",
    "# 제 1사분위수에서 1.5*IQR을 뺀 위치에 가로 선을 긋고 제 1사분위수부터 가로선까지 세로선을 긋는다.\n",
    "# 4,5번에 그은 직선을 넘어서는 위치에 존재하는 값은 동그라미와 같은 기호로 표시한다.(이상치 의미) \n",
    "```\n",
    "\n",
    "* 용어\n",
    "```\n",
    "# median - 중앙값\n",
    "# IQR : 25% ~ 75%에 해당한 부분 \n",
    "# 75th Percentile : 제 3사분위수\n",
    "# 25th Percentile : 제 1사분위수\n",
    "# Whisker : 최댓값, 최솟값\n",
    "# Outlier : 이상치 (Q3+1.5 IQR, Q1-1.5 IQR)\n",
    "```\n",
    "\n",
    "* 현업사례\n",
    "```\n",
    "# EDA 단계에서 많이 사용됨\n",
    "# 공정 센서 데이터 이상탐지\n",
    "# 검사 및 측정 데이터 이상탐지 \n",
    "```\n",
    "   \n"
   ]
  },
  {
   "cell_type": "markdown",
   "metadata": {
    "id": "VWX9kZeY94G0"
   },
   "source": [
    "### 실습\n",
    "___"
   ]
  },
  {
   "cell_type": "code",
   "execution_count": 14,
   "metadata": {
    "ExecuteTime": {
     "end_time": "2023-07-25T23:54:47.086235Z",
     "start_time": "2023-07-25T23:54:46.241211Z"
    },
    "colab": {
     "base_uri": "https://localhost:8080/",
     "height": 368
    },
    "executionInfo": {
     "elapsed": 288,
     "status": "ok",
     "timestamp": 1667269740758,
     "user": {
      "displayName": "박지환",
      "userId": "03562376240636475247"
     },
     "user_tz": -540
    },
    "id": "pQ_6hocuil2C",
    "outputId": "eb6191aa-9462-455c-e384-48d072a347ab"
   },
   "outputs": [
    {
     "data": {
      "text/html": [
       "<div>\n",
       "<style scoped>\n",
       "    .dataframe tbody tr th:only-of-type {\n",
       "        vertical-align: middle;\n",
       "    }\n",
       "\n",
       "    .dataframe tbody tr th {\n",
       "        vertical-align: top;\n",
       "    }\n",
       "\n",
       "    .dataframe thead th {\n",
       "        text-align: right;\n",
       "    }\n",
       "</style>\n",
       "<table border=\"1\" class=\"dataframe\">\n",
       "  <thead>\n",
       "    <tr style=\"text-align: right;\">\n",
       "      <th></th>\n",
       "      <th>0</th>\n",
       "    </tr>\n",
       "  </thead>\n",
       "  <tbody>\n",
       "    <tr>\n",
       "      <th>0</th>\n",
       "      <td>34</td>\n",
       "    </tr>\n",
       "    <tr>\n",
       "      <th>1</th>\n",
       "      <td>5</td>\n",
       "    </tr>\n",
       "    <tr>\n",
       "      <th>2</th>\n",
       "      <td>9</td>\n",
       "    </tr>\n",
       "    <tr>\n",
       "      <th>3</th>\n",
       "      <td>10</td>\n",
       "    </tr>\n",
       "    <tr>\n",
       "      <th>4</th>\n",
       "      <td>15</td>\n",
       "    </tr>\n",
       "    <tr>\n",
       "      <th>5</th>\n",
       "      <td>20</td>\n",
       "    </tr>\n",
       "    <tr>\n",
       "      <th>6</th>\n",
       "      <td>1</td>\n",
       "    </tr>\n",
       "  </tbody>\n",
       "</table>\n",
       "</div>"
      ],
      "text/plain": [
       "    0\n",
       "0  34\n",
       "1   5\n",
       "2   9\n",
       "3  10\n",
       "4  15\n",
       "5  20\n",
       "6   1"
      ]
     },
     "execution_count": 14,
     "metadata": {},
     "output_type": "execute_result"
    }
   ],
   "source": [
    "# Box plot 그려보기\n",
    "import pandas as pd\n",
    "import matplotlib.pyplot as plt\n",
    "import seaborn as sns\n",
    "plt.style.use(['default'])\n",
    "\n",
    "test = pd.DataFrame([34, 5, 9, 10 ,15, 20, 1])\n",
    "test"
   ]
  },
  {
   "cell_type": "code",
   "execution_count": 2,
   "metadata": {
    "ExecuteTime": {
     "end_time": "2023-07-25T23:54:49.349185Z",
     "start_time": "2023-07-25T23:54:49.246259Z"
    }
   },
   "outputs": [
    {
     "data": {
      "text/plain": [
       "<Axes: >"
      ]
     },
     "execution_count": 2,
     "metadata": {},
     "output_type": "execute_result"
    },
    {
     "data": {
      "image/png": "[encoded data removed]",
      "text/plain": [
       "<Figure size 640x480 with 1 Axes>"
      ]
     },
     "metadata": {},
     "output_type": "display_data"
    }
   ],
   "source": [
    "test.boxplot()"
   ]
  },
  {
   "cell_type": "code",
   "execution_count": 3,
   "metadata": {
    "ExecuteTime": {
     "end_time": "2023-07-26T00:17:24.098391Z",
     "start_time": "2023-07-26T00:17:24.028977Z"
    },
    "colab": {
     "base_uri": "https://localhost:8080/",
     "height": 455
    },
    "executionInfo": {
     "elapsed": 341,
     "status": "ok",
     "timestamp": 1667269899870,
     "user": {
      "displayName": "박지환",
      "userId": "03562376240636475247"
     },
     "user_tz": -540
    },
    "id": "ZxFVfpXj5MXy",
    "outputId": "13d467e5-8514-478a-8c8f-01c20094cb06"
   },
   "outputs": [
    {
     "data": {
      "image/png": "[encoded data removed]",
      "text/plain": [
       "<Figure size 640x480 with 1 Axes>"
      ]
     },
     "metadata": {},
     "output_type": "display_data"
    },
    {
     "name": "stdout",
     "output_type": "stream",
     "text": [
      "whiskers: [array([-1.26993466, -4.89499409]), array([1.20778257, 4.80484755]), array([-3.93179531, -6.55202642]), array([-1.8349773 ,  1.22194834]), array([ 0.14225094, -2.72456136]), array([2.09846005, 4.93493593])]\n",
      "medians: [array([0.05275111, 0.05275111]), array([-2.90905747, -2.90905747]), array([1.0982812, 1.0982812])]\n",
      "fliers: [array([-5.44554019, -5.38478777,  5.6597219 ,  5.42582442,  5.36348776,\n",
      "        5.05286502,  5.58939074]), array([-7.14766201]), array([-3.04443773, -2.92375602, -2.85567232, -2.86698758, -3.29609601,\n",
      "       -3.09928819, -2.89879051, -3.43522682, -2.83876628, -3.83501266,\n",
      "       -3.20137498,  6.71255117,  6.51669183,  6.40544759,  5.10423577,\n",
      "        5.08267306,  5.6107774 ,  5.06798309,  5.03764921,  5.73972101])]\n"
     ]
    }
   ],
   "source": [
    "# Box plot 그려보기\n",
    "import numpy as np\n",
    "import matplotlib.pyplot as plt\n",
    "\n",
    "data_a = np.random.normal(0, 2.0, 1000)\n",
    "data_b = np.random.normal(-3.0, 1.5, 500)\n",
    "data_c = np.random.normal(1.2, 1.5, 1500)\n",
    "\n",
    "labels = ['data_a', 'data_b', 'data_c']\n",
    "\n",
    "box = plt.boxplot([data_a, data_b, data_c], whis=1.5)  # whis 1.5는 기본값\n",
    "plt.ylim(-10.0, 10.0)\n",
    "plt.xlabel('Data Type')\n",
    "plt.ylabel('Value')\n",
    "plt.show()\n",
    "\n",
    "whiskers = [item.get_ydata() for item in box['whiskers']]\n",
    "medians = [item.get_ydata() for item in box['medians']]\n",
    "fliers = [item.get_ydata() for item in box['fliers']]\n",
    "\n",
    "print('whiskers:', whiskers)\n",
    "print('medians:', medians)\n",
    "print('fliers:', fliers)"
   ]
  },
  {
   "cell_type": "code",
   "execution_count": 4,
   "metadata": {
    "ExecuteTime": {
     "end_time": "2023-07-26T00:00:13.514306Z",
     "start_time": "2023-07-26T00:00:13.504300Z"
    }
   },
   "outputs": [
    {
     "data": {
      "text/plain": [
       "ShapiroResult(statistic=0.9984028339385986, pvalue=0.49281343817710876)"
      ]
     },
     "execution_count": 4,
     "metadata": {},
     "output_type": "execute_result"
    }
   ],
   "source": [
    "import scipy.stats as stats\n",
    "shapiro_test = stats.shapiro(data_a)\n",
    "shapiro_test\n",
    "# pvalue가 0.05 이상이므로 정규분포임."
   ]
  },
  {
   "cell_type": "code",
   "execution_count": 5,
   "metadata": {
    "ExecuteTime": {
     "end_time": "2023-07-26T00:11:09.772168Z",
     "start_time": "2023-07-26T00:11:09.710157Z"
    }
   },
   "outputs": [
    {
     "data": {
      "image/png": "[encoded data removed]",
      "text/plain": [
       "<Figure size 640x480 with 1 Axes>"
      ]
     },
     "metadata": {},
     "output_type": "display_data"
    }
   ],
   "source": [
    "# boxplot의 단점이 분포를 알 수 없는 것이다.\n",
    "df=pd.DataFrame(data_a)\n",
    "df.boxplot()\n",
    "\n",
    "# boxplot위에 점을 찍어보자. enumerate() : index과 column_name을 동시에 끄집어 내자.\n",
    "for i, d in enumerate(df):\n",
    "    y = df[d]\n",
    "    x = np.random.normal(i+1, 0.04, len(y)) # np.random.normal(loc, scale, size), loc: 분포의 평균, scale : 표준편차, size : 출력크기\n",
    "    plt.scatter(x, y, alpha=0.3, marker=\".\")\n",
    "    \n",
    "plt.title(\"boxplot with scatter\", fontsize=10)\n",
    "plt.show()"
   ]
  },
  {
   "cell_type": "code",
   "execution_count": 6,
   "metadata": {
    "ExecuteTime": {
     "end_time": "2023-07-26T00:14:03.939489Z",
     "start_time": "2023-07-26T00:14:03.925489Z"
    }
   },
   "outputs": [],
   "source": [
    "# Outlier 검출하기\n",
    "def get_box_plot_data(labels, bp):\n",
    "    rows_list = []\n",
    "    for i in range(len(labels)):\n",
    "        dict1 = {}\n",
    "        dict1['label'] = labels[i]\n",
    "        dict1['lower_whisker'] = bp['whiskers'][i*2].get_ydata()[1]\n",
    "        dict1['lower_quartile(Q1)'] = bp['boxes'][i].get_ydata()[1]\n",
    "        dict1['median'] = bp['medians'][i].get_ydata()[1]\n",
    "        dict1['upper_quartile(Q3)'] = bp['boxes'][i].get_ydata()[2]\n",
    "        dict1['upper_whisker'] = bp['whiskers'][(i*2)+1].get_ydata()[1]\n",
    "        dict1['Outlier'] = bp['fliers'][i].get_ydata()\n",
    "        rows_list.append(dict1)\n",
    "\n",
    "    return pd.DataFrame(rows_list)"
   ]
  },
  {
   "cell_type": "code",
   "execution_count": 7,
   "metadata": {
    "ExecuteTime": {
     "end_time": "2023-07-26T00:14:04.825935Z",
     "start_time": "2023-07-26T00:14:04.793922Z"
    }
   },
   "outputs": [
    {
     "data": {
      "text/html": [
       "<div>\n",
       "<style scoped>\n",
       "    .dataframe tbody tr th:only-of-type {\n",
       "        vertical-align: middle;\n",
       "    }\n",
       "\n",
       "    .dataframe tbody tr th {\n",
       "        vertical-align: top;\n",
       "    }\n",
       "\n",
       "    .dataframe thead th {\n",
       "        text-align: right;\n",
       "    }\n",
       "</style>\n",
       "<table border=\"1\" class=\"dataframe\">\n",
       "  <thead>\n",
       "    <tr style=\"text-align: right;\">\n",
       "      <th></th>\n",
       "      <th>label</th>\n",
       "      <th>lower_whisker</th>\n",
       "      <th>lower_quartile(Q1)</th>\n",
       "      <th>median</th>\n",
       "      <th>upper_quartile(Q3)</th>\n",
       "      <th>upper_whisker</th>\n",
       "      <th>Outlier</th>\n",
       "    </tr>\n",
       "  </thead>\n",
       "  <tbody>\n",
       "    <tr>\n",
       "      <th>0</th>\n",
       "      <td>data_a</td>\n",
       "      <td>-4.894994</td>\n",
       "      <td>-1.269935</td>\n",
       "      <td>0.052751</td>\n",
       "      <td>1.207783</td>\n",
       "      <td>4.804848</td>\n",
       "      <td>[-5.445540191603116, -5.384787770163555, 5.659...</td>\n",
       "    </tr>\n",
       "    <tr>\n",
       "      <th>1</th>\n",
       "      <td>data_b</td>\n",
       "      <td>-6.552026</td>\n",
       "      <td>-3.931795</td>\n",
       "      <td>-2.909057</td>\n",
       "      <td>-1.834977</td>\n",
       "      <td>1.221948</td>\n",
       "      <td>[-7.1476620070351835]</td>\n",
       "    </tr>\n",
       "    <tr>\n",
       "      <th>2</th>\n",
       "      <td>data_c</td>\n",
       "      <td>-2.724561</td>\n",
       "      <td>0.142251</td>\n",
       "      <td>1.098281</td>\n",
       "      <td>2.098460</td>\n",
       "      <td>4.934936</td>\n",
       "      <td>[-3.04443773275578, -2.9237560238295837, -2.85...</td>\n",
       "    </tr>\n",
       "  </tbody>\n",
       "</table>\n",
       "</div>"
      ],
      "text/plain": [
       "    label  lower_whisker  lower_quartile(Q1)    median  upper_quartile(Q3)  \\\n",
       "0  data_a      -4.894994           -1.269935  0.052751            1.207783   \n",
       "1  data_b      -6.552026           -3.931795 -2.909057           -1.834977   \n",
       "2  data_c      -2.724561            0.142251  1.098281            2.098460   \n",
       "\n",
       "   upper_whisker                                            Outlier  \n",
       "0       4.804848  [-5.445540191603116, -5.384787770163555, 5.659...  \n",
       "1       1.221948                              [-7.1476620070351835]  \n",
       "2       4.934936  [-3.04443773275578, -2.9237560238295837, -2.85...  "
      ]
     },
     "execution_count": 7,
     "metadata": {},
     "output_type": "execute_result"
    }
   ],
   "source": [
    "# Box plot summary\n",
    "get_box_plot_data(labels, box)"
   ]
  },
  {
   "cell_type": "code",
   "execution_count": 8,
   "metadata": {
    "ExecuteTime": {
     "end_time": "2023-07-26T00:14:08.893852Z",
     "start_time": "2023-07-26T00:14:08.886853Z"
    }
   },
   "outputs": [
    {
     "data": {
      "text/plain": [
       "[array([-5.44554019, -5.38478777,  5.6597219 ,  5.42582442,  5.36348776,\n",
       "         5.05286502,  5.58939074]),\n",
       " array([-7.14766201]),\n",
       " array([-3.04443773, -2.92375602, -2.85567232, -2.86698758, -3.29609601,\n",
       "        -3.09928819, -2.89879051, -3.43522682, -2.83876628, -3.83501266,\n",
       "        -3.20137498,  6.71255117,  6.51669183,  6.40544759,  5.10423577,\n",
       "         5.08267306,  5.6107774 ,  5.06798309,  5.03764921,  5.73972101])]"
      ]
     },
     "execution_count": 8,
     "metadata": {},
     "output_type": "execute_result"
    }
   ],
   "source": [
    "# Box plot Outlier 객체 출력\n",
    "fliers = [item.get_ydata() for item in box['fliers']]\n",
    "fliers"
   ]
  },
  {
   "cell_type": "code",
   "execution_count": 11,
   "metadata": {},
   "outputs": [],
   "source": [
    "import pandas as pd\n",
    "import matplotlib.pyplot as plt\n",
    "import seaborn as sns\n",
    "\n",
    "iris = sns.load_dataset('iris')"
   ]
  },
  {
   "cell_type": "code",
   "execution_count": 20,
   "metadata": {},
   "outputs": [
    {
     "data": {
      "image/png": "[encoded data removed]",
      "text/plain": [
       "<Figure size 640x480 with 1 Axes>"
      ]
     },
     "metadata": {},
     "output_type": "display_data"
    }
   ],
   "source": [
    "box = plt.boxplot(iris['sepal_width'])\n",
    "plt.show()"
   ]
  },
  {
   "cell_type": "code",
   "execution_count": 24,
   "metadata": {},
   "outputs": [
    {
     "name": "stdout",
     "output_type": "stream",
     "text": [
      "whiskers: [array([2.8, 2.2]), array([3.3, 4. ])]\n",
      "medians: [array([3., 3.])]\n",
      "fliers: [array([2. , 4.4, 4.1, 4.2])]\n"
     ]
    }
   ],
   "source": [
    "whiskers = [item.get_ydata() for item in box['whiskers']]\n",
    "medians = [item.get_ydata() for item in box['medians']]\n",
    "fliers = [item.get_ydata() for item in box['fliers']]\n",
    "\n",
    "print('whiskers:', whiskers)\n",
    "print('medians:', medians)\n",
    "print('fliers:', fliers)"
   ]
  },
  {
   "cell_type": "code",
   "execution_count": 52,
   "metadata": {},
   "outputs": [
    {
     "data": {
      "image/png": "[encoded data removed]",
      "text/plain": [
       "<Figure size 640x480 with 1 Axes>"
      ]
     },
     "metadata": {},
     "output_type": "display_data"
    }
   ],
   "source": [
    "iris_box = plt.boxplot(iris.iloc[:,:-1])\n",
    "plt.show()"
   ]
  },
  {
   "cell_type": "code",
   "execution_count": null,
   "metadata": {},
   "outputs": [],
   "source": [
    "# Outlier 검출하기\n",
    "def get_box_plot_data(labels, bp):\n",
    "    rows_list = []\n",
    "    for i in range(len(labels)):\n",
    "        dict1 = {}\n",
    "        dict1['label'] = labels[i]\n",
    "        dict1['lower_whisker'] = bp['whiskers'][i*2].get_ydata()[1]\n",
    "        dict1['lower_quartile(Q1)'] = bp['boxes'][i].get_ydata()[1]\n",
    "        dict1['median'] = bp['medians'][i].get_ydata()[1]\n",
    "        dict1['upper_quartile(Q3)'] = bp['boxes'][i].get_ydata()[2]\n",
    "        dict1['upper_whisker'] = bp['whiskers'][(i*2)+1].get_ydata()[1]\n",
    "        dict1['Outlier'] = bp['fliers'][i].get_ydata()\n",
    "        rows_list.append(dict1)\n",
    "\n",
    "    return pd.DataFrame(rows_list)"
   ]
  },
  {
   "cell_type": "code",
   "execution_count": 46,
   "metadata": {},
   "outputs": [
    {
     "data": {
      "text/plain": [
       "Index(['sepal_length', 'sepal_width', 'petal_length', 'petal_width'], dtype='object')"
      ]
     },
     "execution_count": 46,
     "metadata": {},
     "output_type": "execute_result"
    }
   ],
   "source": [
    "labels = iris.columns[:-1]\n",
    "labels"
   ]
  },
  {
   "cell_type": "code",
   "execution_count": 47,
   "metadata": {},
   "outputs": [
    {
     "data": {
      "text/html": [
       "<div>\n",
       "<style scoped>\n",
       "    .dataframe tbody tr th:only-of-type {\n",
       "        vertical-align: middle;\n",
       "    }\n",
       "\n",
       "    .dataframe tbody tr th {\n",
       "        vertical-align: top;\n",
       "    }\n",
       "\n",
       "    .dataframe thead th {\n",
       "        text-align: right;\n",
       "    }\n",
       "</style>\n",
       "<table border=\"1\" class=\"dataframe\">\n",
       "  <thead>\n",
       "    <tr style=\"text-align: right;\">\n",
       "      <th></th>\n",
       "      <th>label</th>\n",
       "      <th>lower_whisker</th>\n",
       "      <th>lower_quartile(Q1)</th>\n",
       "      <th>median</th>\n",
       "      <th>upper_quartile(Q3)</th>\n",
       "      <th>upper_whisker</th>\n",
       "      <th>Outlier</th>\n",
       "    </tr>\n",
       "  </thead>\n",
       "  <tbody>\n",
       "    <tr>\n",
       "      <th>0</th>\n",
       "      <td>sepal_length</td>\n",
       "      <td>4.3</td>\n",
       "      <td>5.1</td>\n",
       "      <td>5.80</td>\n",
       "      <td>6.4</td>\n",
       "      <td>7.9</td>\n",
       "      <td>[]</td>\n",
       "    </tr>\n",
       "    <tr>\n",
       "      <th>1</th>\n",
       "      <td>sepal_width</td>\n",
       "      <td>2.2</td>\n",
       "      <td>2.8</td>\n",
       "      <td>3.00</td>\n",
       "      <td>3.3</td>\n",
       "      <td>4.0</td>\n",
       "      <td>[2.0, 4.4, 4.1, 4.2]</td>\n",
       "    </tr>\n",
       "    <tr>\n",
       "      <th>2</th>\n",
       "      <td>petal_length</td>\n",
       "      <td>1.0</td>\n",
       "      <td>1.6</td>\n",
       "      <td>4.35</td>\n",
       "      <td>5.1</td>\n",
       "      <td>6.9</td>\n",
       "      <td>[]</td>\n",
       "    </tr>\n",
       "    <tr>\n",
       "      <th>3</th>\n",
       "      <td>petal_width</td>\n",
       "      <td>0.1</td>\n",
       "      <td>0.3</td>\n",
       "      <td>1.30</td>\n",
       "      <td>1.8</td>\n",
       "      <td>2.5</td>\n",
       "      <td>[]</td>\n",
       "    </tr>\n",
       "  </tbody>\n",
       "</table>\n",
       "</div>"
      ],
      "text/plain": [
       "          label  lower_whisker  lower_quartile(Q1)  median  \\\n",
       "0  sepal_length            4.3                 5.1    5.80   \n",
       "1   sepal_width            2.2                 2.8    3.00   \n",
       "2  petal_length            1.0                 1.6    4.35   \n",
       "3   petal_width            0.1                 0.3    1.30   \n",
       "\n",
       "   upper_quartile(Q3)  upper_whisker               Outlier  \n",
       "0                 6.4            7.9                    []  \n",
       "1                 3.3            4.0  [2.0, 4.4, 4.1, 4.2]  \n",
       "2                 5.1            6.9                    []  \n",
       "3                 1.8            2.5                    []  "
      ]
     },
     "execution_count": 47,
     "metadata": {},
     "output_type": "execute_result"
    }
   ],
   "source": [
    "box_fliers = get_box_plot_data(labels, iris_box)\n",
    "box_fliers"
   ]
  },
  {
   "cell_type": "code",
   "execution_count": 48,
   "metadata": {},
   "outputs": [
    {
     "data": {
      "text/plain": [
       "0                      []\n",
       "1    [2.0, 4.4, 4.1, 4.2]\n",
       "2                      []\n",
       "3                      []\n",
       "Name: Outlier, dtype: object"
      ]
     },
     "execution_count": 48,
     "metadata": {},
     "output_type": "execute_result"
    }
   ],
   "source": [
    "box_fliers['Outlier']"
   ]
  },
  {
   "cell_type": "code",
   "execution_count": 79,
   "metadata": {},
   "outputs": [
    {
     "data": {
      "text/plain": [
       "[array([], dtype=float64),\n",
       " array([2. , 4.4, 4.1, 4.2]),\n",
       " array([], dtype=float64),\n",
       " array([], dtype=float64)]"
      ]
     },
     "execution_count": 79,
     "metadata": {},
     "output_type": "execute_result"
    }
   ],
   "source": [
    "[1 if v == 0 else v.get_ydata() for v in iris_box['fliers']]"
   ]
  },
  {
   "cell_type": "code",
   "execution_count": 81,
   "metadata": {},
   "outputs": [
    {
     "data": {
      "text/plain": [
       "[0, array([2. , 4.4, 4.1, 4.2]), 0, 0]"
      ]
     },
     "execution_count": 81,
     "metadata": {},
     "output_type": "execute_result"
    }
   ],
   "source": [
    "[0 if len(v.get_ydata()) == 0 else v.get_ydata() for v in iris_box['fliers']]\n"
   ]
  },
  {
   "cell_type": "code",
   "execution_count": 92,
   "metadata": {},
   "outputs": [],
   "source": [
    "import pandas as pd\n",
    "import numpy as np\n",
    "\n",
    "# 정규 분포를 이용하여 데이터 분포에 타원(elliptic)을 그림, 타원에서 벗어날수록 outlier\n",
    "# 마할라노비스 이상탐지 방법\n",
    "from sklearn.covariance import EllipticEnvelope\n",
    "# 랜덤 데이터를 생성하는데 사용됩니다. (※ 모든 방향으로 같은 성질을 가지는 정규분포를 이용해 \n",
    "# 가상 데이터 생성 클러스링 용 가상데이터를 생성하는데 사용하는 데이터세트)\n",
    "from sklearn.datasets import make_blobs\n",
    "\n",
    "# 랜덤 데이터 생성, 샘플수도 변경해보세요. \n",
    "X, y = make_blobs(n_samples = 100,\n",
    "                  n_features = 2,\n",
    "                  centers = 1,\n",
    "                  random_state = 1)\n",
    "\n",
    "\n",
    "# 이상치 Input\n",
    "X[0,0] = 10 # feature 0에 0번째 데이터\n",
    "X[0,1] = -10 # feature 1에 0번째 데이터"
   ]
  },
  {
   "cell_type": "code",
   "execution_count": 93,
   "metadata": {},
   "outputs": [
    {
     "data": {
      "text/plain": [
       "array([-1,  1,  1,  1, -1,  1,  1,  1,  1,  1,  1,  1,  1,  1, -1,  1,  1,\n",
       "        1,  1,  1,  1,  1,  1,  1,  1, -1,  1,  1, -1,  1,  1,  1,  1,  1,\n",
       "        1,  1,  1,  1,  1,  1,  1,  1,  1,  1,  1,  1,  1, -1,  1,  1,  1,\n",
       "        1,  1,  1,  1,  1,  1,  1,  1,  1,  1,  1,  1,  1, -1,  1,  1,  1,\n",
       "        1,  1,  1,  1,  1,  1,  1,  1,  1,  1,  1,  1,  1,  1,  1, -1,  1,\n",
       "        1,  1,  1,  1,  1,  1,  1,  1,  1,  1, -1,  1,  1,  1, -1])"
      ]
     },
     "execution_count": 93,
     "metadata": {},
     "output_type": "execute_result"
    }
   ],
   "source": [
    "# EllipticEnvelope 을 이용하여 outlier를 검출하기 위한 객체를 생성합니다.\n",
    "# The amount of \"contamination\" of the data set, i.e. the proportion of outliers in the data set\n",
    "# 데이터세트에서 outlier의 비율, contamination 하이퍼파라미터도 조절해보세요.\n",
    "outlier_detector = EllipticEnvelope(contamination=.1)\n",
    "\n",
    "# EllipticEnvelope 객체를 생성한 데이터 학습\n",
    "outlier_detector.fit(X)\n",
    "\n",
    "# outlier를 검출\n",
    "# +1 이면 boundary 안에 들어온 값으로 정상 데이터\n",
    "# -1 이면 outlier로 간주.\n",
    "pred = outlier_detector.predict(X)\n",
    "pred"
   ]
  },
  {
   "cell_type": "code",
   "execution_count": 90,
   "metadata": {},
   "outputs": [
    {
     "data": {
      "text/plain": [
       "array([-1,  1])"
      ]
     },
     "execution_count": 90,
     "metadata": {},
     "output_type": "execute_result"
    }
   ],
   "source": [
    "outlier_detector.predict([[-5,5], [-1,5]])"
   ]
  },
  {
   "cell_type": "code",
   "execution_count": 91,
   "metadata": {},
   "outputs": [
    {
     "data": {
      "text/plain": [
       "array([6.38030910e+02, 2.37675311e+00, 5.18485012e+00, 6.96781548e-01,\n",
       "       1.17856179e+01, 8.26866314e-01, 8.18037013e-01, 1.62665148e+00,\n",
       "       5.59309870e+00, 2.54350068e-01, 3.69810439e+00, 1.65038773e+00,\n",
       "       6.58883434e-01, 6.16956906e+00, 1.54721942e+01, 1.34368276e+00,\n",
       "       5.50799697e-01, 2.16308841e+00, 5.17348890e-01, 3.29567641e+00,\n",
       "       3.39015515e-01, 3.68507569e-01, 1.88458380e-01, 1.90311608e-01,\n",
       "       1.03813208e+00, 8.30736387e+00, 2.06041651e-01, 2.80644855e-01,\n",
       "       1.08758824e+01, 2.41256356e+00, 8.06075447e-01, 3.39439858e+00,\n",
       "       2.06435587e+00, 1.27817198e+00, 4.24633990e+00, 2.48863008e-01,\n",
       "       2.12806248e+00, 5.07629280e+00, 7.01302871e-01, 1.91647676e-01,\n",
       "       5.38702177e-02, 2.72620597e+00, 6.20802450e-01, 4.62753871e+00,\n",
       "       9.31301220e-03, 2.68070967e-01, 1.22630005e+00, 1.25934961e+01,\n",
       "       3.48226544e+00, 1.34093646e+00, 3.32936068e-01, 4.75450584e+00,\n",
       "       4.94705550e-01, 1.70136227e+00, 4.69799841e-01, 3.26049172e-01,\n",
       "       2.08459458e+00, 6.51967304e+00, 4.62930231e-01, 4.69010622e-01,\n",
       "       1.82422739e-01, 2.68661956e+00, 2.17284353e+00, 9.13781775e-01,\n",
       "       1.14204185e+01, 3.10944670e+00, 4.27003528e+00, 4.45643050e+00,\n",
       "       1.23701302e+00, 1.35480160e-01, 4.68772151e-01, 2.33261005e+00,\n",
       "       5.04851567e-01, 1.71068319e+00, 4.68302546e+00, 6.07332116e+00,\n",
       "       1.44838332e+00, 1.11778876e-01, 2.28807734e+00, 3.03352552e+00,\n",
       "       4.18361694e+00, 5.23412591e+00, 9.56728061e-01, 6.77559160e+00,\n",
       "       1.55004361e+00, 4.26387224e+00, 5.79685628e+00, 2.09978864e+00,\n",
       "       1.47635217e+00, 1.38437616e+00, 1.99859376e+00, 6.22473647e-01,\n",
       "       7.86489357e-01, 1.69587386e+00, 1.86948549e+00, 6.93623438e+00,\n",
       "       1.82380915e+00, 9.55196226e-01, 1.90583498e+00, 6.59465698e+00])"
      ]
     },
     "execution_count": 91,
     "metadata": {},
     "output_type": "execute_result"
    }
   ],
   "source": [
    "outlier_detector.dist_"
   ]
  },
  {
   "cell_type": "code",
   "execution_count": 94,
   "metadata": {},
   "outputs": [
    {
     "data": {
      "text/html": [
       "<div>\n",
       "<style scoped>\n",
       "    .dataframe tbody tr th:only-of-type {\n",
       "        vertical-align: middle;\n",
       "    }\n",
       "\n",
       "    .dataframe tbody tr th {\n",
       "        vertical-align: top;\n",
       "    }\n",
       "\n",
       "    .dataframe thead th {\n",
       "        text-align: right;\n",
       "    }\n",
       "</style>\n",
       "<table border=\"1\" class=\"dataframe\">\n",
       "  <thead>\n",
       "    <tr style=\"text-align: right;\">\n",
       "      <th></th>\n",
       "      <th>col1</th>\n",
       "      <th>col2</th>\n",
       "      <th>outlier</th>\n",
       "    </tr>\n",
       "  </thead>\n",
       "  <tbody>\n",
       "    <tr>\n",
       "      <th>0</th>\n",
       "      <td>10.000000</td>\n",
       "      <td>-10.000000</td>\n",
       "      <td>-1</td>\n",
       "    </tr>\n",
       "    <tr>\n",
       "      <th>1</th>\n",
       "      <td>-0.813399</td>\n",
       "      <td>3.546974</td>\n",
       "      <td>1</td>\n",
       "    </tr>\n",
       "    <tr>\n",
       "      <th>2</th>\n",
       "      <td>-3.103674</td>\n",
       "      <td>3.902024</td>\n",
       "      <td>1</td>\n",
       "    </tr>\n",
       "    <tr>\n",
       "      <th>3</th>\n",
       "      <td>-1.429465</td>\n",
       "      <td>5.168501</td>\n",
       "      <td>1</td>\n",
       "    </tr>\n",
       "    <tr>\n",
       "      <th>4</th>\n",
       "      <td>0.868766</td>\n",
       "      <td>4.157855</td>\n",
       "      <td>-1</td>\n",
       "    </tr>\n",
       "    <tr>\n",
       "      <th>...</th>\n",
       "      <td>...</td>\n",
       "      <td>...</td>\n",
       "      <td>...</td>\n",
       "    </tr>\n",
       "    <tr>\n",
       "      <th>95</th>\n",
       "      <td>-0.620735</td>\n",
       "      <td>6.593470</td>\n",
       "      <td>-1</td>\n",
       "    </tr>\n",
       "    <tr>\n",
       "      <th>96</th>\n",
       "      <td>-1.642150</td>\n",
       "      <td>3.284471</td>\n",
       "      <td>1</td>\n",
       "    </tr>\n",
       "    <tr>\n",
       "      <th>97</th>\n",
       "      <td>-1.373973</td>\n",
       "      <td>5.291631</td>\n",
       "      <td>1</td>\n",
       "    </tr>\n",
       "    <tr>\n",
       "      <th>98</th>\n",
       "      <td>-0.848608</td>\n",
       "      <td>5.450932</td>\n",
       "      <td>1</td>\n",
       "    </tr>\n",
       "    <tr>\n",
       "      <th>99</th>\n",
       "      <td>0.085252</td>\n",
       "      <td>3.645283</td>\n",
       "      <td>-1</td>\n",
       "    </tr>\n",
       "  </tbody>\n",
       "</table>\n",
       "<p>100 rows × 3 columns</p>\n",
       "</div>"
      ],
      "text/plain": [
       "         col1       col2  outlier\n",
       "0   10.000000 -10.000000       -1\n",
       "1   -0.813399   3.546974        1\n",
       "2   -3.103674   3.902024        1\n",
       "3   -1.429465   5.168501        1\n",
       "4    0.868766   4.157855       -1\n",
       "..        ...        ...      ...\n",
       "95  -0.620735   6.593470       -1\n",
       "96  -1.642150   3.284471        1\n",
       "97  -1.373973   5.291631        1\n",
       "98  -0.848608   5.450932        1\n",
       "99   0.085252   3.645283       -1\n",
       "\n",
       "[100 rows x 3 columns]"
      ]
     },
     "execution_count": 94,
     "metadata": {},
     "output_type": "execute_result"
    }
   ],
   "source": [
    "# ▶ Raw data + Pred data\n",
    "df = pd.DataFrame(X, columns=['col1', 'col2'])\n",
    "df['outlier'] = pred\n",
    "df"
   ]
  },
  {
   "cell_type": "code",
   "execution_count": 104,
   "metadata": {},
   "outputs": [
    {
     "data": {
      "text/plain": [
       "<Figure size 640x480 with 0 Axes>"
      ]
     },
     "metadata": {},
     "output_type": "display_data"
    },
    {
     "data": {
      "image/png": "[encoded data removed]",
      "text/plain": [
       "<Figure size 640x480 with 1 Axes>"
      ]
     },
     "metadata": {},
     "output_type": "display_data"
    }
   ],
   "source": [
    "plt.figure()\n",
    "sns.scatterplot(x='col1', y='col2', data=df, hue='outlier', palette='Set2')\n",
    "plt.show()"
   ]
  },
  {
   "cell_type": "code",
   "execution_count": 148,
   "metadata": {},
   "outputs": [],
   "source": [
    "from pyod.utils.example import visualize  # 시각화\n",
    "from pyod.utils.data import evaluate_print  # 평가용\n",
    "from pyod.utils.data import generate_data # 연습용 데이터 생성\n",
    "from pyod.models.knn import KNN\n",
    "\n",
    "# 하이퍼 파라미터\n",
    "contamination = 0.1  # ▶ percentage of outliers\n",
    "n_train = 300        # ▶ number of training points\n",
    "n_test = 100         # ▶ number of testing points\n",
    "\n",
    "# ▶ Generate sample data\n",
    "X_train, X_test, y_train, y_test = generate_data(n_train=n_train, n_test=n_test,\n",
    "                  n_features=2,\n",
    "                  contamination=contamination,\n",
    "                  random_state=42)"
   ]
  },
  {
   "cell_type": "code",
   "execution_count": 149,
   "metadata": {},
   "outputs": [
    {
     "data": {
      "text/plain": [
       "((300, 2), (300,))"
      ]
     },
     "execution_count": 149,
     "metadata": {},
     "output_type": "execute_result"
    }
   ],
   "source": [
    "X_train.shape, y_train.shape"
   ]
  },
  {
   "cell_type": "code",
   "execution_count": 150,
   "metadata": {},
   "outputs": [
    {
     "data": {
      "text/plain": [
       "(100, 2)"
      ]
     },
     "execution_count": 150,
     "metadata": {},
     "output_type": "execute_result"
    }
   ],
   "source": [
    "X_test.shape"
   ]
  },
  {
   "cell_type": "code",
   "execution_count": 151,
   "metadata": {},
   "outputs": [
    {
     "data": {
      "text/plain": [
       "KNN(algorithm='auto', contamination=0.1, leaf_size=30, method='largest',\n",
       "  metric='minkowski', metric_params=None, n_jobs=1, n_neighbors=5, p=2,\n",
       "  radius=1.0)"
      ]
     },
     "execution_count": 151,
     "metadata": {},
     "output_type": "execute_result"
    }
   ],
   "source": [
    "# ▶ 모델 생성 및 학습\n",
    "clf_name = 'KNN' # 나중에 평가용 함수에서 출력용으로 사용\n",
    "clf = KNN(n_neighbors=5)\n",
    "clf.fit(X_train)"
   ]
  },
  {
   "cell_type": "code",
   "execution_count": 152,
   "metadata": {},
   "outputs": [],
   "source": [
    "# ▶ Train set score\n",
    "# 위에서 fitting(훈련)했으니 \n",
    "y_train_pred = clf.labels_\n",
    "y_train_scores = clf.decision_scores_"
   ]
  },
  {
   "cell_type": "code",
   "execution_count": 153,
   "metadata": {},
   "outputs": [],
   "source": [
    "# ▶ Test set score\n",
    "y_test_pred = clf.predict(X_test)\n",
    "y_test_scores = clf.decision_function(X_test)"
   ]
  },
  {
   "cell_type": "code",
   "execution_count": 154,
   "metadata": {},
   "outputs": [
    {
     "data": {
      "image/png": "[encoded data removed]",
      "text/plain": [
       "<Figure size 1200x1000 with 4 Axes>"
      ]
     },
     "metadata": {},
     "output_type": "display_data"
    }
   ],
   "source": [
    "# ▶ visualize the results\n",
    "visualize(clf_name, X_train, y_train, X_test, y_test, y_train_pred,\n",
    "          y_test_pred, show_figure=True, save_figure=True)"
   ]
  },
  {
   "cell_type": "code",
   "execution_count": null,
   "metadata": {},
   "outputs": [],
   "source": []
  }
 ],
 "metadata": {
  "colab": {
   "provenance": []
  },
  "hide_input": false,
  "kernelspec": {
   "display_name": "Python 3 (ipykernel)",
   "language": "python",
   "name": "python3"
  },
  "language_info": {
   "codemirror_mode": {
    "name": "ipython",
    "version": 3
   },
   "file_extension": ".py",
   "mimetype": "text/x-python",
   "name": "python",
   "nbconvert_exporter": "python",
   "pygments_lexer": "ipython3",
   "version": "3.8.10"
  },
  "toc": {
   "base_numbering": 1,
   "nav_menu": {},
   "number_sections": true,
   "sideBar": true,
   "skip_h1_title": false,
   "title_cell": "Table of Contents",
   "title_sidebar": "Contents",
   "toc_cell": false,
   "toc_position": {
    "height": "calc(100% - 180px)",
    "left": "10px",
    "top": "150px",
    "width": "424.925px"
   },
   "toc_section_display": true,
   "toc_window_display": true
  },
  "varInspector": {
   "cols": {
    "lenName": 16,
    "lenType": 16,
    "lenVar": 40
   },
   "kernels_config": {
    "python": {
     "delete_cmd_postfix": "",
     "delete_cmd_prefix": "del ",
     "library": "var_list.py",
     "varRefreshCmd": "print(var_dic_list())"
    },
    "r": {
     "delete_cmd_postfix": ") ",
     "delete_cmd_prefix": "rm(",
     "library": "var_list.r",
     "varRefreshCmd": "cat(var_dic_list()) "
    }
   },
   "types_to_exclude": [
    "module",
    "function",
    "builtin_function_or_method",
    "instance",
    "_Feature"
   ],
   "window_display": false
  }
 },
 "nbformat": 4,
 "nbformat_minor": 1
}
