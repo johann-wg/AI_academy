{
 "cells": [
  {
   "cell_type": "code",
   "execution_count": 1,
   "metadata": {},
   "outputs": [],
   "source": [
    "import pandas as pd\n",
    "import numpy as np\n",
    "import matplotlib.pyplot as plt\n",
    "from plotly.subplots import make_subplots\n",
    "import seaborn as sns\n",
    "import folium\n",
    "import plotly.express as px\n",
    "import plotly.graph_objects as go\n",
    "\n",
    "import warnings\n",
    "warnings.filterwarnings(action='ignore')\n",
    "plt.rcParams['font.family'] = 'Malgun Gothic'\n",
    "plt.rcParams['axes.unicode_minus'] = False"
   ]
  },
  {
   "cell_type": "code",
   "execution_count": 2,
   "metadata": {},
   "outputs": [
    {
     "data": {
      "text/html": [
       "<div>\n",
       "<style scoped>\n",
       "    .dataframe tbody tr th:only-of-type {\n",
       "        vertical-align: middle;\n",
       "    }\n",
       "\n",
       "    .dataframe tbody tr th {\n",
       "        vertical-align: top;\n",
       "    }\n",
       "\n",
       "    .dataframe thead th {\n",
       "        text-align: right;\n",
       "    }\n",
       "</style>\n",
       "<table border=\"1\" class=\"dataframe\">\n",
       "  <thead>\n",
       "    <tr style=\"text-align: right;\">\n",
       "      <th></th>\n",
       "      <th>일련번호</th>\n",
       "      <th>시군구</th>\n",
       "      <th>읍면동리</th>\n",
       "      <th>지번구분</th>\n",
       "      <th>본번지</th>\n",
       "      <th>부번지</th>\n",
       "      <th>시도명</th>\n",
       "      <th>시군구명</th>\n",
       "      <th>소재지</th>\n",
       "      <th>지목</th>\n",
       "      <th>...</th>\n",
       "      <th>용도지역2</th>\n",
       "      <th>이용상황</th>\n",
       "      <th>주위환경</th>\n",
       "      <th>지세명</th>\n",
       "      <th>형상명</th>\n",
       "      <th>도로교통</th>\n",
       "      <th>공시지가</th>\n",
       "      <th>지리적위치1</th>\n",
       "      <th>지리적위치2</th>\n",
       "      <th>방위</th>\n",
       "    </tr>\n",
       "  </thead>\n",
       "  <tbody>\n",
       "    <tr>\n",
       "      <th>0</th>\n",
       "      <td>1</td>\n",
       "      <td>11110</td>\n",
       "      <td>10100</td>\n",
       "      <td>1</td>\n",
       "      <td>0003</td>\n",
       "      <td>52</td>\n",
       "      <td>서울특별시</td>\n",
       "      <td>종로구</td>\n",
       "      <td>청운동 3-52</td>\n",
       "      <td>공원</td>\n",
       "      <td>...</td>\n",
       "      <td>NaN</td>\n",
       "      <td>공원등</td>\n",
       "      <td>시가지주변 야산지대</td>\n",
       "      <td>급경사지</td>\n",
       "      <td>부정형</td>\n",
       "      <td>세로(불)</td>\n",
       "      <td>493500</td>\n",
       "      <td>경기상고</td>\n",
       "      <td>북측 인근</td>\n",
       "      <td>NaN</td>\n",
       "    </tr>\n",
       "    <tr>\n",
       "      <th>1</th>\n",
       "      <td>2</td>\n",
       "      <td>11110</td>\n",
       "      <td>10100</td>\n",
       "      <td>1</td>\n",
       "      <td>0004</td>\n",
       "      <td>2</td>\n",
       "      <td>서울특별시</td>\n",
       "      <td>종로구</td>\n",
       "      <td>청운동 4-2</td>\n",
       "      <td>임야</td>\n",
       "      <td>...</td>\n",
       "      <td>NaN</td>\n",
       "      <td>자연림</td>\n",
       "      <td>시가지주변 야산지대</td>\n",
       "      <td>완경사지</td>\n",
       "      <td>부정형</td>\n",
       "      <td>맹지</td>\n",
       "      <td>730500</td>\n",
       "      <td>경가상고</td>\n",
       "      <td>북서측 근거리</td>\n",
       "      <td>남향</td>\n",
       "    </tr>\n",
       "    <tr>\n",
       "      <th>2</th>\n",
       "      <td>3</td>\n",
       "      <td>11110</td>\n",
       "      <td>10100</td>\n",
       "      <td>1</td>\n",
       "      <td>0004</td>\n",
       "      <td>15</td>\n",
       "      <td>서울특별시</td>\n",
       "      <td>종로구</td>\n",
       "      <td>청운동 4-15</td>\n",
       "      <td>대</td>\n",
       "      <td>...</td>\n",
       "      <td>NaN</td>\n",
       "      <td>단독주택</td>\n",
       "      <td>기존 주택지대</td>\n",
       "      <td>완경사지</td>\n",
       "      <td>사다리형</td>\n",
       "      <td>세로(가)</td>\n",
       "      <td>4250000</td>\n",
       "      <td>경기상고</td>\n",
       "      <td>북서측 인근</td>\n",
       "      <td>북동향</td>\n",
       "    </tr>\n",
       "  </tbody>\n",
       "</table>\n",
       "<p>3 rows × 22 columns</p>\n",
       "</div>"
      ],
      "text/plain": [
       "   일련번호    시군구   읍면동리  지번구분   본번지 부번지    시도명 시군구명       소재지  지목  ...  용도지역2   \n",
       "0     1  11110  10100     1  0003  52  서울특별시  종로구  청운동 3-52  공원  ...    NaN  \\\n",
       "1     2  11110  10100     1  0004   2  서울특별시  종로구   청운동 4-2  임야  ...    NaN   \n",
       "2     3  11110  10100     1  0004  15  서울특별시  종로구  청운동 4-15   대  ...    NaN   \n",
       "\n",
       "   이용상황        주위환경   지세명   형상명   도로교통     공시지가 지리적위치1   지리적위치2   방위  \n",
       "0   공원등  시가지주변 야산지대  급경사지   부정형  세로(불)   493500   경기상고    북측 인근  NaN  \n",
       "1   자연림  시가지주변 야산지대  완경사지   부정형     맹지   730500   경가상고  북서측 근거리   남향  \n",
       "2  단독주택     기존 주택지대  완경사지  사다리형  세로(가)  4250000   경기상고   북서측 인근  북동향  \n",
       "\n",
       "[3 rows x 22 columns]"
      ]
     },
     "execution_count": 2,
     "metadata": {},
     "output_type": "execute_result"
    }
   ],
   "source": [
    "df = pd.read_csv('/users/jjong/desktop/vscode/CWNU_ICT/src/2022 표준지 공시지가.csv')\n",
    "df.head(3)"
   ]
  },
  {
   "cell_type": "code",
   "execution_count": 3,
   "metadata": {},
   "outputs": [],
   "source": [
    "from geopy.geocoders import Nominatim\n",
    "from tqdm import tqdm\n",
    "\n",
    "address = df['시도명'] + \" \" + df['시군구명'] + \" \" + df['소재지']\n",
    "geo_local = Nominatim(user_agent='South Korea')\n",
    "\n",
    "# 위도, 경도 반환하는 함수\n",
    "def geocoding(address):\n",
    "    try:\n",
    "        geo = geo_local.geocode(address)\n",
    "        x_y = [geo.latitude, geo.longitude]\n",
    "        return x_y\n",
    "\n",
    "    except:\n",
    "        return [0,0]"
   ]
  },
  {
   "cell_type": "code",
   "execution_count": 4,
   "metadata": {},
   "outputs": [
    {
     "name": "stdout",
     "output_type": "stream",
     "text": [
      "<class 'pandas.core.frame.DataFrame'>\n",
      "RangeIndex: 540050 entries, 0 to 540049\n",
      "Data columns (total 16 columns):\n",
      " #   Column  Non-Null Count   Dtype  \n",
      "---  ------  --------------   -----  \n",
      " 0   시도명     540050 non-null  object \n",
      " 1   시군구명    537528 non-null  object \n",
      " 2   소재지     540050 non-null  object \n",
      " 3   지목      540050 non-null  object \n",
      " 4   면적      540050 non-null  float64\n",
      " 5   용도지역1   540050 non-null  object \n",
      " 6   용도지역2   5398 non-null    object \n",
      " 7   이용상황    540050 non-null  object \n",
      " 8   주위환경    540050 non-null  object \n",
      " 9   지세명     540050 non-null  object \n",
      " 10  형상명     540050 non-null  object \n",
      " 11  도로교통    540050 non-null  object \n",
      " 12  공시지가    540050 non-null  int64  \n",
      " 13  지리적위치1  540050 non-null  object \n",
      " 14  지리적위치2  515324 non-null  object \n",
      " 15  방위      207781 non-null  object \n",
      "dtypes: float64(1), int64(1), object(14)\n",
      "memory usage: 65.9+ MB\n"
     ]
    }
   ],
   "source": [
    "df = df.iloc[:, 6:]\n",
    "df.info()"
   ]
  },
  {
   "cell_type": "code",
   "execution_count": 5,
   "metadata": {},
   "outputs": [
    {
     "data": {
      "text/plain": [
       "array(['공원', '임야', '대', '주유소용지', '사적지', '학교용지', '잡종지', '전', '주차장', '종교용지',\n",
       "       '철도용지', '하천', '공장용지', '도로', '과수원', '답', '창고용지', '유원지', '묘지', '제방',\n",
       "       '수도용지', '광천지', '체육용지', '목장용지', '유지', '염전', '구거', '양어장'],\n",
       "      dtype=object)"
      ]
     },
     "execution_count": 5,
     "metadata": {},
     "output_type": "execute_result"
    }
   ],
   "source": [
    "df['지목'].unique()"
   ]
  },
  {
   "cell_type": "code",
   "execution_count": 104,
   "metadata": {},
   "outputs": [
    {
     "data": {
      "image/png": "[encoded data removed]",
      "text/plain": [
       "<Figure size 1000x800 with 2 Axes>"
      ]
     },
     "metadata": {},
     "output_type": "display_data"
    }
   ],
   "source": [
    "fig, axes = plt.subplots(2, 1, figsize=(10,8))\n",
    "sns.boxplot(data=df, x='지목', y='공시지가', showfliers=False, ax=axes[0])\n",
    "axes[0].set_xticklabels(axes[0].get_xticklabels(), rotation=60)\n",
    "axes[0].grid(True)\n",
    "sns.boxplot(data=df, x='지목', y='공시지가', ax=axes[1])\n",
    "axes[1].set_xticklabels(axes[1].get_xticklabels(), rotation=60)\n",
    "axes[1].grid(True)\n",
    "plt.tight_layout()\n",
    "plt.show()"
   ]
  },
  {
   "cell_type": "code",
   "execution_count": 93,
   "metadata": {},
   "outputs": [],
   "source": [
    "# fig = px.box(df, x='지목', y='공시지가', color='지목', notched=True, title='지목별 공시지가 분포')\n",
    "# fig.update_layout(xaxis_tickangle=-60, yaxis=dict(title='공시지가'), showlegend=False)\n",
    "# fig.show()\n"
   ]
  },
  {
   "cell_type": "code",
   "execution_count": 6,
   "metadata": {},
   "outputs": [
    {
     "name": "stdout",
     "output_type": "stream",
     "text": [
      "21\n"
     ]
    },
    {
     "data": {
      "text/html": [
       "<div>\n",
       "<style scoped>\n",
       "    .dataframe tbody tr th:only-of-type {\n",
       "        vertical-align: middle;\n",
       "    }\n",
       "\n",
       "    .dataframe tbody tr th {\n",
       "        vertical-align: top;\n",
       "    }\n",
       "\n",
       "    .dataframe thead th {\n",
       "        text-align: right;\n",
       "    }\n",
       "</style>\n",
       "<table border=\"1\" class=\"dataframe\">\n",
       "  <thead>\n",
       "    <tr style=\"text-align: right;\">\n",
       "      <th></th>\n",
       "      <th>시도명</th>\n",
       "      <th>시군구명</th>\n",
       "      <th>소재지</th>\n",
       "      <th>지목</th>\n",
       "      <th>면적</th>\n",
       "      <th>용도지역1</th>\n",
       "      <th>용도지역2</th>\n",
       "      <th>이용상황</th>\n",
       "      <th>주위환경</th>\n",
       "      <th>지세명</th>\n",
       "      <th>형상명</th>\n",
       "      <th>도로교통</th>\n",
       "      <th>공시지가</th>\n",
       "      <th>지리적위치1</th>\n",
       "      <th>지리적위치2</th>\n",
       "      <th>방위</th>\n",
       "    </tr>\n",
       "  </thead>\n",
       "  <tbody>\n",
       "    <tr>\n",
       "      <th>58338</th>\n",
       "      <td>대구광역시</td>\n",
       "      <td>수성구</td>\n",
       "      <td>두산동 888-9</td>\n",
       "      <td>광천지</td>\n",
       "      <td>1.0</td>\n",
       "      <td>자연녹지지역</td>\n",
       "      <td>NaN</td>\n",
       "      <td>광천지</td>\n",
       "      <td>온천 관광지대</td>\n",
       "      <td>완경사지</td>\n",
       "      <td>정방형</td>\n",
       "      <td>맹지</td>\n",
       "      <td>110000000</td>\n",
       "      <td>호텔수성</td>\n",
       "      <td>내</td>\n",
       "      <td>NaN</td>\n",
       "    </tr>\n",
       "    <tr>\n",
       "      <th>39260</th>\n",
       "      <td>부산광역시</td>\n",
       "      <td>북구</td>\n",
       "      <td>화명동 1383-10</td>\n",
       "      <td>광천지</td>\n",
       "      <td>2.0</td>\n",
       "      <td>제2종일반주거지역</td>\n",
       "      <td>NaN</td>\n",
       "      <td>광천지</td>\n",
       "      <td>주택 및 상가혼용지대</td>\n",
       "      <td>평지</td>\n",
       "      <td>가로장방형</td>\n",
       "      <td>맹지</td>\n",
       "      <td>42400000</td>\n",
       "      <td>화명온천</td>\n",
       "      <td>내</td>\n",
       "      <td>NaN</td>\n",
       "    </tr>\n",
       "    <tr>\n",
       "      <th>37535</th>\n",
       "      <td>부산광역시</td>\n",
       "      <td>동래구</td>\n",
       "      <td>온천동 142-19</td>\n",
       "      <td>광천지</td>\n",
       "      <td>3.0</td>\n",
       "      <td>일반상업지역</td>\n",
       "      <td>NaN</td>\n",
       "      <td>광천지</td>\n",
       "      <td>온천지대</td>\n",
       "      <td>평지</td>\n",
       "      <td>정방형</td>\n",
       "      <td>세로(가)</td>\n",
       "      <td>36700000</td>\n",
       "      <td>천일온천호텔</td>\n",
       "      <td>내</td>\n",
       "      <td>NaN</td>\n",
       "    </tr>\n",
       "  </tbody>\n",
       "</table>\n",
       "</div>"
      ],
      "text/plain": [
       "         시도명 시군구명          소재지   지목   면적      용도지역1 용도지역2 이용상황         주위환경   \n",
       "58338  대구광역시  수성구    두산동 888-9  광천지  1.0     자연녹지지역   NaN  광천지      온천 관광지대  \\\n",
       "39260  부산광역시   북구  화명동 1383-10  광천지  2.0  제2종일반주거지역   NaN  광천지  주택 및 상가혼용지대   \n",
       "37535  부산광역시  동래구   온천동 142-19  광천지  3.0     일반상업지역   NaN  광천지         온천지대   \n",
       "\n",
       "        지세명    형상명   도로교통       공시지가  지리적위치1 지리적위치2   방위  \n",
       "58338  완경사지    정방형     맹지  110000000    호텔수성      내  NaN  \n",
       "39260    평지  가로장방형     맹지   42400000    화명온천      내  NaN  \n",
       "37535    평지    정방형  세로(가)   36700000  천일온천호텔      내  NaN  "
      ]
     },
     "execution_count": 6,
     "metadata": {},
     "output_type": "execute_result"
    }
   ],
   "source": [
    "print(len(df[df['지목'] == '광천지'].sort_values(by='공시지가', ascending=False)))\n",
    "df[df['지목'] == '광천지'].sort_values(by='공시지가', ascending=False)[:3]"
   ]
  },
  {
   "cell_type": "code",
   "execution_count": 81,
   "metadata": {},
   "outputs": [
    {
     "name": "stderr",
     "output_type": "stream",
     "text": [
      "  0%|          | 0/21 [00:00<?, ?it/s]"
     ]
    },
    {
     "name": "stderr",
     "output_type": "stream",
     "text": [
      "100%|██████████| 21/21 [00:10<00:00,  1.94it/s]\n"
     ]
    },
    {
     "data": {
      "text/html": [
       "<div style=\"width:100%;\"><div style=\"position:relative;width:100%;height:0;padding-bottom:60%;\"><span style=\"color:#565656\">Make this Notebook Trusted to load map: File -> Trust Notebook</span><iframe srcdoc=\"&lt;!DOCTYPE html&gt;\n",
       "&lt;html&gt;\n",
       "&lt;head&gt;\n",
       "    \n",
       "    &lt;meta http-equiv=&quot;content-type&quot; content=&quot;text/html; charset=UTF-8&quot; /&gt;\n",
       "    \n",
       "        &lt;script&gt;\n",
       "            L_NO_TOUCH = false;\n",
       "            L_DISABLE_3D = false;\n",
       "        &lt;/script&gt;\n",
       "    \n",
       "    &lt;style&gt;html, body {width: 100%;height: 100%;margin: 0;padding: 0;}&lt;/style&gt;\n",
       "    &lt;style&gt;#map {position:absolute;top:0;bottom:0;right:0;left:0;}&lt;/style&gt;\n",
       "    &lt;script src=&quot;https://cdn.jsdelivr.net/npm/leaflet@1.9.3/dist/leaflet.js&quot;&gt;&lt;/script&gt;\n",
       "    &lt;script src=&quot;https://code.jquery.com/jquery-1.12.4.min.js&quot;&gt;&lt;/script&gt;\n",
       "    &lt;script src=&quot;https://cdn.jsdelivr.net/npm/bootstrap@5.2.2/dist/js/bootstrap.bundle.min.js&quot;&gt;&lt;/script&gt;\n",
       "    &lt;script src=&quot;https://cdnjs.cloudflare.com/ajax/libs/Leaflet.awesome-markers/2.0.2/leaflet.awesome-markers.js&quot;&gt;&lt;/script&gt;\n",
       "    &lt;link rel=&quot;stylesheet&quot; href=&quot;https://cdn.jsdelivr.net/npm/leaflet@1.9.3/dist/leaflet.css&quot;/&gt;\n",
       "    &lt;link rel=&quot;stylesheet&quot; href=&quot;https://cdn.jsdelivr.net/npm/bootstrap@5.2.2/dist/css/bootstrap.min.css&quot;/&gt;\n",
       "    &lt;link rel=&quot;stylesheet&quot; href=&quot;https://netdna.bootstrapcdn.com/bootstrap/3.0.0/css/bootstrap.min.css&quot;/&gt;\n",
       "    &lt;link rel=&quot;stylesheet&quot; href=&quot;https://cdn.jsdelivr.net/npm/@fortawesome/fontawesome-free@6.2.0/css/all.min.css&quot;/&gt;\n",
       "    &lt;link rel=&quot;stylesheet&quot; href=&quot;https://cdnjs.cloudflare.com/ajax/libs/Leaflet.awesome-markers/2.0.2/leaflet.awesome-markers.css&quot;/&gt;\n",
       "    &lt;link rel=&quot;stylesheet&quot; href=&quot;https://cdn.jsdelivr.net/gh/python-visualization/folium/folium/templates/leaflet.awesome.rotate.min.css&quot;/&gt;\n",
       "    \n",
       "            &lt;meta name=&quot;viewport&quot; content=&quot;width=device-width,\n",
       "                initial-scale=1.0, maximum-scale=1.0, user-scalable=no&quot; /&gt;\n",
       "            &lt;style&gt;\n",
       "                #map_da268a86e17ef1ce54058a23394cab93 {\n",
       "                    position: relative;\n",
       "                    width: 100.0%;\n",
       "                    height: 100.0%;\n",
       "                    left: 0.0%;\n",
       "                    top: 0.0%;\n",
       "                }\n",
       "                .leaflet-container { font-size: 1rem; }\n",
       "            &lt;/style&gt;\n",
       "        \n",
       "&lt;/head&gt;\n",
       "&lt;body&gt;\n",
       "    \n",
       "    \n",
       "            &lt;div class=&quot;folium-map&quot; id=&quot;map_da268a86e17ef1ce54058a23394cab93&quot; &gt;&lt;/div&gt;\n",
       "        \n",
       "&lt;/body&gt;\n",
       "&lt;script&gt;\n",
       "    \n",
       "    \n",
       "            var map_da268a86e17ef1ce54058a23394cab93 = L.map(\n",
       "                &quot;map_da268a86e17ef1ce54058a23394cab93&quot;,\n",
       "                {\n",
       "                    center: [36.3537281, 127.3449775],\n",
       "                    crs: L.CRS.EPSG3857,\n",
       "                    zoom: 7,\n",
       "                    zoomControl: true,\n",
       "                    preferCanvas: false,\n",
       "                }\n",
       "            );\n",
       "\n",
       "            \n",
       "\n",
       "        \n",
       "    \n",
       "            var tile_layer_c94da4fee0c94ab3c1edf06384505a12 = L.tileLayer(\n",
       "                &quot;https://stamen-tiles-{s}.a.ssl.fastly.net/terrain/{z}/{x}/{y}.jpg&quot;,\n",
       "                {&quot;attribution&quot;: &quot;Map tiles by \\u003ca target=\\&quot;_blank\\&quot; href=\\&quot;http://stamen.com\\&quot;\\u003eStamen Design\\u003c/a\\u003e, under \\u003ca target=\\&quot;_blank\\&quot; href=\\&quot;http://creativecommons.org/licenses/by/3.0\\&quot;\\u003eCC BY 3.0\\u003c/a\\u003e. Data by \\u0026copy; \\u003ca target=\\&quot;_blank\\&quot; href=\\&quot;http://openstreetmap.org\\&quot;\\u003eOpenStreetMap\\u003c/a\\u003e, under \\u003ca target=\\&quot;_blank\\&quot; href=\\&quot;http://creativecommons.org/licenses/by-sa/3.0\\&quot;\\u003eCC BY SA\\u003c/a\\u003e.&quot;, &quot;detectRetina&quot;: false, &quot;maxNativeZoom&quot;: 18, &quot;maxZoom&quot;: 18, &quot;minZoom&quot;: 0, &quot;noWrap&quot;: false, &quot;opacity&quot;: 1, &quot;subdomains&quot;: &quot;abc&quot;, &quot;tms&quot;: false}\n",
       "            ).addTo(map_da268a86e17ef1ce54058a23394cab93);\n",
       "        \n",
       "    \n",
       "            var marker_678e03569cddba3399f538458ae4455b = L.marker(\n",
       "                [35.8307094, 128.619849],\n",
       "                {}\n",
       "            ).addTo(map_da268a86e17ef1ce54058a23394cab93);\n",
       "        \n",
       "    \n",
       "        var popup_e2da5fd1e58f6a05cd0324b99c0a5860 = L.popup({&quot;maxWidth&quot;: &quot;100%&quot;});\n",
       "\n",
       "        \n",
       "            \n",
       "                var html_525c668615ffe0ff07102db39f785e0d = $(`&lt;div id=&quot;html_525c668615ffe0ff07102db39f785e0d&quot; style=&quot;width: 100.0%; height: 100.0%;&quot;&gt;&lt;b&gt;No.1&lt;br&gt;대구광역시 수성구 두산동 888-9&lt;br&gt;110000000&lt;/b&gt;&lt;/div&gt;`)[0];\n",
       "                popup_e2da5fd1e58f6a05cd0324b99c0a5860.setContent(html_525c668615ffe0ff07102db39f785e0d);\n",
       "            \n",
       "        \n",
       "\n",
       "        marker_678e03569cddba3399f538458ae4455b.bindPopup(popup_e2da5fd1e58f6a05cd0324b99c0a5860)\n",
       "        ;\n",
       "\n",
       "        \n",
       "    \n",
       "    \n",
       "            marker_678e03569cddba3399f538458ae4455b.bindTooltip(\n",
       "                `&lt;div&gt;\n",
       "                     Click me!\n",
       "                 &lt;/div&gt;`,\n",
       "                {&quot;sticky&quot;: true}\n",
       "            );\n",
       "        \n",
       "    \n",
       "            var marker_0a046f2c23ef02cc7325c4ca4d698ee3 = L.marker(\n",
       "                [35.2326638, 129.010709],\n",
       "                {}\n",
       "            ).addTo(map_da268a86e17ef1ce54058a23394cab93);\n",
       "        \n",
       "    \n",
       "        var popup_144d3824609d42284e1d1dbaa58c6526 = L.popup({&quot;maxWidth&quot;: &quot;100%&quot;});\n",
       "\n",
       "        \n",
       "            \n",
       "                var html_9f6632e09ff51d6a42cd0a0075adc4b9 = $(`&lt;div id=&quot;html_9f6632e09ff51d6a42cd0a0075adc4b9&quot; style=&quot;width: 100.0%; height: 100.0%;&quot;&gt;&lt;b&gt;No.2&lt;br&gt;부산광역시 북구 화명동 1383-10&lt;br&gt;42400000&lt;/b&gt;&lt;/div&gt;`)[0];\n",
       "                popup_144d3824609d42284e1d1dbaa58c6526.setContent(html_9f6632e09ff51d6a42cd0a0075adc4b9);\n",
       "            \n",
       "        \n",
       "\n",
       "        marker_0a046f2c23ef02cc7325c4ca4d698ee3.bindPopup(popup_144d3824609d42284e1d1dbaa58c6526)\n",
       "        ;\n",
       "\n",
       "        \n",
       "    \n",
       "    \n",
       "            marker_0a046f2c23ef02cc7325c4ca4d698ee3.bindTooltip(\n",
       "                `&lt;div&gt;\n",
       "                     Click me!\n",
       "                 &lt;/div&gt;`,\n",
       "                {&quot;sticky&quot;: true}\n",
       "            );\n",
       "        \n",
       "    \n",
       "            var marker_51b4df45892bd4526402353a8e50f80a = L.marker(\n",
       "                [35.2158722, 129.07023],\n",
       "                {}\n",
       "            ).addTo(map_da268a86e17ef1ce54058a23394cab93);\n",
       "        \n",
       "    \n",
       "        var popup_59c8e7353a6425659de346f69ba0861c = L.popup({&quot;maxWidth&quot;: &quot;100%&quot;});\n",
       "\n",
       "        \n",
       "            \n",
       "                var html_cb1d38010f3b0dbe0554fe609f7d088d = $(`&lt;div id=&quot;html_cb1d38010f3b0dbe0554fe609f7d088d&quot; style=&quot;width: 100.0%; height: 100.0%;&quot;&gt;&lt;b&gt;No.3&lt;br&gt;부산광역시 동래구 온천동 142-19&lt;br&gt;36700000&lt;/b&gt;&lt;/div&gt;`)[0];\n",
       "                popup_59c8e7353a6425659de346f69ba0861c.setContent(html_cb1d38010f3b0dbe0554fe609f7d088d);\n",
       "            \n",
       "        \n",
       "\n",
       "        marker_51b4df45892bd4526402353a8e50f80a.bindPopup(popup_59c8e7353a6425659de346f69ba0861c)\n",
       "        ;\n",
       "\n",
       "        \n",
       "    \n",
       "    \n",
       "            marker_51b4df45892bd4526402353a8e50f80a.bindTooltip(\n",
       "                `&lt;div&gt;\n",
       "                     Click me!\n",
       "                 &lt;/div&gt;`,\n",
       "                {&quot;sticky&quot;: true}\n",
       "            );\n",
       "        \n",
       "    \n",
       "            var marker_2dd717b5a3095b85a651821474cdb0b1 = L.marker(\n",
       "                [36.3537281, 127.3449775],\n",
       "                {}\n",
       "            ).addTo(map_da268a86e17ef1ce54058a23394cab93);\n",
       "        \n",
       "    \n",
       "        var popup_129c603728469e041ab3b3637d158ef0 = L.popup({&quot;maxWidth&quot;: &quot;100%&quot;});\n",
       "\n",
       "        \n",
       "            \n",
       "                var html_5e55d840e25d6fbf3e6ec361af896054 = $(`&lt;div id=&quot;html_5e55d840e25d6fbf3e6ec361af896054&quot; style=&quot;width: 100.0%; height: 100.0%;&quot;&gt;&lt;b&gt;No.4&lt;br&gt;대전광역시 유성구 봉명동 546-14&lt;br&gt;33050000&lt;/b&gt;&lt;/div&gt;`)[0];\n",
       "                popup_129c603728469e041ab3b3637d158ef0.setContent(html_5e55d840e25d6fbf3e6ec361af896054);\n",
       "            \n",
       "        \n",
       "\n",
       "        marker_2dd717b5a3095b85a651821474cdb0b1.bindPopup(popup_129c603728469e041ab3b3637d158ef0)\n",
       "        ;\n",
       "\n",
       "        \n",
       "    \n",
       "    \n",
       "            marker_2dd717b5a3095b85a651821474cdb0b1.bindTooltip(\n",
       "                `&lt;div&gt;\n",
       "                     Click me!\n",
       "                 &lt;/div&gt;`,\n",
       "                {&quot;sticky&quot;: true}\n",
       "            );\n",
       "        \n",
       "    \n",
       "            var marker_35eb400267170f15ce128ba3382e7659 = L.marker(\n",
       "                [38.1911779, 128.5282031],\n",
       "                {}\n",
       "            ).addTo(map_da268a86e17ef1ce54058a23394cab93);\n",
       "        \n",
       "    \n",
       "        var popup_b25dfcc28e61a74c621b2aadfe850bfb = L.popup({&quot;maxWidth&quot;: &quot;100%&quot;});\n",
       "\n",
       "        \n",
       "            \n",
       "                var html_318cb203530878bf776ad444bf6e9718 = $(`&lt;div id=&quot;html_318cb203530878bf776ad444bf6e9718&quot; style=&quot;width: 100.0%; height: 100.0%;&quot;&gt;&lt;b&gt;No.5&lt;br&gt;강원도 속초시 노학동 972-74&lt;br&gt;28800000&lt;/b&gt;&lt;/div&gt;`)[0];\n",
       "                popup_b25dfcc28e61a74c621b2aadfe850bfb.setContent(html_318cb203530878bf776ad444bf6e9718);\n",
       "            \n",
       "        \n",
       "\n",
       "        marker_35eb400267170f15ce128ba3382e7659.bindPopup(popup_b25dfcc28e61a74c621b2aadfe850bfb)\n",
       "        ;\n",
       "\n",
       "        \n",
       "    \n",
       "    \n",
       "            marker_35eb400267170f15ce128ba3382e7659.bindTooltip(\n",
       "                `&lt;div&gt;\n",
       "                     Click me!\n",
       "                 &lt;/div&gt;`,\n",
       "                {&quot;sticky&quot;: true}\n",
       "            );\n",
       "        \n",
       "    \n",
       "            var marker_5788406baf18a92e70cd2af5d2c54500 = L.marker(\n",
       "                [0.0, 0.0],\n",
       "                {}\n",
       "            ).addTo(map_da268a86e17ef1ce54058a23394cab93);\n",
       "        \n",
       "    \n",
       "        var popup_5c4b3fa1b781df4fd15233dc136de4f7 = L.popup({&quot;maxWidth&quot;: &quot;100%&quot;});\n",
       "\n",
       "        \n",
       "            \n",
       "                var html_8e30180ddb8940bc779fade7543c8f73 = $(`&lt;div id=&quot;html_8e30180ddb8940bc779fade7543c8f73&quot; style=&quot;width: 100.0%; height: 100.0%;&quot;&gt;&lt;b&gt;No.6&lt;br&gt;충청남도 예산군 덕산면 사동리 377&lt;br&gt;26950000&lt;/b&gt;&lt;/div&gt;`)[0];\n",
       "                popup_5c4b3fa1b781df4fd15233dc136de4f7.setContent(html_8e30180ddb8940bc779fade7543c8f73);\n",
       "            \n",
       "        \n",
       "\n",
       "        marker_5788406baf18a92e70cd2af5d2c54500.bindPopup(popup_5c4b3fa1b781df4fd15233dc136de4f7)\n",
       "        ;\n",
       "\n",
       "        \n",
       "    \n",
       "    \n",
       "            marker_5788406baf18a92e70cd2af5d2c54500.bindTooltip(\n",
       "                `&lt;div&gt;\n",
       "                     Click me!\n",
       "                 &lt;/div&gt;`,\n",
       "                {&quot;sticky&quot;: true}\n",
       "            );\n",
       "        \n",
       "    \n",
       "            var marker_6fb84b238cfab38fde28f8762ae1d112 = L.marker(\n",
       "                [36.72663, 129.34584],\n",
       "                {}\n",
       "            ).addTo(map_da268a86e17ef1ce54058a23394cab93);\n",
       "        \n",
       "    \n",
       "        var popup_de20f1e88645e7a16b61512ed1b44dff = L.popup({&quot;maxWidth&quot;: &quot;100%&quot;});\n",
       "\n",
       "        \n",
       "            \n",
       "                var html_3e5fcfd62ca26ede1c1b2f56a435c550 = $(`&lt;div id=&quot;html_3e5fcfd62ca26ede1c1b2f56a435c550&quot; style=&quot;width: 100.0%; height: 100.0%;&quot;&gt;&lt;b&gt;No.7&lt;br&gt;경상북도 울진군 온정면 소태리 1444-8&lt;br&gt;26900000&lt;/b&gt;&lt;/div&gt;`)[0];\n",
       "                popup_de20f1e88645e7a16b61512ed1b44dff.setContent(html_3e5fcfd62ca26ede1c1b2f56a435c550);\n",
       "            \n",
       "        \n",
       "\n",
       "        marker_6fb84b238cfab38fde28f8762ae1d112.bindPopup(popup_de20f1e88645e7a16b61512ed1b44dff)\n",
       "        ;\n",
       "\n",
       "        \n",
       "    \n",
       "    \n",
       "            marker_6fb84b238cfab38fde28f8762ae1d112.bindTooltip(\n",
       "                `&lt;div&gt;\n",
       "                     Click me!\n",
       "                 &lt;/div&gt;`,\n",
       "                {&quot;sticky&quot;: true}\n",
       "            );\n",
       "        \n",
       "    \n",
       "            var marker_b780192d1152dfffc93f553ad5179776 = L.marker(\n",
       "                [35.69078, 128.72178],\n",
       "                {}\n",
       "            ).addTo(map_da268a86e17ef1ce54058a23394cab93);\n",
       "        \n",
       "    \n",
       "        var popup_d7bc545e557e6e540bef1bfe757fbbbf = L.popup({&quot;maxWidth&quot;: &quot;100%&quot;});\n",
       "\n",
       "        \n",
       "            \n",
       "                var html_64b524c28ba90615a4107baefd2f4247 = $(`&lt;div id=&quot;html_64b524c28ba90615a4107baefd2f4247&quot; style=&quot;width: 100.0%; height: 100.0%;&quot;&gt;&lt;b&gt;No.8&lt;br&gt;경상북도 청도군 화양읍 삼신리 711-1&lt;br&gt;26200000&lt;/b&gt;&lt;/div&gt;`)[0];\n",
       "                popup_d7bc545e557e6e540bef1bfe757fbbbf.setContent(html_64b524c28ba90615a4107baefd2f4247);\n",
       "            \n",
       "        \n",
       "\n",
       "        marker_b780192d1152dfffc93f553ad5179776.bindPopup(popup_d7bc545e557e6e540bef1bfe757fbbbf)\n",
       "        ;\n",
       "\n",
       "        \n",
       "    \n",
       "    \n",
       "            marker_b780192d1152dfffc93f553ad5179776.bindTooltip(\n",
       "                `&lt;div&gt;\n",
       "                     Click me!\n",
       "                 &lt;/div&gt;`,\n",
       "                {&quot;sticky&quot;: true}\n",
       "            );\n",
       "        \n",
       "    \n",
       "            var marker_544371b26e1c6c3e0c887bf07fdd2972 = L.marker(\n",
       "                [36.60473, 128.64224],\n",
       "                {}\n",
       "            ).addTo(map_da268a86e17ef1ce54058a23394cab93);\n",
       "        \n",
       "    \n",
       "        var popup_aa5a54b48530e97d938da8240d026f15 = L.popup({&quot;maxWidth&quot;: &quot;100%&quot;});\n",
       "\n",
       "        \n",
       "            \n",
       "                var html_ce2ba6631468bc117e51128a51e94dca = $(`&lt;div id=&quot;html_ce2ba6631468bc117e51128a51e94dca&quot; style=&quot;width: 100.0%; height: 100.0%;&quot;&gt;&lt;b&gt;No.9&lt;br&gt;경상북도 안동시 서후면 명리 423-3&lt;br&gt;25900000&lt;/b&gt;&lt;/div&gt;`)[0];\n",
       "                popup_aa5a54b48530e97d938da8240d026f15.setContent(html_ce2ba6631468bc117e51128a51e94dca);\n",
       "            \n",
       "        \n",
       "\n",
       "        marker_544371b26e1c6c3e0c887bf07fdd2972.bindPopup(popup_aa5a54b48530e97d938da8240d026f15)\n",
       "        ;\n",
       "\n",
       "        \n",
       "    \n",
       "    \n",
       "            marker_544371b26e1c6c3e0c887bf07fdd2972.bindTooltip(\n",
       "                `&lt;div&gt;\n",
       "                     Click me!\n",
       "                 &lt;/div&gt;`,\n",
       "                {&quot;sticky&quot;: true}\n",
       "            );\n",
       "        \n",
       "    \n",
       "            var marker_a5d8266c77c05982361c33fdbf7c76c7 = L.marker(\n",
       "                [0.0, 0.0],\n",
       "                {}\n",
       "            ).addTo(map_da268a86e17ef1ce54058a23394cab93);\n",
       "        \n",
       "    \n",
       "        var popup_cf90270fd604a7847ca9f5ae6698181d = L.popup({&quot;maxWidth&quot;: &quot;100%&quot;});\n",
       "\n",
       "        \n",
       "            \n",
       "                var html_2e9260d4168782c8c2be23d4a90096e1 = $(`&lt;div id=&quot;html_2e9260d4168782c8c2be23d4a90096e1&quot; style=&quot;width: 100.0%; height: 100.0%;&quot;&gt;&lt;b&gt;No.10&lt;br&gt;경상남도 창녕군 부곡면 거문리 213-25&lt;br&gt;25200000&lt;/b&gt;&lt;/div&gt;`)[0];\n",
       "                popup_cf90270fd604a7847ca9f5ae6698181d.setContent(html_2e9260d4168782c8c2be23d4a90096e1);\n",
       "            \n",
       "        \n",
       "\n",
       "        marker_a5d8266c77c05982361c33fdbf7c76c7.bindPopup(popup_cf90270fd604a7847ca9f5ae6698181d)\n",
       "        ;\n",
       "\n",
       "        \n",
       "    \n",
       "    \n",
       "            marker_a5d8266c77c05982361c33fdbf7c76c7.bindTooltip(\n",
       "                `&lt;div&gt;\n",
       "                     Click me!\n",
       "                 &lt;/div&gt;`,\n",
       "                {&quot;sticky&quot;: true}\n",
       "            );\n",
       "        \n",
       "    \n",
       "            var marker_ffd5cf8e35fbd682dd352c79d9edab9b = L.marker(\n",
       "                [0.0, 0.0],\n",
       "                {}\n",
       "            ).addTo(map_da268a86e17ef1ce54058a23394cab93);\n",
       "        \n",
       "    \n",
       "        var popup_dd4a438d0f3b4060429ec345d688147d = L.popup({&quot;maxWidth&quot;: &quot;100%&quot;});\n",
       "\n",
       "        \n",
       "            \n",
       "                var html_9456448ac878ebb649cdf39589e917be = $(`&lt;div id=&quot;html_9456448ac878ebb649cdf39589e917be&quot; style=&quot;width: 100.0%; height: 100.0%;&quot;&gt;&lt;b&gt;No.11&lt;br&gt;경상북도 경산시 남산면 상대리 529&lt;br&gt;22750000&lt;/b&gt;&lt;/div&gt;`)[0];\n",
       "                popup_dd4a438d0f3b4060429ec345d688147d.setContent(html_9456448ac878ebb649cdf39589e917be);\n",
       "            \n",
       "        \n",
       "\n",
       "        marker_ffd5cf8e35fbd682dd352c79d9edab9b.bindPopup(popup_dd4a438d0f3b4060429ec345d688147d)\n",
       "        ;\n",
       "\n",
       "        \n",
       "    \n",
       "    \n",
       "            marker_ffd5cf8e35fbd682dd352c79d9edab9b.bindTooltip(\n",
       "                `&lt;div&gt;\n",
       "                     Click me!\n",
       "                 &lt;/div&gt;`,\n",
       "                {&quot;sticky&quot;: true}\n",
       "            );\n",
       "        \n",
       "    \n",
       "            var marker_d7169b08d559042841349b1cef3dca3a = L.marker(\n",
       "                [0.0, 0.0],\n",
       "                {}\n",
       "            ).addTo(map_da268a86e17ef1ce54058a23394cab93);\n",
       "        \n",
       "    \n",
       "        var popup_27037df8e5ee9defe1e82e4817cef94f = L.popup({&quot;maxWidth&quot;: &quot;100%&quot;});\n",
       "\n",
       "        \n",
       "            \n",
       "                var html_fa4a7ce1e7b6c0840749767f64482ae6 = $(`&lt;div id=&quot;html_fa4a7ce1e7b6c0840749767f64482ae6&quot; style=&quot;width: 100.0%; height: 100.0%;&quot;&gt;&lt;b&gt;No.12&lt;br&gt;경상북도 의성군 봉양면 구산리 1711&lt;br&gt;22200000&lt;/b&gt;&lt;/div&gt;`)[0];\n",
       "                popup_27037df8e5ee9defe1e82e4817cef94f.setContent(html_fa4a7ce1e7b6c0840749767f64482ae6);\n",
       "            \n",
       "        \n",
       "\n",
       "        marker_d7169b08d559042841349b1cef3dca3a.bindPopup(popup_27037df8e5ee9defe1e82e4817cef94f)\n",
       "        ;\n",
       "\n",
       "        \n",
       "    \n",
       "    \n",
       "            marker_d7169b08d559042841349b1cef3dca3a.bindTooltip(\n",
       "                `&lt;div&gt;\n",
       "                     Click me!\n",
       "                 &lt;/div&gt;`,\n",
       "                {&quot;sticky&quot;: true}\n",
       "            );\n",
       "        \n",
       "    \n",
       "            var marker_0ec857647edd14b206ce925e30f84a41 = L.marker(\n",
       "                [0.0, 0.0],\n",
       "                {}\n",
       "            ).addTo(map_da268a86e17ef1ce54058a23394cab93);\n",
       "        \n",
       "    \n",
       "        var popup_f1ef90c6e35e66ce74f135a48aadf4b8 = L.popup({&quot;maxWidth&quot;: &quot;100%&quot;});\n",
       "\n",
       "        \n",
       "            \n",
       "                var html_da2cabd09f85a452b2de933e112a378c = $(`&lt;div id=&quot;html_da2cabd09f85a452b2de933e112a378c&quot; style=&quot;width: 100.0%; height: 100.0%;&quot;&gt;&lt;b&gt;No.13&lt;br&gt;경상남도 거창군 가조면 일부리 1301-1&lt;br&gt;21700000&lt;/b&gt;&lt;/div&gt;`)[0];\n",
       "                popup_f1ef90c6e35e66ce74f135a48aadf4b8.setContent(html_da2cabd09f85a452b2de933e112a378c);\n",
       "            \n",
       "        \n",
       "\n",
       "        marker_0ec857647edd14b206ce925e30f84a41.bindPopup(popup_f1ef90c6e35e66ce74f135a48aadf4b8)\n",
       "        ;\n",
       "\n",
       "        \n",
       "    \n",
       "    \n",
       "            marker_0ec857647edd14b206ce925e30f84a41.bindTooltip(\n",
       "                `&lt;div&gt;\n",
       "                     Click me!\n",
       "                 &lt;/div&gt;`,\n",
       "                {&quot;sticky&quot;: true}\n",
       "            );\n",
       "        \n",
       "    \n",
       "            var marker_d0c35e60414804b0a7ab40fbe09d6f7f = L.marker(\n",
       "                [0.0, 0.0],\n",
       "                {}\n",
       "            ).addTo(map_da268a86e17ef1ce54058a23394cab93);\n",
       "        \n",
       "    \n",
       "        var popup_ddc7183f7115e9d31d0d0344fdfbb726 = L.popup({&quot;maxWidth&quot;: &quot;100%&quot;});\n",
       "\n",
       "        \n",
       "            \n",
       "                var html_1f616b1e80f9b62c4be1583a38c5f07c = $(`&lt;div id=&quot;html_1f616b1e80f9b62c4be1583a38c5f07c&quot; style=&quot;width: 100.0%; height: 100.0%;&quot;&gt;&lt;b&gt;No.14&lt;br&gt;충청북도 청주청원구 내수읍 초정리 63-2&lt;br&gt;21450000&lt;/b&gt;&lt;/div&gt;`)[0];\n",
       "                popup_ddc7183f7115e9d31d0d0344fdfbb726.setContent(html_1f616b1e80f9b62c4be1583a38c5f07c);\n",
       "            \n",
       "        \n",
       "\n",
       "        marker_d0c35e60414804b0a7ab40fbe09d6f7f.bindPopup(popup_ddc7183f7115e9d31d0d0344fdfbb726)\n",
       "        ;\n",
       "\n",
       "        \n",
       "    \n",
       "    \n",
       "            marker_d0c35e60414804b0a7ab40fbe09d6f7f.bindTooltip(\n",
       "                `&lt;div&gt;\n",
       "                     Click me!\n",
       "                 &lt;/div&gt;`,\n",
       "                {&quot;sticky&quot;: true}\n",
       "            );\n",
       "        \n",
       "    \n",
       "            var marker_e8e5a421ce4a7564e914d3cf4b2301bd = L.marker(\n",
       "                [0.0, 0.0],\n",
       "                {}\n",
       "            ).addTo(map_da268a86e17ef1ce54058a23394cab93);\n",
       "        \n",
       "    \n",
       "        var popup_8482cc30c4991d03aa843e1ceb3c83b8 = L.popup({&quot;maxWidth&quot;: &quot;100%&quot;});\n",
       "\n",
       "        \n",
       "            \n",
       "                var html_8b2a845e7ee6a6dd4d6bda784cb01db5 = $(`&lt;div id=&quot;html_8b2a845e7ee6a6dd4d6bda784cb01db5&quot; style=&quot;width: 100.0%; height: 100.0%;&quot;&gt;&lt;b&gt;No.15&lt;br&gt;전라북도 고창군 고창읍 석정리 736&lt;br&gt;17850000&lt;/b&gt;&lt;/div&gt;`)[0];\n",
       "                popup_8482cc30c4991d03aa843e1ceb3c83b8.setContent(html_8b2a845e7ee6a6dd4d6bda784cb01db5);\n",
       "            \n",
       "        \n",
       "\n",
       "        marker_e8e5a421ce4a7564e914d3cf4b2301bd.bindPopup(popup_8482cc30c4991d03aa843e1ceb3c83b8)\n",
       "        ;\n",
       "\n",
       "        \n",
       "    \n",
       "    \n",
       "            marker_e8e5a421ce4a7564e914d3cf4b2301bd.bindTooltip(\n",
       "                `&lt;div&gt;\n",
       "                     Click me!\n",
       "                 &lt;/div&gt;`,\n",
       "                {&quot;sticky&quot;: true}\n",
       "            );\n",
       "        \n",
       "    \n",
       "            var marker_24c5a5013e8ebb910745affffdb3afdb = L.marker(\n",
       "                [35.3071, 127.47396],\n",
       "                {}\n",
       "            ).addTo(map_da268a86e17ef1ce54058a23394cab93);\n",
       "        \n",
       "    \n",
       "        var popup_9472812eba6778953d5bf65f78e08bc0 = L.popup({&quot;maxWidth&quot;: &quot;100%&quot;});\n",
       "\n",
       "        \n",
       "            \n",
       "                var html_ad20854586f9e6ed79a4cb1cfc8d7c38 = $(`&lt;div id=&quot;html_ad20854586f9e6ed79a4cb1cfc8d7c38&quot; style=&quot;width: 100.0%; height: 100.0%;&quot;&gt;&lt;b&gt;No.16&lt;br&gt;전라남도 구례군 산동면 관산리 724-7&lt;br&gt;17300000&lt;/b&gt;&lt;/div&gt;`)[0];\n",
       "                popup_9472812eba6778953d5bf65f78e08bc0.setContent(html_ad20854586f9e6ed79a4cb1cfc8d7c38);\n",
       "            \n",
       "        \n",
       "\n",
       "        marker_24c5a5013e8ebb910745affffdb3afdb.bindPopup(popup_9472812eba6778953d5bf65f78e08bc0)\n",
       "        ;\n",
       "\n",
       "        \n",
       "    \n",
       "    \n",
       "            marker_24c5a5013e8ebb910745affffdb3afdb.bindTooltip(\n",
       "                `&lt;div&gt;\n",
       "                     Click me!\n",
       "                 &lt;/div&gt;`,\n",
       "                {&quot;sticky&quot;: true}\n",
       "            );\n",
       "        \n",
       "    \n",
       "            var marker_a75589d620070aa33182f393870a376d = L.marker(\n",
       "                [0.0, 0.0],\n",
       "                {}\n",
       "            ).addTo(map_da268a86e17ef1ce54058a23394cab93);\n",
       "        \n",
       "    \n",
       "        var popup_192ff8a33c09d4e3c0677d38cf9155d7 = L.popup({&quot;maxWidth&quot;: &quot;100%&quot;});\n",
       "\n",
       "        \n",
       "            \n",
       "                var html_ddc354f9ee8416975e949638ccf2cccf = $(`&lt;div id=&quot;html_ddc354f9ee8416975e949638ccf2cccf&quot; style=&quot;width: 100.0%; height: 100.0%;&quot;&gt;&lt;b&gt;No.17&lt;br&gt;제주특별자치도 제주시 구좌읍 김녕리 5160-21&lt;br&gt;16600000&lt;/b&gt;&lt;/div&gt;`)[0];\n",
       "                popup_192ff8a33c09d4e3c0677d38cf9155d7.setContent(html_ddc354f9ee8416975e949638ccf2cccf);\n",
       "            \n",
       "        \n",
       "\n",
       "        marker_a75589d620070aa33182f393870a376d.bindPopup(popup_192ff8a33c09d4e3c0677d38cf9155d7)\n",
       "        ;\n",
       "\n",
       "        \n",
       "    \n",
       "    \n",
       "            marker_a75589d620070aa33182f393870a376d.bindTooltip(\n",
       "                `&lt;div&gt;\n",
       "                     Click me!\n",
       "                 &lt;/div&gt;`,\n",
       "                {&quot;sticky&quot;: true}\n",
       "            );\n",
       "        \n",
       "    \n",
       "            var marker_f7ba1e2bec7938b493d68e5875e47189 = L.marker(\n",
       "                [35.1635017, 129.1744702],\n",
       "                {}\n",
       "            ).addTo(map_da268a86e17ef1ce54058a23394cab93);\n",
       "        \n",
       "    \n",
       "        var popup_0f27c825c2f37ceedf303250c25fe553 = L.popup({&quot;maxWidth&quot;: &quot;100%&quot;});\n",
       "\n",
       "        \n",
       "            \n",
       "                var html_683669da4a44ec04d5ea2a2bf4535268 = $(`&lt;div id=&quot;html_683669da4a44ec04d5ea2a2bf4535268&quot; style=&quot;width: 100.0%; height: 100.0%;&quot;&gt;&lt;b&gt;No.18&lt;br&gt;부산광역시 해운대구 중동 1153-9&lt;br&gt;15400000&lt;/b&gt;&lt;/div&gt;`)[0];\n",
       "                popup_0f27c825c2f37ceedf303250c25fe553.setContent(html_683669da4a44ec04d5ea2a2bf4535268);\n",
       "            \n",
       "        \n",
       "\n",
       "        marker_f7ba1e2bec7938b493d68e5875e47189.bindPopup(popup_0f27c825c2f37ceedf303250c25fe553)\n",
       "        ;\n",
       "\n",
       "        \n",
       "    \n",
       "    \n",
       "            marker_f7ba1e2bec7938b493d68e5875e47189.bindTooltip(\n",
       "                `&lt;div&gt;\n",
       "                     Click me!\n",
       "                 &lt;/div&gt;`,\n",
       "                {&quot;sticky&quot;: true}\n",
       "            );\n",
       "        \n",
       "    \n",
       "            var marker_e8b8ddd50a8db7c1b97a0b19ca6cb2c7 = L.marker(\n",
       "                [0.0, 0.0],\n",
       "                {}\n",
       "            ).addTo(map_da268a86e17ef1ce54058a23394cab93);\n",
       "        \n",
       "    \n",
       "        var popup_7732bcc395875ae1d722cdc2446ff2f5 = L.popup({&quot;maxWidth&quot;: &quot;100%&quot;});\n",
       "\n",
       "        \n",
       "            \n",
       "                var html_575c1c958c09dcf8713ed2201e448e24 = $(`&lt;div id=&quot;html_575c1c958c09dcf8713ed2201e448e24&quot; style=&quot;width: 100.0%; height: 100.0%;&quot;&gt;&lt;b&gt;No.19&lt;br&gt;전라남도 화순군 도곡면 천암리 790-1&lt;br&gt;6065000&lt;/b&gt;&lt;/div&gt;`)[0];\n",
       "                popup_7732bcc395875ae1d722cdc2446ff2f5.setContent(html_575c1c958c09dcf8713ed2201e448e24);\n",
       "            \n",
       "        \n",
       "\n",
       "        marker_e8b8ddd50a8db7c1b97a0b19ca6cb2c7.bindPopup(popup_7732bcc395875ae1d722cdc2446ff2f5)\n",
       "        ;\n",
       "\n",
       "        \n",
       "    \n",
       "    \n",
       "            marker_e8b8ddd50a8db7c1b97a0b19ca6cb2c7.bindTooltip(\n",
       "                `&lt;div&gt;\n",
       "                     Click me!\n",
       "                 &lt;/div&gt;`,\n",
       "                {&quot;sticky&quot;: true}\n",
       "            );\n",
       "        \n",
       "    \n",
       "            var marker_e57c30e276ecc9d9a77e3a78ccdbdcda = L.marker(\n",
       "                [0.0, 0.0],\n",
       "                {}\n",
       "            ).addTo(map_da268a86e17ef1ce54058a23394cab93);\n",
       "        \n",
       "    \n",
       "        var popup_c4765066f268b6d185d8333a70f52687 = L.popup({&quot;maxWidth&quot;: &quot;100%&quot;});\n",
       "\n",
       "        \n",
       "            \n",
       "                var html_bb2b8bd7fc88812582bae5a2b5f12c16 = $(`&lt;div id=&quot;html_bb2b8bd7fc88812582bae5a2b5f12c16&quot; style=&quot;width: 100.0%; height: 100.0%;&quot;&gt;&lt;b&gt;No.20&lt;br&gt;전라남도 화순군 백아면 서유리 667-1&lt;br&gt;5985000&lt;/b&gt;&lt;/div&gt;`)[0];\n",
       "                popup_c4765066f268b6d185d8333a70f52687.setContent(html_bb2b8bd7fc88812582bae5a2b5f12c16);\n",
       "            \n",
       "        \n",
       "\n",
       "        marker_e57c30e276ecc9d9a77e3a78ccdbdcda.bindPopup(popup_c4765066f268b6d185d8333a70f52687)\n",
       "        ;\n",
       "\n",
       "        \n",
       "    \n",
       "    \n",
       "            marker_e57c30e276ecc9d9a77e3a78ccdbdcda.bindTooltip(\n",
       "                `&lt;div&gt;\n",
       "                     Click me!\n",
       "                 &lt;/div&gt;`,\n",
       "                {&quot;sticky&quot;: true}\n",
       "            );\n",
       "        \n",
       "    \n",
       "            var marker_fbe79e5c042a1418da91568e3b426c4d = L.marker(\n",
       "                [34.91933, 127.3386],\n",
       "                {}\n",
       "            ).addTo(map_da268a86e17ef1ce54058a23394cab93);\n",
       "        \n",
       "    \n",
       "        var popup_d9c2cc11eca12c307072e1b34ff80bbe = L.popup({&quot;maxWidth&quot;: &quot;100%&quot;});\n",
       "\n",
       "        \n",
       "            \n",
       "                var html_8378e319d4231890335c0c06bb2d9c9b = $(`&lt;div id=&quot;html_8378e319d4231890335c0c06bb2d9c9b&quot; style=&quot;width: 100.0%; height: 100.0%;&quot;&gt;&lt;b&gt;No.21&lt;br&gt;전라남도 순천시 낙안면 상송리 105-5&lt;br&gt;2335000&lt;/b&gt;&lt;/div&gt;`)[0];\n",
       "                popup_d9c2cc11eca12c307072e1b34ff80bbe.setContent(html_8378e319d4231890335c0c06bb2d9c9b);\n",
       "            \n",
       "        \n",
       "\n",
       "        marker_fbe79e5c042a1418da91568e3b426c4d.bindPopup(popup_d9c2cc11eca12c307072e1b34ff80bbe)\n",
       "        ;\n",
       "\n",
       "        \n",
       "    \n",
       "    \n",
       "            marker_fbe79e5c042a1418da91568e3b426c4d.bindTooltip(\n",
       "                `&lt;div&gt;\n",
       "                     Click me!\n",
       "                 &lt;/div&gt;`,\n",
       "                {&quot;sticky&quot;: true}\n",
       "            );\n",
       "        \n",
       "&lt;/script&gt;\n",
       "&lt;/html&gt;\" style=\"position:absolute;width:100%;height:100%;left:0;top:0;border:none !important;\" allowfullscreen webkitallowfullscreen mozallowfullscreen></iframe></div></div>"
      ],
      "text/plain": [
       "<folium.folium.Map at 0x1f31c6e91d0>"
      ]
     },
     "execution_count": 81,
     "metadata": {},
     "output_type": "execute_result"
    }
   ],
   "source": [
    "adr = address[df[df['지목'] == '광천지'].sort_values(by='공시지가', ascending=False).index]\n",
    "\n",
    "lat = []\n",
    "lon = []\n",
    "for c in tqdm(adr):\n",
    "    loc = geocoding(c)\n",
    "    lat.append(loc[0])\n",
    "    lon.append(loc[1])\n",
    "\n",
    "m = folium.Map(location=[lat[3], lon[3]], zoom_start=7, tiles=\"Stamen Terrain\")\n",
    "tooltip = \"Click me!\"\n",
    "for i in range(len(adr)):\n",
    "    folium.Marker(\n",
    "        [lat[i], lon[i]], popup=f\"<b>No.{i+1}<br>{adr.iloc[i]}<br>{df.loc[adr.index[i]]['공시지가']}</b>\", tooltip=tooltip\n",
    "    ).add_to(m)\n",
    "\n",
    "m"
   ]
  },
  {
   "cell_type": "code",
   "execution_count": 7,
   "metadata": {},
   "outputs": [
    {
     "data": {
      "text/html": [
       "<div>\n",
       "<style scoped>\n",
       "    .dataframe tbody tr th:only-of-type {\n",
       "        vertical-align: middle;\n",
       "    }\n",
       "\n",
       "    .dataframe tbody tr th {\n",
       "        vertical-align: top;\n",
       "    }\n",
       "\n",
       "    .dataframe thead th {\n",
       "        text-align: right;\n",
       "    }\n",
       "</style>\n",
       "<table border=\"1\" class=\"dataframe\">\n",
       "  <thead>\n",
       "    <tr style=\"text-align: right;\">\n",
       "      <th></th>\n",
       "      <th>시도명</th>\n",
       "      <th>시군구명</th>\n",
       "      <th>소재지</th>\n",
       "      <th>지목</th>\n",
       "      <th>면적</th>\n",
       "      <th>용도지역1</th>\n",
       "      <th>용도지역2</th>\n",
       "      <th>이용상황</th>\n",
       "      <th>주위환경</th>\n",
       "      <th>지세명</th>\n",
       "      <th>형상명</th>\n",
       "      <th>도로교통</th>\n",
       "      <th>공시지가</th>\n",
       "      <th>지리적위치1</th>\n",
       "      <th>지리적위치2</th>\n",
       "      <th>방위</th>\n",
       "    </tr>\n",
       "  </thead>\n",
       "  <tbody>\n",
       "    <tr>\n",
       "      <th>2</th>\n",
       "      <td>서울특별시</td>\n",
       "      <td>종로구</td>\n",
       "      <td>청운동 4-15</td>\n",
       "      <td>대</td>\n",
       "      <td>416.2</td>\n",
       "      <td>제1종일반주거지역</td>\n",
       "      <td>NaN</td>\n",
       "      <td>단독주택</td>\n",
       "      <td>기존 주택지대</td>\n",
       "      <td>완경사지</td>\n",
       "      <td>사다리형</td>\n",
       "      <td>세로(가)</td>\n",
       "      <td>4250000</td>\n",
       "      <td>경기상고</td>\n",
       "      <td>북서측 인근</td>\n",
       "      <td>북동향</td>\n",
       "    </tr>\n",
       "    <tr>\n",
       "      <th>3</th>\n",
       "      <td>서울특별시</td>\n",
       "      <td>종로구</td>\n",
       "      <td>청운동 8-9</td>\n",
       "      <td>대</td>\n",
       "      <td>811.3</td>\n",
       "      <td>제1종일반주거지역</td>\n",
       "      <td>NaN</td>\n",
       "      <td>연립주택</td>\n",
       "      <td>일반 주택지대</td>\n",
       "      <td>급경사지</td>\n",
       "      <td>부정형</td>\n",
       "      <td>세로(가)</td>\n",
       "      <td>3930000</td>\n",
       "      <td>청운중학교</td>\n",
       "      <td>서측인근</td>\n",
       "      <td>남향</td>\n",
       "    </tr>\n",
       "    <tr>\n",
       "      <th>4</th>\n",
       "      <td>서울특별시</td>\n",
       "      <td>종로구</td>\n",
       "      <td>청운동 8-15</td>\n",
       "      <td>대</td>\n",
       "      <td>442.3</td>\n",
       "      <td>제1종일반주거지역</td>\n",
       "      <td>NaN</td>\n",
       "      <td>연립주택</td>\n",
       "      <td>기존 주택지대</td>\n",
       "      <td>급경사지</td>\n",
       "      <td>사다리형</td>\n",
       "      <td>세로(가)</td>\n",
       "      <td>3855000</td>\n",
       "      <td>경기상고</td>\n",
       "      <td>서측인근</td>\n",
       "      <td>남서향</td>\n",
       "    </tr>\n",
       "    <tr>\n",
       "      <th>5</th>\n",
       "      <td>서울특별시</td>\n",
       "      <td>종로구</td>\n",
       "      <td>청운동 12-3</td>\n",
       "      <td>대</td>\n",
       "      <td>132.5</td>\n",
       "      <td>제1종일반주거지역</td>\n",
       "      <td>NaN</td>\n",
       "      <td>주거기타</td>\n",
       "      <td>기존 주택지대</td>\n",
       "      <td>완경사지</td>\n",
       "      <td>사다리형</td>\n",
       "      <td>세로(불)</td>\n",
       "      <td>4645000</td>\n",
       "      <td>경기상고</td>\n",
       "      <td>뷱서측인근</td>\n",
       "      <td>남동향</td>\n",
       "    </tr>\n",
       "    <tr>\n",
       "      <th>6</th>\n",
       "      <td>서울특별시</td>\n",
       "      <td>종로구</td>\n",
       "      <td>청운동 15-12</td>\n",
       "      <td>대</td>\n",
       "      <td>552.1</td>\n",
       "      <td>제1종일반주거지역</td>\n",
       "      <td>NaN</td>\n",
       "      <td>단독주택</td>\n",
       "      <td>고급 주택지대</td>\n",
       "      <td>완경사지</td>\n",
       "      <td>사다리형</td>\n",
       "      <td>소로각지</td>\n",
       "      <td>5930000</td>\n",
       "      <td>청운중학교</td>\n",
       "      <td>북서측인근</td>\n",
       "      <td>서향</td>\n",
       "    </tr>\n",
       "  </tbody>\n",
       "</table>\n",
       "</div>"
      ],
      "text/plain": [
       "     시도명 시군구명        소재지 지목     면적      용도지역1 용도지역2  이용상황     주위환경   지세명   \n",
       "2  서울특별시  종로구   청운동 4-15  대  416.2  제1종일반주거지역   NaN  단독주택  기존 주택지대  완경사지  \\\n",
       "3  서울특별시  종로구    청운동 8-9  대  811.3  제1종일반주거지역   NaN  연립주택  일반 주택지대  급경사지   \n",
       "4  서울특별시  종로구   청운동 8-15  대  442.3  제1종일반주거지역   NaN  연립주택  기존 주택지대  급경사지   \n",
       "5  서울특별시  종로구   청운동 12-3  대  132.5  제1종일반주거지역   NaN  주거기타  기존 주택지대  완경사지   \n",
       "6  서울특별시  종로구  청운동 15-12  대  552.1  제1종일반주거지역   NaN  단독주택  고급 주택지대  완경사지   \n",
       "\n",
       "    형상명   도로교통     공시지가 지리적위치1  지리적위치2   방위  \n",
       "2  사다리형  세로(가)  4250000   경기상고  북서측 인근  북동향  \n",
       "3   부정형  세로(가)  3930000  청운중학교    서측인근   남향  \n",
       "4  사다리형  세로(가)  3855000   경기상고    서측인근  남서향  \n",
       "5  사다리형  세로(불)  4645000   경기상고   뷱서측인근  남동향  \n",
       "6  사다리형   소로각지  5930000  청운중학교   북서측인근   서향  "
      ]
     },
     "execution_count": 7,
     "metadata": {},
     "output_type": "execute_result"
    }
   ],
   "source": [
    "housing = df[df['지목'] == '대']\n",
    "housing.head()"
   ]
  },
  {
   "cell_type": "code",
   "execution_count": 7,
   "metadata": {},
   "outputs": [
    {
     "data": {
      "text/plain": [
       "array(['자연녹지지역', '제1종일반주거지역', '제2종일반주거지역', '일반상업지역', '제3종일반주거지역', '준주거지역',\n",
       "       '제1종전용주거지역', '개발제한구역', '중심상업지역', '보전녹지지역', '근린상업지역', '준공업지역',\n",
       "       '유통상업지역', '제2종전용주거지역', '생산녹지지역', '일반공업지역', '전용공업지역', '자연환경보전지역',\n",
       "       '농림지역', '보전관리지역', '생산관리지역', '계획관리지역', '관리지역', '용도미지정지역'],\n",
       "      dtype=object)"
      ]
     },
     "execution_count": 7,
     "metadata": {},
     "output_type": "execute_result"
    }
   ],
   "source": [
    "df['용도지역1'].unique()"
   ]
  },
  {
   "cell_type": "code",
   "execution_count": 114,
   "metadata": {},
   "outputs": [
    {
     "data": {
      "text/plain": [
       "array(['제1종일반주거지역', '제2종일반주거지역', '제1종전용주거지역', '제3종일반주거지역', '준주거지역',\n",
       "       '제2종전용주거지역'], dtype=object)"
      ]
     },
     "execution_count": 114,
     "metadata": {},
     "output_type": "execute_result"
    }
   ],
   "source": [
    "df.loc[(df['용도지역1'].str.contains('주거')) & (df['지목'] != '대')]['용도지역1'].unique()"
   ]
  },
  {
   "cell_type": "markdown",
   "metadata": {},
   "source": [
    "# 용도지역1로는 주거지역과 상업지역을 나눌 수 없다"
   ]
  },
  {
   "cell_type": "code",
   "execution_count": 94,
   "metadata": {},
   "outputs": [
    {
     "data": {
      "text/plain": [
       "array(['임야', '대', '주유소용지', '공원', '학교용지', '잡종지', '전', '주차장', '종교용지',\n",
       "       '철도용지', '답', '하천', '묘지', '제방', '도로', '사적지', '공장용지', '창고용지', '수도용지',\n",
       "       '광천지', '과수원', '체육용지', '유지', '목장용지', '염전'], dtype=object)"
      ]
     },
     "execution_count": 94,
     "metadata": {},
     "output_type": "execute_result"
    }
   ],
   "source": [
    "df[df['용도지역1'].str.contains('주거')]['지목'].unique()"
   ]
  },
  {
   "cell_type": "code",
   "execution_count": 110,
   "metadata": {},
   "outputs": [
    {
     "data": {
      "text/plain": [
       "array(['대', '공원', '주유소용지', '학교용지', '주차장', '철도용지', '창고용지', '잡종지', '임야',\n",
       "       '공장용지', '광천지', '전', '답', '과수원', '종교용지', '유원지', '염전', '목장용지', '하천'],\n",
       "      dtype=object)"
      ]
     },
     "execution_count": 110,
     "metadata": {},
     "output_type": "execute_result"
    }
   ],
   "source": [
    "df[df['용도지역1'].str.contains('상업')]['지목'].unique()"
   ]
  },
  {
   "cell_type": "code",
   "execution_count": 8,
   "metadata": {},
   "outputs": [
    {
     "data": {
      "text/plain": [
       "용도지역1\n",
       "중심상업지역       6.267489e+06\n",
       "제3종일반주거지역    4.173300e+06\n",
       "일반상업지역       3.626962e+06\n",
       "근린상업지역       3.284609e+06\n",
       "준주거지역        2.661046e+06\n",
       "준공업지역        2.085087e+06\n",
       "제1종전용주거지역    2.034941e+06\n",
       "제2종일반주거지역    2.016155e+06\n",
       "유통상업지역       1.556408e+06\n",
       "제2종전용주거지역    1.157211e+06\n",
       "제1종일반주거지역    1.021573e+06\n",
       "일반공업지역       5.337461e+05\n",
       "전용공업지역       4.989618e+05\n",
       "용도미지정지역      3.136431e+05\n",
       "개발제한구역       1.970224e+05\n",
       "자연녹지지역       1.903828e+05\n",
       "생산녹지지역       1.203428e+05\n",
       "보전녹지지역       1.037272e+05\n",
       "계획관리지역       7.727397e+04\n",
       "생산관리지역       2.885367e+04\n",
       "자연환경보전지역     2.448503e+04\n",
       "농림지역         2.328915e+04\n",
       "보전관리지역       2.293998e+04\n",
       "관리지역         2.211491e+04\n",
       "Name: 공시지가, dtype: float64"
      ]
     },
     "execution_count": 8,
     "metadata": {},
     "output_type": "execute_result"
    }
   ],
   "source": [
    "df.groupby('용도지역1')['공시지가'].mean().sort_values(ascending=False)"
   ]
  },
  {
   "cell_type": "code",
   "execution_count": 130,
   "metadata": {},
   "outputs": [
    {
     "data": {
      "image/png": "[encoded data removed]",
      "text/plain": [
       "<Figure size 800x600 with 1 Axes>"
      ]
     },
     "metadata": {},
     "output_type": "display_data"
    }
   ],
   "source": [
    "residential = df[df['용도지역1'].str.contains('주거')]['공시지가'].mean()\n",
    "commerce = df[df['용도지역1'].str.contains('상업')]['공시지가'].mean()\n",
    "ect = df[~(df['용도지역1'].str.contains('주거') | df['용도지역1'].str.contains('상업'))]['공시지가'].mean()\n",
    "\n",
    "# 데이터프레임 생성\n",
    "data = pd.DataFrame()\n",
    "data = {'Category': ['주거지역', '상업지역', '그 외 지역'],\n",
    "        'Mean Value': [residential, commerce, ect]}\n",
    "\n",
    "# 그래프 그리기\n",
    "plt.figure(figsize=(8, 6))\n",
    "sns.barplot(data=data, x='Category', y='Mean Value')\n",
    "plt.xlabel('Category')\n",
    "plt.ylabel('Mean Value')\n",
    "plt.title('Mean Value by Category')\n",
    "plt.show()"
   ]
  },
  {
   "cell_type": "code",
   "execution_count": 13,
   "metadata": {},
   "outputs": [
    {
     "name": "stderr",
     "output_type": "stream",
     "text": [
      "100%|██████████| 5/5 [00:06<00:00,  1.21s/it]\n"
     ]
    }
   ],
   "source": [
    "adr = df.nlargest(5, '공시지가')['시도명'] + ' ' + df.nlargest(5, '공시지가')['소재지']\n",
    "lat = []\n",
    "lon = []\n",
    "for c in tqdm(adr):\n",
    "    loc = geocoding(c)\n",
    "    lat.append(loc[0])\n",
    "    lon.append(loc[1])"
   ]
  },
  {
   "cell_type": "code",
   "execution_count": 30,
   "metadata": {},
   "outputs": [
    {
     "data": {
      "text/html": [
       "<div style=\"width:100%;\"><div style=\"position:relative;width:100%;height:0;padding-bottom:60%;\"><span style=\"color:#565656\">Make this Notebook Trusted to load map: File -> Trust Notebook</span><iframe srcdoc=\"&lt;!DOCTYPE html&gt;\n",
       "&lt;html&gt;\n",
       "&lt;head&gt;\n",
       "    \n",
       "    &lt;meta http-equiv=&quot;content-type&quot; content=&quot;text/html; charset=UTF-8&quot; /&gt;\n",
       "    \n",
       "        &lt;script&gt;\n",
       "            L_NO_TOUCH = false;\n",
       "            L_DISABLE_3D = false;\n",
       "        &lt;/script&gt;\n",
       "    \n",
       "    &lt;style&gt;html, body {width: 100%;height: 100%;margin: 0;padding: 0;}&lt;/style&gt;\n",
       "    &lt;style&gt;#map {position:absolute;top:0;bottom:0;right:0;left:0;}&lt;/style&gt;\n",
       "    &lt;script src=&quot;https://cdn.jsdelivr.net/npm/leaflet@1.9.3/dist/leaflet.js&quot;&gt;&lt;/script&gt;\n",
       "    &lt;script src=&quot;https://code.jquery.com/jquery-1.12.4.min.js&quot;&gt;&lt;/script&gt;\n",
       "    &lt;script src=&quot;https://cdn.jsdelivr.net/npm/bootstrap@5.2.2/dist/js/bootstrap.bundle.min.js&quot;&gt;&lt;/script&gt;\n",
       "    &lt;script src=&quot;https://cdnjs.cloudflare.com/ajax/libs/Leaflet.awesome-markers/2.0.2/leaflet.awesome-markers.js&quot;&gt;&lt;/script&gt;\n",
       "    &lt;link rel=&quot;stylesheet&quot; href=&quot;https://cdn.jsdelivr.net/npm/leaflet@1.9.3/dist/leaflet.css&quot;/&gt;\n",
       "    &lt;link rel=&quot;stylesheet&quot; href=&quot;https://cdn.jsdelivr.net/npm/bootstrap@5.2.2/dist/css/bootstrap.min.css&quot;/&gt;\n",
       "    &lt;link rel=&quot;stylesheet&quot; href=&quot;https://netdna.bootstrapcdn.com/bootstrap/3.0.0/css/bootstrap.min.css&quot;/&gt;\n",
       "    &lt;link rel=&quot;stylesheet&quot; href=&quot;https://cdn.jsdelivr.net/npm/@fortawesome/fontawesome-free@6.2.0/css/all.min.css&quot;/&gt;\n",
       "    &lt;link rel=&quot;stylesheet&quot; href=&quot;https://cdnjs.cloudflare.com/ajax/libs/Leaflet.awesome-markers/2.0.2/leaflet.awesome-markers.css&quot;/&gt;\n",
       "    &lt;link rel=&quot;stylesheet&quot; href=&quot;https://cdn.jsdelivr.net/gh/python-visualization/folium/folium/templates/leaflet.awesome.rotate.min.css&quot;/&gt;\n",
       "    \n",
       "            &lt;meta name=&quot;viewport&quot; content=&quot;width=device-width,\n",
       "                initial-scale=1.0, maximum-scale=1.0, user-scalable=no&quot; /&gt;\n",
       "            &lt;style&gt;\n",
       "                #map_8a4a3d25f95be6025b5e8e7796fa78b5 {\n",
       "                    position: relative;\n",
       "                    width: 100.0%;\n",
       "                    height: 100.0%;\n",
       "                    left: 0.0%;\n",
       "                    top: 0.0%;\n",
       "                }\n",
       "                .leaflet-container { font-size: 1rem; }\n",
       "            &lt;/style&gt;\n",
       "        \n",
       "&lt;/head&gt;\n",
       "&lt;body&gt;\n",
       "    \n",
       "    \n",
       "            &lt;div class=&quot;folium-map&quot; id=&quot;map_8a4a3d25f95be6025b5e8e7796fa78b5&quot; &gt;&lt;/div&gt;\n",
       "        \n",
       "&lt;/body&gt;\n",
       "&lt;script&gt;\n",
       "    \n",
       "    \n",
       "            var map_8a4a3d25f95be6025b5e8e7796fa78b5 = L.map(\n",
       "                &quot;map_8a4a3d25f95be6025b5e8e7796fa78b5&quot;,\n",
       "                {\n",
       "                    center: [37.56088, 126.98318],\n",
       "                    crs: L.CRS.EPSG3857,\n",
       "                    zoom: 9,\n",
       "                    zoomControl: true,\n",
       "                    preferCanvas: false,\n",
       "                }\n",
       "            );\n",
       "\n",
       "            \n",
       "\n",
       "        \n",
       "    \n",
       "            var tile_layer_a983d9738b9c3c32928532745cd77e43 = L.tileLayer(\n",
       "                &quot;https://stamen-tiles-{s}.a.ssl.fastly.net/terrain/{z}/{x}/{y}.jpg&quot;,\n",
       "                {&quot;attribution&quot;: &quot;Map tiles by \\u003ca target=\\&quot;_blank\\&quot; href=\\&quot;http://stamen.com\\&quot;\\u003eStamen Design\\u003c/a\\u003e, under \\u003ca target=\\&quot;_blank\\&quot; href=\\&quot;http://creativecommons.org/licenses/by/3.0\\&quot;\\u003eCC BY 3.0\\u003c/a\\u003e. Data by \\u0026copy; \\u003ca target=\\&quot;_blank\\&quot; href=\\&quot;http://openstreetmap.org\\&quot;\\u003eOpenStreetMap\\u003c/a\\u003e, under \\u003ca target=\\&quot;_blank\\&quot; href=\\&quot;http://creativecommons.org/licenses/by-sa/3.0\\&quot;\\u003eCC BY SA\\u003c/a\\u003e.&quot;, &quot;detectRetina&quot;: false, &quot;maxNativeZoom&quot;: 18, &quot;maxZoom&quot;: 18, &quot;minZoom&quot;: 0, &quot;noWrap&quot;: false, &quot;opacity&quot;: 1, &quot;subdomains&quot;: &quot;abc&quot;, &quot;tms&quot;: false}\n",
       "            ).addTo(map_8a4a3d25f95be6025b5e8e7796fa78b5);\n",
       "        \n",
       "    \n",
       "            var marker_d7a1370b3fc513d19bbd9b14518f758c = L.marker(\n",
       "                [37.56088, 126.98318],\n",
       "                {}\n",
       "            ).addTo(map_8a4a3d25f95be6025b5e8e7796fa78b5);\n",
       "        \n",
       "    \n",
       "            var icon_407983c099970b21b675cbf008496a8a = L.AwesomeMarkers.icon(\n",
       "                {&quot;extraClasses&quot;: &quot;fa-rotate-0&quot;, &quot;icon&quot;: &quot;info-sign&quot;, &quot;iconColor&quot;: &quot;white&quot;, &quot;markerColor&quot;: &quot;red&quot;, &quot;prefix&quot;: &quot;glyphicon&quot;}\n",
       "            );\n",
       "            marker_d7a1370b3fc513d19bbd9b14518f758c.setIcon(icon_407983c099970b21b675cbf008496a8a);\n",
       "        \n",
       "    \n",
       "        var popup_ae85904d901a50ad51d41089f514890a = L.popup({&quot;maxWidth&quot;: &quot;100%&quot;});\n",
       "\n",
       "        \n",
       "            \n",
       "                var html_f26a064a7633823003485cbe763f730f = $(`&lt;div id=&quot;html_f26a064a7633823003485cbe763f730f&quot; style=&quot;width: 100.0%; height: 100.0%;&quot;&gt;&lt;b&gt;서울특별시 충무로1가 24-2&lt;/b&gt;&lt;/div&gt;`)[0];\n",
       "                popup_ae85904d901a50ad51d41089f514890a.setContent(html_f26a064a7633823003485cbe763f730f);\n",
       "            \n",
       "        \n",
       "\n",
       "        marker_d7a1370b3fc513d19bbd9b14518f758c.bindPopup(popup_ae85904d901a50ad51d41089f514890a)\n",
       "        ;\n",
       "\n",
       "        \n",
       "    \n",
       "    \n",
       "            marker_d7a1370b3fc513d19bbd9b14518f758c.bindTooltip(\n",
       "                `&lt;div&gt;\n",
       "                     Click me!\n",
       "                 &lt;/div&gt;`,\n",
       "                {&quot;sticky&quot;: true}\n",
       "            );\n",
       "        \n",
       "    \n",
       "            var marker_d1ff073dc5df0055f8c0a2232c039954 = L.marker(\n",
       "                [37.5628575, 126.9851914],\n",
       "                {}\n",
       "            ).addTo(map_8a4a3d25f95be6025b5e8e7796fa78b5);\n",
       "        \n",
       "    \n",
       "            var icon_056fbb33c19121259c39fabeb1a6e5ae = L.AwesomeMarkers.icon(\n",
       "                {&quot;extraClasses&quot;: &quot;fa-rotate-0&quot;, &quot;icon&quot;: &quot;ok-sign&quot;, &quot;iconColor&quot;: &quot;white&quot;, &quot;markerColor&quot;: &quot;green&quot;, &quot;prefix&quot;: &quot;glyphicon&quot;}\n",
       "            );\n",
       "            marker_d1ff073dc5df0055f8c0a2232c039954.setIcon(icon_056fbb33c19121259c39fabeb1a6e5ae);\n",
       "        \n",
       "    \n",
       "        var popup_9bc3f1d14bf58c48db2b9d9d6231c41a = L.popup({&quot;maxWidth&quot;: &quot;100%&quot;});\n",
       "\n",
       "        \n",
       "            \n",
       "                var html_dfd3cc03a658ac5dab9d9dee44a32dfc = $(`&lt;div id=&quot;html_dfd3cc03a658ac5dab9d9dee44a32dfc&quot; style=&quot;width: 100.0%; height: 100.0%;&quot;&gt;&lt;i&gt;서울특별시 명동2가 33-2&lt;/i&gt;&lt;/div&gt;`)[0];\n",
       "                popup_9bc3f1d14bf58c48db2b9d9d6231c41a.setContent(html_dfd3cc03a658ac5dab9d9dee44a32dfc);\n",
       "            \n",
       "        \n",
       "\n",
       "        marker_d1ff073dc5df0055f8c0a2232c039954.bindPopup(popup_9bc3f1d14bf58c48db2b9d9d6231c41a)\n",
       "        ;\n",
       "\n",
       "        \n",
       "    \n",
       "    \n",
       "            marker_d1ff073dc5df0055f8c0a2232c039954.bindTooltip(\n",
       "                `&lt;div&gt;\n",
       "                     Click me!\n",
       "                 &lt;/div&gt;`,\n",
       "                {&quot;sticky&quot;: true}\n",
       "            );\n",
       "        \n",
       "&lt;/script&gt;\n",
       "&lt;/html&gt;\" style=\"position:absolute;width:100%;height:100%;left:0;top:0;border:none !important;\" allowfullscreen webkitallowfullscreen mozallowfullscreen></iframe></div></div>"
      ],
      "text/plain": [
       "<folium.folium.Map at 0x216d2012f50>"
      ]
     },
     "execution_count": 30,
     "metadata": {},
     "output_type": "execute_result"
    }
   ],
   "source": [
    "m = folium.Map(location=[lat[0], lon[0]], zoom_start=9, tiles=\"Stamen Terrain\")\n",
    "\n",
    "tooltip = \"Click me!\"\n",
    "\n",
    "folium.Marker(\n",
    "    [lat[0], lon[0]], popup=f\"<b>{adr.iloc[0]}</b>\", tooltip=tooltip, icon=folium.Icon(color=\"red\", icon=\"info-sign\")\n",
    ").add_to(m)\n",
    "folium.Marker(\n",
    "    [lat[1], lon[1]], popup=f\"<i>{adr.iloc[1]}</i>\", tooltip=tooltip, icon=folium.Icon(color=\"green\", icon=\"ok-sign\")\n",
    ").add_to(m)\n",
    "\n",
    "m\n"
   ]
  },
  {
   "cell_type": "code",
   "execution_count": 8,
   "metadata": {},
   "outputs": [
    {
     "data": {
      "text/plain": [
       "array(['공원등', '자연림', '단독주택', '연립주택', '주거기타', '상업기타', '상업용', '다세대', '업무용',\n",
       "       '주상용', '주상기타', '주거나지', '임야기타', '상업나지', '아파트', '주상나지', '토지임야',\n",
       "       '전기타', '전', '기타', '공업기타', '공업용', '하천등', '유해혐오', '터미널', '조림',\n",
       "       '운동장등', '과수원', '전창고', '콘도', '공업나지', '답', '주차장등', '발전소', '도로등',\n",
       "       '답기타', '공항', '특수기타', '골프장_대중제', '휴게소', '전축사', '유원지', '광천지', '공원묘지',\n",
       "       '위험시설', '골프장_회원제', '답축사', '경마장', '목장용지', '답창고', '야영', '승마장',\n",
       "       '양어·양식', '염전', '골프장_간이', '태양광', '광업용지', '스키장'], dtype=object)"
      ]
     },
     "execution_count": 8,
     "metadata": {},
     "output_type": "execute_result"
    }
   ],
   "source": [
    "df['이용상황'].unique()"
   ]
  },
  {
   "cell_type": "code",
   "execution_count": 10,
   "metadata": {},
   "outputs": [
    {
     "data": {
      "text/plain": [
       "이용상황\n",
       "광천지        2.621457e+07\n",
       "업무용        1.156105e+07\n",
       "상업용        3.779575e+06\n",
       "상업기타       3.754890e+06\n",
       "다세대        2.841345e+06\n",
       "아파트        2.687128e+06\n",
       "연립주택       2.488536e+06\n",
       "주상기타       2.301805e+06\n",
       "주상용        2.108111e+06\n",
       "상업나지       1.996410e+06\n",
       "터미널        1.650864e+06\n",
       "주거기타       1.378549e+06\n",
       "주상나지       1.166345e+06\n",
       "공업기타       7.381012e+05\n",
       "단독주택       7.134298e+05\n",
       "공업용        6.317948e+05\n",
       "주차장등       6.280417e+05\n",
       "도로등        5.597115e+05\n",
       "운동장등       5.401711e+05\n",
       "주거나지       4.987857e+05\n",
       "특수기타       4.950000e+05\n",
       "공원등        4.512438e+05\n",
       "공항         4.292424e+05\n",
       "경마장        4.153750e+05\n",
       "휴게소        4.129380e+05\n",
       "콘도         4.085000e+05\n",
       "공업나지       3.882539e+05\n",
       "유해혐오       3.220104e+05\n",
       "전창고        3.169926e+05\n",
       "전기타        2.750378e+05\n",
       "위험시설       2.696875e+05\n",
       "발전소        2.602424e+05\n",
       "승마장        2.339783e+05\n",
       "하천등        2.019559e+05\n",
       "야영         1.847222e+05\n",
       "유원지        1.766955e+05\n",
       "답창고        1.602558e+05\n",
       "기타         1.601086e+05\n",
       "전축사        1.408517e+05\n",
       "답기타        1.127795e+05\n",
       "임야기타       7.894902e+04\n",
       "골프장_회원제    7.865823e+04\n",
       "골프장_간이     7.555556e+04\n",
       "양어·양식      6.698758e+04\n",
       "골프장_대중제    6.404204e+04\n",
       "전          6.178015e+04\n",
       "답축사        5.543433e+04\n",
       "과수원        5.174956e+04\n",
       "답          4.283567e+04\n",
       "스키장        3.618750e+04\n",
       "공원묘지       3.137333e+04\n",
       "토지임야       2.868827e+04\n",
       "목장용지       2.810570e+04\n",
       "태양광        2.782354e+04\n",
       "염전         1.923939e+04\n",
       "자연림        1.203985e+04\n",
       "광업용지       9.643333e+03\n",
       "조림         5.584575e+03\n",
       "Name: 공시지가, dtype: float64"
      ]
     },
     "execution_count": 10,
     "metadata": {},
     "output_type": "execute_result"
    }
   ],
   "source": [
    "df.groupby('이용상황')['공시지가'].mean().sort_values(ascending=False)"
   ]
  },
  {
   "cell_type": "code",
   "execution_count": 20,
   "metadata": {},
   "outputs": [
    {
     "data": {
      "image/png": "[encoded data removed]",
      "text/plain": [
       "<Figure size 1400x500 with 1 Axes>"
      ]
     },
     "metadata": {},
     "output_type": "display_data"
    }
   ],
   "source": [
    "plt.figure(figsize=(14,5))\n",
    "sns.barplot(x='이용상황', y='공시지가', data=df)\n",
    "plt.xticks(rotation=90)\n",
    "plt.title('이용상황별 공시지가 평균')\n",
    "plt.show()"
   ]
  },
  {
   "cell_type": "code",
   "execution_count": null,
   "metadata": {},
   "outputs": [
    {
     "data": {
      "text/html": [
       "<div>\n",
       "<style scoped>\n",
       "    .dataframe tbody tr th:only-of-type {\n",
       "        vertical-align: middle;\n",
       "    }\n",
       "\n",
       "    .dataframe tbody tr th {\n",
       "        vertical-align: top;\n",
       "    }\n",
       "\n",
       "    .dataframe thead th {\n",
       "        text-align: right;\n",
       "    }\n",
       "</style>\n",
       "<table border=\"1\" class=\"dataframe\">\n",
       "  <thead>\n",
       "    <tr style=\"text-align: right;\">\n",
       "      <th></th>\n",
       "      <th>시도명</th>\n",
       "      <th>시군구명</th>\n",
       "      <th>소재지</th>\n",
       "      <th>지목</th>\n",
       "      <th>면적</th>\n",
       "      <th>용도지역1</th>\n",
       "      <th>용도지역2</th>\n",
       "      <th>이용상황</th>\n",
       "      <th>주위환경</th>\n",
       "      <th>지세명</th>\n",
       "      <th>형상명</th>\n",
       "      <th>도로교통</th>\n",
       "      <th>공시지가</th>\n",
       "      <th>지리적위치1</th>\n",
       "      <th>지리적위치2</th>\n",
       "      <th>방위</th>\n",
       "    </tr>\n",
       "  </thead>\n",
       "  <tbody>\n",
       "    <tr>\n",
       "      <th>10</th>\n",
       "      <td>서울특별시</td>\n",
       "      <td>종로구</td>\n",
       "      <td>청운동 39-3</td>\n",
       "      <td>대</td>\n",
       "      <td>138.2</td>\n",
       "      <td>제1종일반주거지역</td>\n",
       "      <td>NaN</td>\n",
       "      <td>상업기타</td>\n",
       "      <td>노선 상가지대</td>\n",
       "      <td>평지</td>\n",
       "      <td>사다리형</td>\n",
       "      <td>광대세각</td>\n",
       "      <td>6480000</td>\n",
       "      <td>경기상고</td>\n",
       "      <td>서측 인근</td>\n",
       "      <td>NaN</td>\n",
       "    </tr>\n",
       "    <tr>\n",
       "      <th>11</th>\n",
       "      <td>서울특별시</td>\n",
       "      <td>종로구</td>\n",
       "      <td>청운동 50-31</td>\n",
       "      <td>대</td>\n",
       "      <td>380.0</td>\n",
       "      <td>제2종일반주거지역</td>\n",
       "      <td>NaN</td>\n",
       "      <td>상업용</td>\n",
       "      <td>노선 상가지대</td>\n",
       "      <td>평지</td>\n",
       "      <td>사다리형</td>\n",
       "      <td>광대한면</td>\n",
       "      <td>6785000</td>\n",
       "      <td>경복고교</td>\n",
       "      <td>서측인근</td>\n",
       "      <td>NaN</td>\n",
       "    </tr>\n",
       "    <tr>\n",
       "      <th>28</th>\n",
       "      <td>서울특별시</td>\n",
       "      <td>종로구</td>\n",
       "      <td>청운동 114-1</td>\n",
       "      <td>대</td>\n",
       "      <td>165.7</td>\n",
       "      <td>제2종일반주거지역</td>\n",
       "      <td>NaN</td>\n",
       "      <td>업무용</td>\n",
       "      <td>노선 상가지대</td>\n",
       "      <td>평지</td>\n",
       "      <td>사다리형</td>\n",
       "      <td>광대세각</td>\n",
       "      <td>7350000</td>\n",
       "      <td>경기상고</td>\n",
       "      <td>남측인근</td>\n",
       "      <td>NaN</td>\n",
       "    </tr>\n",
       "    <tr>\n",
       "      <th>29</th>\n",
       "      <td>서울특별시</td>\n",
       "      <td>종로구</td>\n",
       "      <td>청운동 131</td>\n",
       "      <td>대</td>\n",
       "      <td>144.4</td>\n",
       "      <td>제2종일반주거지역</td>\n",
       "      <td>NaN</td>\n",
       "      <td>상업용</td>\n",
       "      <td>노선 상가지대</td>\n",
       "      <td>평지</td>\n",
       "      <td>사다리형</td>\n",
       "      <td>광대한면</td>\n",
       "      <td>7345000</td>\n",
       "      <td>청운초등학교</td>\n",
       "      <td>남측인근</td>\n",
       "      <td>NaN</td>\n",
       "    </tr>\n",
       "    <tr>\n",
       "      <th>40</th>\n",
       "      <td>서울특별시</td>\n",
       "      <td>종로구</td>\n",
       "      <td>신교동 31</td>\n",
       "      <td>대</td>\n",
       "      <td>141.5</td>\n",
       "      <td>제2종일반주거지역</td>\n",
       "      <td>NaN</td>\n",
       "      <td>상업용</td>\n",
       "      <td>주택 및 상가혼용지대</td>\n",
       "      <td>평지</td>\n",
       "      <td>사다리형</td>\n",
       "      <td>중로각지</td>\n",
       "      <td>6070000</td>\n",
       "      <td>서울맹학교</td>\n",
       "      <td>남동측인근</td>\n",
       "      <td>NaN</td>\n",
       "    </tr>\n",
       "  </tbody>\n",
       "</table>\n",
       "</div>"
      ],
      "text/plain": [
       "      시도명 시군구명        소재지 지목     면적      용도지역1 용도지역2  이용상황         주위환경 지세명   \n",
       "10  서울특별시  종로구   청운동 39-3  대  138.2  제1종일반주거지역   NaN  상업기타      노선 상가지대  평지  \\\n",
       "11  서울특별시  종로구  청운동 50-31  대  380.0  제2종일반주거지역   NaN   상업용      노선 상가지대  평지   \n",
       "28  서울특별시  종로구  청운동 114-1  대  165.7  제2종일반주거지역   NaN   업무용      노선 상가지대  평지   \n",
       "29  서울특별시  종로구    청운동 131  대  144.4  제2종일반주거지역   NaN   상업용      노선 상가지대  평지   \n",
       "40  서울특별시  종로구     신교동 31  대  141.5  제2종일반주거지역   NaN   상업용  주택 및 상가혼용지대  평지   \n",
       "\n",
       "     형상명  도로교통     공시지가  지리적위치1 지리적위치2   방위  \n",
       "10  사다리형  광대세각  6480000    경기상고  서측 인근  NaN  \n",
       "11  사다리형  광대한면  6785000    경복고교   서측인근  NaN  \n",
       "28  사다리형  광대세각  7350000    경기상고   남측인근  NaN  \n",
       "29  사다리형  광대한면  7345000  청운초등학교   남측인근  NaN  \n",
       "40  사다리형  중로각지  6070000   서울맹학교  남동측인근  NaN  "
      ]
     },
     "execution_count": 5,
     "metadata": {},
     "output_type": "execute_result"
    }
   ],
   "source": [
    "residential = df[df['이용상황'].str.contains('주택|다세대|아파트|주상')]\n",
    "residential.head()\n",
    "commercial = df[df['이용상황'].str.contains('주상|상업|업무')]\n",
    "commercial.head()"
   ]
  },
  {
   "cell_type": "code",
   "execution_count": 30,
   "metadata": {},
   "outputs": [],
   "source": [
    "# # fig.add_trace(go.Pie(labels=df['도로교통'].unique(), values=df['도로교통'].value_counts()), row=2, col=1)\n",
    "# # fig.add_trace(go.Pie(labels=df['방위'].unique(), values=df['방위'].value_counts()), row=2, col=2)\n",
    "\n",
    "# # Create subplots: use 'domain' type for Pie subplot\n",
    "# fig = make_subplots(rows=1, cols=2, specs=[[{'type':'domain'}, {'type':'domain'}]])\n",
    "# fig.add_trace(go.Pie(labels=df['지세명'].unique(), values=df['지세명'].value_counts(), name=\"지세명\", hole=0.4, pull=[0,0,0.2]),\n",
    "#               1, 1)\n",
    "# fig.add_trace(go.Pie(labels=df['형상명'].unique(), values=df['형상명'].value_counts(), name=\"형상명\", hole=0.4, pull=[0,0,0,0.2]),\n",
    "#               1, 2)\n",
    "\n",
    "# fig.update_layout(\n",
    "#         title={\n",
    "#         'text': \"지세명과 형상명의 분포\",\n",
    "#         'y': 0.95,\n",
    "#         'x': 0.5,\n",
    "#         'xanchor': 'center',\n",
    "#         'yanchor': 'top',\n",
    "#         'font': {'size': 35}\n",
    "#     },\n",
    "#     # Add annotations in the center of the donut pies.\n",
    "#     annotations=[dict(text='지세명', x=0.19, y=0.5, font_size=20, showarrow=False),\n",
    "#                  dict(text='형상명', x=0.81, y=0.5, font_size=20, showarrow=False)])\n",
    "# fig.show()\n"
   ]
  },
  {
   "cell_type": "code",
   "execution_count": 97,
   "metadata": {},
   "outputs": [
    {
     "data": {
      "application/vnd.plotly.v1+json": {
       "config": {
        "plotlyServerURL": "https://plot.ly"
       },
       "data": [
        {
         "domain": {
          "x": [
           0,
           0.45
          ],
          "y": [
           0.575,
           1
          ]
         },
         "hole": 0.4,
         "labels": [
          "급경사지",
          "완경사지",
          "평지",
          "고지",
          "저지"
         ],
         "name": "지세명",
         "pull": [
          0,
          0,
          0.2
         ],
         "type": "pie",
         "values": [
          329611,
          176510,
          31013,
          1795,
          1121
         ]
        },
        {
         "domain": {
          "x": [
           0.55,
           1
          ],
          "y": [
           0.575,
           1
          ]
         },
         "hole": 0.4,
         "labels": [
          "부정형",
          "사다리형",
          "세로장방형",
          "정방형",
          "가로장방형",
          "자루형"
         ],
         "name": "형상명",
         "pull": [
          0,
          0,
          0,
          0.2
         ],
         "type": "pie",
         "values": [
          220579,
          173913,
          86344,
          30995,
          25325,
          2894
         ]
        },
        {
         "domain": {
          "x": [
           0,
           0.45
          ],
          "y": [
           0,
           0.425
          ]
         },
         "hole": 0.4,
         "labels": [
          "세로(불)",
          "맹지",
          "세로(가)",
          "소로각지",
          "광대세각",
          "광대한면",
          "세각(가)",
          "중로한면",
          "중로각지",
          "소로한면",
          "세각(불)",
          "광대소각"
         ],
         "name": "도로교통",
         "pull": [
          0,
          0,
          0,
          0,
          0.2
         ],
         "type": "pie",
         "values": [
          181224,
          98996,
          93371,
          58918,
          24490,
          21468,
          20495,
          15224,
          10625,
          8220,
          3660,
          3359
         ]
        },
        {
         "domain": {
          "x": [
           0.55,
           1
          ],
          "y": [
           0,
           0.425
          ]
         },
         "hole": 0.4,
         "labels": [
          null,
          "남향",
          "북동향",
          "남서향",
          "남동향",
          "서향",
          "북향",
          "동향",
          "북서향"
         ],
         "name": "방위",
         "type": "pie",
         "values": [
          39611,
          30331,
          29876,
          27840,
          26509,
          20082,
          17363,
          16169
         ]
        }
       ],
       "layout": {
        "annotations": [
         {
          "font": {
           "size": 20
          },
          "showarrow": false,
          "text": "지세명",
          "x": 0.19,
          "y": 0.8
         },
         {
          "font": {
           "size": 20
          },
          "showarrow": false,
          "text": "형상명",
          "x": 0.81,
          "y": 0.8
         },
         {
          "font": {
           "size": 20
          },
          "showarrow": false,
          "text": "도로교통",
          "x": 0.17,
          "y": 0.19
         },
         {
          "font": {
           "size": 20
          },
          "showarrow": false,
          "text": "방위",
          "x": 0.8,
          "y": 0.19
         }
        ],
        "height": 600,
        "margin": {
         "b": 0,
         "l": 100,
         "r": 10,
         "t": 0
        },
        "template": {
         "data": {
          "bar": [
           {
            "error_x": {
             "color": "#2a3f5f"
            },
            "error_y": {
             "color": "#2a3f5f"
            },
            "marker": {
             "line": {
              "color": "#E5ECF6",
              "width": 0.5
             },
             "pattern": {
              "fillmode": "overlay",
              "size": 10,
              "solidity": 0.2
             }
            },
            "type": "bar"
           }
          ],
          "barpolar": [
           {
            "marker": {
             "line": {
              "color": "#E5ECF6",
              "width": 0.5
             },
             "pattern": {
              "fillmode": "overlay",
              "size": 10,
              "solidity": 0.2
             }
            },
            "type": "barpolar"
           }
          ],
          "carpet": [
           {
            "aaxis": {
             "endlinecolor": "#2a3f5f",
             "gridcolor": "white",
             "linecolor": "white",
             "minorgridcolor": "white",
             "startlinecolor": "#2a3f5f"
            },
            "baxis": {
             "endlinecolor": "#2a3f5f",
             "gridcolor": "white",
             "linecolor": "white",
             "minorgridcolor": "white",
             "startlinecolor": "#2a3f5f"
            },
            "type": "carpet"
           }
          ],
          "choropleth": [
           {
            "colorbar": {
             "outlinewidth": 0,
             "ticks": ""
            },
            "type": "choropleth"
           }
          ],
          "contour": [
           {
            "colorbar": {
             "outlinewidth": 0,
             "ticks": ""
            },
            "colorscale": [
             [
              0,
              "#0d0887"
             ],
             [
              0.1111111111111111,
              "#46039f"
             ],
             [
              0.2222222222222222,
              "#7201a8"
             ],
             [
              0.3333333333333333,
              "#9c179e"
             ],
             [
              0.4444444444444444,
              "#bd3786"
             ],
             [
              0.5555555555555556,
              "#d8576b"
             ],
             [
              0.6666666666666666,
              "#ed7953"
             ],
             [
              0.7777777777777778,
              "#fb9f3a"
             ],
             [
              0.8888888888888888,
              "#fdca26"
             ],
             [
              1,
              "#f0f921"
             ]
            ],
            "type": "contour"
           }
          ],
          "contourcarpet": [
           {
            "colorbar": {
             "outlinewidth": 0,
             "ticks": ""
            },
            "type": "contourcarpet"
           }
          ],
          "heatmap": [
           {
            "colorbar": {
             "outlinewidth": 0,
             "ticks": ""
            },
            "colorscale": [
             [
              0,
              "#0d0887"
             ],
             [
              0.1111111111111111,
              "#46039f"
             ],
             [
              0.2222222222222222,
              "#7201a8"
             ],
             [
              0.3333333333333333,
              "#9c179e"
             ],
             [
              0.4444444444444444,
              "#bd3786"
             ],
             [
              0.5555555555555556,
              "#d8576b"
             ],
             [
              0.6666666666666666,
              "#ed7953"
             ],
             [
              0.7777777777777778,
              "#fb9f3a"
             ],
             [
              0.8888888888888888,
              "#fdca26"
             ],
             [
              1,
              "#f0f921"
             ]
            ],
            "type": "heatmap"
           }
          ],
          "heatmapgl": [
           {
            "colorbar": {
             "outlinewidth": 0,
             "ticks": ""
            },
            "colorscale": [
             [
              0,
              "#0d0887"
             ],
             [
              0.1111111111111111,
              "#46039f"
             ],
             [
              0.2222222222222222,
              "#7201a8"
             ],
             [
              0.3333333333333333,
              "#9c179e"
             ],
             [
              0.4444444444444444,
              "#bd3786"
             ],
             [
              0.5555555555555556,
              "#d8576b"
             ],
             [
              0.6666666666666666,
              "#ed7953"
             ],
             [
              0.7777777777777778,
              "#fb9f3a"
             ],
             [
              0.8888888888888888,
              "#fdca26"
             ],
             [
              1,
              "#f0f921"
             ]
            ],
            "type": "heatmapgl"
           }
          ],
          "histogram": [
           {
            "marker": {
             "pattern": {
              "fillmode": "overlay",
              "size": 10,
              "solidity": 0.2
             }
            },
            "type": "histogram"
           }
          ],
          "histogram2d": [
           {
            "colorbar": {
             "outlinewidth": 0,
             "ticks": ""
            },
            "colorscale": [
             [
              0,
              "#0d0887"
             ],
             [
              0.1111111111111111,
              "#46039f"
             ],
             [
              0.2222222222222222,
              "#7201a8"
             ],
             [
              0.3333333333333333,
              "#9c179e"
             ],
             [
              0.4444444444444444,
              "#bd3786"
             ],
             [
              0.5555555555555556,
              "#d8576b"
             ],
             [
              0.6666666666666666,
              "#ed7953"
             ],
             [
              0.7777777777777778,
              "#fb9f3a"
             ],
             [
              0.8888888888888888,
              "#fdca26"
             ],
             [
              1,
              "#f0f921"
             ]
            ],
            "type": "histogram2d"
           }
          ],
          "histogram2dcontour": [
           {
            "colorbar": {
             "outlinewidth": 0,
             "ticks": ""
            },
            "colorscale": [
             [
              0,
              "#0d0887"
             ],
             [
              0.1111111111111111,
              "#46039f"
             ],
             [
              0.2222222222222222,
              "#7201a8"
             ],
             [
              0.3333333333333333,
              "#9c179e"
             ],
             [
              0.4444444444444444,
              "#bd3786"
             ],
             [
              0.5555555555555556,
              "#d8576b"
             ],
             [
              0.6666666666666666,
              "#ed7953"
             ],
             [
              0.7777777777777778,
              "#fb9f3a"
             ],
             [
              0.8888888888888888,
              "#fdca26"
             ],
             [
              1,
              "#f0f921"
             ]
            ],
            "type": "histogram2dcontour"
           }
          ],
          "mesh3d": [
           {
            "colorbar": {
             "outlinewidth": 0,
             "ticks": ""
            },
            "type": "mesh3d"
           }
          ],
          "parcoords": [
           {
            "line": {
             "colorbar": {
              "outlinewidth": 0,
              "ticks": ""
             }
            },
            "type": "parcoords"
           }
          ],
          "pie": [
           {
            "automargin": true,
            "type": "pie"
           }
          ],
          "scatter": [
           {
            "fillpattern": {
             "fillmode": "overlay",
             "size": 10,
             "solidity": 0.2
            },
            "type": "scatter"
           }
          ],
          "scatter3d": [
           {
            "line": {
             "colorbar": {
              "outlinewidth": 0,
              "ticks": ""
             }
            },
            "marker": {
             "colorbar": {
              "outlinewidth": 0,
              "ticks": ""
             }
            },
            "type": "scatter3d"
           }
          ],
          "scattercarpet": [
           {
            "marker": {
             "colorbar": {
              "outlinewidth": 0,
              "ticks": ""
             }
            },
            "type": "scattercarpet"
           }
          ],
          "scattergeo": [
           {
            "marker": {
             "colorbar": {
              "outlinewidth": 0,
              "ticks": ""
             }
            },
            "type": "scattergeo"
           }
          ],
          "scattergl": [
           {
            "marker": {
             "colorbar": {
              "outlinewidth": 0,
              "ticks": ""
             }
            },
            "type": "scattergl"
           }
          ],
          "scattermapbox": [
           {
            "marker": {
             "colorbar": {
              "outlinewidth": 0,
              "ticks": ""
             }
            },
            "type": "scattermapbox"
           }
          ],
          "scatterpolar": [
           {
            "marker": {
             "colorbar": {
              "outlinewidth": 0,
              "ticks": ""
             }
            },
            "type": "scatterpolar"
           }
          ],
          "scatterpolargl": [
           {
            "marker": {
             "colorbar": {
              "outlinewidth": 0,
              "ticks": ""
             }
            },
            "type": "scatterpolargl"
           }
          ],
          "scatterternary": [
           {
            "marker": {
             "colorbar": {
              "outlinewidth": 0,
              "ticks": ""
             }
            },
            "type": "scatterternary"
           }
          ],
          "surface": [
           {
            "colorbar": {
             "outlinewidth": 0,
             "ticks": ""
            },
            "colorscale": [
             [
              0,
              "#0d0887"
             ],
             [
              0.1111111111111111,
              "#46039f"
             ],
             [
              0.2222222222222222,
              "#7201a8"
             ],
             [
              0.3333333333333333,
              "#9c179e"
             ],
             [
              0.4444444444444444,
              "#bd3786"
             ],
             [
              0.5555555555555556,
              "#d8576b"
             ],
             [
              0.6666666666666666,
              "#ed7953"
             ],
             [
              0.7777777777777778,
              "#fb9f3a"
             ],
             [
              0.8888888888888888,
              "#fdca26"
             ],
             [
              1,
              "#f0f921"
             ]
            ],
            "type": "surface"
           }
          ],
          "table": [
           {
            "cells": {
             "fill": {
              "color": "#EBF0F8"
             },
             "line": {
              "color": "white"
             }
            },
            "header": {
             "fill": {
              "color": "#C8D4E3"
             },
             "line": {
              "color": "white"
             }
            },
            "type": "table"
           }
          ]
         },
         "layout": {
          "annotationdefaults": {
           "arrowcolor": "#2a3f5f",
           "arrowhead": 0,
           "arrowwidth": 1
          },
          "autotypenumbers": "strict",
          "coloraxis": {
           "colorbar": {
            "outlinewidth": 0,
            "ticks": ""
           }
          },
          "colorscale": {
           "diverging": [
            [
             0,
             "#8e0152"
            ],
            [
             0.1,
             "#c51b7d"
            ],
            [
             0.2,
             "#de77ae"
            ],
            [
             0.3,
             "#f1b6da"
            ],
            [
             0.4,
             "#fde0ef"
            ],
            [
             0.5,
             "#f7f7f7"
            ],
            [
             0.6,
             "#e6f5d0"
            ],
            [
             0.7,
             "#b8e186"
            ],
            [
             0.8,
             "#7fbc41"
            ],
            [
             0.9,
             "#4d9221"
            ],
            [
             1,
             "#276419"
            ]
           ],
           "sequential": [
            [
             0,
             "#0d0887"
            ],
            [
             0.1111111111111111,
             "#46039f"
            ],
            [
             0.2222222222222222,
             "#7201a8"
            ],
            [
             0.3333333333333333,
             "#9c179e"
            ],
            [
             0.4444444444444444,
             "#bd3786"
            ],
            [
             0.5555555555555556,
             "#d8576b"
            ],
            [
             0.6666666666666666,
             "#ed7953"
            ],
            [
             0.7777777777777778,
             "#fb9f3a"
            ],
            [
             0.8888888888888888,
             "#fdca26"
            ],
            [
             1,
             "#f0f921"
            ]
           ],
           "sequentialminus": [
            [
             0,
             "#0d0887"
            ],
            [
             0.1111111111111111,
             "#46039f"
            ],
            [
             0.2222222222222222,
             "#7201a8"
            ],
            [
             0.3333333333333333,
             "#9c179e"
            ],
            [
             0.4444444444444444,
             "#bd3786"
            ],
            [
             0.5555555555555556,
             "#d8576b"
            ],
            [
             0.6666666666666666,
             "#ed7953"
            ],
            [
             0.7777777777777778,
             "#fb9f3a"
            ],
            [
             0.8888888888888888,
             "#fdca26"
            ],
            [
             1,
             "#f0f921"
            ]
           ]
          },
          "colorway": [
           "#636efa",
           "#EF553B",
           "#00cc96",
           "#ab63fa",
           "#FFA15A",
           "#19d3f3",
           "#FF6692",
           "#B6E880",
           "#FF97FF",
           "#FECB52"
          ],
          "font": {
           "color": "#2a3f5f"
          },
          "geo": {
           "bgcolor": "white",
           "lakecolor": "white",
           "landcolor": "#E5ECF6",
           "showlakes": true,
           "showland": true,
           "subunitcolor": "white"
          },
          "hoverlabel": {
           "align": "left"
          },
          "hovermode": "closest",
          "mapbox": {
           "style": "light"
          },
          "paper_bgcolor": "white",
          "plot_bgcolor": "#E5ECF6",
          "polar": {
           "angularaxis": {
            "gridcolor": "white",
            "linecolor": "white",
            "ticks": ""
           },
           "bgcolor": "#E5ECF6",
           "radialaxis": {
            "gridcolor": "white",
            "linecolor": "white",
            "ticks": ""
           }
          },
          "scene": {
           "xaxis": {
            "backgroundcolor": "#E5ECF6",
            "gridcolor": "white",
            "gridwidth": 2,
            "linecolor": "white",
            "showbackground": true,
            "ticks": "",
            "zerolinecolor": "white"
           },
           "yaxis": {
            "backgroundcolor": "#E5ECF6",
            "gridcolor": "white",
            "gridwidth": 2,
            "linecolor": "white",
            "showbackground": true,
            "ticks": "",
            "zerolinecolor": "white"
           },
           "zaxis": {
            "backgroundcolor": "#E5ECF6",
            "gridcolor": "white",
            "gridwidth": 2,
            "linecolor": "white",
            "showbackground": true,
            "ticks": "",
            "zerolinecolor": "white"
           }
          },
          "shapedefaults": {
           "line": {
            "color": "#2a3f5f"
           }
          },
          "ternary": {
           "aaxis": {
            "gridcolor": "white",
            "linecolor": "white",
            "ticks": ""
           },
           "baxis": {
            "gridcolor": "white",
            "linecolor": "white",
            "ticks": ""
           },
           "bgcolor": "#E5ECF6",
           "caxis": {
            "gridcolor": "white",
            "linecolor": "white",
            "ticks": ""
           }
          },
          "title": {
           "x": 0.05
          },
          "xaxis": {
           "automargin": true,
           "gridcolor": "white",
           "linecolor": "white",
           "ticks": "",
           "title": {
            "standoff": 15
           },
           "zerolinecolor": "white",
           "zerolinewidth": 2
          },
          "yaxis": {
           "automargin": true,
           "gridcolor": "white",
           "linecolor": "white",
           "ticks": "",
           "title": {
            "standoff": 15
           },
           "zerolinecolor": "white",
           "zerolinewidth": 2
          }
         }
        },
        "title": {
         "font": {
          "size": 35
         },
         "text": "조건별 분포",
         "x": 0.5,
         "xanchor": "center",
         "y": 0.55,
         "yanchor": "top"
        },
        "width": 1000
       }
      }
     },
     "metadata": {},
     "output_type": "display_data"
    }
   ],
   "source": [
    "# Create subplots: use 'domain' type for Pie subplot\n",
    "fig = make_subplots(rows=2, cols=2, specs=[[{'type':'domain'}, {'type':'domain'}], [{'type':'domain'}, {'type':'domain'}]])\n",
    "fig.add_trace(go.Pie(labels=df['지세명'].unique(), values=df['지세명'].value_counts(), name=\"지세명\", hole=0.4, pull=[0,0,0.2]),\n",
    "              1, 1)\n",
    "fig.add_trace(go.Pie(labels=df['형상명'].unique(), values=df['형상명'].value_counts(), name=\"형상명\", hole=0.4, pull=[0,0,0,0.2]),\n",
    "              1, 2)\n",
    "fig.add_trace(go.Pie(labels=df['도로교통'].unique(), values=df['도로교통'].value_counts(), name=\"도로교통\", hole=0.4, pull=[0,0,0,0,0.2]),\n",
    "              2, 1)\n",
    "fig.add_trace(go.Pie(labels=df['방위'].unique(), values=df['방위'].value_counts(), name=\"방위\", hole=0.4),\n",
    "              2, 2)\n",
    "\n",
    "fig.update_layout(\n",
    "        title={\n",
    "        'text': \"조건별 분포\",\n",
    "        'y': 0.55,\n",
    "        'x': 0.5,\n",
    "        'xanchor': 'center',\n",
    "        'yanchor': 'top',\n",
    "        'font': {'size': 35}\n",
    "    },\n",
    "    # Add annotations in the center of the donut pies.\n",
    "    annotations=[dict(text='지세명', x=0.19, y=0.8, font_size=20, showarrow=False),\n",
    "                 dict(text='형상명', x=0.81, y=0.8, font_size=20, showarrow=False),\n",
    "                 dict(text='도로교통', x=0.17, y=0.19, font_size=20, showarrow=False),\n",
    "                 dict(text='방위', x=0.8, y=0.19, font_size=20, showarrow=False)])\n",
    "fig.update_layout(\n",
    "    height=600,  # 그래프 전체 높이 조정\n",
    "    width=1000,  # 그래프 전체 너비 조정\n",
    "    margin=dict(l=100, r=10, t=0, b=0),  # 그래프 여백 조정\n",
    ")\n",
    "\n",
    "fig.show()"
   ]
  },
  {
   "cell_type": "code",
   "execution_count": 207,
   "metadata": {},
   "outputs": [
    {
     "data": {
      "image/png": "[encoded data removed]",
      "text/plain": [
       "<Figure size 640x480 with 1 Axes>"
      ]
     },
     "metadata": {},
     "output_type": "display_data"
    }
   ],
   "source": [
    "plt.figure()\n",
    "jise = df.groupby('지세명')['공시지가'].mean().sort_values(ascending=False).reset_index()\n",
    "sns.barplot(x=jise['지세명'], y=jise['공시지가'])\n",
    "plt.show()"
   ]
  },
  {
   "cell_type": "code",
   "execution_count": 250,
   "metadata": {},
   "outputs": [],
   "source": [
    "# # Tukey's fences를 사용하여 이상치 제거\n",
    "# Q1 = df['공시지가'].quantile(0.25)\n",
    "# Q3 = df['공시지가'].quantile(0.75)\n",
    "# IQR = Q3 - Q1\n",
    "# lower_fence = Q1 - 1.5 * IQR\n",
    "# upper_fence = Q3 + 1.5 * IQR\n",
    "# df = df[(df['공시지가'] >= lower_fence) & (df['공시지가'] <= upper_fence)]\n",
    "\n",
    "# # 그래프 그리기\n",
    "# fig = px.box(df, x='지세명', y='공시지가', color='지세명')\n",
    "\n",
    "# fig.update_layout(title='지세명에 따른 공시지가', xaxis_title='지세명', yaxis_title='공시지가')\n",
    "\n",
    "# fig.show()\n"
   ]
  },
  {
   "cell_type": "code",
   "execution_count": 254,
   "metadata": {},
   "outputs": [
    {
     "data": {
      "text/html": [
       "<div>\n",
       "<style scoped>\n",
       "    .dataframe tbody tr th:only-of-type {\n",
       "        vertical-align: middle;\n",
       "    }\n",
       "\n",
       "    .dataframe tbody tr th {\n",
       "        vertical-align: top;\n",
       "    }\n",
       "\n",
       "    .dataframe thead th {\n",
       "        text-align: right;\n",
       "    }\n",
       "</style>\n",
       "<table border=\"1\" class=\"dataframe\">\n",
       "  <thead>\n",
       "    <tr style=\"text-align: right;\">\n",
       "      <th></th>\n",
       "      <th>시도명</th>\n",
       "      <th>시군구명</th>\n",
       "      <th>소재지</th>\n",
       "      <th>지목</th>\n",
       "      <th>면적</th>\n",
       "      <th>용도지역1</th>\n",
       "      <th>용도지역2</th>\n",
       "      <th>이용상황</th>\n",
       "      <th>주위환경</th>\n",
       "      <th>지세명</th>\n",
       "      <th>형상명</th>\n",
       "      <th>도로교통</th>\n",
       "      <th>공시지가</th>\n",
       "      <th>지리적위치1</th>\n",
       "      <th>지리적위치2</th>\n",
       "      <th>방위</th>\n",
       "    </tr>\n",
       "  </thead>\n",
       "  <tbody>\n",
       "    <tr>\n",
       "      <th>161680</th>\n",
       "      <td>경기도</td>\n",
       "      <td>여주시</td>\n",
       "      <td>흥천면 율극리 133</td>\n",
       "      <td>답</td>\n",
       "      <td>1987.0</td>\n",
       "      <td>농림지역</td>\n",
       "      <td>NaN</td>\n",
       "      <td>답</td>\n",
       "      <td>순수 농경지대</td>\n",
       "      <td>평지</td>\n",
       "      <td>사다리형</td>\n",
       "      <td>세로(가)</td>\n",
       "      <td>30000</td>\n",
       "      <td>은골마을</td>\n",
       "      <td>북서측 근거리</td>\n",
       "      <td>NaN</td>\n",
       "    </tr>\n",
       "  </tbody>\n",
       "</table>\n",
       "</div>"
      ],
      "text/plain": [
       "        시도명 시군구명          소재지 지목      면적 용도지역1 용도지역2 이용상황     주위환경 지세명   형상명   \n",
       "161680  경기도  여주시  흥천면 율극리 133  답  1987.0  농림지역   NaN    답  순수 농경지대  평지  사다리형  \\\n",
       "\n",
       "         도로교통   공시지가 지리적위치1   지리적위치2   방위  \n",
       "161680  세로(가)  30000   은골마을  북서측 근거리  NaN  "
      ]
     },
     "execution_count": 254,
     "metadata": {},
     "output_type": "execute_result"
    }
   ],
   "source": [
    "df.sample()"
   ]
  },
  {
   "cell_type": "code",
   "execution_count": 31,
   "metadata": {},
   "outputs": [
    {
     "data": {
      "image/png": "[encoded data removed]",
      "text/plain": [
       "<Figure size 1600x1000 with 4 Axes>"
      ]
     },
     "metadata": {},
     "output_type": "display_data"
    }
   ],
   "source": [
    "fig, axes = plt.subplots(2, 2, figsize=(16, 10))\n",
    "lst = ['지세명', '형상명', '도로교통', '방위']\n",
    "for i, ax in enumerate(axes.flatten()):\n",
    "    sns.boxplot(data=df, x=lst[i], y='공시지가', showfliers=False, ax=ax)\n",
    "    ax.set_xticklabels(ax.get_xticklabels(), rotation=45)\n",
    "plt.tight_layout()\n",
    "plt.show()"
   ]
  },
  {
   "cell_type": "code",
   "execution_count": 228,
   "metadata": {},
   "outputs": [
    {
     "data": {
      "application/vnd.plotly.v1+json": {
       "config": {
        "plotlyServerURL": "https://plot.ly"
       },
       "data": [
        {
         "hovertemplate": "continent=Asia<br>year=1952<br>gdpPercap=%{x}<br>lifeExp=%{y}<br>pop=%{marker.size}<extra></extra>",
         "legendgroup": "Asia",
         "marker": {
          "color": "#636efa",
          "size": [
           8425333,
           120447,
           46886859,
           4693836,
           556263527,
           2125900,
           372000000,
           82052000,
           17272000,
           5441766,
           1620914,
           86459025,
           607914,
           8865488,
           20947571,
           160000,
           1439529,
           6748378,
           800663,
           20092996,
           9182536,
           507833,
           41346560,
           22438691,
           4005677,
           1127000,
           7982342,
           3661549,
           8550362,
           21289402,
           26246839,
           1030585,
           4963829
          ],
          "sizemode": "area",
          "sizeref": 3296707.74,
          "symbol": "circle"
         },
         "mode": "markers",
         "name": "Asia",
         "showlegend": true,
         "type": "scattergl",
         "x": [
          779.4453145,
          9867.084765,
          684.2441716,
          368.4692856,
          400.448611,
          3054.421209,
          546.5657493,
          749.6816546,
          3035.326002,
          4129.766056,
          4086.522128,
          3216.956347,
          1546.907807,
          1088.277758,
          1030.592226,
          108382.3529,
          4834.804067,
          1831.132894,
          786.5668575,
          331,
          545.8657228999998,
          1828.230307,
          684.5971437999998,
          1272.880995,
          6459.554823,
          2315.138227,
          1083.53203,
          1643.485354,
          1206.947913,
          757.7974177,
          605.0664917,
          1515.5923289999996,
          781.7175761
         ],
         "xaxis": "x9",
         "y": [
          28.801,
          50.93899999999999,
          37.484,
          39.417,
          44,
          60.96,
          37.37300000000001,
          37.468,
          44.869,
          45.32,
          65.39,
          63.03,
          43.158,
          50.056,
          47.453,
          55.565,
          55.928,
          48.463,
          42.244,
          36.319,
          36.157,
          37.578,
          43.43600000000001,
          47.752,
          39.875,
          60.396,
          57.593,
          45.883,
          58.5,
          50.848,
          40.412,
          43.16,
          32.548
         ],
         "yaxis": "y9"
        },
        {
         "hovertemplate": "continent=Asia<br>year=1957<br>gdpPercap=%{x}<br>lifeExp=%{y}<br>pop=%{marker.size}<extra></extra>",
         "legendgroup": "Asia",
         "marker": {
          "color": "#636efa",
          "size": [
           9240934,
           138655,
           51365468,
           5322536,
           637408000,
           2736300,
           409000000,
           90124000,
           19792000,
           6248643,
           1944401,
           91563009,
           746559,
           9411381,
           22611552,
           212846,
           1647412,
           7739235,
           882134,
           21731844,
           9682338,
           561977,
           46679944,
           26072194,
           4419650,
           1445929,
           9128546,
           4149908,
           10164215,
           25041917,
           28998543,
           1070439,
           5498090
          ],
          "sizemode": "area",
          "sizeref": 3296707.74,
          "symbol": "circle"
         },
         "mode": "markers",
         "name": "Asia",
         "showlegend": false,
         "type": "scattergl",
         "x": [
          820.8530296,
          11635.79945,
          661.6374577,
          434.0383364,
          575.9870009,
          3629.076457,
          590.061996,
          858.9002707000002,
          3290.257643,
          6229.333562,
          5385.278451,
          4317.694365,
          1886.080591,
          1571.134655,
          1487.593537,
          113523.1329,
          6089.786934000002,
          1810.0669920000007,
          912.6626085,
          350,
          597.9363557999999,
          2242.746551,
          747.0835292,
          1547.944844,
          8157.5912480000015,
          2843.104409,
          1072.546602,
          2117.234893,
          1507.86129,
          793.5774147999998,
          676.2854477999998,
          1827.067742,
          804.8304547
         ],
         "xaxis": "x10",
         "y": [
          30.332,
          53.832,
          39.348,
          41.36600000000001,
          50.54896,
          64.75,
          40.249,
          39.918,
          47.181,
          48.437,
          67.84,
          65.5,
          45.669,
          54.081,
          52.681,
          58.033,
          59.489,
          52.102,
          45.24800000000001,
          41.905,
          37.686,
          40.08,
          45.557,
          51.334,
          42.868,
          63.179,
          61.456,
          48.284,
          62.4,
          53.63,
          42.887,
          45.67100000000001,
          33.97
         ],
         "yaxis": "y10"
        },
        {
         "hovertemplate": "continent=Asia<br>year=1962<br>gdpPercap=%{x}<br>lifeExp=%{y}<br>pop=%{marker.size}<extra></extra>",
         "legendgroup": "Asia",
         "marker": {
          "color": "#636efa",
          "size": [
           10267083,
           171863,
           56839289,
           6083619,
           665770000,
           3305200,
           454000000,
           99028000,
           22874000,
           7240260,
           2310904,
           95831757,
           933559,
           10917494,
           26420307,
           358266,
           1886848,
           8906385,
           1010280,
           23634436,
           10332057,
           628164,
           53100671,
           30325264,
           4943029,
           1750200,
           10421936,
           4834621,
           11918938,
           29263397,
           33796140,
           1133134,
           6120081
          ],
          "sizemode": "area",
          "sizeref": 3296707.74,
          "symbol": "circle"
         },
         "mode": "markers",
         "name": "Asia",
         "showlegend": false,
         "type": "scattergl",
         "x": [
          853.1007099999998,
          12753.27514,
          686.3415537999998,
          496.9136476,
          487.6740183,
          4692.648271999999,
          658.3471509,
          849.2897700999998,
          4187.329802,
          8341.737815,
          7105.630706,
          6576.649461,
          2348.009158,
          1621.693598,
          1536.344387,
          95458.11176,
          5714.560611,
          2036.884944,
          1056.353958,
          388,
          652.3968593,
          2924.638113,
          803.3427418,
          1649.552153,
          11626.41975,
          3674.735572,
          1074.47196,
          2193.037133,
          1822.879028,
          1002.199172,
          772.0491602000002,
          2198.9563120000007,
          825.6232006
         ],
         "xaxis": "x11",
         "y": [
          31.997,
          56.923,
          41.216,
          43.415,
          44.50136,
          67.65,
          43.605,
          42.518,
          49.325,
          51.457,
          69.39,
          68.73,
          48.12600000000001,
          56.65600000000001,
          55.292,
          60.47,
          62.094,
          55.737,
          48.25100000000001,
          45.108,
          39.393,
          43.165,
          47.67,
          54.757,
          45.914,
          65.798,
          62.192,
          50.305,
          65.2,
          56.06100000000001,
          45.363,
          48.127,
          35.18
         ],
         "yaxis": "y11"
        },
        {
         "hovertemplate": "continent=Asia<br>year=1967<br>gdpPercap=%{x}<br>lifeExp=%{y}<br>pop=%{marker.size}<extra></extra>",
         "legendgroup": "Asia",
         "marker": {
          "color": "#636efa",
          "size": [
           11537966,
           202182,
           62821884,
           6960067,
           754550000,
           3722800,
           506000000,
           109343000,
           26538000,
           8519282,
           2693585,
           100825279,
           1255058,
           12617009,
           30131000,
           575003,
           2186894,
           10154878,
           1149500,
           25870271,
           11261690,
           714775,
           60641899,
           35356600,
           5618198,
           1977600,
           11737396,
           5680812,
           13648692,
           34024249,
           39463910,
           1142636,
           6740785
          ],
          "sizemode": "area",
          "sizeref": 3296707.74,
          "symbol": "circle"
         },
         "mode": "markers",
         "name": "Asia",
         "showlegend": false,
         "type": "scattergl",
         "x": [
          836.1971382,
          14804.6727,
          721.1860862000002,
          523.4323142,
          612.7056934,
          6197.962814,
          700.7706107000001,
          762.4317721,
          5906.731804999999,
          8931.459811,
          8393.741404,
          9847.788607,
          2741.796252,
          2143.540609,
          2029.228142,
          80894.88326,
          6006.983042,
          2277.742396,
          1226.04113,
          349,
          676.4422254,
          4720.942687,
          942.4082588,
          1814.12743,
          16903.04886,
          4977.41854,
          1135.514326,
          1881.923632,
          2643.858681,
          1295.46066,
          637.1232887,
          2649.715007,
          862.4421463
         ],
         "xaxis": "x12",
         "y": [
          34.02,
          59.923,
          43.453,
          45.415,
          58.38112,
          70,
          47.19300000000001,
          45.964,
          52.469,
          54.459,
          70.75,
          71.43,
          51.629,
          59.942,
          57.716,
          64.624,
          63.87,
          59.371,
          51.253,
          49.379,
          41.472,
          46.988,
          49.8,
          56.393,
          49.901,
          67.946,
          64.266,
          53.655,
          67.5,
          58.285,
          47.838,
          51.631,
          36.984
         ],
         "yaxis": "y12"
        },
        {
         "hovertemplate": "continent=Asia<br>year=1972<br>gdpPercap=%{x}<br>lifeExp=%{y}<br>pop=%{marker.size}<extra></extra>",
         "legendgroup": "Asia",
         "marker": {
          "color": "#636efa",
          "size": [
           13079460,
           230800,
           70759295,
           7450606,
           862030000,
           4115700,
           567000000,
           121282000,
           30614000,
           10061506,
           3095893,
           107188273,
           1613551,
           14781241,
           33505000,
           841934,
           2680018,
           11441462,
           1320500,
           28466390,
           12412593,
           829050,
           69325921,
           40850141,
           6472756,
           2152400,
           13016733,
           6701172,
           15226039,
           39276153,
           44655014,
           1089572,
           7407075
          ],
          "sizemode": "area",
          "sizeref": 3296707.74,
          "symbol": "circle"
         },
         "mode": "markers",
         "name": "Asia",
         "showlegend": false,
         "type": "scattergl",
         "x": [
          739.9811057999998,
          18268.65839,
          630.2336265,
          421.6240257,
          676.9000921,
          8315.928145,
          724.032527,
          1111.107907,
          9613.818607,
          9576.037596,
          12786.93223,
          14778.78636,
          2110.856309,
          3701.621503,
          3030.87665,
          109347.867,
          7486.384341,
          2849.09478,
          1421.741975,
          357,
          674.7881296,
          10618.03855,
          1049.938981,
          1989.37407,
          24837.42865,
          8597.756202,
          1213.39553,
          2571.423014,
          4062.523897,
          1524.358936,
          699.5016441,
          3133.409277,
          1265.047031
         ],
         "xaxis": "x5",
         "y": [
          36.088,
          63.3,
          45.252,
          40.317,
          63.11888,
          72,
          50.651,
          49.203,
          55.234,
          56.95,
          71.63,
          73.42,
          56.528,
          63.983,
          62.612,
          67.712,
          65.421,
          63.01,
          53.754,
          53.07,
          43.971,
          52.143,
          51.929,
          58.065,
          53.886,
          69.521,
          65.042,
          57.29600000000001,
          69.39,
          60.405,
          50.254,
          56.532,
          39.848
         ],
         "yaxis": "y5"
        },
        {
         "hovertemplate": "continent=Asia<br>year=1977<br>gdpPercap=%{x}<br>lifeExp=%{y}<br>pop=%{marker.size}<extra></extra>",
         "legendgroup": "Asia",
         "marker": {
          "color": "#636efa",
          "size": [
           14880372,
           297410,
           80428306,
           6978607,
           943455000,
           4583700,
           634000000,
           136725000,
           35480679,
           11882916,
           3495918,
           113872473,
           1937652,
           16325320,
           36436000,
           1140357,
           3115787,
           12845381,
           1528000,
           31528087,
           13933198,
           1004533,
           78152686,
           46850962,
           8128505,
           2325300,
           14116836,
           7932503,
           16785196,
           44148285,
           50533506,
           1261091,
           8403990
          ],
          "sizemode": "area",
          "sizeref": 3296707.74,
          "symbol": "circle"
         },
         "mode": "markers",
         "name": "Asia",
         "showlegend": false,
         "type": "scattergl",
         "x": [
          786.11336,
          19340.10196,
          659.8772322000002,
          524.9721831999999,
          741.2374699,
          11186.14125,
          813.3373230000002,
          1382.702056,
          11888.59508,
          14688.23507,
          13306.61921,
          16610.37701,
          2852.351568,
          4106.301249,
          4657.22102,
          59265.47714,
          8659.696836,
          3827.921571,
          1647.511665,
          371,
          694.1124398,
          11848.34392,
          1175.921193,
          2373.204287,
          34167.7626,
          11210.08948,
          1348.775651,
          3195.484582,
          5596.519826,
          1961.2246350000007,
          713.5371196000001,
          3682.831494,
          1829.765177
         ],
         "xaxis": "x6",
         "y": [
          38.438,
          65.593,
          46.923,
          31.22,
          63.96736,
          73.6,
          54.208,
          52.702,
          57.702,
          60.413,
          73.06,
          75.38,
          61.13399999999999,
          67.15899999999999,
          64.766,
          69.343,
          66.09899999999999,
          65.256,
          55.49100000000001,
          56.059,
          46.74800000000001,
          57.367,
          54.043,
          60.06,
          58.69,
          70.795,
          65.949,
          61.195,
          70.59,
          62.494,
          55.764,
          60.765,
          44.175
         ],
         "yaxis": "y6"
        },
        {
         "hovertemplate": "continent=Asia<br>year=1982<br>gdpPercap=%{x}<br>lifeExp=%{y}<br>pop=%{marker.size}<extra></extra>",
         "legendgroup": "Asia",
         "marker": {
          "color": "#636efa",
          "size": [
           12881816,
           377967,
           93074406,
           7272485,
           1000281000,
           5264500,
           708000000,
           153343000,
           43072751,
           14173318,
           3858421,
           118454974,
           2347031,
           17647518,
           39326000,
           1497494,
           3086876,
           14441916,
           1756032,
           34680442,
           15796314,
           1301048,
           91462088,
           53456774,
           11254672,
           2651869,
           15410151,
           9410494,
           18501390,
           48827160,
           56142181,
           1425876,
           9657618
          ],
          "sizemode": "area",
          "sizeref": 3296707.74,
          "symbol": "circle"
         },
         "mode": "markers",
         "name": "Asia",
         "showlegend": false,
         "type": "scattergl",
         "x": [
          978.0114388,
          19211.14731,
          676.9818656,
          624.4754784,
          962.4213805,
          14560.53051,
          855.7235377000002,
          1516.872988,
          7608.334602,
          14517.90711,
          15367.0292,
          19384.10571,
          4161.415959,
          4106.525293,
          5622.942464,
          31354.03573,
          7640.519520999998,
          4920.355951,
          2000.603139,
          424,
          718.3730947,
          12954.79101,
          1443.429832,
          2603.273765,
          33693.17525,
          15169.16112,
          1648.079789,
          3761.837715,
          7426.3547739999985,
          2393.219781,
          707.2357863,
          4336.032082,
          1977.55701
         ],
         "xaxis": "x7",
         "y": [
          39.854,
          69.05199999999999,
          50.00899999999999,
          50.957,
          65.525,
          75.45,
          56.596,
          56.159,
          59.62,
          62.038,
          74.45,
          77.11,
          63.739,
          69.1,
          67.123,
          71.309,
          66.983,
          68,
          57.489,
          58.056,
          49.594,
          62.728,
          56.158,
          62.082,
          63.012,
          71.76,
          68.757,
          64.59,
          72.16,
          64.597,
          58.816,
          64.406,
          49.113
         ],
         "yaxis": "y7"
        },
        {
         "hovertemplate": "continent=Asia<br>year=1987<br>gdpPercap=%{x}<br>lifeExp=%{y}<br>pop=%{marker.size}<extra></extra>",
         "legendgroup": "Asia",
         "marker": {
          "color": "#636efa",
          "size": [
           13867957,
           454612,
           103764241,
           8371791,
           1084035000,
           5584510,
           788000000,
           169276000,
           51889696,
           16543189,
           4203148,
           122091325,
           2820042,
           19067554,
           41622000,
           1891487,
           3089353,
           16331785,
           2015133,
           38028578,
           17917180,
           1593882,
           105186881,
           60017788,
           14619745,
           2794552,
           16495304,
           11242847,
           19757799,
           52910342,
           62826491,
           1691210,
           11219340
          ],
          "sizemode": "area",
          "sizeref": 3296707.74,
          "symbol": "circle"
         },
         "mode": "markers",
         "name": "Asia",
         "showlegend": false,
         "type": "scattergl",
         "x": [
          852.3959447999998,
          18524.02406,
          751.9794035,
          683.8955732000002,
          1378.904018,
          20038.47269,
          976.5126756,
          1748.356961,
          6642.881371,
          11643.57268,
          17122.47986,
          22375.94189,
          4448.679912,
          4106.492315,
          8533.088805,
          28118.42998,
          5377.091329,
          5249.802653,
          2338.008304,
          385,
          775.6324501,
          18115.22313,
          1704.686583,
          2189.634995,
          21198.26136,
          18861.53081,
          1876.766827,
          3116.774285,
          11054.56175,
          2982.653773,
          820.7994449,
          5107.197384,
          1971.741538
         ],
         "xaxis": "x8",
         "y": [
          40.822,
          70.75,
          52.819,
          53.914,
          67.274,
          76.2,
          58.553,
          60.137,
          63.04,
          65.044,
          75.6,
          78.67,
          65.869,
          70.64699999999998,
          69.81,
          74.17399999999998,
          67.926,
          69.5,
          60.222,
          58.339,
          52.537,
          67.734,
          58.245,
          64.15100000000001,
          66.295,
          73.56,
          69.01100000000001,
          66.97399999999999,
          73.4,
          66.084,
          62.82,
          67.046,
          52.922
         ],
         "yaxis": "y8"
        },
        {
         "hovertemplate": "continent=Asia<br>year=1992<br>gdpPercap=%{x}<br>lifeExp=%{y}<br>pop=%{marker.size}<extra></extra>",
         "legendgroup": "Asia",
         "marker": {
          "color": "#636efa",
          "size": [
           16317921,
           529491,
           113704579,
           10150094,
           1164970000,
           5829696,
           872000000,
           184816000,
           60397973,
           17861905,
           4936550,
           124329269,
           3867409,
           20711375,
           43805450,
           1418095,
           3219994,
           18319502,
           2312802,
           40546538,
           20326209,
           1915208,
           120065004,
           67185766,
           16945857,
           3235865,
           17587060,
           13219062,
           20686918,
           56667095,
           69940728,
           2104779,
           13367997
          ],
          "sizemode": "area",
          "sizeref": 3296707.74,
          "symbol": "circle"
         },
         "mode": "markers",
         "name": "Asia",
         "showlegend": false,
         "type": "scattergl",
         "x": [
          649.3413952000002,
          19035.57917,
          837.8101642999999,
          682.3031755,
          1655.784158,
          24757.60301,
          1164.406809,
          2383.140898,
          7235.653187999998,
          3745.640687,
          18051.52254,
          26824.89511,
          3431.593647,
          3726.063507,
          12104.27872,
          34932.91959,
          6890.806854,
          7277.912802,
          1785.402016,
          347,
          897.7403604,
          18616.70691,
          1971.829464,
          2279.324017000001,
          24841.61777,
          24769.8912,
          2153.739222,
          3340.542768,
          15215.6579,
          4616.896545000001,
          989.0231487,
          6017.654756,
          1879.496673
         ],
         "xaxis": "x",
         "y": [
          41.674,
          72.601,
          56.018,
          55.803,
          68.69,
          77.601,
          60.223,
          62.681,
          65.742,
          59.46100000000001,
          76.93,
          79.36,
          68.015,
          69.97800000000001,
          72.244,
          75.19,
          69.292,
          70.693,
          61.271,
          59.32,
          55.727,
          71.197,
          60.838,
          66.458,
          68.768,
          75.788,
          70.37899999999998,
          69.249,
          74.26,
          67.298,
          67.66199999999999,
          69.718,
          55.599
         ],
         "yaxis": "y"
        },
        {
         "hovertemplate": "continent=Asia<br>year=1997<br>gdpPercap=%{x}<br>lifeExp=%{y}<br>pop=%{marker.size}<extra></extra>",
         "legendgroup": "Asia",
         "marker": {
          "color": "#636efa",
          "size": [
           22227415,
           598561,
           123315288,
           11782962,
           1230075000,
           6495918,
           959000000,
           199278000,
           63327987,
           20775703,
           5531387,
           125956499,
           4526235,
           21585105,
           46173816,
           1765345,
           3430388,
           20476091,
           2494803,
           43247867,
           23001113,
           2283635,
           135564834,
           75012988,
           21229759,
           3802309,
           18698655,
           15081016,
           21628605,
           60216677,
           76048996,
           2826046,
           15826497
          ],
          "sizemode": "area",
          "sizeref": 3296707.74,
          "symbol": "circle"
         },
         "mode": "markers",
         "name": "Asia",
         "showlegend": false,
         "type": "scattergl",
         "x": [
          635.341351,
          20292.01679,
          972.7700352,
          734.28517,
          2289.234136,
          28377.63219,
          1458.817442,
          3119.335603,
          8263.590301,
          3076.239795,
          20896.60924,
          28816.58499,
          3645.379572,
          1690.756814,
          15993.52796,
          40300.61996,
          8754.96385,
          10132.90964,
          1902.2521,
          415,
          1010.892138,
          19702.05581,
          2049.3505210000008,
          2536.534925,
          20586.69019,
          33519.4766,
          2664.477257,
          4014.238972,
          20206.82098,
          5852.625497,
          1385.896769,
          7110.667619,
          2117.484526
         ],
         "xaxis": "x2",
         "y": [
          41.76300000000001,
          73.925,
          59.412,
          56.534,
          70.426,
          80,
          61.765,
          66.041,
          68.042,
          58.81100000000001,
          78.26899999999998,
          80.69,
          69.77199999999999,
          67.727,
          74.64699999999998,
          76.156,
          70.265,
          71.938,
          63.625,
          60.328,
          59.426,
          72.499,
          61.81800000000001,
          68.564,
          70.533,
          77.158,
          70.457,
          71.527,
          75.25,
          67.521,
          70.672,
          71.096,
          58.02
         ],
         "yaxis": "y2"
        },
        {
         "hovertemplate": "continent=Asia<br>year=2002<br>gdpPercap=%{x}<br>lifeExp=%{y}<br>pop=%{marker.size}<extra></extra>",
         "legendgroup": "Asia",
         "marker": {
          "color": "#636efa",
          "size": [
           25268405,
           656397,
           135656790,
           12926707,
           1280400000,
           6762476,
           1034172547,
           211060000,
           66907826,
           24001816,
           6029529,
           127065841,
           5307470,
           22215365,
           47969150,
           2111561,
           3677780,
           22662365,
           2674234,
           45598081,
           25873917,
           2713462,
           153403524,
           82995088,
           24501530,
           4197776,
           19576783,
           17155814,
           22454239,
           62806748,
           80908147,
           3389578,
           18701257
          ],
          "sizemode": "area",
          "sizeref": 3296707.74,
          "symbol": "circle"
         },
         "mode": "markers",
         "name": "Asia",
         "showlegend": false,
         "type": "scattergl",
         "x": [
          726.7340548,
          23403.55927,
          1136.3904300000004,
          896.2260152999999,
          3119.280896,
          30209.015160000006,
          1746.769454,
          2873.91287,
          9240.761975,
          4390.717312,
          21905.59514,
          28604.5919,
          3844.917194,
          1646.758151,
          19233.98818,
          35110.10566,
          9313.93883,
          10206.97794,
          2140.739323,
          611,
          1057.206311,
          19774.83687,
          2092.712441,
          2650.921068,
          19014.54118,
          36023.1054,
          3015.378833,
          4090.925331,
          23235.42329,
          5913.187529,
          1764.456677,
          4515.487575,
          2234.820827
         ],
         "xaxis": "x3",
         "y": [
          42.129,
          74.795,
          62.01300000000001,
          56.752,
          72.028,
          81.495,
          62.879,
          68.58800000000001,
          69.45100000000001,
          57.04600000000001,
          79.696,
          82,
          71.263,
          66.66199999999999,
          77.045,
          76.904,
          71.028,
          73.044,
          65.033,
          59.908,
          61.34,
          74.193,
          63.61,
          70.303,
          71.626,
          78.77,
          70.815,
          73.053,
          76.99,
          68.564,
          73.017,
          72.37,
          60.308
         ],
         "yaxis": "y3"
        },
        {
         "hovertemplate": "continent=Asia<br>year=2007<br>gdpPercap=%{x}<br>lifeExp=%{y}<br>pop=%{marker.size}<extra></extra>",
         "legendgroup": "Asia",
         "marker": {
          "color": "#636efa",
          "size": [
           31889923,
           708573,
           150448339,
           14131858,
           1318683096,
           6980412,
           1110396331,
           223547000,
           69453570,
           27499638,
           6426679,
           127467972,
           6053193,
           23301725,
           49044790,
           2505559,
           3921278,
           24821286,
           2874127,
           47761980,
           28901790,
           3204897,
           169270617,
           91077287,
           27601038,
           4553009,
           20378239,
           19314747,
           23174294,
           65068149,
           85262356,
           4018332,
           22211743
          ],
          "sizemode": "area",
          "sizeref": 3296707.74,
          "symbol": "circle"
         },
         "mode": "markers",
         "name": "Asia",
         "showlegend": false,
         "type": "scattergl",
         "x": [
          974.5803384,
          29796.04834,
          1391.253792,
          1713.778686,
          4959.114854,
          39724.97867,
          2452.210407,
          3540.651564,
          11605.71449,
          4471.061906,
          25523.2771,
          31656.06806,
          4519.461171,
          1593.06548,
          23348.139730000006,
          47306.98978,
          10461.05868,
          12451.6558,
          3095.7722710000007,
          944,
          1091.359778,
          22316.19287,
          2605.94758,
          3190.481016,
          21654.83194,
          47143.17964,
          3970.095407,
          4184.548089,
          28718.27684,
          7458.396326999998,
          2441.576404,
          3025.349798,
          2280.769906
         ],
         "xaxis": "x4",
         "y": [
          43.828,
          75.635,
          64.062,
          59.723,
          72.961,
          82.208,
          64.69800000000001,
          70.65,
          70.964,
          59.545,
          80.745,
          82.603,
          72.535,
          67.297,
          78.623,
          77.58800000000002,
          71.993,
          74.241,
          66.803,
          62.069,
          63.785,
          75.64,
          65.483,
          71.688,
          72.777,
          79.972,
          72.396,
          74.143,
          78.4,
          70.616,
          74.249,
          73.422,
          62.698
         ],
         "yaxis": "y4"
        },
        {
         "hovertemplate": "continent=Europe<br>year=1952<br>gdpPercap=%{x}<br>lifeExp=%{y}<br>pop=%{marker.size}<extra></extra>",
         "legendgroup": "Europe",
         "marker": {
          "color": "#EF553B",
          "size": [
           1282697,
           6927772,
           8730405,
           2791000,
           7274900,
           3882229,
           9125183,
           4334000,
           4090500,
           42459667,
           69145952,
           7733250,
           9504000,
           147962,
           2952156,
           47666000,
           413834,
           10381988,
           3327728,
           25730551,
           8526050,
           16630000,
           6860147,
           3558137,
           1489518,
           28549870,
           7124673,
           4815000,
           22235677,
           50430000
          ],
          "sizemode": "area",
          "sizeref": 3296707.74,
          "symbol": "circle"
         },
         "mode": "markers",
         "name": "Europe",
         "showlegend": true,
         "type": "scattergl",
         "x": [
          1601.056136,
          6137.076492,
          8343.105126999999,
          973.5331948,
          2444.286648,
          3119.23652,
          6876.14025,
          9692.385245,
          6424.519071,
          7029.809327,
          7144.114393000002,
          3530.690067,
          5263.673816,
          7267.688428,
          5210.280328,
          4931.404154999998,
          2647.585601,
          8941.571858,
          10095.42172,
          4029.329699,
          3068.319867,
          3144.613186,
          3581.459448,
          5074.659104,
          4215.041741,
          3834.034742,
          8527.844662000001,
          14734.23275,
          1969.10098,
          9979.508487
         ],
         "xaxis": "x9",
         "y": [
          55.23,
          66.8,
          68,
          53.82,
          59.6,
          61.21,
          66.87,
          70.78,
          66.55,
          67.41,
          67.5,
          65.86,
          64.03,
          72.49,
          66.91,
          65.94,
          59.164,
          72.13,
          72.67,
          61.31,
          59.82,
          61.05,
          57.996,
          64.36,
          65.57,
          64.94,
          71.86,
          69.62,
          43.585,
          69.18
         ],
         "yaxis": "y9"
        },
        {
         "hovertemplate": "continent=Europe<br>year=1957<br>gdpPercap=%{x}<br>lifeExp=%{y}<br>pop=%{marker.size}<extra></extra>",
         "legendgroup": "Europe",
         "marker": {
          "color": "#EF553B",
          "size": [
           1476505,
           6965860,
           8989111,
           3076000,
           7651254,
           3991242,
           9513758,
           4487831,
           4324000,
           44310863,
           71019069,
           8096218,
           9839000,
           165110,
           2878220,
           49182000,
           442829,
           11026383,
           3491938,
           28235346,
           8817650,
           17829327,
           7271135,
           3844277,
           1533070,
           29841614,
           7363802,
           5126000,
           25670939,
           51430000
          ],
          "sizemode": "area",
          "sizeref": 3296707.74,
          "symbol": "circle"
         },
         "mode": "markers",
         "name": "Europe",
         "showlegend": false,
         "type": "scattergl",
         "x": [
          1942.284244,
          8842.59803,
          9714.960623,
          1353.989176,
          3008.670727,
          4338.231617,
          8256.343918,
          11099.65935,
          7545.415386,
          8662.834898000001,
          10187.82665,
          4916.299889,
          6040.180011,
          9244.001412,
          5599.077872,
          6248.656232,
          3682.259903,
          11276.19344,
          11653.97304,
          4734.253019,
          3774.571743,
          3943.370225,
          4981.090891,
          6093.26298,
          5862.276629,
          4564.80241,
          9911.878226,
          17909.48973,
          2218.754257,
          11283.17795
         ],
         "xaxis": "x10",
         "y": [
          59.28,
          67.48,
          69.24,
          58.45,
          66.61,
          64.77,
          69.03,
          71.81,
          67.49,
          68.93,
          69.1,
          67.86,
          66.41,
          73.47,
          68.9,
          67.81,
          61.448,
          72.99,
          73.44,
          65.77,
          61.51,
          64.1,
          61.685,
          67.45,
          67.85,
          66.66,
          72.49,
          70.56,
          48.07899999999999,
          70.42
         ],
         "yaxis": "y10"
        },
        {
         "hovertemplate": "continent=Europe<br>year=1962<br>gdpPercap=%{x}<br>lifeExp=%{y}<br>pop=%{marker.size}<extra></extra>",
         "legendgroup": "Europe",
         "marker": {
          "color": "#EF553B",
          "size": [
           1728137,
           7129864,
           9218400,
           3349000,
           8012946,
           4076557,
           9620282,
           4646899,
           4491443,
           47124000,
           73739117,
           8448233,
           10063000,
           182053,
           2830000,
           50843200,
           474528,
           11805689,
           3638919,
           30329617,
           9019800,
           18680721,
           7616060,
           4237384,
           1582962,
           31158061,
           7561588,
           5666000,
           29788695,
           53292000
          ],
          "sizemode": "area",
          "sizeref": 3296707.74,
          "symbol": "circle"
         },
         "mode": "markers",
         "name": "Europe",
         "showlegend": false,
         "type": "scattergl",
         "x": [
          2312.888958,
          10750.72111,
          10991.20676,
          1709.683679,
          4254.337839,
          5477.890018,
          10136.86713,
          13583.31351,
          9371.842561,
          10560.48553,
          12902.46291,
          6017.190732999999,
          7550.359877,
          10350.15906,
          6631.597314,
          8243.58234,
          4649.593785,
          12790.84956,
          13450.40151,
          5338.752143,
          4727.954889,
          4734.997586,
          6289.629157,
          7481.107598,
          7402.303395,
          5693.843879,
          12329.44192,
          20431.0927,
          2322.869908,
          12477.17707
         ],
         "xaxis": "x11",
         "y": [
          64.82,
          69.54,
          70.25,
          61.93,
          69.51,
          67.13,
          69.9,
          72.35,
          68.75,
          70.51,
          70.3,
          69.51,
          67.96,
          73.68,
          70.29,
          69.24,
          63.728,
          73.23,
          73.47,
          67.64,
          64.39,
          66.8,
          64.531,
          70.33,
          69.15,
          69.69,
          73.37,
          71.32,
          52.098,
          70.76
         ],
         "yaxis": "y11"
        },
        {
         "hovertemplate": "continent=Europe<br>year=1967<br>gdpPercap=%{x}<br>lifeExp=%{y}<br>pop=%{marker.size}<extra></extra>",
         "legendgroup": "Europe",
         "marker": {
          "color": "#EF553B",
          "size": [
           1984060,
           7376998,
           9556500,
           3585000,
           8310226,
           4174366,
           9835109,
           4838800,
           4605744,
           49569000,
           76368453,
           8716441,
           10223422,
           198676,
           2900100,
           52667100,
           501035,
           12596822,
           3786019,
           31785378,
           9103000,
           19284814,
           7971222,
           4442238,
           1646912,
           32850275,
           7867931,
           6063000,
           33411317,
           54959000
          ],
          "sizemode": "area",
          "sizeref": 3296707.74,
          "symbol": "circle"
         },
         "mode": "markers",
         "name": "Europe",
         "showlegend": false,
         "type": "scattergl",
         "x": [
          2760.196931,
          12834.6024,
          13149.04119,
          2172.3524230000007,
          5577.0028,
          6960.297861,
          11399.44489,
          15937.21123,
          10921.63626,
          12999.91766,
          14745.62561,
          8513.097016,
          9326.64467,
          13319.89568,
          7655.568963,
          10022.40131,
          5907.850937,
          15363.25136,
          16361.87647,
          6557.152776,
          6361.517993,
          6470.866545,
          7991.707066,
          8412.902397,
          9405.489397,
          7993.512294,
          15258.29697,
          22966.14432,
          2826.3563870000007,
          14142.85089
         ],
         "xaxis": "x12",
         "y": [
          66.22,
          70.14,
          70.94,
          64.79,
          70.42,
          68.5,
          70.38,
          72.96,
          69.83,
          71.55,
          70.8,
          71,
          69.5,
          73.73,
          71.08,
          71.06,
          67.178,
          73.82,
          74.08,
          69.61,
          66.6,
          66.8,
          66.914,
          70.98,
          69.18,
          71.44,
          74.16,
          72.77,
          54.33600000000001,
          71.36
         ],
         "yaxis": "y12"
        },
        {
         "hovertemplate": "continent=Europe<br>year=1972<br>gdpPercap=%{x}<br>lifeExp=%{y}<br>pop=%{marker.size}<extra></extra>",
         "legendgroup": "Europe",
         "marker": {
          "color": "#EF553B",
          "size": [
           2263554,
           7544201,
           9709100,
           3819000,
           8576200,
           4225310,
           9862158,
           4991596,
           4639657,
           51732000,
           78717088,
           8888628,
           10394091,
           209275,
           3024400,
           54365564,
           527678,
           13329874,
           3933004,
           33039545,
           8970450,
           20662648,
           8313288,
           4593433,
           1694510,
           34513161,
           8122293,
           6401400,
           37492953,
           56079000
          ],
          "sizemode": "area",
          "sizeref": 3296707.74,
          "symbol": "circle"
         },
         "mode": "markers",
         "name": "Europe",
         "showlegend": false,
         "type": "scattergl",
         "x": [
          3313.422188,
          16661.6256,
          16672.14356,
          2860.16975,
          6597.494398,
          9164.090127,
          13108.4536,
          18866.20721,
          14358.8759,
          16107.19171,
          18016.18027,
          12724.82957,
          10168.65611,
          15798.06362,
          9530.772896,
          12269.27378,
          7778.414017,
          18794.74567,
          18965.05551,
          8006.506993000001,
          9022.247417,
          8011.4144019999985,
          10522.06749,
          9674.167626,
          12383.4862,
          10638.75131,
          17832.02464,
          27195.11304,
          3450.69638,
          15895.11641
         ],
         "xaxis": "x5",
         "y": [
          67.69,
          70.63,
          71.44,
          67.45,
          70.9,
          69.61,
          70.29,
          73.47,
          70.87,
          72.38,
          71,
          72.34,
          69.76,
          74.46,
          71.28,
          72.19,
          70.63600000000002,
          73.75,
          74.34,
          70.85,
          69.26,
          69.21,
          68.7,
          70.35,
          69.82,
          73.06,
          74.72,
          73.78,
          57.005,
          72.01
         ],
         "yaxis": "y5"
        },
        {
         "hovertemplate": "continent=Europe<br>year=1977<br>gdpPercap=%{x}<br>lifeExp=%{y}<br>pop=%{marker.size}<extra></extra>",
         "legendgroup": "Europe",
         "marker": {
          "color": "#EF553B",
          "size": [
           2509048,
           7568430,
           9821800,
           4086000,
           8797022,
           4318673,
           10161915,
           5088419,
           4738902,
           53165019,
           78160773,
           9308479,
           10637171,
           221823,
           3271900,
           56059245,
           560073,
           13852989,
           4043205,
           34621254,
           9662600,
           21658597,
           8686367,
           4827803,
           1746919,
           36439000,
           8251648,
           6316424,
           42404033,
           56179000
          ],
          "sizemode": "area",
          "sizeref": 3296707.74,
          "symbol": "circle"
         },
         "mode": "markers",
         "name": "Europe",
         "showlegend": false,
         "type": "scattergl",
         "x": [
          3533.003910000001,
          19749.4223,
          19117.97448,
          3528.481305,
          7612.240438,
          11305.38517,
          14800.16062,
          20422.9015,
          15605.42283,
          18292.63514,
          20512.92123,
          14195.52428,
          11674.83737,
          19654.96247,
          11150.98113,
          14255.98475,
          9595.929905,
          21209.0592,
          23311.34939,
          9508.141454,
          10172.48572,
          9356.39724,
          12980.66956,
          10922.66404,
          15277.030169999998,
          13236.92117,
          18855.72521,
          26982.29052,
          4269.122326,
          17428.74846
         ],
         "xaxis": "x6",
         "y": [
          68.93,
          72.17,
          72.8,
          69.86,
          70.81,
          70.64,
          70.71,
          74.69,
          72.52,
          73.83,
          72.5,
          73.68,
          69.95,
          76.11,
          72.03,
          73.48,
          73.066,
          75.24,
          75.37,
          70.67,
          70.41,
          69.46,
          70.3,
          70.45,
          70.97,
          74.39,
          75.44,
          75.39,
          59.507,
          72.76
         ],
         "yaxis": "y6"
        },
        {
         "hovertemplate": "continent=Europe<br>year=1982<br>gdpPercap=%{x}<br>lifeExp=%{y}<br>pop=%{marker.size}<extra></extra>",
         "legendgroup": "Europe",
         "marker": {
          "color": "#EF553B",
          "size": [
           2780097,
           7574613,
           9856303,
           4172693,
           8892098,
           4413368,
           10303704,
           5117810,
           4826933,
           54433565,
           78335266,
           9786480,
           10705535,
           233997,
           3480000,
           56535636,
           562548,
           14310401,
           4114787,
           36227381,
           9859650,
           22356726,
           9032824,
           5048043,
           1861252,
           37983310,
           8325260,
           6468126,
           47328791,
           56339704
          ],
          "sizemode": "area",
          "sizeref": 3296707.74,
          "symbol": "circle"
         },
         "mode": "markers",
         "name": "Europe",
         "showlegend": false,
         "type": "scattergl",
         "x": [
          3630.880722,
          21597.08362,
          20979.84589,
          4126.613157,
          8224.191647,
          13221.82184,
          15377.22855,
          21688.04048,
          18533.15761,
          20293.89746,
          22031.53274,
          15268.42089,
          12545.99066,
          23269.6075,
          12618.32141,
          16537.4835,
          11222.58762,
          21399.46046,
          26298.63531,
          8451.531004,
          11753.84291,
          9605.314053,
          15181.0927,
          11348.54585,
          17866.72175,
          13926.16997,
          20667.38125,
          28397.71512,
          4241.356344,
          18232.42452
         ],
         "xaxis": "x7",
         "y": [
          70.42,
          73.18,
          73.93,
          70.69,
          71.08,
          70.46,
          70.96,
          74.63,
          74.55,
          74.89,
          73.8,
          75.24,
          69.39,
          76.99,
          73.1,
          74.98,
          74.101,
          76.05,
          75.97,
          71.32,
          72.77,
          69.66,
          70.16199999999999,
          70.8,
          71.063,
          76.3,
          76.42,
          76.21,
          61.036,
          74.04
         ],
         "yaxis": "y7"
        },
        {
         "hovertemplate": "continent=Europe<br>year=1987<br>gdpPercap=%{x}<br>lifeExp=%{y}<br>pop=%{marker.size}<extra></extra>",
         "legendgroup": "Europe",
         "marker": {
          "color": "#EF553B",
          "size": [
           3075321,
           7578903,
           9870200,
           4338977,
           8971958,
           4484310,
           10311597,
           5127024,
           4931729,
           55630100,
           77718298,
           9974490,
           10612740,
           244676,
           3539900,
           56729703,
           569473,
           14665278,
           4186147,
           37740710,
           9915289,
           22686371,
           9230783,
           5199318,
           1945870,
           38880702,
           8421403,
           6649942,
           52881328,
           56981620
          ],
          "sizemode": "area",
          "sizeref": 3296707.74,
          "symbol": "circle"
         },
         "mode": "markers",
         "name": "Europe",
         "showlegend": false,
         "type": "scattergl",
         "x": [
          3738.932735,
          23687.82607,
          22525.56308,
          4314.114757,
          8239.854824,
          13822.58394,
          16310.4434,
          25116.17581,
          21141.01223,
          22066.44214,
          24639.18566,
          16120.52839,
          12986.47998,
          26923.20628,
          13872.86652,
          19207.23482,
          11732.51017,
          23651.32361,
          31540.9748,
          9082.351172,
          13039.30876,
          9696.273295,
          15870.87851,
          12037.26758,
          18678.53492,
          15764.98313,
          23586.92927,
          30281.70459,
          5089.043686,
          21664.78767
         ],
         "xaxis": "x8",
         "y": [
          72,
          74.94,
          75.35,
          71.14,
          71.34,
          71.52,
          71.58,
          74.8,
          74.83,
          76.34,
          74.847,
          76.67,
          69.58,
          77.23,
          74.36,
          76.42,
          74.865,
          76.83,
          75.89,
          70.98,
          74.06,
          69.53,
          71.218,
          71.08,
          72.25,
          76.9,
          77.19,
          77.41,
          63.108,
          75.007
         ],
         "yaxis": "y8"
        },
        {
         "hovertemplate": "continent=Europe<br>year=1992<br>gdpPercap=%{x}<br>lifeExp=%{y}<br>pop=%{marker.size}<extra></extra>",
         "legendgroup": "Europe",
         "marker": {
          "color": "#EF553B",
          "size": [
           3326498,
           7914969,
           10045622,
           4256013,
           8658506,
           4494013,
           10315702,
           5171393,
           5041039,
           57374179,
           80597764,
           10325429,
           10348684,
           259012,
           3557761,
           56840847,
           621621,
           15174244,
           4286357,
           38370697,
           9927680,
           22797027,
           9826397,
           5302888,
           1999210,
           39549438,
           8718867,
           6995447,
           58179144,
           57866349
          ],
          "sizemode": "area",
          "sizeref": 3296707.74,
          "symbol": "circle"
         },
         "mode": "markers",
         "name": "Europe",
         "showlegend": false,
         "type": "scattergl",
         "x": [
          2497.437901,
          27042.01868,
          25575.57069,
          2546.781445,
          6302.623438000001,
          8447.794873,
          14297.02122,
          26406.73985,
          20647.16499,
          24703.79615,
          26505.30317,
          17541.49634,
          10535.62855,
          25144.39201,
          17558.81555,
          22013.64486,
          7003.339037000002,
          26790.94961,
          33965.66115,
          7738.881247,
          16207.266630000002,
          6598.409903,
          9325.068238,
          9498.467723,
          14214.71681,
          18603.06452,
          23880.01683,
          31871.5303,
          5678.348271,
          22705.09254
         ],
         "xaxis": "x",
         "y": [
          71.581,
          76.04,
          76.46,
          72.178,
          71.19,
          72.527,
          72.4,
          75.33,
          75.7,
          77.46,
          76.07,
          77.03,
          69.17,
          78.77,
          75.467,
          77.44,
          75.435,
          77.42,
          77.32,
          70.99,
          74.86,
          69.36,
          71.65899999999998,
          71.38,
          73.64,
          77.57,
          78.16,
          78.03,
          66.146,
          76.42
         ],
         "yaxis": "y"
        },
        {
         "hovertemplate": "continent=Europe<br>year=1997<br>gdpPercap=%{x}<br>lifeExp=%{y}<br>pop=%{marker.size}<extra></extra>",
         "legendgroup": "Europe",
         "marker": {
          "color": "#EF553B",
          "size": [
           3428038,
           8069876,
           10199787,
           3607000,
           8066057,
           4444595,
           10300707,
           5283663,
           5134406,
           58623428,
           82011073,
           10502372,
           10244684,
           271192,
           3667233,
           57479469,
           692651,
           15604464,
           4405672,
           38654957,
           10156415,
           22562458,
           10336594,
           5383010,
           2011612,
           39855442,
           8897619,
           7193761,
           63047647,
           58808266
          ],
          "sizemode": "area",
          "sizeref": 3296707.74,
          "symbol": "circle"
         },
         "mode": "markers",
         "name": "Europe",
         "showlegend": false,
         "type": "scattergl",
         "x": [
          3193.054604,
          29095.920660000003,
          27561.19663,
          4766.355904,
          5970.38876,
          9875.604515,
          16048.51424,
          29804.34567,
          23723.9502,
          25889.78487,
          27788.88416,
          18747.69814,
          11712.7768,
          28061.099660000003,
          24521.94713,
          24675.02446,
          6465.613349,
          30246.13063,
          41283.16433,
          10159.58368,
          17641.03156,
          7346.547556999999,
          7914.320304000002,
          12126.23065,
          17161.10735,
          20445.29896,
          25266.59499,
          32135.323010000004,
          6601.429915,
          26074.53136
         ],
         "xaxis": "x2",
         "y": [
          72.95,
          77.51,
          77.53,
          73.244,
          70.32,
          73.68,
          74.01,
          76.11,
          77.13,
          78.64,
          77.34,
          77.869,
          71.04,
          78.95,
          76.122,
          78.82,
          75.445,
          78.03,
          78.32,
          72.75,
          75.97,
          69.72,
          72.232,
          72.71,
          75.13,
          78.77,
          79.39,
          79.37,
          68.835,
          77.218
         ],
         "yaxis": "y2"
        },
        {
         "hovertemplate": "continent=Europe<br>year=2002<br>gdpPercap=%{x}<br>lifeExp=%{y}<br>pop=%{marker.size}<extra></extra>",
         "legendgroup": "Europe",
         "marker": {
          "color": "#EF553B",
          "size": [
           3508512,
           8148312,
           10311970,
           4165416,
           7661799,
           4481020,
           10256295,
           5374693,
           5193039,
           59925035,
           82350671,
           10603863,
           10083313,
           288030,
           3879155,
           57926999,
           720230,
           16122830,
           4535591,
           38625976,
           10433867,
           22404337,
           10111559,
           5410052,
           2011497,
           40152517,
           8954175,
           7361757,
           67308928,
           59912431
          ],
          "sizemode": "area",
          "sizeref": 3296707.74,
          "symbol": "circle"
         },
         "mode": "markers",
         "name": "Europe",
         "showlegend": false,
         "type": "scattergl",
         "x": [
          4604.211737,
          32417.60769,
          30485.88375,
          6018.975239,
          7696.777725,
          11628.38895,
          17596.210219999994,
          32166.50006,
          28204.59057,
          28926.03234,
          30035.80198,
          22514.2548,
          14843.93556,
          31163.20196,
          34077.04939,
          27968.09817,
          6557.194282,
          33724.75778,
          44683.97525,
          12002.23908,
          19970.90787,
          7885.360081,
          7236.075251,
          13638.778369999998,
          20660.01936,
          24835.47166,
          29341.630930000007,
          34480.95771,
          6508.085718,
          29478.99919
         ],
         "xaxis": "x3",
         "y": [
          75.65100000000002,
          78.98,
          78.32,
          74.09,
          72.14,
          74.876,
          75.51,
          77.18,
          78.37,
          79.59,
          78.67,
          78.256,
          72.59,
          80.5,
          77.783,
          80.24,
          73.98100000000002,
          78.53,
          79.05,
          74.67,
          77.29,
          71.322,
          73.21300000000002,
          73.8,
          76.66,
          79.78,
          80.04,
          80.62,
          70.845,
          78.471
         ],
         "yaxis": "y3"
        },
        {
         "hovertemplate": "continent=Europe<br>year=2007<br>gdpPercap=%{x}<br>lifeExp=%{y}<br>pop=%{marker.size}<extra></extra>",
         "legendgroup": "Europe",
         "marker": {
          "color": "#EF553B",
          "size": [
           3600523,
           8199783,
           10392226,
           4552198,
           7322858,
           4493312,
           10228744,
           5468120,
           5238460,
           61083916,
           82400996,
           10706290,
           9956108,
           301931,
           4109086,
           58147733,
           684736,
           16570613,
           4627926,
           38518241,
           10642836,
           22276056,
           10150265,
           5447502,
           2009245,
           40448191,
           9031088,
           7554661,
           71158647,
           60776238
          ],
          "sizemode": "area",
          "sizeref": 3296707.74,
          "symbol": "circle"
         },
         "mode": "markers",
         "name": "Europe",
         "showlegend": false,
         "type": "scattergl",
         "x": [
          5937.029525999998,
          36126.4927,
          33692.60508,
          7446.298803,
          10680.79282,
          14619.222719999998,
          22833.30851,
          35278.41874,
          33207.0844,
          30470.0167,
          32170.37442,
          27538.41188,
          18008.94444,
          36180.78919,
          40675.99635,
          28569.7197,
          9253.896111,
          36797.93332,
          49357.19017,
          15389.924680000002,
          20509.64777,
          10808.47561,
          9786.534714,
          18678.31435,
          25768.25759,
          28821.0637,
          33859.74835,
          37506.41907,
          8458.276384,
          33203.26128
         ],
         "xaxis": "x4",
         "y": [
          76.423,
          79.829,
          79.441,
          74.852,
          73.005,
          75.748,
          76.486,
          78.332,
          79.313,
          80.657,
          79.406,
          79.483,
          73.33800000000002,
          81.757,
          78.885,
          80.546,
          74.543,
          79.762,
          80.196,
          75.563,
          78.098,
          72.476,
          74.002,
          74.663,
          77.926,
          80.941,
          80.884,
          81.70100000000002,
          71.777,
          79.425
         ],
         "yaxis": "y4"
        },
        {
         "hovertemplate": "continent=Africa<br>year=1952<br>gdpPercap=%{x}<br>lifeExp=%{y}<br>pop=%{marker.size}<extra></extra>",
         "legendgroup": "Africa",
         "marker": {
          "color": "#00cc96",
          "size": [
           9279525,
           4232095,
           1738315,
           442308,
           4469979,
           2445618,
           5009067,
           1291695,
           2682462,
           153936,
           14100005,
           854885,
           2977019,
           63149,
           22223309,
           216964,
           1438760,
           20860941,
           420702,
           284320,
           5581001,
           2664249,
           580653,
           6464046,
           748747,
           863308,
           1019729,
           4762912,
           2917802,
           3838168,
           1022556,
           516556,
           9939217,
           6446316,
           485831,
           3379468,
           33119096,
           257700,
           2534927,
           60011,
           2755589,
           2143249,
           2526994,
           14264935,
           8504667,
           290243,
           8322925,
           1219113,
           3647735,
           5824797,
           2672000,
           3080907
          ],
          "sizemode": "area",
          "sizeref": 3296707.74,
          "symbol": "circle"
         },
         "mode": "markers",
         "name": "Africa",
         "showlegend": true,
         "type": "scattergl",
         "x": [
          2449.008185,
          3520.610273,
          1062.7522,
          851.2411407,
          543.2552413,
          339.2964587,
          1172.667655,
          1071.310713,
          1178.665927,
          1102.990936,
          780.5423257,
          2125.621418,
          1388.594732,
          2669.529475,
          1418.822445,
          375.6431231,
          328.9405571000001,
          362.1462796,
          4293.476475,
          485.2306591,
          911.2989371,
          510.1964923000001,
          299.850319,
          853.5409189999998,
          298.8462121,
          575.5729961000002,
          2387.54806,
          1443.011715,
          369.1650802,
          452.3369807,
          743.1159097,
          1967.955707,
          1688.20357,
          468.5260381,
          2423.780443,
          761.879376,
          1077.281856,
          2718.885295,
          493.3238752,
          879.5835855,
          1450.356983,
          879.7877358,
          1135.749842,
          4725.295531000002,
          1615.991129,
          1148.376626,
          716.6500721,
          859.8086567,
          1468.475631,
          734.753484,
          1147.388831,
          406.8841148
         ],
         "xaxis": "x9",
         "y": [
          43.077,
          30.015,
          38.223,
          47.622,
          31.975,
          39.031,
          38.523,
          35.463,
          38.092,
          40.715,
          39.143,
          42.111,
          40.477,
          34.812,
          41.893,
          34.482,
          35.92800000000001,
          34.078,
          37.003,
          30,
          43.149,
          33.609,
          32.5,
          42.27,
          42.13800000000001,
          38.48,
          42.723,
          36.681,
          36.256,
          33.685,
          40.543,
          50.986,
          42.87300000000001,
          31.286,
          41.725,
          37.444,
          36.324,
          52.724,
          40,
          46.471,
          37.278,
          30.331,
          32.978,
          45.00899999999999,
          38.635,
          41.407,
          41.215,
          38.596,
          44.6,
          39.978,
          42.038,
          48.451
         ],
         "yaxis": "y9"
        },
        {
         "hovertemplate": "continent=Africa<br>year=1957<br>gdpPercap=%{x}<br>lifeExp=%{y}<br>pop=%{marker.size}<extra></extra>",
         "legendgroup": "Africa",
         "marker": {
          "color": "#00cc96",
          "size": [
           10270856,
           4561361,
           1925173,
           474639,
           4713416,
           2667518,
           5359923,
           1392284,
           2894855,
           170928,
           15577932,
           940458,
           3300000,
           71851,
           25009741,
           232922,
           1542611,
           22815614,
           434904,
           323150,
           6391288,
           2876726,
           601095,
           7454779,
           813338,
           975950,
           1201578,
           5181679,
           3221238,
           4241884,
           1076852,
           609816,
           11406350,
           7038035,
           548080,
           3692184,
           37173340,
           308700,
           2822082,
           61325,
           3054547,
           2295678,
           2780415,
           16151549,
           9753392,
           326741,
           9452826,
           1357445,
           3950849,
           6675501,
           3016000,
           3646340
          ],
          "sizemode": "area",
          "sizeref": 3296707.74,
          "symbol": "circle"
         },
         "mode": "markers",
         "name": "Africa",
         "showlegend": false,
         "type": "scattergl",
         "x": [
          3013.976023,
          3827.940465,
          959.6010805,
          918.2325349,
          617.1834647999998,
          379.5646281000001,
          1313.048099,
          1190.844328,
          1308.495577,
          1211.148548,
          905.8602303,
          2315.056572,
          1500.895925,
          2864.9690760000008,
          1458.915272,
          426.0964081,
          344.1618859,
          378.9041632,
          4976.198099,
          520.9267111,
          1043.5615369999996,
          576.2670245,
          431.79045660000014,
          944.4383152,
          335.9971151000001,
          620.9699901,
          3448.284395,
          1589.20275,
          416.3698064,
          490.3821867,
          846.1202613,
          2034.037981,
          1642.002314,
          495.58683330000014,
          2621.448058,
          835.5234025000002,
          1100.5925630000004,
          2769.451844,
          540.2893982999999,
          860.7369026,
          1567.653006,
          1004.484437,
          1258.147413,
          5487.104219,
          1770.3370739999998,
          1244.708364,
          698.5356073,
          925.9083202,
          1395.232468,
          774.3710692000002,
          1311.956766,
          518.7642681
         ],
         "xaxis": "x10",
         "y": [
          45.685,
          31.999,
          40.358,
          49.618,
          34.906,
          40.533,
          40.428,
          37.464,
          39.881,
          42.46,
          40.652,
          45.053,
          42.469,
          37.328,
          44.444,
          35.98300000000001,
          38.047,
          36.667,
          38.999,
          32.065,
          44.779,
          34.558,
          33.489000000000004,
          44.68600000000001,
          45.047,
          39.486,
          45.289,
          38.865,
          37.207,
          35.30699999999999,
          42.338,
          58.089,
          45.423,
          33.779,
          45.226000000000006,
          38.598,
          37.802,
          55.09,
          41.5,
          48.945,
          39.329,
          31.57,
          34.977,
          47.985,
          39.624,
          43.424,
          42.974,
          41.208,
          47.1,
          42.57100000000001,
          44.077,
          50.469
         ],
         "yaxis": "y10"
        },
        {
         "hovertemplate": "continent=Africa<br>year=1962<br>gdpPercap=%{x}<br>lifeExp=%{y}<br>pop=%{marker.size}<extra></extra>",
         "legendgroup": "Africa",
         "marker": {
          "color": "#00cc96",
          "size": [
           11000948,
           4826015,
           2151895,
           512764,
           4919632,
           2961915,
           5793633,
           1523478,
           3150417,
           191689,
           17486434,
           1047924,
           3832408,
           89898,
           28173309,
           249220,
           1666618,
           25145372,
           455661,
           374020,
           7355248,
           3140003,
           627820,
           8678557,
           893143,
           1112796,
           1441863,
           5703324,
           3628608,
           4690372,
           1146757,
           701016,
           13056604,
           7788944,
           621392,
           4076008,
           41871351,
           358900,
           3051242,
           65345,
           3430243,
           2467895,
           3080153,
           18356657,
           11183227,
           370006,
           10863958,
           1528098,
           4286552,
           7688797,
           3421000,
           4277736
          ],
          "sizemode": "area",
          "sizeref": 3296707.74,
          "symbol": "circle"
         },
         "mode": "markers",
         "name": "Africa",
         "showlegend": false,
         "type": "scattergl",
         "x": [
          2550.81688,
          4269.276742,
          949.4990641,
          983.6539764,
          722.5120206,
          355.2032273,
          1399.607441,
          1193.068753,
          1389.817618,
          1406.648278,
          896.3146335000001,
          2464.783157,
          1728.8694280000002,
          3020.989263,
          1693.335853,
          582.8419713999998,
          380.9958433000001,
          419.4564161,
          6631.459222,
          599.650276,
          1190.041118,
          686.3736739,
          522.0343725,
          896.9663732,
          411.8006266,
          634.1951625,
          6757.030816,
          1643.38711,
          427.9010856,
          496.1743428,
          1055.896036,
          2529.0674870000007,
          1566.353493,
          556.6863539,
          3173.215595,
          997.7661127,
          1150.9274779999996,
          3173.72334,
          597.4730727000001,
          1071.551119,
          1654.988723,
          1116.6398769999996,
          1369.488336,
          5768.729717,
          1959.593767,
          1856.182125,
          722.0038073,
          1067.53481,
          1660.30321,
          767.2717397999999,
          1452.725766,
          527.2721818
         ],
         "xaxis": "x11",
         "y": [
          48.303,
          34,
          42.618,
          51.52,
          37.814,
          42.045,
          42.643,
          39.475,
          41.716,
          44.467,
          42.122,
          48.435,
          44.93,
          39.69300000000001,
          46.992,
          37.485,
          40.158,
          40.059,
          40.489,
          33.896,
          46.452,
          35.753,
          34.488,
          47.949,
          47.747,
          40.502,
          47.808,
          40.848,
          38.41,
          36.936,
          44.24800000000001,
          60.246,
          47.924,
          36.161,
          48.386,
          39.487,
          39.36,
          57.666,
          43,
          51.893,
          41.45399999999999,
          32.767,
          36.981,
          49.951,
          40.87,
          44.992,
          44.246,
          43.922,
          49.57899999999999,
          45.344,
          46.023,
          52.358
         ],
         "yaxis": "y11"
        },
        {
         "hovertemplate": "continent=Africa<br>year=1967<br>gdpPercap=%{x}<br>lifeExp=%{y}<br>pop=%{marker.size}<extra></extra>",
         "legendgroup": "Africa",
         "marker": {
          "color": "#00cc96",
          "size": [
           12760499,
           5247469,
           2427334,
           553541,
           5127935,
           3330989,
           6335506,
           1733638,
           3495967,
           217378,
           19941073,
           1179760,
           4744870,
           127617,
           31681188,
           259864,
           1820319,
           27860297,
           489004,
           439593,
           8490213,
           3451418,
           601287,
           10191512,
           996380,
           1279406,
           1759224,
           6334556,
           4147252,
           5212416,
           1230542,
           789309,
           14770296,
           8680909,
           706640,
           4534062,
           47287752,
           414024,
           3451079,
           70787,
           3965841,
           2662190,
           3428839,
           20997321,
           12716129,
           420690,
           12607312,
           1735550,
           4786986,
           8900294,
           3900000,
           4995432
          ],
          "sizemode": "area",
          "sizeref": 3296707.74,
          "symbol": "circle"
         },
         "mode": "markers",
         "name": "Africa",
         "showlegend": false,
         "type": "scattergl",
         "x": [
          3246.991771,
          5522.776375,
          1035.831411,
          1214.709294,
          794.8265597,
          412.97751360000007,
          1508.453148,
          1136.056615,
          1196.810565,
          1876.029643,
          861.5932424,
          2677.9396420000007,
          2052.050473,
          3020.050513,
          1814.880728,
          915.5960025,
          468.7949699,
          516.1186438,
          8358.761987,
          734.7829124,
          1125.69716,
          708.7595409,
          715.5806402000002,
          1056.736457,
          498.6390265,
          713.6036482999998,
          18772.75169,
          1634.047282,
          495.5147806,
          545.0098873,
          1421.145193,
          2475.387562,
          1711.04477,
          566.6691539,
          3793.694753,
          1054.384891,
          1014.514104,
          4021.175739,
          510.9637142,
          1384.840593,
          1612.404632,
          1206.043465,
          1284.7331800000004,
          7114.477970999998,
          1687.997641,
          2613.101665,
          848.2186575,
          1477.59676,
          1932.3601670000005,
          908.9185217,
          1777.077318,
          569.7950712
         ],
         "xaxis": "x12",
         "y": [
          51.407,
          35.985,
          44.885,
          53.298,
          40.697,
          43.548,
          44.799,
          41.478,
          43.601000000000006,
          46.472,
          44.056,
          52.04,
          47.35,
          42.074,
          49.293,
          38.987,
          42.18899999999999,
          42.115,
          44.598,
          35.857,
          48.072,
          37.197,
          35.492,
          50.654,
          48.492,
          41.536,
          50.227,
          42.881,
          39.487,
          38.487,
          46.289,
          61.557,
          50.335,
          38.113,
          51.159,
          40.118,
          41.04,
          60.542,
          44.1,
          54.425,
          43.563,
          34.113,
          38.977,
          51.927,
          42.858,
          46.633,
          45.757,
          46.769,
          52.053,
          48.051,
          47.768,
          53.995
         ],
         "yaxis": "y12"
        },
        {
         "hovertemplate": "continent=Africa<br>year=1972<br>gdpPercap=%{x}<br>lifeExp=%{y}<br>pop=%{marker.size}<extra></extra>",
         "legendgroup": "Africa",
         "marker": {
          "color": "#00cc96",
          "size": [
           14760787,
           5894858,
           2761407,
           619351,
           5433886,
           3529983,
           7021028,
           1927260,
           3899068,
           250027,
           23007669,
           1340458,
           6071696,
           178848,
           34807417,
           277603,
           2260187,
           30770372,
           537977,
           517101,
           9354120,
           3811387,
           625361,
           12044785,
           1116779,
           1482628,
           2183877,
           7082430,
           4730997,
           5828158,
           1332786,
           851334,
           16660670,
           9809596,
           821782,
           5060262,
           53740085,
           461633,
           3992121,
           76595,
           4588696,
           2879013,
           3840161,
           23935810,
           14597019,
           480105,
           14706593,
           2056351,
           5303507,
           10190285,
           4506497,
           5861135
          ],
          "sizemode": "area",
          "sizeref": 3296707.74,
          "symbol": "circle"
         },
         "mode": "markers",
         "name": "Africa",
         "showlegend": false,
         "type": "scattergl",
         "x": [
          4182.663766,
          5473.288004999999,
          1085.796879,
          2263.6111140000007,
          854.7359763000002,
          464.0995039,
          1684.1465280000002,
          1070.013275,
          1104.103987,
          1937.577675,
          904.8960685,
          3213.152683,
          2378.201111,
          3694.2123520000014,
          2024.008147,
          672.4122571,
          514.3242081999998,
          566.2439442000001,
          11401.94841,
          756.0868363,
          1178.223708,
          741.6662307,
          820.2245876000002,
          1222.359968,
          496.5815922000001,
          803.0054535,
          21011.49721,
          1748.562982,
          584.6219709,
          581.3688761,
          1586.851781,
          2575.484158,
          1930.194975,
          724.9178037,
          3746.080948,
          954.2092363,
          1698.388838,
          5047.658563,
          590.5806637999998,
          1532.985254,
          1597.712056,
          1353.759762,
          1254.576127,
          7765.962636,
          1659.652775,
          3364.836625,
          915.9850592,
          1649.660188,
          2753.2859940000008,
          950.735869,
          1773.498265,
          799.3621757999998
         ],
         "xaxis": "x5",
         "y": [
          54.518,
          37.928,
          47.014,
          56.024,
          43.591,
          44.057,
          47.049,
          43.457,
          45.569,
          48.944,
          45.989,
          54.907,
          49.801,
          44.36600000000001,
          51.137,
          40.516,
          44.142,
          43.515,
          48.69,
          38.308,
          49.875,
          38.842,
          36.486,
          53.559,
          49.767,
          42.614,
          52.773,
          44.851000000000006,
          41.76600000000001,
          39.977,
          48.437,
          62.944,
          52.862,
          40.328,
          53.867,
          40.546,
          42.82100000000001,
          64.274,
          44.6,
          56.48,
          45.815,
          35.4,
          40.973,
          53.69600000000001,
          45.083,
          49.552,
          47.62,
          49.75899999999999,
          55.602,
          51.01600000000001,
          50.107,
          55.635
         ],
         "yaxis": "y5"
        },
        {
         "hovertemplate": "continent=Africa<br>year=1977<br>gdpPercap=%{x}<br>lifeExp=%{y}<br>pop=%{marker.size}<extra></extra>",
         "legendgroup": "Africa",
         "marker": {
          "color": "#00cc96",
          "size": [
           17152804,
           6162675,
           3168267,
           781472,
           5889574,
           3834415,
           7959865,
           2167533,
           4388260,
           304739,
           26480870,
           1536769,
           7459574,
           228694,
           38783863,
           192675,
           2512642,
           34617799,
           706367,
           608274,
           10538093,
           4227026,
           745228,
           14500404,
           1251524,
           1703617,
           2721783,
           8007166,
           5637246,
           6491649,
           1456688,
           913025,
           18396941,
           11127868,
           977026,
           5682086,
           62209173,
           492095,
           4657072,
           86796,
           5260855,
           3140897,
           4353666,
           27129932,
           17104986,
           551425,
           17129565,
           2308582,
           6005061,
           11457758,
           5216550,
           6642107
          ],
          "sizemode": "area",
          "sizeref": 3296707.74,
          "symbol": "circle"
         },
         "mode": "markers",
         "name": "Africa",
         "showlegend": false,
         "type": "scattergl",
         "x": [
          4910.416756000001,
          3008.647355,
          1029.161251,
          3214.857818,
          743.3870368,
          556.1032651,
          1783.432873,
          1109.374338,
          1133.98495,
          1172.603047,
          795.757282,
          3259.178978,
          2517.736547,
          3081.761022,
          2785.493582,
          958.5668124,
          505.7538077,
          556.8083834,
          21745.57328,
          884.7552507000001,
          993.2239571,
          874.6858642999998,
          764.7259627999998,
          1267.613204,
          745.3695408,
          640.3224382999998,
          21951.21176,
          1544.228586,
          663.2236766,
          686.3952693,
          1497.492223,
          3710.982963,
          2370.619976,
          502.3197334,
          3876.485958,
          808.8970727999998,
          1981.951806,
          4319.804067,
          670.0806011,
          1737.561657,
          1561.769116,
          1348.285159,
          1450.992513,
          8028.651439,
          2202.988423,
          3781.410618,
          962.4922932,
          1532.776998,
          3120.876811,
          843.7331372000001,
          1588.688299,
          685.5876821
         ],
         "xaxis": "x6",
         "y": [
          58.014,
          39.483,
          49.19,
          59.319,
          46.137,
          45.91,
          49.355,
          46.775,
          47.383,
          50.93899999999999,
          47.804,
          55.625,
          52.374,
          46.519,
          53.319,
          42.024,
          44.535,
          44.51,
          52.79,
          41.842,
          51.756,
          40.762,
          37.465,
          56.155,
          52.208,
          43.764,
          57.442,
          46.881,
          43.767,
          41.714,
          50.852,
          64.93,
          55.73,
          42.495,
          56.437,
          41.291,
          44.514,
          67.064,
          45,
          58.55,
          48.879,
          36.788,
          41.974,
          55.527,
          47.8,
          52.537,
          49.919,
          52.887,
          59.837,
          50.35,
          51.386,
          57.674
         ],
         "yaxis": "y6"
        },
        {
         "hovertemplate": "continent=Africa<br>year=1982<br>gdpPercap=%{x}<br>lifeExp=%{y}<br>pop=%{marker.size}<extra></extra>",
         "legendgroup": "Africa",
         "marker": {
          "color": "#00cc96",
          "size": [
           20033753,
           7016384,
           3641603,
           970347,
           6634596,
           4580410,
           9250831,
           2476971,
           4875118,
           348643,
           30646495,
           1774735,
           9025951,
           305991,
           45681811,
           285483,
           2637297,
           38111756,
           753874,
           715523,
           11400338,
           4710497,
           825987,
           17661452,
           1411807,
           1956875,
           3344074,
           9171477,
           6502825,
           6998256,
           1622136,
           992040,
           20198730,
           12587223,
           1099010,
           6437188,
           73039376,
           517810,
           5507565,
           98593,
           6147783,
           3464522,
           5828892,
           31140029,
           20367053,
           649901,
           19844382,
           2644765,
           6734098,
           12939400,
           6100407,
           7636524
          ],
          "sizemode": "area",
          "sizeref": 3296707.74,
          "symbol": "circle"
         },
         "mode": "markers",
         "name": "Africa",
         "showlegend": false,
         "type": "scattergl",
         "x": [
          5745.160213,
          2756.953672,
          1277.897616,
          4551.14215,
          807.1985855,
          559.6032309999998,
          2367.983282,
          956.7529907,
          797.9081006,
          1267.100083,
          673.7478181,
          4879.507522,
          2602.710169,
          2879.468067,
          3503.729636,
          927.8253427,
          524.8758493,
          577.8607471,
          15113.36194,
          835.8096107999999,
          876.032569,
          857.2503577,
          838.1239671,
          1348.225791,
          797.2631074,
          572.1995694,
          17364.275380000006,
          1302.878658,
          632.8039209,
          618.0140640999998,
          1481.150189,
          3688.037739,
          2702.620356,
          462.2114149,
          4191.100511,
          909.7221354,
          1576.97375,
          5267.219353,
          881.5706467,
          1890.218117,
          1518.479984,
          1465.010784,
          1176.807031,
          8568.266228,
          1895.544073,
          3895.384018,
          874.2426069,
          1344.577953,
          3560.2331740000004,
          682.2662267999998,
          1408.678565,
          788.8550411
         ],
         "xaxis": "x7",
         "y": [
          61.368,
          39.942,
          50.904,
          61.484,
          48.122,
          47.471,
          52.96100000000001,
          48.295,
          49.517,
          52.933,
          47.784,
          56.695,
          53.983,
          48.812,
          56.006,
          43.662,
          43.89,
          44.916,
          56.56399999999999,
          45.58,
          53.744,
          42.89100000000001,
          39.327,
          58.76600000000001,
          55.078,
          44.852,
          62.155,
          48.969,
          45.642,
          43.916,
          53.599,
          66.711,
          59.65,
          42.795,
          58.968,
          42.598,
          45.826,
          69.885,
          46.218,
          60.351000000000006,
          52.379,
          38.445,
          42.955,
          58.161,
          50.338,
          55.56100000000001,
          50.608,
          55.471,
          64.048,
          49.849,
          51.82100000000001,
          60.363
         ],
         "yaxis": "y7"
        },
        {
         "hovertemplate": "continent=Africa<br>year=1987<br>gdpPercap=%{x}<br>lifeExp=%{y}<br>pop=%{marker.size}<extra></extra>",
         "legendgroup": "Africa",
         "marker": {
          "color": "#00cc96",
          "size": [
           23254956,
           7874230,
           4243788,
           1151184,
           7586551,
           5126023,
           10780667,
           2840009,
           5498955,
           395114,
           35481645,
           2064095,
           10761098,
           311025,
           52799062,
           341244,
           2915959,
           42999530,
           880397,
           848406,
           14168101,
           5650262,
           927524,
           21198082,
           1599200,
           2269414,
           3799845,
           10568642,
           7824747,
           7634008,
           1841240,
           1042663,
           22987397,
           12891952,
           1278184,
           7332638,
           81551520,
           562035,
           6349365,
           110812,
           7171347,
           3868905,
           6921858,
           35933379,
           24725960,
           779348,
           23040630,
           3154264,
           7724976,
           15283050,
           7272406,
           9216418
          ],
          "sizemode": "area",
          "sizeref": 3296707.74,
          "symbol": "circle"
         },
         "mode": "markers",
         "name": "Africa",
         "showlegend": false,
         "type": "scattergl",
         "x": [
          5681.358539,
          2430.208311,
          1225.85601,
          6205.88385,
          912.0631417,
          621.8188188999999,
          2602.664206,
          844.8763504000002,
          952.386129,
          1315.980812,
          672.774812,
          4201.194936999998,
          2156.9560690000008,
          2880.102568,
          3885.46071,
          966.8968149,
          521.1341333,
          573.7413142000001,
          11864.40844,
          611.6588611000002,
          847.0061135,
          805.5724717999999,
          736.4153921,
          1361.936856,
          773.9932140999998,
          506.1138573,
          11770.5898,
          1155.441948,
          635.5173633999998,
          684.1715576,
          1421.603576,
          4783.586903,
          2755.046991,
          389.8761846,
          3693.731337,
          668.3000228,
          1385.029563,
          5303.377488,
          847.991217,
          1516.525457,
          1441.72072,
          1294.4477880000004,
          1093.244963,
          7825.823398,
          1507.819159,
          3984.839812,
          831.8220794,
          1202.201361,
          3810.419296,
          617.7244065,
          1213.315116,
          706.1573059
         ],
         "xaxis": "x8",
         "y": [
          65.79899999999999,
          39.906,
          52.337,
          63.622,
          49.557,
          48.21100000000001,
          54.985,
          50.485,
          51.051,
          54.926,
          47.412,
          57.47,
          54.655,
          50.04,
          59.797,
          45.664,
          46.453,
          46.684,
          60.19,
          49.265,
          55.729,
          45.552,
          41.245,
          59.339,
          57.18,
          46.027,
          66.234,
          49.35,
          47.457,
          46.364,
          56.145,
          68.74,
          62.677,
          42.861,
          60.835,
          44.555,
          46.886,
          71.913,
          44.02,
          61.728,
          55.769,
          40.006,
          44.50100000000001,
          60.834,
          51.744,
          57.678,
          51.535,
          56.941,
          66.89399999999999,
          51.50899999999999,
          50.82100000000001,
          62.351000000000006
         ],
         "yaxis": "y8"
        },
        {
         "hovertemplate": "continent=Africa<br>year=1992<br>gdpPercap=%{x}<br>lifeExp=%{y}<br>pop=%{marker.size}<extra></extra>",
         "legendgroup": "Africa",
         "marker": {
          "color": "#00cc96",
          "size": [
           26298373,
           8735988,
           4981671,
           1342614,
           8878303,
           5809236,
           12467171,
           3265124,
           6429417,
           454429,
           41672143,
           2409073,
           12772596,
           384156,
           59402198,
           387838,
           3668440,
           52088559,
           985739,
           1025384,
           16278738,
           6990574,
           1050938,
           25020539,
           1803195,
           1912974,
           4364501,
           12210395,
           10014249,
           8416215,
           2119465,
           1096202,
           25798239,
           13160731,
           1554253,
           8392818,
           93364244,
           622191,
           7290203,
           125911,
           8307920,
           4260884,
           6099799,
           39964159,
           28227588,
           962344,
           26605473,
           3747553,
           8523077,
           18252190,
           8381163,
           10704340
          ],
          "sizemode": "area",
          "sizeref": 3296707.74,
          "symbol": "circle"
         },
         "mode": "markers",
         "name": "Africa",
         "showlegend": false,
         "type": "scattergl",
         "x": [
          5023.216647,
          2627.845685,
          1191.207681,
          7954.111645,
          931.7527731,
          631.6998778,
          1793.1632780000002,
          747.9055252,
          1058.0643,
          1246.90737,
          457.7191807,
          4016.239529,
          1648.073791,
          2377.156192000001,
          3794.755195,
          1132.055034,
          582.8585102000002,
          421.3534653,
          13522.15752,
          665.6244126,
          925.060154,
          794.3484384,
          745.5398706,
          1341.9217210000004,
          977.4862725,
          636.6229191000001,
          9640.138501,
          1040.67619,
          563.2000145,
          739.014375,
          1361.369784,
          6058.253846000001,
          2948.047252,
          410.8968239,
          3804.537999,
          581.182725,
          1619.848217,
          6101.255823,
          737.0685949,
          1428.777814,
          1367.899369,
          1068.696278,
          926.9602964,
          7225.069257999998,
          1492.197043,
          3553.0224,
          825.682454,
          1034.298904,
          4332.720164,
          644.1707968999998,
          1210.884633,
          693.4207856
         ],
         "xaxis": "x",
         "y": [
          67.744,
          40.647,
          53.919,
          62.745,
          50.26,
          44.736,
          54.31399999999999,
          49.396,
          51.724,
          57.93899999999999,
          45.548,
          56.433,
          52.044,
          51.604,
          63.674,
          47.545,
          49.99100000000001,
          48.091,
          61.36600000000001,
          52.644,
          57.50100000000001,
          48.576,
          43.26600000000001,
          59.285,
          59.685,
          40.802,
          68.755,
          52.214,
          49.42,
          48.38800000000001,
          58.333,
          69.745,
          65.393,
          44.284,
          61.999,
          47.39100000000001,
          47.472,
          73.615,
          23.599,
          62.742,
          58.19600000000001,
          38.333,
          39.658,
          61.88800000000001,
          53.556,
          58.474,
          50.44,
          58.06100000000001,
          70.001,
          48.825,
          46.1,
          60.377
         ],
         "yaxis": "y"
        },
        {
         "hovertemplate": "continent=Africa<br>year=1997<br>gdpPercap=%{x}<br>lifeExp=%{y}<br>pop=%{marker.size}<extra></extra>",
         "legendgroup": "Africa",
         "marker": {
          "color": "#00cc96",
          "size": [
           29072015,
           9875024,
           6066080,
           1536536,
           10352843,
           6121610,
           14195809,
           3696513,
           7562011,
           527982,
           47798986,
           2800947,
           14625967,
           417908,
           66134291,
           439971,
           4058319,
           59861301,
           1126189,
           1235767,
           18418288,
           8048834,
           1193708,
           28263827,
           1982823,
           2200725,
           4759670,
           14165114,
           10419991,
           9384984,
           2444741,
           1149818,
           28529501,
           16603334,
           1774766,
           9666252,
           106207839,
           684810,
           7212583,
           145608,
           9535314,
           4578212,
           6633514,
           42835005,
           32160729,
           1054486,
           30686889,
           4320890,
           9231669,
           21210254,
           9417789,
           11404948
          ],
          "sizemode": "area",
          "sizeref": 3296707.74,
          "symbol": "circle"
         },
         "mode": "markers",
         "name": "Africa",
         "showlegend": false,
         "type": "scattergl",
         "x": [
          4797.295051,
          2277.140884,
          1232.975292,
          8647.142313,
          946.2949618,
          463.1151478,
          1694.337469,
          740.5063317,
          1004.961353,
          1173.618235,
          312.188423,
          3484.164376,
          1786.265407,
          1895.016984,
          4173.181797,
          2814.480755,
          913.47079,
          515.8894013,
          14722.841880000002,
          653.7301704,
          1005.245812,
          869.4497667999998,
          796.6644681,
          1360.4850210000004,
          1186.147994,
          609.1739508,
          9467.446056,
          986.2958956,
          692.2758102999999,
          790.2579846,
          1483.136136,
          7425.705295000002,
          2982.101858,
          472.34607710000006,
          3899.52426,
          580.3052092,
          1624.941275,
          6071.941411,
          589.9445051,
          1339.076036,
          1392.368347,
          574.6481576,
          930.5964284,
          7479.188244,
          1632.2107640000004,
          3876.76846,
          789.1862231,
          982.2869243,
          4876.798614,
          816.559081,
          1071.353818,
          792.4499602999998
         ],
         "xaxis": "x2",
         "y": [
          69.152,
          40.963,
          54.777,
          52.556,
          50.324,
          45.326,
          52.199,
          46.066,
          51.573,
          60.66,
          42.587,
          52.962,
          47.99100000000001,
          53.157,
          67.217,
          48.245,
          53.378,
          49.402,
          60.46100000000001,
          55.861,
          58.556,
          51.455,
          44.87300000000001,
          54.407,
          55.558,
          42.221,
          71.555,
          54.978,
          47.495,
          49.903,
          60.43,
          70.736,
          67.66,
          46.344,
          58.909,
          51.313,
          47.464,
          74.77199999999998,
          36.087,
          63.306,
          60.187,
          39.897,
          43.795,
          60.236,
          55.37300000000001,
          54.289,
          48.466,
          58.39,
          71.973,
          44.578,
          40.238,
          46.809
         ],
         "yaxis": "y2"
        },
        {
         "hovertemplate": "continent=Africa<br>year=2002<br>gdpPercap=%{x}<br>lifeExp=%{y}<br>pop=%{marker.size}<extra></extra>",
         "legendgroup": "Africa",
         "marker": {
          "color": "#00cc96",
          "size": [
           31287142,
           10866106,
           7026113,
           1630347,
           12251209,
           7021078,
           15929988,
           4048013,
           8835739,
           614382,
           55379852,
           3328795,
           16252726,
           447416,
           73312559,
           495627,
           4414865,
           67946797,
           1299304,
           1457766,
           20550751,
           8807818,
           1332459,
           31386842,
           2046772,
           2814651,
           5368585,
           16473477,
           11824495,
           10580176,
           2828858,
           1200206,
           31167783,
           18473780,
           1972153,
           11140655,
           119901274,
           743981,
           7852401,
           170372,
           10870037,
           5359092,
           7753310,
           44433622,
           37090298,
           1130269,
           34593779,
           4977378,
           9770575,
           24739869,
           10595811,
           11926563
          ],
          "sizemode": "area",
          "sizeref": 3296707.74,
          "symbol": "circle"
         },
         "mode": "markers",
         "name": "Africa",
         "showlegend": false,
         "type": "scattergl",
         "x": [
          5288.040382,
          2773.287312,
          1372.877931,
          11003.60508,
          1037.645221,
          446.4035126,
          1934.011449,
          738.6906068,
          1156.18186,
          1075.811558,
          241.1658765,
          3484.06197,
          1648.800823,
          1908.260867,
          4754.604414,
          7703.4959,
          765.3500015,
          530.0535319,
          12521.71392,
          660.5855997,
          1111.9845779999996,
          945.5835837,
          575.7047176,
          1287.514732,
          1275.184575,
          531.4823679,
          9534.677467,
          894.6370822,
          665.4231186000002,
          951.4097518,
          1579.019543,
          9021.815894,
          3258.495584,
          633.6179466,
          4072.324751,
          601.0745012,
          1615.286395,
          6316.1652,
          785.6537647999999,
          1353.09239,
          1519.635262,
          699.4897129999998,
          882.0818218000002,
          7710.946444,
          1993.398314,
          4128.116943,
          899.0742111,
          886.2205765000001,
          5722.895654999998,
          927.7210018,
          1071.6139380000004,
          672.0386227000001
         ],
         "xaxis": "x3",
         "y": [
          70.994,
          41.003,
          54.40600000000001,
          46.63399999999999,
          50.65,
          47.36,
          49.856,
          43.308,
          50.525,
          62.974,
          44.966,
          52.97,
          46.832,
          53.37300000000001,
          69.806,
          49.348,
          55.24,
          50.725,
          56.761,
          58.041,
          58.453,
          53.676,
          45.504,
          50.992,
          44.593,
          43.753,
          72.737,
          57.286,
          45.00899999999999,
          51.81800000000001,
          62.247,
          71.954,
          69.615,
          44.026,
          51.479,
          54.496,
          46.608,
          75.744,
          43.413,
          64.337,
          61.6,
          41.012,
          45.93600000000001,
          53.365,
          56.369,
          43.869,
          49.651,
          57.56100000000001,
          73.042,
          47.813,
          39.19300000000001,
          39.989
         ],
         "yaxis": "y3"
        },
        {
         "hovertemplate": "continent=Africa<br>year=2007<br>gdpPercap=%{x}<br>lifeExp=%{y}<br>pop=%{marker.size}<extra></extra>",
         "legendgroup": "Africa",
         "marker": {
          "color": "#00cc96",
          "size": [
           33333216,
           12420476,
           8078314,
           1639131,
           14326203,
           8390505,
           17696293,
           4369038,
           10238807,
           710960,
           64606759,
           3800610,
           18013409,
           496374,
           80264543,
           551201,
           4906585,
           76511887,
           1454867,
           1688359,
           22873338,
           9947814,
           1472041,
           35610177,
           2012649,
           3193942,
           6036914,
           19167654,
           13327079,
           12031795,
           3270065,
           1250882,
           33757175,
           19951656,
           2055080,
           12894865,
           135031164,
           798094,
           8860588,
           199579,
           12267493,
           6144562,
           9118773,
           43997828,
           42292929,
           1133066,
           38139640,
           5701579,
           10276158,
           29170398,
           11746035,
           12311143
          ],
          "sizemode": "area",
          "sizeref": 3296707.74,
          "symbol": "circle"
         },
         "mode": "markers",
         "name": "Africa",
         "showlegend": false,
         "type": "scattergl",
         "x": [
          6223.367465,
          4797.231267,
          1441.284873,
          12569.85177,
          1217.032994,
          430.0706916,
          2042.09524,
          706.016537,
          1704.063724,
          986.1478792,
          277.5518587,
          3632.557798,
          1544.750112,
          2082.4815670000007,
          5581.180998,
          12154.08975,
          641.3695236000002,
          690.8055759,
          13206.48452,
          752.7497265,
          1327.60891,
          942.6542111,
          579.2317429999998,
          1463.249282,
          1569.331442,
          414.5073415,
          12057.49928,
          1044.770126,
          759.3499101,
          1042.581557,
          1803.151496,
          10956.99112,
          3820.17523,
          823.6856205,
          4811.060429,
          619.6768923999998,
          2013.977305,
          7670.122558,
          863.0884639000002,
          1598.435089,
          1712.472136,
          862.5407561000002,
          926.1410683,
          9269.657808,
          2602.394995,
          4513.480643,
          1107.482182,
          882.9699437999999,
          7092.923025,
          1056.380121,
          1271.211593,
          469.70929810000007
         ],
         "xaxis": "x4",
         "y": [
          72.301,
          42.731,
          56.728,
          50.728,
          52.295,
          49.58,
          50.43,
          44.74100000000001,
          50.651,
          65.152,
          46.462,
          55.322,
          48.328,
          54.791,
          71.33800000000002,
          51.57899999999999,
          58.04,
          52.947,
          56.735,
          59.448,
          60.022,
          56.007,
          46.38800000000001,
          54.11,
          42.592,
          45.678,
          73.952,
          59.44300000000001,
          48.303,
          54.467,
          64.164,
          72.801,
          71.164,
          42.082,
          52.90600000000001,
          56.867,
          46.859,
          76.442,
          46.242,
          65.528,
          63.062,
          42.56800000000001,
          48.159,
          49.339,
          58.556,
          39.613,
          52.517,
          58.42,
          73.923,
          51.542,
          42.38399999999999,
          43.487
         ],
         "yaxis": "y4"
        },
        {
         "hovertemplate": "continent=Americas<br>year=1952<br>gdpPercap=%{x}<br>lifeExp=%{y}<br>pop=%{marker.size}<extra></extra>",
         "legendgroup": "Americas",
         "marker": {
          "color": "#ab63fa",
          "size": [
           17876956,
           2883315,
           56602560,
           14785584,
           6377619,
           12350771,
           926317,
           6007797,
           2491346,
           3548753,
           2042865,
           3146381,
           3201488,
           1517453,
           1426095,
           30144317,
           1165790,
           940080,
           1555876,
           8025700,
           2227000,
           662850,
           157553000,
           2252965,
           5439568
          ],
          "sizemode": "area",
          "sizeref": 3296707.74,
          "symbol": "circle"
         },
         "mode": "markers",
         "name": "Americas",
         "showlegend": true,
         "type": "scattergl",
         "x": [
          5911.315053,
          2677.326347,
          2108.944355,
          11367.16112,
          3939.978789,
          2144.115096,
          2627.0094710000008,
          5586.53878,
          1397.717137,
          3522.110717,
          3048.3029,
          2428.2377690000008,
          1840.366939,
          2194.926204,
          2898.530881,
          3478.125529,
          3112.363948,
          2480.380334,
          1952.308701,
          3758.523437,
          3081.959785,
          3023.271928,
          13990.482080000002,
          5716.766744,
          7689.799761
         ],
         "xaxis": "x9",
         "y": [
          62.485,
          40.414,
          50.917,
          68.75,
          54.745,
          50.643,
          57.206,
          59.42100000000001,
          45.928,
          48.357,
          45.262,
          42.023,
          37.579,
          41.912,
          58.53,
          50.789,
          42.31399999999999,
          55.191,
          62.649,
          43.902,
          64.28,
          59.1,
          68.44,
          66.071,
          55.088
         ],
         "yaxis": "y9"
        },
        {
         "hovertemplate": "continent=Americas<br>year=1957<br>gdpPercap=%{x}<br>lifeExp=%{y}<br>pop=%{marker.size}<extra></extra>",
         "legendgroup": "Americas",
         "marker": {
          "color": "#ab63fa",
          "size": [
           19610538,
           3211738,
           65551171,
           17010154,
           7048426,
           14485993,
           1112300,
           6640752,
           2923186,
           4058385,
           2355805,
           3640876,
           3507701,
           1770390,
           1535090,
           35015548,
           1358828,
           1063506,
           1770902,
           9146100,
           2260000,
           764900,
           171984000,
           2424959,
           6702668
          ],
          "sizemode": "area",
          "sizeref": 3296707.74,
          "symbol": "circle"
         },
         "mode": "markers",
         "name": "Americas",
         "showlegend": false,
         "type": "scattergl",
         "x": [
          6856.8562120000015,
          2127.686326,
          2487.365989,
          12489.95006,
          4315.622723,
          2323.805581,
          2990.010802,
          6092.1743590000015,
          1544.402995,
          3780.546651,
          3421.523218,
          2617.155967,
          1726.887882,
          2220.487682,
          4756.525781,
          4131.546641,
          3457.415947,
          2961.800905,
          2046.154706,
          4245.256697999999,
          3907.156189,
          4100.3934,
          14847.12712,
          6150.772969,
          9802.466526
         ],
         "xaxis": "x10",
         "y": [
          64.399,
          41.89,
          53.285,
          69.96,
          56.074,
          55.118,
          60.026,
          62.325,
          49.828,
          51.356,
          48.57,
          44.142,
          40.696,
          44.665,
          62.61,
          55.19,
          45.432,
          59.201,
          63.19600000000001,
          46.26300000000001,
          68.54,
          61.8,
          69.49,
          67.044,
          57.907
         ],
         "yaxis": "y10"
        },
        {
         "hovertemplate": "continent=Americas<br>year=1962<br>gdpPercap=%{x}<br>lifeExp=%{y}<br>pop=%{marker.size}<extra></extra>",
         "legendgroup": "Americas",
         "marker": {
          "color": "#ab63fa",
          "size": [
           21283783,
           3593918,
           76039390,
           18985849,
           7961258,
           17009885,
           1345187,
           7254373,
           3453434,
           4681707,
           2747687,
           4208858,
           3880130,
           2090162,
           1665128,
           41121485,
           1590597,
           1215725,
           2009813,
           10516500,
           2448046,
           887498,
           186538000,
           2598466,
           8143375
          ],
          "sizemode": "area",
          "sizeref": 3296707.74,
          "symbol": "circle"
         },
         "mode": "markers",
         "name": "Americas",
         "showlegend": false,
         "type": "scattergl",
         "x": [
          7133.166023000002,
          2180.972546,
          3336.585802,
          13462.48555,
          4519.094331,
          2492.351109,
          3460.937025,
          5180.75591,
          1662.137359,
          4086.114078,
          3776.803627,
          2750.364446,
          1796.589032,
          2291.156835,
          5246.107524,
          4581.609385,
          3634.364406,
          3536.540301,
          2148.027146,
          4957.037982,
          5108.34463,
          4997.523971000001,
          16173.14586,
          5603.357717,
          8422.974165000001
         ],
         "xaxis": "x11",
         "y": [
          65.142,
          43.428,
          55.665,
          71.3,
          57.924,
          57.863,
          62.842,
          65.24600000000001,
          53.459,
          54.64,
          52.307,
          46.95399999999999,
          43.59,
          48.041,
          65.61,
          58.299,
          48.632,
          61.817,
          64.361,
          49.096,
          69.62,
          64.9,
          70.21,
          68.253,
          60.77
         ],
         "yaxis": "y11"
        },
        {
         "hovertemplate": "continent=Americas<br>year=1967<br>gdpPercap=%{x}<br>lifeExp=%{y}<br>pop=%{marker.size}<extra></extra>",
         "legendgroup": "Americas",
         "marker": {
          "color": "#ab63fa",
          "size": [
           22934225,
           4040665,
           88049823,
           20819767,
           8858908,
           19764027,
           1588717,
           8139332,
           4049146,
           5432424,
           3232927,
           4690773,
           4318137,
           2500689,
           1861096,
           47995559,
           1865490,
           1405486,
           2287985,
           12132200,
           2648961,
           960155,
           198712000,
           2748579,
           9709552
          ],
          "sizemode": "area",
          "sizeref": 3296707.74,
          "symbol": "circle"
         },
         "mode": "markers",
         "name": "Americas",
         "showlegend": false,
         "type": "scattergl",
         "x": [
          8052.953020999998,
          2586.886053,
          3429.864357,
          16076.58803,
          5106.654313,
          2678.729839,
          4161.727834,
          5690.268015,
          1653.7230029999996,
          4579.074215,
          4358.595393,
          3242.531147,
          1452.057666,
          2538.269358,
          6124.703450999999,
          5754.733883,
          4643.393534000002,
          4421.009084,
          2299.376311,
          5788.09333,
          6929.277714,
          5621.368472,
          19530.36557,
          5444.61962,
          9541.474188
         ],
         "xaxis": "x12",
         "y": [
          65.634,
          45.032,
          57.632,
          72.13,
          60.523,
          59.963,
          65.42399999999999,
          68.29,
          56.75100000000001,
          56.678,
          55.855,
          50.01600000000001,
          46.243,
          50.924,
          67.51,
          60.11,
          51.88399999999999,
          64.071,
          64.95100000000001,
          51.445,
          71.1,
          65.4,
          70.76,
          68.468,
          63.479
         ],
         "yaxis": "y12"
        },
        {
         "hovertemplate": "continent=Americas<br>year=1972<br>gdpPercap=%{x}<br>lifeExp=%{y}<br>pop=%{marker.size}<extra></extra>",
         "legendgroup": "Americas",
         "marker": {
          "color": "#ab63fa",
          "size": [
           24779799,
           4565872,
           100840058,
           22284500,
           9717524,
           22542890,
           1834796,
           8831348,
           4671329,
           6298651,
           3790903,
           5149581,
           4698301,
           2965146,
           1997616,
           55984294,
           2182908,
           1616384,
           2614104,
           13954700,
           2847132,
           975199,
           209896000,
           2829526,
           11515649
          ],
          "sizemode": "area",
          "sizeref": 3296707.74,
          "symbol": "circle"
         },
         "mode": "markers",
         "name": "Americas",
         "showlegend": false,
         "type": "scattergl",
         "x": [
          9443.038526,
          2980.331339,
          4985.711467,
          18970.57086,
          5494.024437,
          3264.660041,
          5118.146939,
          5305.445256,
          2189.874499,
          5280.99471,
          4520.246008,
          4031.408271,
          1654.456946,
          2529.842345,
          7433.889293000001,
          6809.406690000002,
          4688.593267,
          5364.249663000001,
          2523.337977,
          5937.827283,
          9123.041742,
          6619.551418999999,
          21806.03594,
          5703.408898,
          10505.25966
         ],
         "xaxis": "x5",
         "y": [
          67.065,
          46.714,
          59.504,
          72.88,
          63.441,
          61.62300000000001,
          67.84899999999999,
          70.723,
          59.631,
          58.79600000000001,
          58.207,
          53.738,
          48.042,
          53.88399999999999,
          69,
          62.361,
          55.151,
          66.21600000000001,
          65.815,
          55.448,
          72.16,
          65.9,
          71.34,
          68.673,
          65.712
         ],
         "yaxis": "y5"
        },
        {
         "hovertemplate": "continent=Americas<br>year=1977<br>gdpPercap=%{x}<br>lifeExp=%{y}<br>pop=%{marker.size}<extra></extra>",
         "legendgroup": "Americas",
         "marker": {
          "color": "#ab63fa",
          "size": [
           26983828,
           5079716,
           114313951,
           23796400,
           10599793,
           25094412,
           2108457,
           9537988,
           5302800,
           7278866,
           4282586,
           5703430,
           4908554,
           3055235,
           2156814,
           63759976,
           2554598,
           1839782,
           2984494,
           15990099,
           3080828,
           1039009,
           220239000,
           2873520,
           13503563
          ],
          "sizemode": "area",
          "sizeref": 3296707.74,
          "symbol": "circle"
         },
         "mode": "markers",
         "name": "Americas",
         "showlegend": false,
         "type": "scattergl",
         "x": [
          10079.02674,
          3548.097832,
          6660.118654,
          22090.88306,
          4756.763836,
          3815.80787,
          5926.876967,
          6380.494965999998,
          2681.9889,
          6679.62326,
          5138.922374,
          4879.992748,
          1874.298931,
          3203.208066,
          6650.195573,
          7674.929108,
          5486.371089,
          5351.912144,
          3248.373311,
          6281.290854999998,
          9770.524921,
          7899.554209000001,
          24072.63213,
          6504.339663000002,
          13143.95095
         ],
         "xaxis": "x6",
         "y": [
          68.48100000000001,
          50.023,
          61.489,
          74.21,
          67.05199999999999,
          63.837,
          70.75,
          72.649,
          61.788,
          61.31,
          56.69600000000001,
          56.029,
          49.923,
          57.402,
          70.11,
          65.032,
          57.47,
          68.681,
          66.35300000000001,
          58.447,
          73.44,
          68.3,
          73.38,
          69.48100000000001,
          67.456
         ],
         "yaxis": "y6"
        },
        {
         "hovertemplate": "continent=Americas<br>year=1982<br>gdpPercap=%{x}<br>lifeExp=%{y}<br>pop=%{marker.size}<extra></extra>",
         "legendgroup": "Americas",
         "marker": {
          "color": "#ab63fa",
          "size": [
           29341374,
           5642224,
           128962939,
           25201900,
           11487112,
           27764644,
           2424367,
           9789224,
           5968349,
           8365850,
           4474873,
           6395630,
           5198399,
           3669448,
           2298309,
           71640904,
           2979423,
           2036305,
           3366439,
           18125129,
           3279001,
           1116479,
           232187835,
           2953997,
           15620766
          ],
          "sizemode": "area",
          "sizeref": 3296707.74,
          "symbol": "circle"
         },
         "mode": "markers",
         "name": "Americas",
         "showlegend": false,
         "type": "scattergl",
         "x": [
          8997.897412,
          3156.510452,
          7030.835878,
          22898.79214,
          5095.6657380000015,
          4397.575659,
          5262.734751,
          7316.918106999998,
          2861.092386,
          7213.791267,
          4098.344175,
          4820.49479,
          2011.159549,
          3121.7607940000007,
          6068.05135,
          9611.147541,
          3470.3381560000007,
          7009.601598,
          4258.503604,
          6434.501797,
          10330.98915,
          9119.528607,
          25009.55914,
          6920.223051000001,
          11152.41011
         ],
         "xaxis": "x7",
         "y": [
          69.942,
          53.859,
          63.33600000000001,
          75.76,
          70.565,
          66.653,
          73.45,
          73.717,
          63.727,
          64.342,
          56.604,
          58.137,
          51.46100000000001,
          60.909,
          71.21,
          67.405,
          59.298,
          70.472,
          66.874,
          61.40600000000001,
          73.75,
          68.832,
          74.65,
          70.805,
          68.557
         ],
         "yaxis": "y7"
        },
        {
         "hovertemplate": "continent=Americas<br>year=1987<br>gdpPercap=%{x}<br>lifeExp=%{y}<br>pop=%{marker.size}<extra></extra>",
         "legendgroup": "Americas",
         "marker": {
          "color": "#ab63fa",
          "size": [
           31620918,
           6156369,
           142938076,
           26549700,
           12463354,
           30964245,
           2799811,
           10239839,
           6655297,
           9545158,
           4842194,
           7326406,
           5756203,
           4372203,
           2326606,
           80122492,
           3344353,
           2253639,
           3886512,
           20195924,
           3444468,
           1191336,
           242803533,
           3045153,
           17910182
          ],
          "sizemode": "area",
          "sizeref": 3296707.74,
          "symbol": "circle"
         },
         "mode": "markers",
         "name": "Americas",
         "showlegend": false,
         "type": "scattergl",
         "x": [
          9139.671389,
          2753.69149,
          7807.095818000002,
          26626.51503,
          5547.063754,
          4903.2191,
          5629.915318,
          7532.924762999999,
          2899.842175,
          6481.776993,
          4140.442097,
          4246.485974,
          1823.015995,
          3023.096699,
          6351.237495,
          8688.156003,
          2955.984375,
          7034.779161,
          3998.875695,
          6360.943444,
          12281.34191,
          7388.597823,
          29884.350410000006,
          7452.398969,
          9883.584648
         ],
         "xaxis": "x8",
         "y": [
          70.774,
          57.25100000000001,
          65.205,
          76.86,
          72.492,
          67.768,
          74.752,
          74.17399999999998,
          66.046,
          67.23100000000001,
          63.154,
          60.782,
          53.636,
          64.492,
          71.77,
          69.498,
          62.008,
          71.523,
          67.378,
          64.134,
          74.63,
          69.582,
          75.02,
          71.918,
          70.19
         ],
         "yaxis": "y8"
        },
        {
         "hovertemplate": "continent=Americas<br>year=1992<br>gdpPercap=%{x}<br>lifeExp=%{y}<br>pop=%{marker.size}<extra></extra>",
         "legendgroup": "Americas",
         "marker": {
          "color": "#ab63fa",
          "size": [
           33958947,
           6893451,
           155975974,
           28523502,
           13572994,
           34202721,
           3173216,
           10723260,
           7351181,
           10748394,
           5274649,
           8486949,
           6326682,
           5077347,
           2378618,
           88111030,
           4017939,
           2484997,
           4483945,
           22430449,
           3585176,
           1183669,
           256894189,
           3149262,
           20265563
          ],
          "sizemode": "area",
          "sizeref": 3296707.74,
          "symbol": "circle"
         },
         "mode": "markers",
         "name": "Americas",
         "showlegend": false,
         "type": "scattergl",
         "x": [
          9308.41871,
          2961.699694,
          6950.283020999998,
          26342.88426,
          7596.125964,
          5444.648617,
          6160.416317,
          5592.843963,
          3044.214214,
          7103.702595000002,
          4444.2317,
          4439.45084,
          1456.309517,
          3081.694603,
          7404.923685,
          9472.384295,
          2170.151724,
          6618.74305,
          4196.411078,
          4446.380924,
          14641.58711,
          7370.990932,
          32003.93224,
          8137.004775,
          10733.92631
         ],
         "xaxis": "x",
         "y": [
          71.868,
          59.957,
          67.057,
          77.95,
          74.126,
          68.421,
          75.71300000000002,
          74.414,
          68.457,
          69.613,
          66.798,
          63.37300000000001,
          55.089,
          66.399,
          71.766,
          71.455,
          65.843,
          72.462,
          68.225,
          66.458,
          73.911,
          69.862,
          76.09,
          72.752,
          71.15
         ],
         "yaxis": "y"
        },
        {
         "hovertemplate": "continent=Americas<br>year=1997<br>gdpPercap=%{x}<br>lifeExp=%{y}<br>pop=%{marker.size}<extra></extra>",
         "legendgroup": "Americas",
         "marker": {
          "color": "#ab63fa",
          "size": [
           36203463,
           7693188,
           168546719,
           30305843,
           14599929,
           37657830,
           3518107,
           10983007,
           7992357,
           11911819,
           5783439,
           9803875,
           6913545,
           5867957,
           2531311,
           95895146,
           4609572,
           2734531,
           5154123,
           24748122,
           3759430,
           1138101,
           272911760,
           3262838,
           22374398
          ],
          "sizemode": "area",
          "sizeref": 3296707.74,
          "symbol": "circle"
         },
         "mode": "markers",
         "name": "Americas",
         "showlegend": false,
         "type": "scattergl",
         "x": [
          10967.28195,
          3326.143191,
          7957.980823999998,
          28954.92589,
          10118.05318,
          6117.361746000001,
          6677.045314,
          5431.990415,
          3614.101285,
          7429.4558769999985,
          5154.825496,
          4684.313807,
          1341.726931,
          3160.454906,
          7121.924704000001,
          9767.29753,
          2253.023004,
          7113.692252,
          4247.400261,
          5838.347657,
          16999.4333,
          8792.573126000001,
          35767.43303,
          9230.240708,
          10165.49518
         ],
         "xaxis": "x2",
         "y": [
          73.275,
          62.05,
          69.388,
          78.61,
          75.816,
          70.313,
          77.26,
          76.15100000000002,
          69.957,
          72.312,
          69.535,
          66.322,
          56.67100000000001,
          67.65899999999999,
          72.262,
          73.67,
          68.426,
          73.738,
          69.4,
          68.38600000000001,
          74.917,
          69.465,
          76.81,
          74.223,
          72.146
         ],
         "yaxis": "y2"
        },
        {
         "hovertemplate": "continent=Americas<br>year=2002<br>gdpPercap=%{x}<br>lifeExp=%{y}<br>pop=%{marker.size}<extra></extra>",
         "legendgroup": "Americas",
         "marker": {
          "color": "#ab63fa",
          "size": [
           38331121,
           8445134,
           179914212,
           31902268,
           15497046,
           41008227,
           3834934,
           11226999,
           8650322,
           12921234,
           6353681,
           11178650,
           7607651,
           6677328,
           2664659,
           102479927,
           5146848,
           2990875,
           5884491,
           26769436,
           3859606,
           1101832,
           287675526,
           3363085,
           24287670
          ],
          "sizemode": "area",
          "sizeref": 3296707.74,
          "symbol": "circle"
         },
         "mode": "markers",
         "name": "Americas",
         "showlegend": false,
         "type": "scattergl",
         "x": [
          8797.640716,
          3413.26269,
          8131.212843000001,
          33328.96507,
          10778.78385,
          5755.259962,
          7723.447195000002,
          6340.646683,
          4563.808154,
          5773.044512,
          5351.568665999999,
          4858.347495,
          1270.364932,
          3099.72866,
          6994.774861,
          10742.44053,
          2474.548819,
          7356.0319340000015,
          3783.674243,
          5909.020073,
          18855.60618,
          11460.60023,
          39097.09955,
          7727.002004000001,
          8605.047831
         ],
         "xaxis": "x3",
         "y": [
          74.34,
          63.883,
          71.006,
          79.77,
          77.86,
          71.682,
          78.123,
          77.158,
          70.847,
          74.173,
          70.734,
          68.97800000000001,
          58.137,
          68.565,
          72.047,
          74.902,
          70.836,
          74.712,
          70.755,
          69.906,
          77.778,
          68.976,
          77.31,
          75.307,
          72.766
         ],
         "yaxis": "y3"
        },
        {
         "hovertemplate": "continent=Americas<br>year=2007<br>gdpPercap=%{x}<br>lifeExp=%{y}<br>pop=%{marker.size}<extra></extra>",
         "legendgroup": "Americas",
         "marker": {
          "color": "#ab63fa",
          "size": [
           40301927,
           9119152,
           190010647,
           33390141,
           16284741,
           44227550,
           4133884,
           11416987,
           9319622,
           13755680,
           6939688,
           12572928,
           8502814,
           7483763,
           2780132,
           108700891,
           5675356,
           3242173,
           6667147,
           28674757,
           3942491,
           1056608,
           301139947,
           3447496,
           26084662
          ],
          "sizemode": "area",
          "sizeref": 3296707.74,
          "symbol": "circle"
         },
         "mode": "markers",
         "name": "Americas",
         "showlegend": false,
         "type": "scattergl",
         "x": [
          12779.37964,
          3822.137084,
          9065.800825,
          36319.23501,
          13171.63885,
          7006.580419,
          9645.06142,
          8948.102923,
          6025.3747520000015,
          6873.262326000001,
          5728.353514,
          5186.050003,
          1201.637154,
          3548.3308460000007,
          7320.8802620000015,
          11977.57496,
          2749.320965,
          9809.185636,
          4172.838464,
          7408.905561,
          19328.70901,
          18008.50924,
          42951.65309,
          10611.46299,
          11415.80569
         ],
         "xaxis": "x4",
         "y": [
          75.32,
          65.554,
          72.39,
          80.653,
          78.553,
          72.889,
          78.782,
          78.273,
          72.235,
          74.994,
          71.878,
          70.259,
          60.916,
          70.19800000000001,
          72.567,
          76.195,
          72.899,
          75.53699999999998,
          71.752,
          71.421,
          78.74600000000002,
          69.819,
          78.242,
          76.384,
          73.747
         ],
         "yaxis": "y4"
        },
        {
         "hovertemplate": "continent=Oceania<br>year=1952<br>gdpPercap=%{x}<br>lifeExp=%{y}<br>pop=%{marker.size}<extra></extra>",
         "legendgroup": "Oceania",
         "marker": {
          "color": "#FFA15A",
          "size": [
           8691212,
           1994794
          ],
          "sizemode": "area",
          "sizeref": 3296707.74,
          "symbol": "circle"
         },
         "mode": "markers",
         "name": "Oceania",
         "showlegend": true,
         "type": "scattergl",
         "x": [
          10039.59564,
          10556.57566
         ],
         "xaxis": "x9",
         "y": [
          69.12,
          69.39
         ],
         "yaxis": "y9"
        },
        {
         "hovertemplate": "continent=Oceania<br>year=1957<br>gdpPercap=%{x}<br>lifeExp=%{y}<br>pop=%{marker.size}<extra></extra>",
         "legendgroup": "Oceania",
         "marker": {
          "color": "#FFA15A",
          "size": [
           9712569,
           2229407
          ],
          "sizemode": "area",
          "sizeref": 3296707.74,
          "symbol": "circle"
         },
         "mode": "markers",
         "name": "Oceania",
         "showlegend": false,
         "type": "scattergl",
         "x": [
          10949.64959,
          12247.39532
         ],
         "xaxis": "x10",
         "y": [
          70.33,
          70.26
         ],
         "yaxis": "y10"
        },
        {
         "hovertemplate": "continent=Oceania<br>year=1962<br>gdpPercap=%{x}<br>lifeExp=%{y}<br>pop=%{marker.size}<extra></extra>",
         "legendgroup": "Oceania",
         "marker": {
          "color": "#FFA15A",
          "size": [
           10794968,
           2488550
          ],
          "sizemode": "area",
          "sizeref": 3296707.74,
          "symbol": "circle"
         },
         "mode": "markers",
         "name": "Oceania",
         "showlegend": false,
         "type": "scattergl",
         "x": [
          12217.22686,
          13175.678
         ],
         "xaxis": "x11",
         "y": [
          70.93,
          71.24
         ],
         "yaxis": "y11"
        },
        {
         "hovertemplate": "continent=Oceania<br>year=1967<br>gdpPercap=%{x}<br>lifeExp=%{y}<br>pop=%{marker.size}<extra></extra>",
         "legendgroup": "Oceania",
         "marker": {
          "color": "#FFA15A",
          "size": [
           11872264,
           2728150
          ],
          "sizemode": "area",
          "sizeref": 3296707.74,
          "symbol": "circle"
         },
         "mode": "markers",
         "name": "Oceania",
         "showlegend": false,
         "type": "scattergl",
         "x": [
          14526.12465,
          14463.918930000002
         ],
         "xaxis": "x12",
         "y": [
          71.1,
          71.52
         ],
         "yaxis": "y12"
        },
        {
         "hovertemplate": "continent=Oceania<br>year=1972<br>gdpPercap=%{x}<br>lifeExp=%{y}<br>pop=%{marker.size}<extra></extra>",
         "legendgroup": "Oceania",
         "marker": {
          "color": "#FFA15A",
          "size": [
           13177000,
           2929100
          ],
          "sizemode": "area",
          "sizeref": 3296707.74,
          "symbol": "circle"
         },
         "mode": "markers",
         "name": "Oceania",
         "showlegend": false,
         "type": "scattergl",
         "x": [
          16788.62948,
          16046.03728
         ],
         "xaxis": "x5",
         "y": [
          71.93,
          71.89
         ],
         "yaxis": "y5"
        },
        {
         "hovertemplate": "continent=Oceania<br>year=1977<br>gdpPercap=%{x}<br>lifeExp=%{y}<br>pop=%{marker.size}<extra></extra>",
         "legendgroup": "Oceania",
         "marker": {
          "color": "#FFA15A",
          "size": [
           14074100,
           3164900
          ],
          "sizemode": "area",
          "sizeref": 3296707.74,
          "symbol": "circle"
         },
         "mode": "markers",
         "name": "Oceania",
         "showlegend": false,
         "type": "scattergl",
         "x": [
          18334.19751,
          16233.7177
         ],
         "xaxis": "x6",
         "y": [
          73.49,
          72.22
         ],
         "yaxis": "y6"
        },
        {
         "hovertemplate": "continent=Oceania<br>year=1982<br>gdpPercap=%{x}<br>lifeExp=%{y}<br>pop=%{marker.size}<extra></extra>",
         "legendgroup": "Oceania",
         "marker": {
          "color": "#FFA15A",
          "size": [
           15184200,
           3210650
          ],
          "sizemode": "area",
          "sizeref": 3296707.74,
          "symbol": "circle"
         },
         "mode": "markers",
         "name": "Oceania",
         "showlegend": false,
         "type": "scattergl",
         "x": [
          19477.00928,
          17632.4104
         ],
         "xaxis": "x7",
         "y": [
          74.74,
          73.84
         ],
         "yaxis": "y7"
        },
        {
         "hovertemplate": "continent=Oceania<br>year=1987<br>gdpPercap=%{x}<br>lifeExp=%{y}<br>pop=%{marker.size}<extra></extra>",
         "legendgroup": "Oceania",
         "marker": {
          "color": "#FFA15A",
          "size": [
           16257249,
           3317166
          ],
          "sizemode": "area",
          "sizeref": 3296707.74,
          "symbol": "circle"
         },
         "mode": "markers",
         "name": "Oceania",
         "showlegend": false,
         "type": "scattergl",
         "x": [
          21888.88903,
          19007.19129
         ],
         "xaxis": "x8",
         "y": [
          76.32,
          74.32
         ],
         "yaxis": "y8"
        },
        {
         "hovertemplate": "continent=Oceania<br>year=1992<br>gdpPercap=%{x}<br>lifeExp=%{y}<br>pop=%{marker.size}<extra></extra>",
         "legendgroup": "Oceania",
         "marker": {
          "color": "#FFA15A",
          "size": [
           17481977,
           3437674
          ],
          "sizemode": "area",
          "sizeref": 3296707.74,
          "symbol": "circle"
         },
         "mode": "markers",
         "name": "Oceania",
         "showlegend": false,
         "type": "scattergl",
         "x": [
          23424.76683,
          18363.32494
         ],
         "xaxis": "x",
         "y": [
          77.56,
          76.33
         ],
         "yaxis": "y"
        },
        {
         "hovertemplate": "continent=Oceania<br>year=1997<br>gdpPercap=%{x}<br>lifeExp=%{y}<br>pop=%{marker.size}<extra></extra>",
         "legendgroup": "Oceania",
         "marker": {
          "color": "#FFA15A",
          "size": [
           18565243,
           3676187
          ],
          "sizemode": "area",
          "sizeref": 3296707.74,
          "symbol": "circle"
         },
         "mode": "markers",
         "name": "Oceania",
         "showlegend": false,
         "type": "scattergl",
         "x": [
          26997.93657,
          21050.41377
         ],
         "xaxis": "x2",
         "y": [
          78.83,
          77.55
         ],
         "yaxis": "y2"
        },
        {
         "hovertemplate": "continent=Oceania<br>year=2002<br>gdpPercap=%{x}<br>lifeExp=%{y}<br>pop=%{marker.size}<extra></extra>",
         "legendgroup": "Oceania",
         "marker": {
          "color": "#FFA15A",
          "size": [
           19546792,
           3908037
          ],
          "sizemode": "area",
          "sizeref": 3296707.74,
          "symbol": "circle"
         },
         "mode": "markers",
         "name": "Oceania",
         "showlegend": false,
         "type": "scattergl",
         "x": [
          30687.75473,
          23189.80135
         ],
         "xaxis": "x3",
         "y": [
          80.37,
          79.11
         ],
         "yaxis": "y3"
        },
        {
         "hovertemplate": "continent=Oceania<br>year=2007<br>gdpPercap=%{x}<br>lifeExp=%{y}<br>pop=%{marker.size}<extra></extra>",
         "legendgroup": "Oceania",
         "marker": {
          "color": "#FFA15A",
          "size": [
           20434176,
           4115771
          ],
          "sizemode": "area",
          "sizeref": 3296707.74,
          "symbol": "circle"
         },
         "mode": "markers",
         "name": "Oceania",
         "showlegend": false,
         "type": "scattergl",
         "x": [
          34435.367439999995,
          25185.00911
         ],
         "xaxis": "x4",
         "y": [
          81.235,
          80.204
         ],
         "yaxis": "y4"
        }
       ],
       "layout": {
        "annotations": [
         {
          "font": {},
          "showarrow": false,
          "text": "year=1992",
          "x": 0.1175,
          "xanchor": "center",
          "xref": "paper",
          "y": 0.2866666666666666,
          "yanchor": "bottom",
          "yref": "paper"
         },
         {
          "font": {},
          "showarrow": false,
          "text": "year=1997",
          "x": 0.3725,
          "xanchor": "center",
          "xref": "paper",
          "y": 0.2866666666666666,
          "yanchor": "bottom",
          "yref": "paper"
         },
         {
          "font": {},
          "showarrow": false,
          "text": "year=2002",
          "x": 0.6275,
          "xanchor": "center",
          "xref": "paper",
          "y": 0.2866666666666666,
          "yanchor": "bottom",
          "yref": "paper"
         },
         {
          "font": {},
          "showarrow": false,
          "text": "year=2007",
          "x": 0.8824999999999998,
          "xanchor": "center",
          "xref": "paper",
          "y": 0.2866666666666666,
          "yanchor": "bottom",
          "yref": "paper"
         },
         {
          "font": {},
          "showarrow": false,
          "text": "year=1972",
          "x": 0.1175,
          "xanchor": "center",
          "xref": "paper",
          "y": 0.6433333333333333,
          "yanchor": "bottom",
          "yref": "paper"
         },
         {
          "font": {},
          "showarrow": false,
          "text": "year=1977",
          "x": 0.3725,
          "xanchor": "center",
          "xref": "paper",
          "y": 0.6433333333333333,
          "yanchor": "bottom",
          "yref": "paper"
         },
         {
          "font": {},
          "showarrow": false,
          "text": "year=1982",
          "x": 0.6275,
          "xanchor": "center",
          "xref": "paper",
          "y": 0.6433333333333333,
          "yanchor": "bottom",
          "yref": "paper"
         },
         {
          "font": {},
          "showarrow": false,
          "text": "year=1987",
          "x": 0.8824999999999998,
          "xanchor": "center",
          "xref": "paper",
          "y": 0.6433333333333333,
          "yanchor": "bottom",
          "yref": "paper"
         },
         {
          "font": {},
          "showarrow": false,
          "text": "year=1952",
          "x": 0.1175,
          "xanchor": "center",
          "xref": "paper",
          "y": 0.9999999999999999,
          "yanchor": "bottom",
          "yref": "paper"
         },
         {
          "font": {},
          "showarrow": false,
          "text": "year=1957",
          "x": 0.3725,
          "xanchor": "center",
          "xref": "paper",
          "y": 0.9999999999999999,
          "yanchor": "bottom",
          "yref": "paper"
         },
         {
          "font": {},
          "showarrow": false,
          "text": "year=1962",
          "x": 0.6275,
          "xanchor": "center",
          "xref": "paper",
          "y": 0.9999999999999999,
          "yanchor": "bottom",
          "yref": "paper"
         },
         {
          "font": {},
          "showarrow": false,
          "text": "year=1967",
          "x": 0.8824999999999998,
          "xanchor": "center",
          "xref": "paper",
          "y": 0.9999999999999999,
          "yanchor": "bottom",
          "yref": "paper"
         }
        ],
        "legend": {
         "itemsizing": "constant",
         "title": {
          "text": "continent"
         },
         "tracegroupgap": 0
        },
        "margin": {
         "t": 60
        },
        "template": {
         "data": {
          "bar": [
           {
            "error_x": {
             "color": "#2a3f5f"
            },
            "error_y": {
             "color": "#2a3f5f"
            },
            "marker": {
             "line": {
              "color": "#E5ECF6",
              "width": 0.5
             },
             "pattern": {
              "fillmode": "overlay",
              "size": 10,
              "solidity": 0.2
             }
            },
            "type": "bar"
           }
          ],
          "barpolar": [
           {
            "marker": {
             "line": {
              "color": "#E5ECF6",
              "width": 0.5
             },
             "pattern": {
              "fillmode": "overlay",
              "size": 10,
              "solidity": 0.2
             }
            },
            "type": "barpolar"
           }
          ],
          "carpet": [
           {
            "aaxis": {
             "endlinecolor": "#2a3f5f",
             "gridcolor": "white",
             "linecolor": "white",
             "minorgridcolor": "white",
             "startlinecolor": "#2a3f5f"
            },
            "baxis": {
             "endlinecolor": "#2a3f5f",
             "gridcolor": "white",
             "linecolor": "white",
             "minorgridcolor": "white",
             "startlinecolor": "#2a3f5f"
            },
            "type": "carpet"
           }
          ],
          "choropleth": [
           {
            "colorbar": {
             "outlinewidth": 0,
             "ticks": ""
            },
            "type": "choropleth"
           }
          ],
          "contour": [
           {
            "colorbar": {
             "outlinewidth": 0,
             "ticks": ""
            },
            "colorscale": [
             [
              0,
              "#0d0887"
             ],
             [
              0.1111111111111111,
              "#46039f"
             ],
             [
              0.2222222222222222,
              "#7201a8"
             ],
             [
              0.3333333333333333,
              "#9c179e"
             ],
             [
              0.4444444444444444,
              "#bd3786"
             ],
             [
              0.5555555555555556,
              "#d8576b"
             ],
             [
              0.6666666666666666,
              "#ed7953"
             ],
             [
              0.7777777777777778,
              "#fb9f3a"
             ],
             [
              0.8888888888888888,
              "#fdca26"
             ],
             [
              1,
              "#f0f921"
             ]
            ],
            "type": "contour"
           }
          ],
          "contourcarpet": [
           {
            "colorbar": {
             "outlinewidth": 0,
             "ticks": ""
            },
            "type": "contourcarpet"
           }
          ],
          "heatmap": [
           {
            "colorbar": {
             "outlinewidth": 0,
             "ticks": ""
            },
            "colorscale": [
             [
              0,
              "#0d0887"
             ],
             [
              0.1111111111111111,
              "#46039f"
             ],
             [
              0.2222222222222222,
              "#7201a8"
             ],
             [
              0.3333333333333333,
              "#9c179e"
             ],
             [
              0.4444444444444444,
              "#bd3786"
             ],
             [
              0.5555555555555556,
              "#d8576b"
             ],
             [
              0.6666666666666666,
              "#ed7953"
             ],
             [
              0.7777777777777778,
              "#fb9f3a"
             ],
             [
              0.8888888888888888,
              "#fdca26"
             ],
             [
              1,
              "#f0f921"
             ]
            ],
            "type": "heatmap"
           }
          ],
          "heatmapgl": [
           {
            "colorbar": {
             "outlinewidth": 0,
             "ticks": ""
            },
            "colorscale": [
             [
              0,
              "#0d0887"
             ],
             [
              0.1111111111111111,
              "#46039f"
             ],
             [
              0.2222222222222222,
              "#7201a8"
             ],
             [
              0.3333333333333333,
              "#9c179e"
             ],
             [
              0.4444444444444444,
              "#bd3786"
             ],
             [
              0.5555555555555556,
              "#d8576b"
             ],
             [
              0.6666666666666666,
              "#ed7953"
             ],
             [
              0.7777777777777778,
              "#fb9f3a"
             ],
             [
              0.8888888888888888,
              "#fdca26"
             ],
             [
              1,
              "#f0f921"
             ]
            ],
            "type": "heatmapgl"
           }
          ],
          "histogram": [
           {
            "marker": {
             "pattern": {
              "fillmode": "overlay",
              "size": 10,
              "solidity": 0.2
             }
            },
            "type": "histogram"
           }
          ],
          "histogram2d": [
           {
            "colorbar": {
             "outlinewidth": 0,
             "ticks": ""
            },
            "colorscale": [
             [
              0,
              "#0d0887"
             ],
             [
              0.1111111111111111,
              "#46039f"
             ],
             [
              0.2222222222222222,
              "#7201a8"
             ],
             [
              0.3333333333333333,
              "#9c179e"
             ],
             [
              0.4444444444444444,
              "#bd3786"
             ],
             [
              0.5555555555555556,
              "#d8576b"
             ],
             [
              0.6666666666666666,
              "#ed7953"
             ],
             [
              0.7777777777777778,
              "#fb9f3a"
             ],
             [
              0.8888888888888888,
              "#fdca26"
             ],
             [
              1,
              "#f0f921"
             ]
            ],
            "type": "histogram2d"
           }
          ],
          "histogram2dcontour": [
           {
            "colorbar": {
             "outlinewidth": 0,
             "ticks": ""
            },
            "colorscale": [
             [
              0,
              "#0d0887"
             ],
             [
              0.1111111111111111,
              "#46039f"
             ],
             [
              0.2222222222222222,
              "#7201a8"
             ],
             [
              0.3333333333333333,
              "#9c179e"
             ],
             [
              0.4444444444444444,
              "#bd3786"
             ],
             [
              0.5555555555555556,
              "#d8576b"
             ],
             [
              0.6666666666666666,
              "#ed7953"
             ],
             [
              0.7777777777777778,
              "#fb9f3a"
             ],
             [
              0.8888888888888888,
              "#fdca26"
             ],
             [
              1,
              "#f0f921"
             ]
            ],
            "type": "histogram2dcontour"
           }
          ],
          "mesh3d": [
           {
            "colorbar": {
             "outlinewidth": 0,
             "ticks": ""
            },
            "type": "mesh3d"
           }
          ],
          "parcoords": [
           {
            "line": {
             "colorbar": {
              "outlinewidth": 0,
              "ticks": ""
             }
            },
            "type": "parcoords"
           }
          ],
          "pie": [
           {
            "automargin": true,
            "type": "pie"
           }
          ],
          "scatter": [
           {
            "fillpattern": {
             "fillmode": "overlay",
             "size": 10,
             "solidity": 0.2
            },
            "type": "scatter"
           }
          ],
          "scatter3d": [
           {
            "line": {
             "colorbar": {
              "outlinewidth": 0,
              "ticks": ""
             }
            },
            "marker": {
             "colorbar": {
              "outlinewidth": 0,
              "ticks": ""
             }
            },
            "type": "scatter3d"
           }
          ],
          "scattercarpet": [
           {
            "marker": {
             "colorbar": {
              "outlinewidth": 0,
              "ticks": ""
             }
            },
            "type": "scattercarpet"
           }
          ],
          "scattergeo": [
           {
            "marker": {
             "colorbar": {
              "outlinewidth": 0,
              "ticks": ""
             }
            },
            "type": "scattergeo"
           }
          ],
          "scattergl": [
           {
            "marker": {
             "colorbar": {
              "outlinewidth": 0,
              "ticks": ""
             }
            },
            "type": "scattergl"
           }
          ],
          "scattermapbox": [
           {
            "marker": {
             "colorbar": {
              "outlinewidth": 0,
              "ticks": ""
             }
            },
            "type": "scattermapbox"
           }
          ],
          "scatterpolar": [
           {
            "marker": {
             "colorbar": {
              "outlinewidth": 0,
              "ticks": ""
             }
            },
            "type": "scatterpolar"
           }
          ],
          "scatterpolargl": [
           {
            "marker": {
             "colorbar": {
              "outlinewidth": 0,
              "ticks": ""
             }
            },
            "type": "scatterpolargl"
           }
          ],
          "scatterternary": [
           {
            "marker": {
             "colorbar": {
              "outlinewidth": 0,
              "ticks": ""
             }
            },
            "type": "scatterternary"
           }
          ],
          "surface": [
           {
            "colorbar": {
             "outlinewidth": 0,
             "ticks": ""
            },
            "colorscale": [
             [
              0,
              "#0d0887"
             ],
             [
              0.1111111111111111,
              "#46039f"
             ],
             [
              0.2222222222222222,
              "#7201a8"
             ],
             [
              0.3333333333333333,
              "#9c179e"
             ],
             [
              0.4444444444444444,
              "#bd3786"
             ],
             [
              0.5555555555555556,
              "#d8576b"
             ],
             [
              0.6666666666666666,
              "#ed7953"
             ],
             [
              0.7777777777777778,
              "#fb9f3a"
             ],
             [
              0.8888888888888888,
              "#fdca26"
             ],
             [
              1,
              "#f0f921"
             ]
            ],
            "type": "surface"
           }
          ],
          "table": [
           {
            "cells": {
             "fill": {
              "color": "#EBF0F8"
             },
             "line": {
              "color": "white"
             }
            },
            "header": {
             "fill": {
              "color": "#C8D4E3"
             },
             "line": {
              "color": "white"
             }
            },
            "type": "table"
           }
          ]
         },
         "layout": {
          "annotationdefaults": {
           "arrowcolor": "#2a3f5f",
           "arrowhead": 0,
           "arrowwidth": 1
          },
          "autotypenumbers": "strict",
          "coloraxis": {
           "colorbar": {
            "outlinewidth": 0,
            "ticks": ""
           }
          },
          "colorscale": {
           "diverging": [
            [
             0,
             "#8e0152"
            ],
            [
             0.1,
             "#c51b7d"
            ],
            [
             0.2,
             "#de77ae"
            ],
            [
             0.3,
             "#f1b6da"
            ],
            [
             0.4,
             "#fde0ef"
            ],
            [
             0.5,
             "#f7f7f7"
            ],
            [
             0.6,
             "#e6f5d0"
            ],
            [
             0.7,
             "#b8e186"
            ],
            [
             0.8,
             "#7fbc41"
            ],
            [
             0.9,
             "#4d9221"
            ],
            [
             1,
             "#276419"
            ]
           ],
           "sequential": [
            [
             0,
             "#0d0887"
            ],
            [
             0.1111111111111111,
             "#46039f"
            ],
            [
             0.2222222222222222,
             "#7201a8"
            ],
            [
             0.3333333333333333,
             "#9c179e"
            ],
            [
             0.4444444444444444,
             "#bd3786"
            ],
            [
             0.5555555555555556,
             "#d8576b"
            ],
            [
             0.6666666666666666,
             "#ed7953"
            ],
            [
             0.7777777777777778,
             "#fb9f3a"
            ],
            [
             0.8888888888888888,
             "#fdca26"
            ],
            [
             1,
             "#f0f921"
            ]
           ],
           "sequentialminus": [
            [
             0,
             "#0d0887"
            ],
            [
             0.1111111111111111,
             "#46039f"
            ],
            [
             0.2222222222222222,
             "#7201a8"
            ],
            [
             0.3333333333333333,
             "#9c179e"
            ],
            [
             0.4444444444444444,
             "#bd3786"
            ],
            [
             0.5555555555555556,
             "#d8576b"
            ],
            [
             0.6666666666666666,
             "#ed7953"
            ],
            [
             0.7777777777777778,
             "#fb9f3a"
            ],
            [
             0.8888888888888888,
             "#fdca26"
            ],
            [
             1,
             "#f0f921"
            ]
           ]
          },
          "colorway": [
           "#636efa",
           "#EF553B",
           "#00cc96",
           "#ab63fa",
           "#FFA15A",
           "#19d3f3",
           "#FF6692",
           "#B6E880",
           "#FF97FF",
           "#FECB52"
          ],
          "font": {
           "color": "#2a3f5f"
          },
          "geo": {
           "bgcolor": "white",
           "lakecolor": "white",
           "landcolor": "#E5ECF6",
           "showlakes": true,
           "showland": true,
           "subunitcolor": "white"
          },
          "hoverlabel": {
           "align": "left"
          },
          "hovermode": "closest",
          "mapbox": {
           "style": "light"
          },
          "paper_bgcolor": "white",
          "plot_bgcolor": "#E5ECF6",
          "polar": {
           "angularaxis": {
            "gridcolor": "white",
            "linecolor": "white",
            "ticks": ""
           },
           "bgcolor": "#E5ECF6",
           "radialaxis": {
            "gridcolor": "white",
            "linecolor": "white",
            "ticks": ""
           }
          },
          "scene": {
           "xaxis": {
            "backgroundcolor": "#E5ECF6",
            "gridcolor": "white",
            "gridwidth": 2,
            "linecolor": "white",
            "showbackground": true,
            "ticks": "",
            "zerolinecolor": "white"
           },
           "yaxis": {
            "backgroundcolor": "#E5ECF6",
            "gridcolor": "white",
            "gridwidth": 2,
            "linecolor": "white",
            "showbackground": true,
            "ticks": "",
            "zerolinecolor": "white"
           },
           "zaxis": {
            "backgroundcolor": "#E5ECF6",
            "gridcolor": "white",
            "gridwidth": 2,
            "linecolor": "white",
            "showbackground": true,
            "ticks": "",
            "zerolinecolor": "white"
           }
          },
          "shapedefaults": {
           "line": {
            "color": "#2a3f5f"
           }
          },
          "ternary": {
           "aaxis": {
            "gridcolor": "white",
            "linecolor": "white",
            "ticks": ""
           },
           "baxis": {
            "gridcolor": "white",
            "linecolor": "white",
            "ticks": ""
           },
           "bgcolor": "#E5ECF6",
           "caxis": {
            "gridcolor": "white",
            "linecolor": "white",
            "ticks": ""
           }
          },
          "title": {
           "x": 0.05
          },
          "xaxis": {
           "automargin": true,
           "gridcolor": "white",
           "linecolor": "white",
           "ticks": "",
           "title": {
            "standoff": 15
           },
           "zerolinecolor": "white",
           "zerolinewidth": 2
          },
          "yaxis": {
           "automargin": true,
           "gridcolor": "white",
           "linecolor": "white",
           "ticks": "",
           "title": {
            "standoff": 15
           },
           "zerolinecolor": "white",
           "zerolinewidth": 2
          }
         }
        },
        "xaxis": {
         "anchor": "y",
         "domain": [
          0,
          0.235
         ],
         "title": {
          "text": "gdpPercap"
         }
        },
        "xaxis10": {
         "anchor": "y10",
         "domain": [
          0.255,
          0.49
         ],
         "matches": "x",
         "showticklabels": false
        },
        "xaxis11": {
         "anchor": "y11",
         "domain": [
          0.51,
          0.745
         ],
         "matches": "x",
         "showticklabels": false
        },
        "xaxis12": {
         "anchor": "y12",
         "domain": [
          0.7649999999999999,
          0.9999999999999999
         ],
         "matches": "x",
         "showticklabels": false
        },
        "xaxis2": {
         "anchor": "y2",
         "domain": [
          0.255,
          0.49
         ],
         "matches": "x",
         "title": {
          "text": "gdpPercap"
         }
        },
        "xaxis3": {
         "anchor": "y3",
         "domain": [
          0.51,
          0.745
         ],
         "matches": "x",
         "title": {
          "text": "gdpPercap"
         }
        },
        "xaxis4": {
         "anchor": "y4",
         "domain": [
          0.7649999999999999,
          0.9999999999999999
         ],
         "matches": "x",
         "title": {
          "text": "gdpPercap"
         }
        },
        "xaxis5": {
         "anchor": "y5",
         "domain": [
          0,
          0.235
         ],
         "matches": "x",
         "showticklabels": false
        },
        "xaxis6": {
         "anchor": "y6",
         "domain": [
          0.255,
          0.49
         ],
         "matches": "x",
         "showticklabels": false
        },
        "xaxis7": {
         "anchor": "y7",
         "domain": [
          0.51,
          0.745
         ],
         "matches": "x",
         "showticklabels": false
        },
        "xaxis8": {
         "anchor": "y8",
         "domain": [
          0.7649999999999999,
          0.9999999999999999
         ],
         "matches": "x",
         "showticklabels": false
        },
        "xaxis9": {
         "anchor": "y9",
         "domain": [
          0,
          0.235
         ],
         "matches": "x",
         "showticklabels": false
        },
        "yaxis": {
         "anchor": "x",
         "domain": [
          0,
          0.2866666666666666
         ],
         "title": {
          "text": "lifeExp"
         }
        },
        "yaxis10": {
         "anchor": "x10",
         "domain": [
          0.7133333333333333,
          0.9999999999999999
         ],
         "matches": "y",
         "showticklabels": false
        },
        "yaxis11": {
         "anchor": "x11",
         "domain": [
          0.7133333333333333,
          0.9999999999999999
         ],
         "matches": "y",
         "showticklabels": false
        },
        "yaxis12": {
         "anchor": "x12",
         "domain": [
          0.7133333333333333,
          0.9999999999999999
         ],
         "matches": "y",
         "showticklabels": false
        },
        "yaxis2": {
         "anchor": "x2",
         "domain": [
          0,
          0.2866666666666666
         ],
         "matches": "y",
         "showticklabels": false
        },
        "yaxis3": {
         "anchor": "x3",
         "domain": [
          0,
          0.2866666666666666
         ],
         "matches": "y",
         "showticklabels": false
        },
        "yaxis4": {
         "anchor": "x4",
         "domain": [
          0,
          0.2866666666666666
         ],
         "matches": "y",
         "showticklabels": false
        },
        "yaxis5": {
         "anchor": "x5",
         "domain": [
          0.35666666666666663,
          0.6433333333333333
         ],
         "matches": "y",
         "title": {
          "text": "lifeExp"
         }
        },
        "yaxis6": {
         "anchor": "x6",
         "domain": [
          0.35666666666666663,
          0.6433333333333333
         ],
         "matches": "y",
         "showticklabels": false
        },
        "yaxis7": {
         "anchor": "x7",
         "domain": [
          0.35666666666666663,
          0.6433333333333333
         ],
         "matches": "y",
         "showticklabels": false
        },
        "yaxis8": {
         "anchor": "x8",
         "domain": [
          0.35666666666666663,
          0.6433333333333333
         ],
         "matches": "y",
         "showticklabels": false
        },
        "yaxis9": {
         "anchor": "x9",
         "domain": [
          0.7133333333333333,
          0.9999999999999999
         ],
         "matches": "y",
         "title": {
          "text": "lifeExp"
         }
        }
       }
      }
     },
     "metadata": {},
     "output_type": "display_data"
    }
   ],
   "source": [
    "# 데이터셋 불러오기\n",
    "test = px.data.gapminder()\n",
    "\n",
    "# 그래프 그리기\n",
    "fig = px.scatter(test, x='gdpPercap', y='lifeExp', color='continent', size='pop',facet_col='year', facet_col_wrap=4)\n",
    "\n",
    "fig.show()"
   ]
  },
  {
   "cell_type": "code",
   "execution_count": 98,
   "metadata": {},
   "outputs": [
    {
     "data": {
      "application/vnd.plotly.v1+json": {
       "config": {
        "plotlyServerURL": "https://plot.ly"
       },
       "data": [
        {
         "line": {
          "width": 3
         },
         "name": "2010 - A",
         "type": "scatter",
         "visible": true,
         "x": [
          "A",
          "B",
          "C",
          "D",
          "E"
         ],
         "y": [
          1,
          2,
          3,
          4,
          5
         ]
        },
        {
         "line": {
          "width": 3
         },
         "name": "2010 - B",
         "type": "scatter",
         "visible": true,
         "x": [
          "A",
          "B",
          "C",
          "D",
          "E"
         ],
         "y": [
          1,
          2,
          3,
          4,
          5
         ]
        },
        {
         "line": {
          "width": 3
         },
         "name": "2010 - C",
         "type": "scatter",
         "visible": true,
         "x": [
          "A",
          "B",
          "C",
          "D",
          "E"
         ],
         "y": [
          1,
          2,
          3,
          4,
          5
         ]
        },
        {
         "line": {
          "width": 3
         },
         "name": "2010 - D",
         "type": "scatter",
         "visible": true,
         "x": [
          "A",
          "B",
          "C",
          "D",
          "E"
         ],
         "y": [
          1,
          2,
          3,
          4,
          5
         ]
        },
        {
         "line": {
          "width": 3
         },
         "name": "2010 - E",
         "type": "scatter",
         "visible": true,
         "x": [
          "A",
          "B",
          "C",
          "D",
          "E"
         ],
         "y": [
          1,
          2,
          3,
          4,
          5
         ]
        },
        {
         "line": {
          "width": 3
         },
         "name": "2011 - A",
         "type": "scatter",
         "visible": false,
         "x": [
          "A",
          "B",
          "C",
          "D",
          "E"
         ],
         "y": [
          2,
          3,
          4,
          5,
          6
         ]
        },
        {
         "line": {
          "width": 3
         },
         "name": "2011 - B",
         "type": "scatter",
         "visible": false,
         "x": [
          "A",
          "B",
          "C",
          "D",
          "E"
         ],
         "y": [
          2,
          3,
          4,
          5,
          6
         ]
        },
        {
         "line": {
          "width": 3
         },
         "name": "2011 - C",
         "type": "scatter",
         "visible": false,
         "x": [
          "A",
          "B",
          "C",
          "D",
          "E"
         ],
         "y": [
          2,
          3,
          4,
          5,
          6
         ]
        },
        {
         "line": {
          "width": 3
         },
         "name": "2011 - D",
         "type": "scatter",
         "visible": false,
         "x": [
          "A",
          "B",
          "C",
          "D",
          "E"
         ],
         "y": [
          2,
          3,
          4,
          5,
          6
         ]
        },
        {
         "line": {
          "width": 3
         },
         "name": "2011 - E",
         "type": "scatter",
         "visible": false,
         "x": [
          "A",
          "B",
          "C",
          "D",
          "E"
         ],
         "y": [
          2,
          3,
          4,
          5,
          6
         ]
        },
        {
         "line": {
          "width": 3
         },
         "name": "2012 - A",
         "type": "scatter",
         "visible": false,
         "x": [
          "A",
          "B",
          "C",
          "D",
          "E"
         ],
         "y": [
          3,
          4,
          5,
          6,
          7
         ]
        },
        {
         "line": {
          "width": 3
         },
         "name": "2012 - B",
         "type": "scatter",
         "visible": false,
         "x": [
          "A",
          "B",
          "C",
          "D",
          "E"
         ],
         "y": [
          3,
          4,
          5,
          6,
          7
         ]
        },
        {
         "line": {
          "width": 3
         },
         "name": "2012 - C",
         "type": "scatter",
         "visible": false,
         "x": [
          "A",
          "B",
          "C",
          "D",
          "E"
         ],
         "y": [
          3,
          4,
          5,
          6,
          7
         ]
        },
        {
         "line": {
          "width": 3
         },
         "name": "2012 - D",
         "type": "scatter",
         "visible": false,
         "x": [
          "A",
          "B",
          "C",
          "D",
          "E"
         ],
         "y": [
          3,
          4,
          5,
          6,
          7
         ]
        },
        {
         "line": {
          "width": 3
         },
         "name": "2012 - E",
         "type": "scatter",
         "visible": false,
         "x": [
          "A",
          "B",
          "C",
          "D",
          "E"
         ],
         "y": [
          3,
          4,
          5,
          6,
          7
         ]
        },
        {
         "line": {
          "width": 3
         },
         "name": "2013 - A",
         "type": "scatter",
         "visible": false,
         "x": [
          "A",
          "B",
          "C",
          "D",
          "E"
         ],
         "y": [
          4,
          5,
          6,
          7,
          8
         ]
        },
        {
         "line": {
          "width": 3
         },
         "name": "2013 - B",
         "type": "scatter",
         "visible": false,
         "x": [
          "A",
          "B",
          "C",
          "D",
          "E"
         ],
         "y": [
          4,
          5,
          6,
          7,
          8
         ]
        },
        {
         "line": {
          "width": 3
         },
         "name": "2013 - C",
         "type": "scatter",
         "visible": false,
         "x": [
          "A",
          "B",
          "C",
          "D",
          "E"
         ],
         "y": [
          4,
          5,
          6,
          7,
          8
         ]
        },
        {
         "line": {
          "width": 3
         },
         "name": "2013 - D",
         "type": "scatter",
         "visible": false,
         "x": [
          "A",
          "B",
          "C",
          "D",
          "E"
         ],
         "y": [
          4,
          5,
          6,
          7,
          8
         ]
        },
        {
         "line": {
          "width": 3
         },
         "name": "2013 - E",
         "type": "scatter",
         "visible": false,
         "x": [
          "A",
          "B",
          "C",
          "D",
          "E"
         ],
         "y": [
          4,
          5,
          6,
          7,
          8
         ]
        },
        {
         "line": {
          "width": 3
         },
         "name": "2014 - A",
         "type": "scatter",
         "visible": false,
         "x": [
          "A",
          "B",
          "C",
          "D",
          "E"
         ],
         "y": [
          5,
          6,
          7,
          8,
          9
         ]
        },
        {
         "line": {
          "width": 3
         },
         "name": "2014 - B",
         "type": "scatter",
         "visible": false,
         "x": [
          "A",
          "B",
          "C",
          "D",
          "E"
         ],
         "y": [
          5,
          6,
          7,
          8,
          9
         ]
        },
        {
         "line": {
          "width": 3
         },
         "name": "2014 - C",
         "type": "scatter",
         "visible": false,
         "x": [
          "A",
          "B",
          "C",
          "D",
          "E"
         ],
         "y": [
          5,
          6,
          7,
          8,
          9
         ]
        },
        {
         "line": {
          "width": 3
         },
         "name": "2014 - D",
         "type": "scatter",
         "visible": false,
         "x": [
          "A",
          "B",
          "C",
          "D",
          "E"
         ],
         "y": [
          5,
          6,
          7,
          8,
          9
         ]
        },
        {
         "line": {
          "width": 3
         },
         "name": "2014 - E",
         "type": "scatter",
         "visible": false,
         "x": [
          "A",
          "B",
          "C",
          "D",
          "E"
         ],
         "y": [
          5,
          6,
          7,
          8,
          9
         ]
        },
        {
         "line": {
          "width": 3
         },
         "name": "2015 - A",
         "type": "scatter",
         "visible": false,
         "x": [
          "A",
          "B",
          "C",
          "D",
          "E"
         ],
         "y": [
          6,
          7,
          8,
          9,
          10
         ]
        },
        {
         "line": {
          "width": 3
         },
         "name": "2015 - B",
         "type": "scatter",
         "visible": false,
         "x": [
          "A",
          "B",
          "C",
          "D",
          "E"
         ],
         "y": [
          6,
          7,
          8,
          9,
          10
         ]
        },
        {
         "line": {
          "width": 3
         },
         "name": "2015 - C",
         "type": "scatter",
         "visible": false,
         "x": [
          "A",
          "B",
          "C",
          "D",
          "E"
         ],
         "y": [
          6,
          7,
          8,
          9,
          10
         ]
        },
        {
         "line": {
          "width": 3
         },
         "name": "2015 - D",
         "type": "scatter",
         "visible": false,
         "x": [
          "A",
          "B",
          "C",
          "D",
          "E"
         ],
         "y": [
          6,
          7,
          8,
          9,
          10
         ]
        },
        {
         "line": {
          "width": 3
         },
         "name": "2015 - E",
         "type": "scatter",
         "visible": false,
         "x": [
          "A",
          "B",
          "C",
          "D",
          "E"
         ],
         "y": [
          6,
          7,
          8,
          9,
          10
         ]
        },
        {
         "line": {
          "width": 3
         },
         "name": "2016 - A",
         "type": "scatter",
         "visible": false,
         "x": [
          "A",
          "B",
          "C",
          "D",
          "E"
         ],
         "y": [
          7,
          8,
          9,
          10,
          11
         ]
        },
        {
         "line": {
          "width": 3
         },
         "name": "2016 - B",
         "type": "scatter",
         "visible": false,
         "x": [
          "A",
          "B",
          "C",
          "D",
          "E"
         ],
         "y": [
          7,
          8,
          9,
          10,
          11
         ]
        },
        {
         "line": {
          "width": 3
         },
         "name": "2016 - C",
         "type": "scatter",
         "visible": false,
         "x": [
          "A",
          "B",
          "C",
          "D",
          "E"
         ],
         "y": [
          7,
          8,
          9,
          10,
          11
         ]
        },
        {
         "line": {
          "width": 3
         },
         "name": "2016 - D",
         "type": "scatter",
         "visible": false,
         "x": [
          "A",
          "B",
          "C",
          "D",
          "E"
         ],
         "y": [
          7,
          8,
          9,
          10,
          11
         ]
        },
        {
         "line": {
          "width": 3
         },
         "name": "2016 - E",
         "type": "scatter",
         "visible": false,
         "x": [
          "A",
          "B",
          "C",
          "D",
          "E"
         ],
         "y": [
          7,
          8,
          9,
          10,
          11
         ]
        },
        {
         "line": {
          "width": 3
         },
         "name": "2017 - A",
         "type": "scatter",
         "visible": false,
         "x": [
          "A",
          "B",
          "C",
          "D",
          "E"
         ],
         "y": [
          8,
          9,
          10,
          11,
          12
         ]
        },
        {
         "line": {
          "width": 3
         },
         "name": "2017 - B",
         "type": "scatter",
         "visible": false,
         "x": [
          "A",
          "B",
          "C",
          "D",
          "E"
         ],
         "y": [
          8,
          9,
          10,
          11,
          12
         ]
        },
        {
         "line": {
          "width": 3
         },
         "name": "2017 - C",
         "type": "scatter",
         "visible": false,
         "x": [
          "A",
          "B",
          "C",
          "D",
          "E"
         ],
         "y": [
          8,
          9,
          10,
          11,
          12
         ]
        },
        {
         "line": {
          "width": 3
         },
         "name": "2017 - D",
         "type": "scatter",
         "visible": false,
         "x": [
          "A",
          "B",
          "C",
          "D",
          "E"
         ],
         "y": [
          8,
          9,
          10,
          11,
          12
         ]
        },
        {
         "line": {
          "width": 3
         },
         "name": "2017 - E",
         "type": "scatter",
         "visible": false,
         "x": [
          "A",
          "B",
          "C",
          "D",
          "E"
         ],
         "y": [
          8,
          9,
          10,
          11,
          12
         ]
        },
        {
         "line": {
          "width": 3
         },
         "name": "2018 - A",
         "type": "scatter",
         "visible": false,
         "x": [
          "A",
          "B",
          "C",
          "D",
          "E"
         ],
         "y": [
          9,
          10,
          11,
          12,
          13
         ]
        },
        {
         "line": {
          "width": 3
         },
         "name": "2018 - B",
         "type": "scatter",
         "visible": false,
         "x": [
          "A",
          "B",
          "C",
          "D",
          "E"
         ],
         "y": [
          9,
          10,
          11,
          12,
          13
         ]
        },
        {
         "line": {
          "width": 3
         },
         "name": "2018 - C",
         "type": "scatter",
         "visible": false,
         "x": [
          "A",
          "B",
          "C",
          "D",
          "E"
         ],
         "y": [
          9,
          10,
          11,
          12,
          13
         ]
        },
        {
         "line": {
          "width": 3
         },
         "name": "2018 - D",
         "type": "scatter",
         "visible": false,
         "x": [
          "A",
          "B",
          "C",
          "D",
          "E"
         ],
         "y": [
          9,
          10,
          11,
          12,
          13
         ]
        },
        {
         "line": {
          "width": 3
         },
         "name": "2018 - E",
         "type": "scatter",
         "visible": false,
         "x": [
          "A",
          "B",
          "C",
          "D",
          "E"
         ],
         "y": [
          9,
          10,
          11,
          12,
          13
         ]
        },
        {
         "line": {
          "width": 3
         },
         "name": "2019 - A",
         "type": "scatter",
         "visible": false,
         "x": [
          "A",
          "B",
          "C",
          "D",
          "E"
         ],
         "y": [
          10,
          11,
          12,
          13,
          14
         ]
        },
        {
         "line": {
          "width": 3
         },
         "name": "2019 - B",
         "type": "scatter",
         "visible": false,
         "x": [
          "A",
          "B",
          "C",
          "D",
          "E"
         ],
         "y": [
          10,
          11,
          12,
          13,
          14
         ]
        },
        {
         "line": {
          "width": 3
         },
         "name": "2019 - C",
         "type": "scatter",
         "visible": false,
         "x": [
          "A",
          "B",
          "C",
          "D",
          "E"
         ],
         "y": [
          10,
          11,
          12,
          13,
          14
         ]
        },
        {
         "line": {
          "width": 3
         },
         "name": "2019 - D",
         "type": "scatter",
         "visible": false,
         "x": [
          "A",
          "B",
          "C",
          "D",
          "E"
         ],
         "y": [
          10,
          11,
          12,
          13,
          14
         ]
        },
        {
         "line": {
          "width": 3
         },
         "name": "2019 - E",
         "type": "scatter",
         "visible": false,
         "x": [
          "A",
          "B",
          "C",
          "D",
          "E"
         ],
         "y": [
          10,
          11,
          12,
          13,
          14
         ]
        },
        {
         "line": {
          "width": 3
         },
         "name": "2020 - A",
         "type": "scatter",
         "visible": false,
         "x": [
          "A",
          "B",
          "C",
          "D",
          "E"
         ],
         "y": [
          11,
          12,
          13,
          14,
          15
         ]
        },
        {
         "line": {
          "width": 3
         },
         "name": "2020 - B",
         "type": "scatter",
         "visible": false,
         "x": [
          "A",
          "B",
          "C",
          "D",
          "E"
         ],
         "y": [
          11,
          12,
          13,
          14,
          15
         ]
        },
        {
         "line": {
          "width": 3
         },
         "name": "2020 - C",
         "type": "scatter",
         "visible": false,
         "x": [
          "A",
          "B",
          "C",
          "D",
          "E"
         ],
         "y": [
          11,
          12,
          13,
          14,
          15
         ]
        },
        {
         "line": {
          "width": 3
         },
         "name": "2020 - D",
         "type": "scatter",
         "visible": false,
         "x": [
          "A",
          "B",
          "C",
          "D",
          "E"
         ],
         "y": [
          11,
          12,
          13,
          14,
          15
         ]
        },
        {
         "line": {
          "width": 3
         },
         "name": "2020 - E",
         "type": "scatter",
         "visible": false,
         "x": [
          "A",
          "B",
          "C",
          "D",
          "E"
         ],
         "y": [
          11,
          12,
          13,
          14,
          15
         ]
        }
       ],
       "layout": {
        "sliders": [
         {
          "active": 0,
          "currentvalue": {
           "prefix": "Year: "
          },
          "steps": [
           {
            "args": [
             {
              "visible": [
               true,
               true,
               true,
               true,
               true,
               false,
               false,
               false,
               false,
               false,
               false,
               false,
               false,
               false,
               false,
               false,
               false,
               false,
               false,
               false,
               false,
               false,
               false,
               false,
               false,
               false,
               false,
               false,
               false,
               false,
               false,
               false,
               false,
               false,
               false,
               false,
               false,
               false,
               false,
               false,
               false,
               false,
               false,
               false,
               false,
               false,
               false,
               false,
               false,
               false,
               false,
               false,
               false,
               false,
               false
              ]
             },
             {
              "title": "Year: 2010"
             }
            ],
            "method": "update"
           },
           {
            "args": [
             {
              "visible": [
               false,
               false,
               false,
               false,
               false,
               true,
               true,
               true,
               true,
               true,
               false,
               false,
               false,
               false,
               false,
               false,
               false,
               false,
               false,
               false,
               false,
               false,
               false,
               false,
               false,
               false,
               false,
               false,
               false,
               false,
               false,
               false,
               false,
               false,
               false,
               false,
               false,
               false,
               false,
               false,
               false,
               false,
               false,
               false,
               false,
               false,
               false,
               false,
               false,
               false,
               false,
               false,
               false,
               false,
               false
              ]
             },
             {
              "title": "Year: 2011"
             }
            ],
            "method": "update"
           },
           {
            "args": [
             {
              "visible": [
               false,
               false,
               false,
               false,
               false,
               false,
               false,
               false,
               false,
               false,
               true,
               true,
               true,
               true,
               true,
               false,
               false,
               false,
               false,
               false,
               false,
               false,
               false,
               false,
               false,
               false,
               false,
               false,
               false,
               false,
               false,
               false,
               false,
               false,
               false,
               false,
               false,
               false,
               false,
               false,
               false,
               false,
               false,
               false,
               false,
               false,
               false,
               false,
               false,
               false,
               false,
               false,
               false,
               false,
               false
              ]
             },
             {
              "title": "Year: 2012"
             }
            ],
            "method": "update"
           },
           {
            "args": [
             {
              "visible": [
               false,
               false,
               false,
               false,
               false,
               false,
               false,
               false,
               false,
               false,
               false,
               false,
               false,
               false,
               false,
               true,
               true,
               true,
               true,
               true,
               false,
               false,
               false,
               false,
               false,
               false,
               false,
               false,
               false,
               false,
               false,
               false,
               false,
               false,
               false,
               false,
               false,
               false,
               false,
               false,
               false,
               false,
               false,
               false,
               false,
               false,
               false,
               false,
               false,
               false,
               false,
               false,
               false,
               false,
               false
              ]
             },
             {
              "title": "Year: 2013"
             }
            ],
            "method": "update"
           },
           {
            "args": [
             {
              "visible": [
               false,
               false,
               false,
               false,
               false,
               false,
               false,
               false,
               false,
               false,
               false,
               false,
               false,
               false,
               false,
               false,
               false,
               false,
               false,
               false,
               true,
               true,
               true,
               true,
               true,
               false,
               false,
               false,
               false,
               false,
               false,
               false,
               false,
               false,
               false,
               false,
               false,
               false,
               false,
               false,
               false,
               false,
               false,
               false,
               false,
               false,
               false,
               false,
               false,
               false,
               false,
               false,
               false,
               false,
               false
              ]
             },
             {
              "title": "Year: 2014"
             }
            ],
            "method": "update"
           },
           {
            "args": [
             {
              "visible": [
               false,
               false,
               false,
               false,
               false,
               false,
               false,
               false,
               false,
               false,
               false,
               false,
               false,
               false,
               false,
               false,
               false,
               false,
               false,
               false,
               false,
               false,
               false,
               false,
               false,
               true,
               true,
               true,
               true,
               true,
               false,
               false,
               false,
               false,
               false,
               false,
               false,
               false,
               false,
               false,
               false,
               false,
               false,
               false,
               false,
               false,
               false,
               false,
               false,
               false,
               false,
               false,
               false,
               false,
               false
              ]
             },
             {
              "title": "Year: 2015"
             }
            ],
            "method": "update"
           },
           {
            "args": [
             {
              "visible": [
               false,
               false,
               false,
               false,
               false,
               false,
               false,
               false,
               false,
               false,
               false,
               false,
               false,
               false,
               false,
               false,
               false,
               false,
               false,
               false,
               false,
               false,
               false,
               false,
               false,
               false,
               false,
               false,
               false,
               false,
               true,
               true,
               true,
               true,
               true,
               false,
               false,
               false,
               false,
               false,
               false,
               false,
               false,
               false,
               false,
               false,
               false,
               false,
               false,
               false,
               false,
               false,
               false,
               false,
               false
              ]
             },
             {
              "title": "Year: 2016"
             }
            ],
            "method": "update"
           },
           {
            "args": [
             {
              "visible": [
               false,
               false,
               false,
               false,
               false,
               false,
               false,
               false,
               false,
               false,
               false,
               false,
               false,
               false,
               false,
               false,
               false,
               false,
               false,
               false,
               false,
               false,
               false,
               false,
               false,
               false,
               false,
               false,
               false,
               false,
               false,
               false,
               false,
               false,
               false,
               true,
               true,
               true,
               true,
               true,
               false,
               false,
               false,
               false,
               false,
               false,
               false,
               false,
               false,
               false,
               false,
               false,
               false,
               false,
               false
              ]
             },
             {
              "title": "Year: 2017"
             }
            ],
            "method": "update"
           },
           {
            "args": [
             {
              "visible": [
               false,
               false,
               false,
               false,
               false,
               false,
               false,
               false,
               false,
               false,
               false,
               false,
               false,
               false,
               false,
               false,
               false,
               false,
               false,
               false,
               false,
               false,
               false,
               false,
               false,
               false,
               false,
               false,
               false,
               false,
               false,
               false,
               false,
               false,
               false,
               false,
               false,
               false,
               false,
               false,
               true,
               true,
               true,
               true,
               true,
               false,
               false,
               false,
               false,
               false,
               false,
               false,
               false,
               false,
               false
              ]
             },
             {
              "title": "Year: 2018"
             }
            ],
            "method": "update"
           },
           {
            "args": [
             {
              "visible": [
               false,
               false,
               false,
               false,
               false,
               false,
               false,
               false,
               false,
               false,
               false,
               false,
               false,
               false,
               false,
               false,
               false,
               false,
               false,
               false,
               false,
               false,
               false,
               false,
               false,
               false,
               false,
               false,
               false,
               false,
               false,
               false,
               false,
               false,
               false,
               false,
               false,
               false,
               false,
               false,
               false,
               false,
               false,
               false,
               false,
               true,
               true,
               true,
               true,
               true,
               false,
               false,
               false,
               false,
               false
              ]
             },
             {
              "title": "Year: 2019"
             }
            ],
            "method": "update"
           },
           {
            "args": [
             {
              "visible": [
               false,
               false,
               false,
               false,
               false,
               false,
               false,
               false,
               false,
               false,
               false,
               false,
               false,
               false,
               false,
               false,
               false,
               false,
               false,
               false,
               false,
               false,
               false,
               false,
               false,
               false,
               false,
               false,
               false,
               false,
               false,
               false,
               false,
               false,
               false,
               false,
               false,
               false,
               false,
               false,
               false,
               false,
               false,
               false,
               false,
               false,
               false,
               false,
               false,
               false,
               true,
               true,
               true,
               true,
               true
              ]
             },
             {
              "title": "Year: 2020"
             }
            ],
            "method": "update"
           }
          ]
         }
        ],
        "template": {
         "data": {
          "bar": [
           {
            "error_x": {
             "color": "#2a3f5f"
            },
            "error_y": {
             "color": "#2a3f5f"
            },
            "marker": {
             "line": {
              "color": "#E5ECF6",
              "width": 0.5
             },
             "pattern": {
              "fillmode": "overlay",
              "size": 10,
              "solidity": 0.2
             }
            },
            "type": "bar"
           }
          ],
          "barpolar": [
           {
            "marker": {
             "line": {
              "color": "#E5ECF6",
              "width": 0.5
             },
             "pattern": {
              "fillmode": "overlay",
              "size": 10,
              "solidity": 0.2
             }
            },
            "type": "barpolar"
           }
          ],
          "carpet": [
           {
            "aaxis": {
             "endlinecolor": "#2a3f5f",
             "gridcolor": "white",
             "linecolor": "white",
             "minorgridcolor": "white",
             "startlinecolor": "#2a3f5f"
            },
            "baxis": {
             "endlinecolor": "#2a3f5f",
             "gridcolor": "white",
             "linecolor": "white",
             "minorgridcolor": "white",
             "startlinecolor": "#2a3f5f"
            },
            "type": "carpet"
           }
          ],
          "choropleth": [
           {
            "colorbar": {
             "outlinewidth": 0,
             "ticks": ""
            },
            "type": "choropleth"
           }
          ],
          "contour": [
           {
            "colorbar": {
             "outlinewidth": 0,
             "ticks": ""
            },
            "colorscale": [
             [
              0,
              "#0d0887"
             ],
             [
              0.1111111111111111,
              "#46039f"
             ],
             [
              0.2222222222222222,
              "#7201a8"
             ],
             [
              0.3333333333333333,
              "#9c179e"
             ],
             [
              0.4444444444444444,
              "#bd3786"
             ],
             [
              0.5555555555555556,
              "#d8576b"
             ],
             [
              0.6666666666666666,
              "#ed7953"
             ],
             [
              0.7777777777777778,
              "#fb9f3a"
             ],
             [
              0.8888888888888888,
              "#fdca26"
             ],
             [
              1,
              "#f0f921"
             ]
            ],
            "type": "contour"
           }
          ],
          "contourcarpet": [
           {
            "colorbar": {
             "outlinewidth": 0,
             "ticks": ""
            },
            "type": "contourcarpet"
           }
          ],
          "heatmap": [
           {
            "colorbar": {
             "outlinewidth": 0,
             "ticks": ""
            },
            "colorscale": [
             [
              0,
              "#0d0887"
             ],
             [
              0.1111111111111111,
              "#46039f"
             ],
             [
              0.2222222222222222,
              "#7201a8"
             ],
             [
              0.3333333333333333,
              "#9c179e"
             ],
             [
              0.4444444444444444,
              "#bd3786"
             ],
             [
              0.5555555555555556,
              "#d8576b"
             ],
             [
              0.6666666666666666,
              "#ed7953"
             ],
             [
              0.7777777777777778,
              "#fb9f3a"
             ],
             [
              0.8888888888888888,
              "#fdca26"
             ],
             [
              1,
              "#f0f921"
             ]
            ],
            "type": "heatmap"
           }
          ],
          "heatmapgl": [
           {
            "colorbar": {
             "outlinewidth": 0,
             "ticks": ""
            },
            "colorscale": [
             [
              0,
              "#0d0887"
             ],
             [
              0.1111111111111111,
              "#46039f"
             ],
             [
              0.2222222222222222,
              "#7201a8"
             ],
             [
              0.3333333333333333,
              "#9c179e"
             ],
             [
              0.4444444444444444,
              "#bd3786"
             ],
             [
              0.5555555555555556,
              "#d8576b"
             ],
             [
              0.6666666666666666,
              "#ed7953"
             ],
             [
              0.7777777777777778,
              "#fb9f3a"
             ],
             [
              0.8888888888888888,
              "#fdca26"
             ],
             [
              1,
              "#f0f921"
             ]
            ],
            "type": "heatmapgl"
           }
          ],
          "histogram": [
           {
            "marker": {
             "pattern": {
              "fillmode": "overlay",
              "size": 10,
              "solidity": 0.2
             }
            },
            "type": "histogram"
           }
          ],
          "histogram2d": [
           {
            "colorbar": {
             "outlinewidth": 0,
             "ticks": ""
            },
            "colorscale": [
             [
              0,
              "#0d0887"
             ],
             [
              0.1111111111111111,
              "#46039f"
             ],
             [
              0.2222222222222222,
              "#7201a8"
             ],
             [
              0.3333333333333333,
              "#9c179e"
             ],
             [
              0.4444444444444444,
              "#bd3786"
             ],
             [
              0.5555555555555556,
              "#d8576b"
             ],
             [
              0.6666666666666666,
              "#ed7953"
             ],
             [
              0.7777777777777778,
              "#fb9f3a"
             ],
             [
              0.8888888888888888,
              "#fdca26"
             ],
             [
              1,
              "#f0f921"
             ]
            ],
            "type": "histogram2d"
           }
          ],
          "histogram2dcontour": [
           {
            "colorbar": {
             "outlinewidth": 0,
             "ticks": ""
            },
            "colorscale": [
             [
              0,
              "#0d0887"
             ],
             [
              0.1111111111111111,
              "#46039f"
             ],
             [
              0.2222222222222222,
              "#7201a8"
             ],
             [
              0.3333333333333333,
              "#9c179e"
             ],
             [
              0.4444444444444444,
              "#bd3786"
             ],
             [
              0.5555555555555556,
              "#d8576b"
             ],
             [
              0.6666666666666666,
              "#ed7953"
             ],
             [
              0.7777777777777778,
              "#fb9f3a"
             ],
             [
              0.8888888888888888,
              "#fdca26"
             ],
             [
              1,
              "#f0f921"
             ]
            ],
            "type": "histogram2dcontour"
           }
          ],
          "mesh3d": [
           {
            "colorbar": {
             "outlinewidth": 0,
             "ticks": ""
            },
            "type": "mesh3d"
           }
          ],
          "parcoords": [
           {
            "line": {
             "colorbar": {
              "outlinewidth": 0,
              "ticks": ""
             }
            },
            "type": "parcoords"
           }
          ],
          "pie": [
           {
            "automargin": true,
            "type": "pie"
           }
          ],
          "scatter": [
           {
            "fillpattern": {
             "fillmode": "overlay",
             "size": 10,
             "solidity": 0.2
            },
            "type": "scatter"
           }
          ],
          "scatter3d": [
           {
            "line": {
             "colorbar": {
              "outlinewidth": 0,
              "ticks": ""
             }
            },
            "marker": {
             "colorbar": {
              "outlinewidth": 0,
              "ticks": ""
             }
            },
            "type": "scatter3d"
           }
          ],
          "scattercarpet": [
           {
            "marker": {
             "colorbar": {
              "outlinewidth": 0,
              "ticks": ""
             }
            },
            "type": "scattercarpet"
           }
          ],
          "scattergeo": [
           {
            "marker": {
             "colorbar": {
              "outlinewidth": 0,
              "ticks": ""
             }
            },
            "type": "scattergeo"
           }
          ],
          "scattergl": [
           {
            "marker": {
             "colorbar": {
              "outlinewidth": 0,
              "ticks": ""
             }
            },
            "type": "scattergl"
           }
          ],
          "scattermapbox": [
           {
            "marker": {
             "colorbar": {
              "outlinewidth": 0,
              "ticks": ""
             }
            },
            "type": "scattermapbox"
           }
          ],
          "scatterpolar": [
           {
            "marker": {
             "colorbar": {
              "outlinewidth": 0,
              "ticks": ""
             }
            },
            "type": "scatterpolar"
           }
          ],
          "scatterpolargl": [
           {
            "marker": {
             "colorbar": {
              "outlinewidth": 0,
              "ticks": ""
             }
            },
            "type": "scatterpolargl"
           }
          ],
          "scatterternary": [
           {
            "marker": {
             "colorbar": {
              "outlinewidth": 0,
              "ticks": ""
             }
            },
            "type": "scatterternary"
           }
          ],
          "surface": [
           {
            "colorbar": {
             "outlinewidth": 0,
             "ticks": ""
            },
            "colorscale": [
             [
              0,
              "#0d0887"
             ],
             [
              0.1111111111111111,
              "#46039f"
             ],
             [
              0.2222222222222222,
              "#7201a8"
             ],
             [
              0.3333333333333333,
              "#9c179e"
             ],
             [
              0.4444444444444444,
              "#bd3786"
             ],
             [
              0.5555555555555556,
              "#d8576b"
             ],
             [
              0.6666666666666666,
              "#ed7953"
             ],
             [
              0.7777777777777778,
              "#fb9f3a"
             ],
             [
              0.8888888888888888,
              "#fdca26"
             ],
             [
              1,
              "#f0f921"
             ]
            ],
            "type": "surface"
           }
          ],
          "table": [
           {
            "cells": {
             "fill": {
              "color": "#EBF0F8"
             },
             "line": {
              "color": "white"
             }
            },
            "header": {
             "fill": {
              "color": "#C8D4E3"
             },
             "line": {
              "color": "white"
             }
            },
            "type": "table"
           }
          ]
         },
         "layout": {
          "annotationdefaults": {
           "arrowcolor": "#2a3f5f",
           "arrowhead": 0,
           "arrowwidth": 1
          },
          "autotypenumbers": "strict",
          "coloraxis": {
           "colorbar": {
            "outlinewidth": 0,
            "ticks": ""
           }
          },
          "colorscale": {
           "diverging": [
            [
             0,
             "#8e0152"
            ],
            [
             0.1,
             "#c51b7d"
            ],
            [
             0.2,
             "#de77ae"
            ],
            [
             0.3,
             "#f1b6da"
            ],
            [
             0.4,
             "#fde0ef"
            ],
            [
             0.5,
             "#f7f7f7"
            ],
            [
             0.6,
             "#e6f5d0"
            ],
            [
             0.7,
             "#b8e186"
            ],
            [
             0.8,
             "#7fbc41"
            ],
            [
             0.9,
             "#4d9221"
            ],
            [
             1,
             "#276419"
            ]
           ],
           "sequential": [
            [
             0,
             "#0d0887"
            ],
            [
             0.1111111111111111,
             "#46039f"
            ],
            [
             0.2222222222222222,
             "#7201a8"
            ],
            [
             0.3333333333333333,
             "#9c179e"
            ],
            [
             0.4444444444444444,
             "#bd3786"
            ],
            [
             0.5555555555555556,
             "#d8576b"
            ],
            [
             0.6666666666666666,
             "#ed7953"
            ],
            [
             0.7777777777777778,
             "#fb9f3a"
            ],
            [
             0.8888888888888888,
             "#fdca26"
            ],
            [
             1,
             "#f0f921"
            ]
           ],
           "sequentialminus": [
            [
             0,
             "#0d0887"
            ],
            [
             0.1111111111111111,
             "#46039f"
            ],
            [
             0.2222222222222222,
             "#7201a8"
            ],
            [
             0.3333333333333333,
             "#9c179e"
            ],
            [
             0.4444444444444444,
             "#bd3786"
            ],
            [
             0.5555555555555556,
             "#d8576b"
            ],
            [
             0.6666666666666666,
             "#ed7953"
            ],
            [
             0.7777777777777778,
             "#fb9f3a"
            ],
            [
             0.8888888888888888,
             "#fdca26"
            ],
            [
             1,
             "#f0f921"
            ]
           ]
          },
          "colorway": [
           "#636efa",
           "#EF553B",
           "#00cc96",
           "#ab63fa",
           "#FFA15A",
           "#19d3f3",
           "#FF6692",
           "#B6E880",
           "#FF97FF",
           "#FECB52"
          ],
          "font": {
           "color": "#2a3f5f"
          },
          "geo": {
           "bgcolor": "white",
           "lakecolor": "white",
           "landcolor": "#E5ECF6",
           "showlakes": true,
           "showland": true,
           "subunitcolor": "white"
          },
          "hoverlabel": {
           "align": "left"
          },
          "hovermode": "closest",
          "mapbox": {
           "style": "light"
          },
          "paper_bgcolor": "white",
          "plot_bgcolor": "#E5ECF6",
          "polar": {
           "angularaxis": {
            "gridcolor": "white",
            "linecolor": "white",
            "ticks": ""
           },
           "bgcolor": "#E5ECF6",
           "radialaxis": {
            "gridcolor": "white",
            "linecolor": "white",
            "ticks": ""
           }
          },
          "scene": {
           "xaxis": {
            "backgroundcolor": "#E5ECF6",
            "gridcolor": "white",
            "gridwidth": 2,
            "linecolor": "white",
            "showbackground": true,
            "ticks": "",
            "zerolinecolor": "white"
           },
           "yaxis": {
            "backgroundcolor": "#E5ECF6",
            "gridcolor": "white",
            "gridwidth": 2,
            "linecolor": "white",
            "showbackground": true,
            "ticks": "",
            "zerolinecolor": "white"
           },
           "zaxis": {
            "backgroundcolor": "#E5ECF6",
            "gridcolor": "white",
            "gridwidth": 2,
            "linecolor": "white",
            "showbackground": true,
            "ticks": "",
            "zerolinecolor": "white"
           }
          },
          "shapedefaults": {
           "line": {
            "color": "#2a3f5f"
           }
          },
          "ternary": {
           "aaxis": {
            "gridcolor": "white",
            "linecolor": "white",
            "ticks": ""
           },
           "baxis": {
            "gridcolor": "white",
            "linecolor": "white",
            "ticks": ""
           },
           "bgcolor": "#E5ECF6",
           "caxis": {
            "gridcolor": "white",
            "linecolor": "white",
            "ticks": ""
           }
          },
          "title": {
           "x": 0.05
          },
          "xaxis": {
           "automargin": true,
           "gridcolor": "white",
           "linecolor": "white",
           "ticks": "",
           "title": {
            "standoff": 15
           },
           "zerolinecolor": "white",
           "zerolinewidth": 2
          },
          "yaxis": {
           "automargin": true,
           "gridcolor": "white",
           "linecolor": "white",
           "ticks": "",
           "title": {
            "standoff": 15
           },
           "zerolinecolor": "white",
           "zerolinewidth": 2
          }
         }
        },
        "title": {
         "text": "지세명의 연도별 변화"
        },
        "xaxis": {
         "title": {
          "text": "지세명"
         }
        },
        "yaxis": {
         "title": {
          "text": "값"
         }
        }
       }
      }
     },
     "metadata": {},
     "output_type": "display_data"
    }
   ],
   "source": [
    "import plotly.graph_objects as go\n",
    "import pandas as pd\n",
    "\n",
    "# 데이터 생성\n",
    "data = {\n",
    "    '지세명': ['A', 'B', 'C', 'D', 'E'],\n",
    "    '2010': [1, 2, 3, 4, 5],\n",
    "    '2011': [2, 3, 4, 5, 6],\n",
    "    '2012': [3, 4, 5, 6, 7],\n",
    "    '2013': [4, 5, 6, 7, 8],\n",
    "    '2014': [5, 6, 7, 8, 9],\n",
    "    '2015': [6, 7, 8, 9, 10],\n",
    "    '2016': [7, 8, 9, 10, 11],\n",
    "    '2017': [8, 9, 10, 11, 12],\n",
    "    '2018': [9, 10, 11, 12, 13],\n",
    "    '2019': [10, 11, 12, 13, 14],\n",
    "    '2020': [11, 12, 13, 14, 15]\n",
    "}\n",
    "test_df = pd.DataFrame(data)\n",
    "\n",
    "# Figure 생성\n",
    "fig = go.Figure()\n",
    "\n",
    "# 각 연도별 라인 그래프(Trace)를 추가\n",
    "for year in range(2010, 2021):\n",
    "    for label in test_df['지세명']:\n",
    "        fig.add_trace(\n",
    "            go.Scatter(\n",
    "                visible=False,\n",
    "                line=dict(width=3),\n",
    "                name=str(year) + ' - ' + label,\n",
    "                x=test_df['지세명'],\n",
    "                y=test_df[str(year)]\n",
    "            )\n",
    "        )\n",
    "\n",
    "# 초기 그래프 설정\n",
    "for i in range(len(test_df['지세명'])):\n",
    "    fig.data[i].visible = True\n",
    "\n",
    "# 슬라이더 데이터 생성\n",
    "steps = []\n",
    "for i, year in enumerate(range(2010, 2021)):\n",
    "    step = dict(\n",
    "        method=\"update\",\n",
    "        args=[{\"visible\": [False] * len(fig.data)},\n",
    "              {\"title\": \"Year: \" + str(year)}],\n",
    "    )\n",
    "    for j in range(i * len(test_df['지세명']), (i + 1) * len(test_df['지세명'])):\n",
    "        step[\"args\"][0][\"visible\"][j] = True\n",
    "    steps.append(step)\n",
    "\n",
    "# 슬라이더 추가\n",
    "fig.update_layout(\n",
    "    sliders=[dict(\n",
    "        active=0,\n",
    "        currentvalue={\"prefix\": \"Year: \"},\n",
    "        steps=steps\n",
    "    )]\n",
    ")\n",
    "\n",
    "fig.update_layout(\n",
    "    title=\"지세명의 연도별 변화\",\n",
    "    xaxis=dict(title=\"지세명\"),\n",
    "    yaxis=dict(title=\"값\")\n",
    ")\n",
    "\n",
    "fig.show()\n"
   ]
  }
 ],
 "metadata": {
  "kernelspec": {
   "display_name": "tensor",
   "language": "python",
   "name": "python3"
  },
  "language_info": {
   "codemirror_mode": {
    "name": "ipython",
    "version": 3
   },
   "file_extension": ".py",
   "mimetype": "text/x-python",
   "name": "python",
   "nbconvert_exporter": "python",
   "pygments_lexer": "ipython3",
   "version": "3.11.1"
  },
  "orig_nbformat": 4
 },
 "nbformat": 4,
 "nbformat_minor": 2
}
