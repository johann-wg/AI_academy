{
 "cells": [
  {
   "cell_type": "code",
   "execution_count": 40,
   "metadata": {},
   "outputs": [],
   "source": [
    "import pandas as pd\n",
    "import numpy as np\n",
    "import matplotlib.pyplot as plt\n",
    "import seaborn as sns\n",
    "import plotly.express as px\n",
    "import plotly.graph_objs as go\n",
    "import plotly.graph_objects as go\n",
    "\n",
    "from sklearn.model_selection import train_test_split\n",
    "from sklearn.ensemble import RandomForestRegressor\n",
    "from sklearn.preprocessing import StandardScaler\n",
    "from sklearn.metrics import mean_squared_error, mean_absolute_error\n",
    "from sklearn.pipeline import make_pipeline\n",
    "from sklearn.model_selection import GridSearchCV, learning_curve\n",
    "from sklearn.svm import SVR\n",
    "import xgboost as xgb\n",
    "from xgboost import XGBRegressor"
   ]
  },
  {
   "cell_type": "code",
   "execution_count": 41,
   "metadata": {},
   "outputs": [
    {
     "data": {
      "text/html": [
       "<div>\n",
       "<style scoped>\n",
       "    .dataframe tbody tr th:only-of-type {\n",
       "        vertical-align: middle;\n",
       "    }\n",
       "\n",
       "    .dataframe tbody tr th {\n",
       "        vertical-align: top;\n",
       "    }\n",
       "\n",
       "    .dataframe thead th {\n",
       "        text-align: right;\n",
       "    }\n",
       "</style>\n",
       "<table border=\"1\" class=\"dataframe\">\n",
       "  <thead>\n",
       "    <tr style=\"text-align: right;\">\n",
       "      <th></th>\n",
       "      <th>case</th>\n",
       "      <th>site</th>\n",
       "      <th>sex</th>\n",
       "      <th>age</th>\n",
       "      <th>head_length</th>\n",
       "      <th>skull_width</th>\n",
       "      <th>total_length</th>\n",
       "      <th>tail_length</th>\n",
       "      <th>foot_length</th>\n",
       "      <th>earconch</th>\n",
       "      <th>eye</th>\n",
       "      <th>chest</th>\n",
       "      <th>belly</th>\n",
       "    </tr>\n",
       "  </thead>\n",
       "  <tbody>\n",
       "    <tr>\n",
       "      <th>0</th>\n",
       "      <td>1</td>\n",
       "      <td>1</td>\n",
       "      <td>m</td>\n",
       "      <td>8.0</td>\n",
       "      <td>94.1</td>\n",
       "      <td>60.4</td>\n",
       "      <td>89.0</td>\n",
       "      <td>36.0</td>\n",
       "      <td>74.5</td>\n",
       "      <td>54.5</td>\n",
       "      <td>15.2</td>\n",
       "      <td>28.0</td>\n",
       "      <td>36.0</td>\n",
       "    </tr>\n",
       "    <tr>\n",
       "      <th>1</th>\n",
       "      <td>2</td>\n",
       "      <td>1</td>\n",
       "      <td>f</td>\n",
       "      <td>6.0</td>\n",
       "      <td>92.5</td>\n",
       "      <td>57.6</td>\n",
       "      <td>91.5</td>\n",
       "      <td>36.5</td>\n",
       "      <td>72.5</td>\n",
       "      <td>51.2</td>\n",
       "      <td>16.0</td>\n",
       "      <td>28.5</td>\n",
       "      <td>33.0</td>\n",
       "    </tr>\n",
       "    <tr>\n",
       "      <th>2</th>\n",
       "      <td>3</td>\n",
       "      <td>1</td>\n",
       "      <td>f</td>\n",
       "      <td>6.0</td>\n",
       "      <td>94.0</td>\n",
       "      <td>60.0</td>\n",
       "      <td>95.5</td>\n",
       "      <td>39.0</td>\n",
       "      <td>75.4</td>\n",
       "      <td>51.9</td>\n",
       "      <td>15.5</td>\n",
       "      <td>30.0</td>\n",
       "      <td>34.0</td>\n",
       "    </tr>\n",
       "    <tr>\n",
       "      <th>3</th>\n",
       "      <td>4</td>\n",
       "      <td>1</td>\n",
       "      <td>f</td>\n",
       "      <td>6.0</td>\n",
       "      <td>93.2</td>\n",
       "      <td>57.1</td>\n",
       "      <td>92.0</td>\n",
       "      <td>38.0</td>\n",
       "      <td>76.1</td>\n",
       "      <td>52.2</td>\n",
       "      <td>15.2</td>\n",
       "      <td>28.0</td>\n",
       "      <td>34.0</td>\n",
       "    </tr>\n",
       "    <tr>\n",
       "      <th>4</th>\n",
       "      <td>5</td>\n",
       "      <td>1</td>\n",
       "      <td>f</td>\n",
       "      <td>2.0</td>\n",
       "      <td>91.5</td>\n",
       "      <td>56.3</td>\n",
       "      <td>85.5</td>\n",
       "      <td>36.0</td>\n",
       "      <td>71.0</td>\n",
       "      <td>53.2</td>\n",
       "      <td>15.1</td>\n",
       "      <td>28.5</td>\n",
       "      <td>33.0</td>\n",
       "    </tr>\n",
       "    <tr>\n",
       "      <th>...</th>\n",
       "      <td>...</td>\n",
       "      <td>...</td>\n",
       "      <td>...</td>\n",
       "      <td>...</td>\n",
       "      <td>...</td>\n",
       "      <td>...</td>\n",
       "      <td>...</td>\n",
       "      <td>...</td>\n",
       "      <td>...</td>\n",
       "      <td>...</td>\n",
       "      <td>...</td>\n",
       "      <td>...</td>\n",
       "      <td>...</td>\n",
       "    </tr>\n",
       "    <tr>\n",
       "      <th>99</th>\n",
       "      <td>100</td>\n",
       "      <td>7</td>\n",
       "      <td>m</td>\n",
       "      <td>1.0</td>\n",
       "      <td>89.5</td>\n",
       "      <td>56.0</td>\n",
       "      <td>81.5</td>\n",
       "      <td>36.5</td>\n",
       "      <td>66.0</td>\n",
       "      <td>46.8</td>\n",
       "      <td>14.8</td>\n",
       "      <td>23.0</td>\n",
       "      <td>27.0</td>\n",
       "    </tr>\n",
       "    <tr>\n",
       "      <th>100</th>\n",
       "      <td>101</td>\n",
       "      <td>7</td>\n",
       "      <td>m</td>\n",
       "      <td>1.0</td>\n",
       "      <td>88.6</td>\n",
       "      <td>54.7</td>\n",
       "      <td>82.5</td>\n",
       "      <td>39.0</td>\n",
       "      <td>64.4</td>\n",
       "      <td>48.0</td>\n",
       "      <td>14.0</td>\n",
       "      <td>25.0</td>\n",
       "      <td>33.0</td>\n",
       "    </tr>\n",
       "    <tr>\n",
       "      <th>101</th>\n",
       "      <td>102</td>\n",
       "      <td>7</td>\n",
       "      <td>f</td>\n",
       "      <td>6.0</td>\n",
       "      <td>92.4</td>\n",
       "      <td>55.0</td>\n",
       "      <td>89.0</td>\n",
       "      <td>38.0</td>\n",
       "      <td>63.5</td>\n",
       "      <td>45.4</td>\n",
       "      <td>13.0</td>\n",
       "      <td>25.0</td>\n",
       "      <td>30.0</td>\n",
       "    </tr>\n",
       "    <tr>\n",
       "      <th>102</th>\n",
       "      <td>103</td>\n",
       "      <td>7</td>\n",
       "      <td>m</td>\n",
       "      <td>4.0</td>\n",
       "      <td>91.5</td>\n",
       "      <td>55.2</td>\n",
       "      <td>82.5</td>\n",
       "      <td>36.5</td>\n",
       "      <td>62.9</td>\n",
       "      <td>45.9</td>\n",
       "      <td>15.4</td>\n",
       "      <td>25.0</td>\n",
       "      <td>29.0</td>\n",
       "    </tr>\n",
       "    <tr>\n",
       "      <th>103</th>\n",
       "      <td>104</td>\n",
       "      <td>7</td>\n",
       "      <td>f</td>\n",
       "      <td>3.0</td>\n",
       "      <td>93.6</td>\n",
       "      <td>59.9</td>\n",
       "      <td>89.0</td>\n",
       "      <td>40.0</td>\n",
       "      <td>67.6</td>\n",
       "      <td>46.0</td>\n",
       "      <td>14.8</td>\n",
       "      <td>28.5</td>\n",
       "      <td>33.5</td>\n",
       "    </tr>\n",
       "  </tbody>\n",
       "</table>\n",
       "<p>104 rows × 13 columns</p>\n",
       "</div>"
      ],
      "text/plain": [
       "     case  site sex  age  head_length  skull_width  total_length  tail_length  \\\n",
       "0       1     1   m  8.0         94.1         60.4          89.0         36.0   \n",
       "1       2     1   f  6.0         92.5         57.6          91.5         36.5   \n",
       "2       3     1   f  6.0         94.0         60.0          95.5         39.0   \n",
       "3       4     1   f  6.0         93.2         57.1          92.0         38.0   \n",
       "4       5     1   f  2.0         91.5         56.3          85.5         36.0   \n",
       "..    ...   ...  ..  ...          ...          ...           ...          ...   \n",
       "99    100     7   m  1.0         89.5         56.0          81.5         36.5   \n",
       "100   101     7   m  1.0         88.6         54.7          82.5         39.0   \n",
       "101   102     7   f  6.0         92.4         55.0          89.0         38.0   \n",
       "102   103     7   m  4.0         91.5         55.2          82.5         36.5   \n",
       "103   104     7   f  3.0         93.6         59.9          89.0         40.0   \n",
       "\n",
       "     foot_length  earconch   eye  chest  belly  \n",
       "0           74.5      54.5  15.2   28.0   36.0  \n",
       "1           72.5      51.2  16.0   28.5   33.0  \n",
       "2           75.4      51.9  15.5   30.0   34.0  \n",
       "3           76.1      52.2  15.2   28.0   34.0  \n",
       "4           71.0      53.2  15.1   28.5   33.0  \n",
       "..           ...       ...   ...    ...    ...  \n",
       "99          66.0      46.8  14.8   23.0   27.0  \n",
       "100         64.4      48.0  14.0   25.0   33.0  \n",
       "101         63.5      45.4  13.0   25.0   30.0  \n",
       "102         62.9      45.9  15.4   25.0   29.0  \n",
       "103         67.6      46.0  14.8   28.5   33.5  \n",
       "\n",
       "[104 rows x 13 columns]"
      ]
     },
     "execution_count": 41,
     "metadata": {},
     "output_type": "execute_result"
    }
   ],
   "source": [
    "test = pd.read_csv('./src/eoraptor.csv', names=['case','site','sex','age','head_length(mm)','skull_width(mm)',\n",
    "                                         'total_length(cm)', 'tail_length(cm)', 'foot_length(mm)', 'earconch(mm)',\n",
    "                                         'eye(mm)', 'chest(cm)', 'belly(cm)'])\n",
    "\n",
    "df = pd.read_csv('./src/eoraptor.csv')\n",
    "df"
   ]
  },
  {
   "cell_type": "code",
   "execution_count": 42,
   "metadata": {},
   "outputs": [],
   "source": [
    "df['sex'] = df['sex'].apply(lambda x: 0 if x == 'm' else 1)"
   ]
  },
  {
   "attachments": {},
   "cell_type": "markdown",
   "metadata": {},
   "source": [
    "# 결측치 확인 및 처리"
   ]
  },
  {
   "cell_type": "code",
   "execution_count": 43,
   "metadata": {},
   "outputs": [
    {
     "data": {
      "text/html": [
       "<div>\n",
       "<style scoped>\n",
       "    .dataframe tbody tr th:only-of-type {\n",
       "        vertical-align: middle;\n",
       "    }\n",
       "\n",
       "    .dataframe tbody tr th {\n",
       "        vertical-align: top;\n",
       "    }\n",
       "\n",
       "    .dataframe thead th {\n",
       "        text-align: right;\n",
       "    }\n",
       "</style>\n",
       "<table border=\"1\" class=\"dataframe\">\n",
       "  <thead>\n",
       "    <tr style=\"text-align: right;\">\n",
       "      <th></th>\n",
       "      <th>case</th>\n",
       "      <th>site</th>\n",
       "      <th>sex</th>\n",
       "      <th>age</th>\n",
       "      <th>head_length</th>\n",
       "      <th>skull_width</th>\n",
       "      <th>total_length</th>\n",
       "      <th>tail_length</th>\n",
       "      <th>foot_length</th>\n",
       "      <th>earconch</th>\n",
       "      <th>eye</th>\n",
       "      <th>chest</th>\n",
       "      <th>belly</th>\n",
       "    </tr>\n",
       "  </thead>\n",
       "  <tbody>\n",
       "    <tr>\n",
       "      <th>40</th>\n",
       "      <td>41</td>\n",
       "      <td>2</td>\n",
       "      <td>1</td>\n",
       "      <td>5.0</td>\n",
       "      <td>88.4</td>\n",
       "      <td>57.0</td>\n",
       "      <td>83.0</td>\n",
       "      <td>36.5</td>\n",
       "      <td>NaN</td>\n",
       "      <td>40.3</td>\n",
       "      <td>15.9</td>\n",
       "      <td>27.0</td>\n",
       "      <td>30.5</td>\n",
       "    </tr>\n",
       "    <tr>\n",
       "      <th>43</th>\n",
       "      <td>44</td>\n",
       "      <td>2</td>\n",
       "      <td>0</td>\n",
       "      <td>NaN</td>\n",
       "      <td>85.1</td>\n",
       "      <td>51.5</td>\n",
       "      <td>76.0</td>\n",
       "      <td>35.5</td>\n",
       "      <td>70.3</td>\n",
       "      <td>52.6</td>\n",
       "      <td>14.4</td>\n",
       "      <td>23.0</td>\n",
       "      <td>27.0</td>\n",
       "    </tr>\n",
       "    <tr>\n",
       "      <th>45</th>\n",
       "      <td>46</td>\n",
       "      <td>2</td>\n",
       "      <td>0</td>\n",
       "      <td>NaN</td>\n",
       "      <td>91.4</td>\n",
       "      <td>54.4</td>\n",
       "      <td>84.0</td>\n",
       "      <td>35.0</td>\n",
       "      <td>72.8</td>\n",
       "      <td>51.2</td>\n",
       "      <td>14.4</td>\n",
       "      <td>24.5</td>\n",
       "      <td>35.0</td>\n",
       "    </tr>\n",
       "  </tbody>\n",
       "</table>\n",
       "</div>"
      ],
      "text/plain": [
       "    case  site  sex  age  head_length  skull_width  total_length  tail_length  \\\n",
       "40    41     2    1  5.0         88.4         57.0          83.0         36.5   \n",
       "43    44     2    0  NaN         85.1         51.5          76.0         35.5   \n",
       "45    46     2    0  NaN         91.4         54.4          84.0         35.0   \n",
       "\n",
       "    foot_length  earconch   eye  chest  belly  \n",
       "40          NaN      40.3  15.9   27.0   30.5  \n",
       "43         70.3      52.6  14.4   23.0   27.0  \n",
       "45         72.8      51.2  14.4   24.5   35.0  "
      ]
     },
     "execution_count": 43,
     "metadata": {},
     "output_type": "execute_result"
    }
   ],
   "source": [
    "df[df.isnull().any(axis=1)]"
   ]
  },
  {
   "cell_type": "code",
   "execution_count": 44,
   "metadata": {},
   "outputs": [],
   "source": [
    "df.dropna(axis=0, inplace=True)\n",
    "df.drop('case', axis=1, inplace=True)"
   ]
  },
  {
   "attachments": {},
   "cell_type": "markdown",
   "metadata": {},
   "source": [
    "# 상관관계 히트맵"
   ]
  },
  {
   "cell_type": "code",
   "execution_count": 45,
   "metadata": {},
   "outputs": [
    {
     "data": {
      "text/plain": [
       "<Axes: >"
      ]
     },
     "execution_count": 45,
     "metadata": {},
     "output_type": "execute_result"
    },
    {
     "data": {
      "image/png": "[encoded data removed]",
      "text/plain": [
       "<Figure size 800x700 with 2 Axes>"
      ]
     },
     "metadata": {},
     "output_type": "display_data"
    }
   ],
   "source": [
    "plt.figure(figsize=(8,7))\n",
    "sns.heatmap(df.corr(), annot=True, fmt='.1f')"
   ]
  },
  {
   "cell_type": "code",
   "execution_count": 46,
   "metadata": {},
   "outputs": [
    {
     "data": {
      "text/plain": [
       "age           age             1.000000\n",
       "belly         belly           1.000000\n",
       "site          earconch        0.818580\n",
       "earconch      site            0.818580\n",
       "              foot_length     0.782415\n",
       "foot_length   earconch        0.782415\n",
       "              site            0.781489\n",
       "site          foot_length     0.781489\n",
       "skull_width   head_length     0.705901\n",
       "head_length   skull_width     0.705901\n",
       "total_length  head_length     0.670402\n",
       "head_length   total_length    0.670402\n",
       "              chest           0.621068\n",
       "chest         head_length     0.621068\n",
       "skull_width   chest           0.613842\n",
       "chest         skull_width     0.613842\n",
       "belly         chest           0.609757\n",
       "chest         belly           0.609757\n",
       "total_length  tail_length     0.563586\n",
       "tail_length   total_length    0.563586\n",
       "chest         total_length    0.556094\n",
       "total_length  chest           0.556094\n",
       "head_length   belly           0.545438\n",
       "belly         head_length     0.545438\n",
       "total_length  skull_width     0.506382\n",
       "skull_width   total_length    0.506382\n",
       "belly         total_length    0.500558\n",
       "total_length  belly           0.500558\n",
       "foot_length   chest           0.486477\n",
       "chest         foot_length     0.486477\n",
       "dtype: float64"
      ]
     },
     "execution_count": 46,
     "metadata": {},
     "output_type": "execute_result"
    }
   ],
   "source": [
    "df.corr().abs().unstack().sort_values(ascending=False).iloc[10:40]"
   ]
  },
  {
   "cell_type": "code",
   "execution_count": 47,
   "metadata": {},
   "outputs": [
    {
     "data": {
      "text/plain": [
       "<Axes: >"
      ]
     },
     "execution_count": 47,
     "metadata": {},
     "output_type": "execute_result"
    },
    {
     "data": {
      "image/png": "[encoded data removed]",
      "text/plain": [
       "<Figure size 800x700 with 2 Axes>"
      ]
     },
     "metadata": {},
     "output_type": "display_data"
    }
   ],
   "source": [
    "plt.figure(figsize=(8,7))\n",
    "sns.heatmap(df.corr()['age'].abs().sort_values(ascending=False).to_frame(), annot=True, fmt='.3f')"
   ]
  },
  {
   "attachments": {},
   "cell_type": "markdown",
   "metadata": {},
   "source": [
    "# belly, chest 상관관계 그래프"
   ]
  },
  {
   "attachments": {},
   "cell_type": "markdown",
   "metadata": {},
   "source": [
    "### sex 기준 상관관계"
   ]
  },
  {
   "cell_type": "code",
   "execution_count": 48,
   "metadata": {},
   "outputs": [
    {
     "data": {
      "text/plain": [
       "<Figure size 800x500 with 0 Axes>"
      ]
     },
     "metadata": {},
     "output_type": "display_data"
    },
    {
     "data": {
      "image/png": "[encoded data removed]",
      "text/plain": [
       "<Figure size 558.875x500 with 1 Axes>"
      ]
     },
     "metadata": {},
     "output_type": "display_data"
    }
   ],
   "source": [
    "plt.figure(figsize=(8, 5))\n",
    "sns.lmplot(df, x='belly', y='chest', hue='sex')\n",
    "plt.show()"
   ]
  },
  {
   "attachments": {},
   "cell_type": "markdown",
   "metadata": {},
   "source": [
    "### age 기준 상관관계"
   ]
  },
  {
   "cell_type": "code",
   "execution_count": 11,
   "metadata": {},
   "outputs": [
    {
     "data": {
      "application/vnd.plotly.v1+json": {
       "config": {
        "plotlyServerURL": "https://plot.ly"
       },
       "data": [
        {
         "mode": "markers",
         "name": "Age 1",
         "type": "scatter",
         "x": [
          32,
          31,
          25,
          30,
          28,
          28,
          28.5,
          30.5,
          27,
          33
         ],
         "y": [
          30,
          29,
          25,
          25.5,
          23.5,
          23,
          22,
          23.5,
          23,
          25
         ]
        },
        {
         "mode": "markers",
         "name": "Age 2",
         "type": "scatter",
         "x": [
          33,
          34.5,
          32,
          32,
          28,
          33,
          28.5,
          31.5,
          31,
          33,
          36,
          36,
          30,
          36,
          31.5,
          31
         ],
         "y": [
          28.5,
          30,
          28,
          27,
          23,
          24.5,
          26,
          28,
          29,
          25,
          30.5,
          32,
          26,
          26,
          25.5,
          25.5
         ]
        },
        {
         "mode": "markers",
         "name": "Age 3",
         "type": "scatter",
         "x": [
          31.5,
          40,
          36,
          35,
          32,
          31,
          30,
          30,
          33,
          31.5,
          33.5,
          31.5,
          33,
          32,
          33,
          34,
          35,
          29,
          28.5,
          31.5,
          31,
          32.5,
          32,
          31,
          31.5,
          35,
          33.5
         ],
         "y": [
          28,
          30,
          28,
          31,
          24,
          27,
          24,
          27,
          25.5,
          27,
          26,
          27.5,
          30.5,
          27,
          25.5,
          26.5,
          27.5,
          25,
          25,
          27,
          26,
          25.5,
          26,
          24,
          25,
          28,
          28.5
         ]
        },
        {
         "mode": "markers",
         "name": "Age 4",
         "type": "scatter",
         "x": [
          32,
          36,
          35,
          30,
          34,
          35.5,
          35.5,
          39,
          29.5,
          34,
          32,
          31,
          33,
          29
         ],
         "y": [
          28,
          27,
          28,
          27,
          28,
          28,
          29.5,
          31,
          27.5,
          26,
          26,
          27,
          25,
          25
         ]
        },
        {
         "mode": "markers",
         "name": "Age 5",
         "type": "scatter",
         "x": [
          33,
          32,
          35,
          32,
          35,
          36,
          38.5,
          38.5,
          30,
          34,
          33,
          32
         ],
         "y": [
          28,
          27,
          28,
          28,
          28,
          28,
          28,
          29,
          27,
          28.5,
          26,
          28.5
         ]
        },
        {
         "mode": "markers",
         "name": "Age 6",
         "type": "scatter",
         "x": [
          33,
          34,
          34,
          34,
          32,
          32.5,
          28.5,
          34,
          33.5,
          35,
          30.5,
          30
         ],
         "y": [
          28.5,
          30,
          28,
          29,
          27.5,
          28.5,
          25.5,
          27.5,
          26,
          25,
          29,
          25
         ]
        },
        {
         "mode": "markers",
         "name": "Age 7",
         "type": "scatter",
         "x": [
          38,
          36,
          30,
          36.5,
          31,
          34,
          35
         ],
         "y": [
          29,
          25.5,
          27,
          30,
          26.5,
          27,
          29
         ]
        },
        {
         "mode": "markers",
         "name": "Age 8",
         "type": "scatter",
         "x": [
          36
         ],
         "y": [
          28
         ]
        },
        {
         "mode": "markers",
         "name": "Age 9",
         "type": "scatter",
         "x": [
          33,
          34
         ],
         "y": [
          28,
          31
         ]
        }
       ],
       "layout": {
        "height": 700,
        "template": {
         "data": {
          "bar": [
           {
            "error_x": {
             "color": "#2a3f5f"
            },
            "error_y": {
             "color": "#2a3f5f"
            },
            "marker": {
             "line": {
              "color": "#E5ECF6",
              "width": 0.5
             },
             "pattern": {
              "fillmode": "overlay",
              "size": 10,
              "solidity": 0.2
             }
            },
            "type": "bar"
           }
          ],
          "barpolar": [
           {
            "marker": {
             "line": {
              "color": "#E5ECF6",
              "width": 0.5
             },
             "pattern": {
              "fillmode": "overlay",
              "size": 10,
              "solidity": 0.2
             }
            },
            "type": "barpolar"
           }
          ],
          "carpet": [
           {
            "aaxis": {
             "endlinecolor": "#2a3f5f",
             "gridcolor": "white",
             "linecolor": "white",
             "minorgridcolor": "white",
             "startlinecolor": "#2a3f5f"
            },
            "baxis": {
             "endlinecolor": "#2a3f5f",
             "gridcolor": "white",
             "linecolor": "white",
             "minorgridcolor": "white",
             "startlinecolor": "#2a3f5f"
            },
            "type": "carpet"
           }
          ],
          "choropleth": [
           {
            "colorbar": {
             "outlinewidth": 0,
             "ticks": ""
            },
            "type": "choropleth"
           }
          ],
          "contour": [
           {
            "colorbar": {
             "outlinewidth": 0,
             "ticks": ""
            },
            "colorscale": [
             [
              0,
              "#0d0887"
             ],
             [
              0.1111111111111111,
              "#46039f"
             ],
             [
              0.2222222222222222,
              "#7201a8"
             ],
             [
              0.3333333333333333,
              "#9c179e"
             ],
             [
              0.4444444444444444,
              "#bd3786"
             ],
             [
              0.5555555555555556,
              "#d8576b"
             ],
             [
              0.6666666666666666,
              "#ed7953"
             ],
             [
              0.7777777777777778,
              "#fb9f3a"
             ],
             [
              0.8888888888888888,
              "#fdca26"
             ],
             [
              1,
              "#f0f921"
             ]
            ],
            "type": "contour"
           }
          ],
          "contourcarpet": [
           {
            "colorbar": {
             "outlinewidth": 0,
             "ticks": ""
            },
            "type": "contourcarpet"
           }
          ],
          "heatmap": [
           {
            "colorbar": {
             "outlinewidth": 0,
             "ticks": ""
            },
            "colorscale": [
             [
              0,
              "#0d0887"
             ],
             [
              0.1111111111111111,
              "#46039f"
             ],
             [
              0.2222222222222222,
              "#7201a8"
             ],
             [
              0.3333333333333333,
              "#9c179e"
             ],
             [
              0.4444444444444444,
              "#bd3786"
             ],
             [
              0.5555555555555556,
              "#d8576b"
             ],
             [
              0.6666666666666666,
              "#ed7953"
             ],
             [
              0.7777777777777778,
              "#fb9f3a"
             ],
             [
              0.8888888888888888,
              "#fdca26"
             ],
             [
              1,
              "#f0f921"
             ]
            ],
            "type": "heatmap"
           }
          ],
          "heatmapgl": [
           {
            "colorbar": {
             "outlinewidth": 0,
             "ticks": ""
            },
            "colorscale": [
             [
              0,
              "#0d0887"
             ],
             [
              0.1111111111111111,
              "#46039f"
             ],
             [
              0.2222222222222222,
              "#7201a8"
             ],
             [
              0.3333333333333333,
              "#9c179e"
             ],
             [
              0.4444444444444444,
              "#bd3786"
             ],
             [
              0.5555555555555556,
              "#d8576b"
             ],
             [
              0.6666666666666666,
              "#ed7953"
             ],
             [
              0.7777777777777778,
              "#fb9f3a"
             ],
             [
              0.8888888888888888,
              "#fdca26"
             ],
             [
              1,
              "#f0f921"
             ]
            ],
            "type": "heatmapgl"
           }
          ],
          "histogram": [
           {
            "marker": {
             "pattern": {
              "fillmode": "overlay",
              "size": 10,
              "solidity": 0.2
             }
            },
            "type": "histogram"
           }
          ],
          "histogram2d": [
           {
            "colorbar": {
             "outlinewidth": 0,
             "ticks": ""
            },
            "colorscale": [
             [
              0,
              "#0d0887"
             ],
             [
              0.1111111111111111,
              "#46039f"
             ],
             [
              0.2222222222222222,
              "#7201a8"
             ],
             [
              0.3333333333333333,
              "#9c179e"
             ],
             [
              0.4444444444444444,
              "#bd3786"
             ],
             [
              0.5555555555555556,
              "#d8576b"
             ],
             [
              0.6666666666666666,
              "#ed7953"
             ],
             [
              0.7777777777777778,
              "#fb9f3a"
             ],
             [
              0.8888888888888888,
              "#fdca26"
             ],
             [
              1,
              "#f0f921"
             ]
            ],
            "type": "histogram2d"
           }
          ],
          "histogram2dcontour": [
           {
            "colorbar": {
             "outlinewidth": 0,
             "ticks": ""
            },
            "colorscale": [
             [
              0,
              "#0d0887"
             ],
             [
              0.1111111111111111,
              "#46039f"
             ],
             [
              0.2222222222222222,
              "#7201a8"
             ],
             [
              0.3333333333333333,
              "#9c179e"
             ],
             [
              0.4444444444444444,
              "#bd3786"
             ],
             [
              0.5555555555555556,
              "#d8576b"
             ],
             [
              0.6666666666666666,
              "#ed7953"
             ],
             [
              0.7777777777777778,
              "#fb9f3a"
             ],
             [
              0.8888888888888888,
              "#fdca26"
             ],
             [
              1,
              "#f0f921"
             ]
            ],
            "type": "histogram2dcontour"
           }
          ],
          "mesh3d": [
           {
            "colorbar": {
             "outlinewidth": 0,
             "ticks": ""
            },
            "type": "mesh3d"
           }
          ],
          "parcoords": [
           {
            "line": {
             "colorbar": {
              "outlinewidth": 0,
              "ticks": ""
             }
            },
            "type": "parcoords"
           }
          ],
          "pie": [
           {
            "automargin": true,
            "type": "pie"
           }
          ],
          "scatter": [
           {
            "fillpattern": {
             "fillmode": "overlay",
             "size": 10,
             "solidity": 0.2
            },
            "type": "scatter"
           }
          ],
          "scatter3d": [
           {
            "line": {
             "colorbar": {
              "outlinewidth": 0,
              "ticks": ""
             }
            },
            "marker": {
             "colorbar": {
              "outlinewidth": 0,
              "ticks": ""
             }
            },
            "type": "scatter3d"
           }
          ],
          "scattercarpet": [
           {
            "marker": {
             "colorbar": {
              "outlinewidth": 0,
              "ticks": ""
             }
            },
            "type": "scattercarpet"
           }
          ],
          "scattergeo": [
           {
            "marker": {
             "colorbar": {
              "outlinewidth": 0,
              "ticks": ""
             }
            },
            "type": "scattergeo"
           }
          ],
          "scattergl": [
           {
            "marker": {
             "colorbar": {
              "outlinewidth": 0,
              "ticks": ""
             }
            },
            "type": "scattergl"
           }
          ],
          "scattermapbox": [
           {
            "marker": {
             "colorbar": {
              "outlinewidth": 0,
              "ticks": ""
             }
            },
            "type": "scattermapbox"
           }
          ],
          "scatterpolar": [
           {
            "marker": {
             "colorbar": {
              "outlinewidth": 0,
              "ticks": ""
             }
            },
            "type": "scatterpolar"
           }
          ],
          "scatterpolargl": [
           {
            "marker": {
             "colorbar": {
              "outlinewidth": 0,
              "ticks": ""
             }
            },
            "type": "scatterpolargl"
           }
          ],
          "scatterternary": [
           {
            "marker": {
             "colorbar": {
              "outlinewidth": 0,
              "ticks": ""
             }
            },
            "type": "scatterternary"
           }
          ],
          "surface": [
           {
            "colorbar": {
             "outlinewidth": 0,
             "ticks": ""
            },
            "colorscale": [
             [
              0,
              "#0d0887"
             ],
             [
              0.1111111111111111,
              "#46039f"
             ],
             [
              0.2222222222222222,
              "#7201a8"
             ],
             [
              0.3333333333333333,
              "#9c179e"
             ],
             [
              0.4444444444444444,
              "#bd3786"
             ],
             [
              0.5555555555555556,
              "#d8576b"
             ],
             [
              0.6666666666666666,
              "#ed7953"
             ],
             [
              0.7777777777777778,
              "#fb9f3a"
             ],
             [
              0.8888888888888888,
              "#fdca26"
             ],
             [
              1,
              "#f0f921"
             ]
            ],
            "type": "surface"
           }
          ],
          "table": [
           {
            "cells": {
             "fill": {
              "color": "#EBF0F8"
             },
             "line": {
              "color": "white"
             }
            },
            "header": {
             "fill": {
              "color": "#C8D4E3"
             },
             "line": {
              "color": "white"
             }
            },
            "type": "table"
           }
          ]
         },
         "layout": {
          "annotationdefaults": {
           "arrowcolor": "#2a3f5f",
           "arrowhead": 0,
           "arrowwidth": 1
          },
          "autotypenumbers": "strict",
          "coloraxis": {
           "colorbar": {
            "outlinewidth": 0,
            "ticks": ""
           }
          },
          "colorscale": {
           "diverging": [
            [
             0,
             "#8e0152"
            ],
            [
             0.1,
             "#c51b7d"
            ],
            [
             0.2,
             "#de77ae"
            ],
            [
             0.3,
             "#f1b6da"
            ],
            [
             0.4,
             "#fde0ef"
            ],
            [
             0.5,
             "#f7f7f7"
            ],
            [
             0.6,
             "#e6f5d0"
            ],
            [
             0.7,
             "#b8e186"
            ],
            [
             0.8,
             "#7fbc41"
            ],
            [
             0.9,
             "#4d9221"
            ],
            [
             1,
             "#276419"
            ]
           ],
           "sequential": [
            [
             0,
             "#0d0887"
            ],
            [
             0.1111111111111111,
             "#46039f"
            ],
            [
             0.2222222222222222,
             "#7201a8"
            ],
            [
             0.3333333333333333,
             "#9c179e"
            ],
            [
             0.4444444444444444,
             "#bd3786"
            ],
            [
             0.5555555555555556,
             "#d8576b"
            ],
            [
             0.6666666666666666,
             "#ed7953"
            ],
            [
             0.7777777777777778,
             "#fb9f3a"
            ],
            [
             0.8888888888888888,
             "#fdca26"
            ],
            [
             1,
             "#f0f921"
            ]
           ],
           "sequentialminus": [
            [
             0,
             "#0d0887"
            ],
            [
             0.1111111111111111,
             "#46039f"
            ],
            [
             0.2222222222222222,
             "#7201a8"
            ],
            [
             0.3333333333333333,
             "#9c179e"
            ],
            [
             0.4444444444444444,
             "#bd3786"
            ],
            [
             0.5555555555555556,
             "#d8576b"
            ],
            [
             0.6666666666666666,
             "#ed7953"
            ],
            [
             0.7777777777777778,
             "#fb9f3a"
            ],
            [
             0.8888888888888888,
             "#fdca26"
            ],
            [
             1,
             "#f0f921"
            ]
           ]
          },
          "colorway": [
           "#636efa",
           "#EF553B",
           "#00cc96",
           "#ab63fa",
           "#FFA15A",
           "#19d3f3",
           "#FF6692",
           "#B6E880",
           "#FF97FF",
           "#FECB52"
          ],
          "font": {
           "color": "#2a3f5f"
          },
          "geo": {
           "bgcolor": "white",
           "lakecolor": "white",
           "landcolor": "#E5ECF6",
           "showlakes": true,
           "showland": true,
           "subunitcolor": "white"
          },
          "hoverlabel": {
           "align": "left"
          },
          "hovermode": "closest",
          "mapbox": {
           "style": "light"
          },
          "paper_bgcolor": "white",
          "plot_bgcolor": "#E5ECF6",
          "polar": {
           "angularaxis": {
            "gridcolor": "white",
            "linecolor": "white",
            "ticks": ""
           },
           "bgcolor": "#E5ECF6",
           "radialaxis": {
            "gridcolor": "white",
            "linecolor": "white",
            "ticks": ""
           }
          },
          "scene": {
           "xaxis": {
            "backgroundcolor": "#E5ECF6",
            "gridcolor": "white",
            "gridwidth": 2,
            "linecolor": "white",
            "showbackground": true,
            "ticks": "",
            "zerolinecolor": "white"
           },
           "yaxis": {
            "backgroundcolor": "#E5ECF6",
            "gridcolor": "white",
            "gridwidth": 2,
            "linecolor": "white",
            "showbackground": true,
            "ticks": "",
            "zerolinecolor": "white"
           },
           "zaxis": {
            "backgroundcolor": "#E5ECF6",
            "gridcolor": "white",
            "gridwidth": 2,
            "linecolor": "white",
            "showbackground": true,
            "ticks": "",
            "zerolinecolor": "white"
           }
          },
          "shapedefaults": {
           "line": {
            "color": "#2a3f5f"
           }
          },
          "ternary": {
           "aaxis": {
            "gridcolor": "white",
            "linecolor": "white",
            "ticks": ""
           },
           "baxis": {
            "gridcolor": "white",
            "linecolor": "white",
            "ticks": ""
           },
           "bgcolor": "#E5ECF6",
           "caxis": {
            "gridcolor": "white",
            "linecolor": "white",
            "ticks": ""
           }
          },
          "title": {
           "x": 0.05
          },
          "xaxis": {
           "automargin": true,
           "gridcolor": "white",
           "linecolor": "white",
           "ticks": "",
           "title": {
            "standoff": 15
           },
           "zerolinecolor": "white",
           "zerolinewidth": 2
          },
          "yaxis": {
           "automargin": true,
           "gridcolor": "white",
           "linecolor": "white",
           "ticks": "",
           "title": {
            "standoff": 15
           },
           "zerolinecolor": "white",
           "zerolinewidth": 2
          }
         }
        },
        "width": 800,
        "xaxis": {
         "title": {
          "text": "belly"
         }
        },
        "yaxis": {
         "title": {
          "text": "chest"
         }
        }
       }
      }
     },
     "metadata": {},
     "output_type": "display_data"
    }
   ],
   "source": [
    "fig = go.Figure()\n",
    "\n",
    "# 각 'age' 그룹에 대해 산점도 추가\n",
    "for age in range(1, 10):\n",
    "    # 'age' 열의 값에 따라 데이터 분리\n",
    "    df_age = df[df['age'] == age]\n",
    "\n",
    "    fig.add_trace(go.Scatter(\n",
    "        x=df_age['belly'],\n",
    "        y=df_age['chest'],\n",
    "        mode='markers',\n",
    "        name=f'Age {age}'\n",
    "    ))\n",
    "\n",
    "fig.update_layout(\n",
    "    width=800,\n",
    "    height=700,\n",
    "    xaxis_title=\"belly\",\n",
    "    yaxis_title=\"chest\",\n",
    ")\n",
    "\n",
    "fig.show()\n"
   ]
  },
  {
   "cell_type": "code",
   "execution_count": 12,
   "metadata": {},
   "outputs": [
    {
     "data": {
      "application/vnd.plotly.v1+json": {
       "config": {
        "plotlyServerURL": "https://plot.ly"
       },
       "data": [
        {
         "hovertemplate": "age=1.0<br>belly=%{x}<br>chest=%{marker.size}<br>sex=%{marker.color}<extra></extra>",
         "legendgroup": "",
         "marker": {
          "color": [
           0,
           0,
           0,
           1,
           1,
           0,
           0,
           1,
           0,
           0
          ],
          "coloraxis": "coloraxis",
          "size": [
           25.5,
           23.5,
           23.5,
           25,
           30,
           22,
           23,
           29,
           23,
           25
          ],
          "sizemode": "area",
          "sizeref": 0.08,
          "symbol": "circle"
         },
         "mode": "markers",
         "name": "",
         "orientation": "v",
         "showlegend": false,
         "type": "scatter",
         "x": [
          30,
          28,
          30.5,
          25,
          32,
          28.5,
          28,
          31,
          27,
          33
         ],
         "xaxis": "x",
         "y": [
          25.5,
          23.5,
          23.5,
          25,
          30,
          22,
          23,
          29,
          23,
          25
         ],
         "yaxis": "y"
        }
       ],
       "frames": [
        {
         "data": [
          {
           "hovertemplate": "age=1.0<br>belly=%{x}<br>chest=%{marker.size}<br>sex=%{marker.color}<extra></extra>",
           "legendgroup": "",
           "marker": {
            "color": [
             0,
             0,
             0,
             1,
             1,
             0,
             0,
             1,
             0,
             0
            ],
            "coloraxis": "coloraxis",
            "size": [
             25.5,
             23.5,
             23.5,
             25,
             30,
             22,
             23,
             29,
             23,
             25
            ],
            "sizemode": "area",
            "sizeref": 0.08,
            "symbol": "circle"
           },
           "mode": "markers",
           "name": "",
           "orientation": "v",
           "showlegend": false,
           "type": "scatter",
           "x": [
            30,
            28,
            30.5,
            25,
            32,
            28.5,
            28,
            31,
            27,
            33
           ],
           "xaxis": "x",
           "y": [
            25.5,
            23.5,
            23.5,
            25,
            30,
            22,
            23,
            29,
            23,
            25
           ],
           "yaxis": "y"
          }
         ],
         "name": "1.0"
        },
        {
         "data": [
          {
           "hovertemplate": "age=2.0<br>belly=%{x}<br>chest=%{marker.size}<br>sex=%{marker.color}<extra></extra>",
           "legendgroup": "",
           "marker": {
            "color": [
             0,
             0,
             1,
             0,
             1,
             0,
             1,
             1,
             1,
             1,
             0,
             0,
             0,
             0,
             0,
             1
            ],
            "coloraxis": "coloraxis",
            "size": [
             25,
             27,
             26,
             32,
             24.5,
             26,
             29,
             23,
             28,
             25.5,
             25.5,
             30.5,
             26,
             28,
             30,
             28.5
            ],
            "sizemode": "area",
            "sizeref": 0.08,
            "symbol": "circle"
           },
           "mode": "markers",
           "name": "",
           "orientation": "v",
           "showlegend": false,
           "type": "scatter",
           "x": [
            33,
            32,
            30,
            36,
            33,
            28.5,
            31,
            28,
            31.5,
            31.5,
            31,
            36,
            36,
            32,
            34.5,
            33
           ],
           "xaxis": "x",
           "y": [
            25,
            27,
            26,
            32,
            24.5,
            26,
            29,
            23,
            28,
            25.5,
            25.5,
            30.5,
            26,
            28,
            30,
            28.5
           ],
           "yaxis": "y"
          }
         ],
         "name": "2.0"
        },
        {
         "data": [
          {
           "hovertemplate": "age=3.0<br>belly=%{x}<br>chest=%{marker.size}<br>sex=%{marker.color}<extra></extra>",
           "legendgroup": "",
           "marker": {
            "color": [
             0,
             0,
             1,
             0,
             1,
             1,
             1,
             0,
             1,
             0,
             0,
             1,
             0,
             0,
             0,
             1,
             0,
             0,
             0,
             1,
             1,
             1,
             0,
             1,
             0,
             0,
             0
            ],
            "coloraxis": "coloraxis",
            "size": [
             30.5,
             25,
             27,
             25.5,
             26.5,
             27,
             26,
             27,
             25.5,
             27.5,
             24,
             28.5,
             24,
             26,
             25.5,
             26,
             27,
             25,
             28,
             25,
             28,
             24,
             27.5,
             30,
             28,
             31,
             27
            ],
            "sizemode": "area",
            "sizeref": 0.08,
            "symbol": "circle"
           },
           "mode": "markers",
           "name": "",
           "orientation": "v",
           "showlegend": false,
           "type": "scatter",
           "x": [
            33,
            31.5,
            30,
            33,
            34,
            32,
            33.5,
            31.5,
            33,
            31.5,
            31,
            33.5,
            30,
            32,
            32.5,
            31,
            31.5,
            28.5,
            31.5,
            29,
            35,
            32,
            35,
            40,
            36,
            35,
            31
           ],
           "xaxis": "x",
           "y": [
            30.5,
            25,
            27,
            25.5,
            26.5,
            27,
            26,
            27,
            25.5,
            27.5,
            24,
            28.5,
            24,
            26,
            25.5,
            26,
            27,
            25,
            28,
            25,
            28,
            24,
            27.5,
            30,
            28,
            31,
            27
           ],
           "yaxis": "y"
          }
         ],
         "name": "3.0"
        },
        {
         "data": [
          {
           "hovertemplate": "age=4.0<br>belly=%{x}<br>chest=%{marker.size}<br>sex=%{marker.color}<extra></extra>",
           "legendgroup": "",
           "marker": {
            "color": [
             0,
             1,
             0,
             1,
             0,
             0,
             0,
             1,
             1,
             1,
             1,
             0,
             0,
             0
            ],
            "coloraxis": "coloraxis",
            "size": [
             25,
             26,
             27.5,
             26,
             29.5,
             25,
             28,
             27,
             28,
             31,
             28,
             28,
             27,
             27
            ],
            "sizemode": "area",
            "sizeref": 0.08,
            "symbol": "circle"
           },
           "mode": "markers",
           "name": "",
           "orientation": "v",
           "showlegend": false,
           "type": "scatter",
           "x": [
            33,
            34,
            29.5,
            32,
            35.5,
            29,
            32,
            36,
            35,
            39,
            34,
            35.5,
            30,
            31
           ],
           "xaxis": "x",
           "y": [
            25,
            26,
            27.5,
            26,
            29.5,
            25,
            28,
            27,
            28,
            31,
            28,
            28,
            27,
            27
           ],
           "yaxis": "y"
          }
         ],
         "name": "4.0"
        },
        {
         "data": [
          {
           "hovertemplate": "age=5.0<br>belly=%{x}<br>chest=%{marker.size}<br>sex=%{marker.color}<extra></extra>",
           "legendgroup": "",
           "marker": {
            "color": [
             1,
             0,
             0,
             0,
             1,
             1,
             1,
             0,
             0,
             1,
             0,
             0
            ],
            "coloraxis": "coloraxis",
            "size": [
             28,
             27,
             28,
             28.5,
             28,
             29,
             28,
             28,
             26,
             28,
             27,
             28.5
            ],
            "sizemode": "area",
            "sizeref": 0.08,
            "symbol": "circle"
           },
           "mode": "markers",
           "name": "",
           "orientation": "v",
           "showlegend": false,
           "type": "scatter",
           "x": [
            33,
            32,
            35,
            34,
            32,
            38.5,
            38.5,
            35,
            33,
            36,
            30,
            32
           ],
           "xaxis": "x",
           "y": [
            28,
            27,
            28,
            28.5,
            28,
            29,
            28,
            28,
            26,
            28,
            27,
            28.5
           ],
           "yaxis": "y"
          }
         ],
         "name": "5.0"
        },
        {
         "data": [
          {
           "hovertemplate": "age=6.0<br>belly=%{x}<br>chest=%{marker.size}<br>sex=%{marker.color}<extra></extra>",
           "legendgroup": "",
           "marker": {
            "color": [
             0,
             0,
             0,
             1,
             1,
             1,
             0,
             1,
             1,
             1,
             0,
             1
            ],
            "coloraxis": "coloraxis",
            "size": [
             28.5,
             26,
             27.5,
             27.5,
             25,
             29,
             29,
             28,
             30,
             28.5,
             25,
             25.5
            ],
            "sizemode": "area",
            "sizeref": 0.08,
            "symbol": "circle"
           },
           "mode": "markers",
           "name": "",
           "orientation": "v",
           "showlegend": false,
           "type": "scatter",
           "x": [
            32.5,
            33.5,
            34,
            32,
            30,
            34,
            30.5,
            34,
            34,
            33,
            35,
            28.5
           ],
           "xaxis": "x",
           "y": [
            28.5,
            26,
            27.5,
            27.5,
            25,
            29,
            29,
            28,
            30,
            28.5,
            25,
            25.5
           ],
           "yaxis": "y"
          }
         ],
         "name": "6.0"
        },
        {
         "data": [
          {
           "hovertemplate": "age=7.0<br>belly=%{x}<br>chest=%{marker.size}<br>sex=%{marker.color}<extra></extra>",
           "legendgroup": "",
           "marker": {
            "color": [
             0,
             1,
             0,
             0,
             0,
             0,
             0
            ],
            "coloraxis": "coloraxis",
            "size": [
             30,
             27,
             26.5,
             27,
             25.5,
             29,
             29
            ],
            "sizemode": "area",
            "sizeref": 0.08,
            "symbol": "circle"
           },
           "mode": "markers",
           "name": "",
           "orientation": "v",
           "showlegend": false,
           "type": "scatter",
           "x": [
            36.5,
            34,
            31,
            30,
            36,
            38,
            35
           ],
           "xaxis": "x",
           "y": [
            30,
            27,
            26.5,
            27,
            25.5,
            29,
            29
           ],
           "yaxis": "y"
          }
         ],
         "name": "7.0"
        },
        {
         "data": [
          {
           "hovertemplate": "age=8.0<br>belly=%{x}<br>chest=%{marker.size}<br>sex=%{marker.color}<extra></extra>",
           "legendgroup": "",
           "marker": {
            "color": [
             0
            ],
            "coloraxis": "coloraxis",
            "size": [
             28
            ],
            "sizemode": "area",
            "sizeref": 0.08,
            "symbol": "circle"
           },
           "mode": "markers",
           "name": "",
           "orientation": "v",
           "showlegend": false,
           "type": "scatter",
           "x": [
            36
           ],
           "xaxis": "x",
           "y": [
            28
           ],
           "yaxis": "y"
          }
         ],
         "name": "8.0"
        },
        {
         "data": [
          {
           "hovertemplate": "age=9.0<br>belly=%{x}<br>chest=%{marker.size}<br>sex=%{marker.color}<extra></extra>",
           "legendgroup": "",
           "marker": {
            "color": [
             1,
             1
            ],
            "coloraxis": "coloraxis",
            "size": [
             31,
             28
            ],
            "sizemode": "area",
            "sizeref": 0.08,
            "symbol": "circle"
           },
           "mode": "markers",
           "name": "",
           "orientation": "v",
           "showlegend": false,
           "type": "scatter",
           "x": [
            34,
            33
           ],
           "xaxis": "x",
           "y": [
            31,
            28
           ],
           "yaxis": "y"
          }
         ],
         "name": "9.0"
        }
       ],
       "layout": {
        "coloraxis": {
         "colorbar": {
          "title": {
           "text": "sex"
          }
         },
         "colorscale": [
          [
           0,
           "#0d0887"
          ],
          [
           0.1111111111111111,
           "#46039f"
          ],
          [
           0.2222222222222222,
           "#7201a8"
          ],
          [
           0.3333333333333333,
           "#9c179e"
          ],
          [
           0.4444444444444444,
           "#bd3786"
          ],
          [
           0.5555555555555556,
           "#d8576b"
          ],
          [
           0.6666666666666666,
           "#ed7953"
          ],
          [
           0.7777777777777778,
           "#fb9f3a"
          ],
          [
           0.8888888888888888,
           "#fdca26"
          ],
          [
           1,
           "#f0f921"
          ]
         ]
        },
        "height": 600,
        "legend": {
         "itemsizing": "constant",
         "tracegroupgap": 0
        },
        "margin": {
         "t": 60
        },
        "sliders": [
         {
          "active": 0,
          "currentvalue": {
           "prefix": "age="
          },
          "len": 0.9,
          "pad": {
           "b": 10,
           "t": 60
          },
          "steps": [
           {
            "args": [
             [
              "1.0"
             ],
             {
              "frame": {
               "duration": 0,
               "redraw": false
              },
              "fromcurrent": true,
              "mode": "immediate",
              "transition": {
               "duration": 0,
               "easing": "linear"
              }
             }
            ],
            "label": "1.0",
            "method": "animate"
           },
           {
            "args": [
             [
              "2.0"
             ],
             {
              "frame": {
               "duration": 0,
               "redraw": false
              },
              "fromcurrent": true,
              "mode": "immediate",
              "transition": {
               "duration": 0,
               "easing": "linear"
              }
             }
            ],
            "label": "2.0",
            "method": "animate"
           },
           {
            "args": [
             [
              "3.0"
             ],
             {
              "frame": {
               "duration": 0,
               "redraw": false
              },
              "fromcurrent": true,
              "mode": "immediate",
              "transition": {
               "duration": 0,
               "easing": "linear"
              }
             }
            ],
            "label": "3.0",
            "method": "animate"
           },
           {
            "args": [
             [
              "4.0"
             ],
             {
              "frame": {
               "duration": 0,
               "redraw": false
              },
              "fromcurrent": true,
              "mode": "immediate",
              "transition": {
               "duration": 0,
               "easing": "linear"
              }
             }
            ],
            "label": "4.0",
            "method": "animate"
           },
           {
            "args": [
             [
              "5.0"
             ],
             {
              "frame": {
               "duration": 0,
               "redraw": false
              },
              "fromcurrent": true,
              "mode": "immediate",
              "transition": {
               "duration": 0,
               "easing": "linear"
              }
             }
            ],
            "label": "5.0",
            "method": "animate"
           },
           {
            "args": [
             [
              "6.0"
             ],
             {
              "frame": {
               "duration": 0,
               "redraw": false
              },
              "fromcurrent": true,
              "mode": "immediate",
              "transition": {
               "duration": 0,
               "easing": "linear"
              }
             }
            ],
            "label": "6.0",
            "method": "animate"
           },
           {
            "args": [
             [
              "7.0"
             ],
             {
              "frame": {
               "duration": 0,
               "redraw": false
              },
              "fromcurrent": true,
              "mode": "immediate",
              "transition": {
               "duration": 0,
               "easing": "linear"
              }
             }
            ],
            "label": "7.0",
            "method": "animate"
           },
           {
            "args": [
             [
              "8.0"
             ],
             {
              "frame": {
               "duration": 0,
               "redraw": false
              },
              "fromcurrent": true,
              "mode": "immediate",
              "transition": {
               "duration": 0,
               "easing": "linear"
              }
             }
            ],
            "label": "8.0",
            "method": "animate"
           },
           {
            "args": [
             [
              "9.0"
             ],
             {
              "frame": {
               "duration": 0,
               "redraw": false
              },
              "fromcurrent": true,
              "mode": "immediate",
              "transition": {
               "duration": 0,
               "easing": "linear"
              }
             }
            ],
            "label": "9.0",
            "method": "animate"
           }
          ],
          "x": 0.1,
          "xanchor": "left",
          "y": 0,
          "yanchor": "top"
         }
        ],
        "template": {
         "data": {
          "bar": [
           {
            "error_x": {
             "color": "#2a3f5f"
            },
            "error_y": {
             "color": "#2a3f5f"
            },
            "marker": {
             "line": {
              "color": "#E5ECF6",
              "width": 0.5
             },
             "pattern": {
              "fillmode": "overlay",
              "size": 10,
              "solidity": 0.2
             }
            },
            "type": "bar"
           }
          ],
          "barpolar": [
           {
            "marker": {
             "line": {
              "color": "#E5ECF6",
              "width": 0.5
             },
             "pattern": {
              "fillmode": "overlay",
              "size": 10,
              "solidity": 0.2
             }
            },
            "type": "barpolar"
           }
          ],
          "carpet": [
           {
            "aaxis": {
             "endlinecolor": "#2a3f5f",
             "gridcolor": "white",
             "linecolor": "white",
             "minorgridcolor": "white",
             "startlinecolor": "#2a3f5f"
            },
            "baxis": {
             "endlinecolor": "#2a3f5f",
             "gridcolor": "white",
             "linecolor": "white",
             "minorgridcolor": "white",
             "startlinecolor": "#2a3f5f"
            },
            "type": "carpet"
           }
          ],
          "choropleth": [
           {
            "colorbar": {
             "outlinewidth": 0,
             "ticks": ""
            },
            "type": "choropleth"
           }
          ],
          "contour": [
           {
            "colorbar": {
             "outlinewidth": 0,
             "ticks": ""
            },
            "colorscale": [
             [
              0,
              "#0d0887"
             ],
             [
              0.1111111111111111,
              "#46039f"
             ],
             [
              0.2222222222222222,
              "#7201a8"
             ],
             [
              0.3333333333333333,
              "#9c179e"
             ],
             [
              0.4444444444444444,
              "#bd3786"
             ],
             [
              0.5555555555555556,
              "#d8576b"
             ],
             [
              0.6666666666666666,
              "#ed7953"
             ],
             [
              0.7777777777777778,
              "#fb9f3a"
             ],
             [
              0.8888888888888888,
              "#fdca26"
             ],
             [
              1,
              "#f0f921"
             ]
            ],
            "type": "contour"
           }
          ],
          "contourcarpet": [
           {
            "colorbar": {
             "outlinewidth": 0,
             "ticks": ""
            },
            "type": "contourcarpet"
           }
          ],
          "heatmap": [
           {
            "colorbar": {
             "outlinewidth": 0,
             "ticks": ""
            },
            "colorscale": [
             [
              0,
              "#0d0887"
             ],
             [
              0.1111111111111111,
              "#46039f"
             ],
             [
              0.2222222222222222,
              "#7201a8"
             ],
             [
              0.3333333333333333,
              "#9c179e"
             ],
             [
              0.4444444444444444,
              "#bd3786"
             ],
             [
              0.5555555555555556,
              "#d8576b"
             ],
             [
              0.6666666666666666,
              "#ed7953"
             ],
             [
              0.7777777777777778,
              "#fb9f3a"
             ],
             [
              0.8888888888888888,
              "#fdca26"
             ],
             [
              1,
              "#f0f921"
             ]
            ],
            "type": "heatmap"
           }
          ],
          "heatmapgl": [
           {
            "colorbar": {
             "outlinewidth": 0,
             "ticks": ""
            },
            "colorscale": [
             [
              0,
              "#0d0887"
             ],
             [
              0.1111111111111111,
              "#46039f"
             ],
             [
              0.2222222222222222,
              "#7201a8"
             ],
             [
              0.3333333333333333,
              "#9c179e"
             ],
             [
              0.4444444444444444,
              "#bd3786"
             ],
             [
              0.5555555555555556,
              "#d8576b"
             ],
             [
              0.6666666666666666,
              "#ed7953"
             ],
             [
              0.7777777777777778,
              "#fb9f3a"
             ],
             [
              0.8888888888888888,
              "#fdca26"
             ],
             [
              1,
              "#f0f921"
             ]
            ],
            "type": "heatmapgl"
           }
          ],
          "histogram": [
           {
            "marker": {
             "pattern": {
              "fillmode": "overlay",
              "size": 10,
              "solidity": 0.2
             }
            },
            "type": "histogram"
           }
          ],
          "histogram2d": [
           {
            "colorbar": {
             "outlinewidth": 0,
             "ticks": ""
            },
            "colorscale": [
             [
              0,
              "#0d0887"
             ],
             [
              0.1111111111111111,
              "#46039f"
             ],
             [
              0.2222222222222222,
              "#7201a8"
             ],
             [
              0.3333333333333333,
              "#9c179e"
             ],
             [
              0.4444444444444444,
              "#bd3786"
             ],
             [
              0.5555555555555556,
              "#d8576b"
             ],
             [
              0.6666666666666666,
              "#ed7953"
             ],
             [
              0.7777777777777778,
              "#fb9f3a"
             ],
             [
              0.8888888888888888,
              "#fdca26"
             ],
             [
              1,
              "#f0f921"
             ]
            ],
            "type": "histogram2d"
           }
          ],
          "histogram2dcontour": [
           {
            "colorbar": {
             "outlinewidth": 0,
             "ticks": ""
            },
            "colorscale": [
             [
              0,
              "#0d0887"
             ],
             [
              0.1111111111111111,
              "#46039f"
             ],
             [
              0.2222222222222222,
              "#7201a8"
             ],
             [
              0.3333333333333333,
              "#9c179e"
             ],
             [
              0.4444444444444444,
              "#bd3786"
             ],
             [
              0.5555555555555556,
              "#d8576b"
             ],
             [
              0.6666666666666666,
              "#ed7953"
             ],
             [
              0.7777777777777778,
              "#fb9f3a"
             ],
             [
              0.8888888888888888,
              "#fdca26"
             ],
             [
              1,
              "#f0f921"
             ]
            ],
            "type": "histogram2dcontour"
           }
          ],
          "mesh3d": [
           {
            "colorbar": {
             "outlinewidth": 0,
             "ticks": ""
            },
            "type": "mesh3d"
           }
          ],
          "parcoords": [
           {
            "line": {
             "colorbar": {
              "outlinewidth": 0,
              "ticks": ""
             }
            },
            "type": "parcoords"
           }
          ],
          "pie": [
           {
            "automargin": true,
            "type": "pie"
           }
          ],
          "scatter": [
           {
            "fillpattern": {
             "fillmode": "overlay",
             "size": 10,
             "solidity": 0.2
            },
            "type": "scatter"
           }
          ],
          "scatter3d": [
           {
            "line": {
             "colorbar": {
              "outlinewidth": 0,
              "ticks": ""
             }
            },
            "marker": {
             "colorbar": {
              "outlinewidth": 0,
              "ticks": ""
             }
            },
            "type": "scatter3d"
           }
          ],
          "scattercarpet": [
           {
            "marker": {
             "colorbar": {
              "outlinewidth": 0,
              "ticks": ""
             }
            },
            "type": "scattercarpet"
           }
          ],
          "scattergeo": [
           {
            "marker": {
             "colorbar": {
              "outlinewidth": 0,
              "ticks": ""
             }
            },
            "type": "scattergeo"
           }
          ],
          "scattergl": [
           {
            "marker": {
             "colorbar": {
              "outlinewidth": 0,
              "ticks": ""
             }
            },
            "type": "scattergl"
           }
          ],
          "scattermapbox": [
           {
            "marker": {
             "colorbar": {
              "outlinewidth": 0,
              "ticks": ""
             }
            },
            "type": "scattermapbox"
           }
          ],
          "scatterpolar": [
           {
            "marker": {
             "colorbar": {
              "outlinewidth": 0,
              "ticks": ""
             }
            },
            "type": "scatterpolar"
           }
          ],
          "scatterpolargl": [
           {
            "marker": {
             "colorbar": {
              "outlinewidth": 0,
              "ticks": ""
             }
            },
            "type": "scatterpolargl"
           }
          ],
          "scatterternary": [
           {
            "marker": {
             "colorbar": {
              "outlinewidth": 0,
              "ticks": ""
             }
            },
            "type": "scatterternary"
           }
          ],
          "surface": [
           {
            "colorbar": {
             "outlinewidth": 0,
             "ticks": ""
            },
            "colorscale": [
             [
              0,
              "#0d0887"
             ],
             [
              0.1111111111111111,
              "#46039f"
             ],
             [
              0.2222222222222222,
              "#7201a8"
             ],
             [
              0.3333333333333333,
              "#9c179e"
             ],
             [
              0.4444444444444444,
              "#bd3786"
             ],
             [
              0.5555555555555556,
              "#d8576b"
             ],
             [
              0.6666666666666666,
              "#ed7953"
             ],
             [
              0.7777777777777778,
              "#fb9f3a"
             ],
             [
              0.8888888888888888,
              "#fdca26"
             ],
             [
              1,
              "#f0f921"
             ]
            ],
            "type": "surface"
           }
          ],
          "table": [
           {
            "cells": {
             "fill": {
              "color": "#EBF0F8"
             },
             "line": {
              "color": "white"
             }
            },
            "header": {
             "fill": {
              "color": "#C8D4E3"
             },
             "line": {
              "color": "white"
             }
            },
            "type": "table"
           }
          ]
         },
         "layout": {
          "annotationdefaults": {
           "arrowcolor": "#2a3f5f",
           "arrowhead": 0,
           "arrowwidth": 1
          },
          "autotypenumbers": "strict",
          "coloraxis": {
           "colorbar": {
            "outlinewidth": 0,
            "ticks": ""
           }
          },
          "colorscale": {
           "diverging": [
            [
             0,
             "#8e0152"
            ],
            [
             0.1,
             "#c51b7d"
            ],
            [
             0.2,
             "#de77ae"
            ],
            [
             0.3,
             "#f1b6da"
            ],
            [
             0.4,
             "#fde0ef"
            ],
            [
             0.5,
             "#f7f7f7"
            ],
            [
             0.6,
             "#e6f5d0"
            ],
            [
             0.7,
             "#b8e186"
            ],
            [
             0.8,
             "#7fbc41"
            ],
            [
             0.9,
             "#4d9221"
            ],
            [
             1,
             "#276419"
            ]
           ],
           "sequential": [
            [
             0,
             "#0d0887"
            ],
            [
             0.1111111111111111,
             "#46039f"
            ],
            [
             0.2222222222222222,
             "#7201a8"
            ],
            [
             0.3333333333333333,
             "#9c179e"
            ],
            [
             0.4444444444444444,
             "#bd3786"
            ],
            [
             0.5555555555555556,
             "#d8576b"
            ],
            [
             0.6666666666666666,
             "#ed7953"
            ],
            [
             0.7777777777777778,
             "#fb9f3a"
            ],
            [
             0.8888888888888888,
             "#fdca26"
            ],
            [
             1,
             "#f0f921"
            ]
           ],
           "sequentialminus": [
            [
             0,
             "#0d0887"
            ],
            [
             0.1111111111111111,
             "#46039f"
            ],
            [
             0.2222222222222222,
             "#7201a8"
            ],
            [
             0.3333333333333333,
             "#9c179e"
            ],
            [
             0.4444444444444444,
             "#bd3786"
            ],
            [
             0.5555555555555556,
             "#d8576b"
            ],
            [
             0.6666666666666666,
             "#ed7953"
            ],
            [
             0.7777777777777778,
             "#fb9f3a"
            ],
            [
             0.8888888888888888,
             "#fdca26"
            ],
            [
             1,
             "#f0f921"
            ]
           ]
          },
          "colorway": [
           "#636efa",
           "#EF553B",
           "#00cc96",
           "#ab63fa",
           "#FFA15A",
           "#19d3f3",
           "#FF6692",
           "#B6E880",
           "#FF97FF",
           "#FECB52"
          ],
          "font": {
           "color": "#2a3f5f"
          },
          "geo": {
           "bgcolor": "white",
           "lakecolor": "white",
           "landcolor": "#E5ECF6",
           "showlakes": true,
           "showland": true,
           "subunitcolor": "white"
          },
          "hoverlabel": {
           "align": "left"
          },
          "hovermode": "closest",
          "mapbox": {
           "style": "light"
          },
          "paper_bgcolor": "white",
          "plot_bgcolor": "#E5ECF6",
          "polar": {
           "angularaxis": {
            "gridcolor": "white",
            "linecolor": "white",
            "ticks": ""
           },
           "bgcolor": "#E5ECF6",
           "radialaxis": {
            "gridcolor": "white",
            "linecolor": "white",
            "ticks": ""
           }
          },
          "scene": {
           "xaxis": {
            "backgroundcolor": "#E5ECF6",
            "gridcolor": "white",
            "gridwidth": 2,
            "linecolor": "white",
            "showbackground": true,
            "ticks": "",
            "zerolinecolor": "white"
           },
           "yaxis": {
            "backgroundcolor": "#E5ECF6",
            "gridcolor": "white",
            "gridwidth": 2,
            "linecolor": "white",
            "showbackground": true,
            "ticks": "",
            "zerolinecolor": "white"
           },
           "zaxis": {
            "backgroundcolor": "#E5ECF6",
            "gridcolor": "white",
            "gridwidth": 2,
            "linecolor": "white",
            "showbackground": true,
            "ticks": "",
            "zerolinecolor": "white"
           }
          },
          "shapedefaults": {
           "line": {
            "color": "#2a3f5f"
           }
          },
          "ternary": {
           "aaxis": {
            "gridcolor": "white",
            "linecolor": "white",
            "ticks": ""
           },
           "baxis": {
            "gridcolor": "white",
            "linecolor": "white",
            "ticks": ""
           },
           "bgcolor": "#E5ECF6",
           "caxis": {
            "gridcolor": "white",
            "linecolor": "white",
            "ticks": ""
           }
          },
          "title": {
           "x": 0.05
          },
          "xaxis": {
           "automargin": true,
           "gridcolor": "white",
           "linecolor": "white",
           "ticks": "",
           "title": {
            "standoff": 15
           },
           "zerolinecolor": "white",
           "zerolinewidth": 2
          },
          "yaxis": {
           "automargin": true,
           "gridcolor": "white",
           "linecolor": "white",
           "ticks": "",
           "title": {
            "standoff": 15
           },
           "zerolinecolor": "white",
           "zerolinewidth": 2
          }
         }
        },
        "updatemenus": [
         {
          "buttons": [
           {
            "args": [
             null,
             {
              "frame": {
               "duration": 1000,
               "redraw": false
              },
              "fromcurrent": true,
              "mode": "immediate",
              "transition": {
               "duration": 500,
               "easing": "linear"
              }
             }
            ],
            "label": "&#9654;",
            "method": "animate"
           },
           {
            "args": [
             [
              null
             ],
             {
              "frame": {
               "duration": 0,
               "redraw": false
              },
              "fromcurrent": true,
              "mode": "immediate",
              "transition": {
               "duration": 0,
               "easing": "linear"
              }
             }
            ],
            "label": "&#9724;",
            "method": "animate"
           }
          ],
          "direction": "left",
          "pad": {
           "r": 10,
           "t": 70
          },
          "showactive": false,
          "type": "buttons",
          "x": 0.1,
          "xanchor": "right",
          "y": 0,
          "yanchor": "top"
         }
        ],
        "width": 800,
        "xaxis": {
         "anchor": "y",
         "domain": [
          0,
          1
         ],
         "range": [
          25,
          40
         ],
         "title": {
          "text": "belly"
         }
        },
        "yaxis": {
         "anchor": "x",
         "domain": [
          0,
          1
         ],
         "range": [
          22,
          32
         ],
         "title": {
          "text": "chest"
         }
        }
       }
      }
     },
     "metadata": {},
     "output_type": "display_data"
    }
   ],
   "source": [
    "df_tmp = df.copy()\n",
    "df_tmp.sort_values(by='age', inplace=True)\n",
    "\n",
    "fig = px.scatter(df_tmp, x=\"belly\", y=\"chest\", size=\"chest\", \n",
    "                 color=\"sex\", \n",
    "                 animation_frame=\"age\", \n",
    "                 range_x=[df_tmp['belly'].min(), df_tmp['belly'].max()], \n",
    "                 range_y=[df_tmp['chest'].min(), df_tmp['chest'].max()])\n",
    "\n",
    "fig.update_layout(\n",
    "    width=800,  \n",
    "    height=600,  \n",
    ")\n",
    "\n",
    "# Remove the play button\n",
    "fig.layout.updatemenus[0].buttons[0].args[1][\"frame\"][\"duration\"] = 1000\n",
    "fig.show()"
   ]
  },
  {
   "attachments": {},
   "cell_type": "markdown",
   "metadata": {},
   "source": [
    "# 두개골의 크기 관계"
   ]
  },
  {
   "attachments": {},
   "cell_type": "markdown",
   "metadata": {},
   "source": [
    "### sex 기준 상관관계"
   ]
  },
  {
   "cell_type": "code",
   "execution_count": 13,
   "metadata": {},
   "outputs": [
    {
     "data": {
      "text/plain": [
       "<Figure size 800x500 with 0 Axes>"
      ]
     },
     "metadata": {},
     "output_type": "display_data"
    },
    {
     "data": {
      "image/png": "[encoded data removed]",
      "text/plain": [
       "<Figure size 558.875x500 with 1 Axes>"
      ]
     },
     "metadata": {},
     "output_type": "display_data"
    }
   ],
   "source": [
    "plt.figure(figsize=(8, 5))\n",
    "sns.lmplot(df, x='skull_width', y='head_length', hue='sex')\n",
    "plt.show()"
   ]
  },
  {
   "attachments": {},
   "cell_type": "markdown",
   "metadata": {},
   "source": [
    "# head와 skull로 본 age와의 상관관계"
   ]
  },
  {
   "cell_type": "code",
   "execution_count": 14,
   "metadata": {},
   "outputs": [
    {
     "data": {
      "application/vnd.plotly.v1+json": {
       "config": {
        "plotlyServerURL": "https://plot.ly"
       },
       "data": [
        {
         "mode": "markers",
         "name": "Age 1",
         "type": "scatter",
         "x": [
          54.8,
          67.7,
          51.5,
          52.4,
          52.3,
          51,
          50,
          52.6,
          56,
          54.7
         ],
         "y": [
          93.1,
          94.7,
          84.7,
          85.9,
          82.5,
          86.5,
          85.8,
          86.7,
          89.5,
          88.6
         ]
        },
        {
         "mode": "markers",
         "name": "Age 2",
         "type": "scatter",
         "x": [
          56.3,
          58.2,
          55.7,
          54.9,
          54.5,
          54.4,
          55.7,
          54.8,
          55.5,
          54.8,
          63.2,
          62.8,
          57.7,
          60.7,
          58,
          56.3
         ],
         "y": [
          91.5,
          95.3,
          93.5,
          94.4,
          90.5,
          92.1,
          90.6,
          89.3,
          90,
          90.1,
          103.1,
          102.5,
          91.3,
          98.5,
          89.6,
          90.7
         ]
        },
        {
         "mode": "markers",
         "name": "Age 3",
         "type": "scatter",
         "x": [
          57.6,
          58.1,
          58.5,
          58.5,
          56,
          54.1,
          54.6,
          55,
          54.1,
          55.9,
          58.1,
          61.5,
          64.2,
          58,
          56.5,
          55.8,
          56,
          53.8,
          54.6,
          56.2,
          53.2,
          54.6,
          59.6,
          54,
          53.1,
          56.2,
          59.9
         ],
         "y": [
          95.4,
          95.9,
          96.3,
          95.8,
          92.8,
          92.8,
          91.4,
          91,
          85.3,
          90.7,
          93.1,
          99.9,
          94.5,
          91.3,
          96.9,
          90.4,
          90.6,
          90,
          88.4,
          89.5,
          88.2,
          92.6,
          97.8,
          89.2,
          91,
          93.3,
          93.6
         ]
        },
        {
         "mode": "markers",
         "name": "Age 4",
         "type": "scatter",
         "x": [
          56,
          56.3,
          56.1,
          56.8,
          56.7,
          57.9,
          59.2,
          59.4,
          57.6,
          52,
          54,
          56.6,
          55.7,
          55.2
         ],
         "y": [
          91.6,
          94.8,
          92.5,
          93.8,
          94.3,
          94.4,
          95.4,
          95.1,
          93.3,
          88.7,
          86,
          91.6,
          94.8,
          91.5
         ]
        },
        {
         "mode": "markers",
         "name": "Age 5",
         "type": "scatter",
         "x": [
          55.6,
          59.9,
          57.6,
          55.4,
          63.2,
          56.4,
          59.6,
          57.4,
          56,
          55.6,
          56.8,
          68.6
         ],
         "y": [
          94.9,
          95.1,
          92.9,
          94.4,
          98.6,
          91.6,
          95.6,
          93.5,
          94.1,
          98,
          92.4,
          93.2
         ]
        },
        {
         "mode": "markers",
         "name": "Age 6",
         "type": "scatter",
         "x": [
          57.6,
          60,
          57.1,
          57.6,
          58,
          61,
          56.4,
          57.6,
          58.1,
          56.2,
          58.4,
          55
         ],
         "y": [
          92.5,
          94,
          93.2,
          94.8,
          91.8,
          97.6,
          92,
          92.8,
          93.8,
          93.6,
          97.7,
          92.4
         ]
        },
        {
         "mode": "markers",
         "name": "Age 7",
         "type": "scatter",
         "x": [
          59,
          59.3,
          56,
          63,
          59,
          56.4,
          57.6
         ],
         "y": [
          96,
          93.3,
          92.4,
          96.9,
          95.7,
          91.9,
          91.8
         ]
        },
        {
         "mode": "markers",
         "name": "Age 8",
         "type": "scatter",
         "x": [
          60.4
         ],
         "y": [
          94.1
         ]
        },
        {
         "mode": "markers",
         "name": "Age 9",
         "type": "scatter",
         "x": [
          56.3,
          57.2
         ],
         "y": [
          93.4,
          93.3
         ]
        }
       ],
       "layout": {
        "height": 700,
        "template": {
         "data": {
          "bar": [
           {
            "error_x": {
             "color": "#2a3f5f"
            },
            "error_y": {
             "color": "#2a3f5f"
            },
            "marker": {
             "line": {
              "color": "#E5ECF6",
              "width": 0.5
             },
             "pattern": {
              "fillmode": "overlay",
              "size": 10,
              "solidity": 0.2
             }
            },
            "type": "bar"
           }
          ],
          "barpolar": [
           {
            "marker": {
             "line": {
              "color": "#E5ECF6",
              "width": 0.5
             },
             "pattern": {
              "fillmode": "overlay",
              "size": 10,
              "solidity": 0.2
             }
            },
            "type": "barpolar"
           }
          ],
          "carpet": [
           {
            "aaxis": {
             "endlinecolor": "#2a3f5f",
             "gridcolor": "white",
             "linecolor": "white",
             "minorgridcolor": "white",
             "startlinecolor": "#2a3f5f"
            },
            "baxis": {
             "endlinecolor": "#2a3f5f",
             "gridcolor": "white",
             "linecolor": "white",
             "minorgridcolor": "white",
             "startlinecolor": "#2a3f5f"
            },
            "type": "carpet"
           }
          ],
          "choropleth": [
           {
            "colorbar": {
             "outlinewidth": 0,
             "ticks": ""
            },
            "type": "choropleth"
           }
          ],
          "contour": [
           {
            "colorbar": {
             "outlinewidth": 0,
             "ticks": ""
            },
            "colorscale": [
             [
              0,
              "#0d0887"
             ],
             [
              0.1111111111111111,
              "#46039f"
             ],
             [
              0.2222222222222222,
              "#7201a8"
             ],
             [
              0.3333333333333333,
              "#9c179e"
             ],
             [
              0.4444444444444444,
              "#bd3786"
             ],
             [
              0.5555555555555556,
              "#d8576b"
             ],
             [
              0.6666666666666666,
              "#ed7953"
             ],
             [
              0.7777777777777778,
              "#fb9f3a"
             ],
             [
              0.8888888888888888,
              "#fdca26"
             ],
             [
              1,
              "#f0f921"
             ]
            ],
            "type": "contour"
           }
          ],
          "contourcarpet": [
           {
            "colorbar": {
             "outlinewidth": 0,
             "ticks": ""
            },
            "type": "contourcarpet"
           }
          ],
          "heatmap": [
           {
            "colorbar": {
             "outlinewidth": 0,
             "ticks": ""
            },
            "colorscale": [
             [
              0,
              "#0d0887"
             ],
             [
              0.1111111111111111,
              "#46039f"
             ],
             [
              0.2222222222222222,
              "#7201a8"
             ],
             [
              0.3333333333333333,
              "#9c179e"
             ],
             [
              0.4444444444444444,
              "#bd3786"
             ],
             [
              0.5555555555555556,
              "#d8576b"
             ],
             [
              0.6666666666666666,
              "#ed7953"
             ],
             [
              0.7777777777777778,
              "#fb9f3a"
             ],
             [
              0.8888888888888888,
              "#fdca26"
             ],
             [
              1,
              "#f0f921"
             ]
            ],
            "type": "heatmap"
           }
          ],
          "heatmapgl": [
           {
            "colorbar": {
             "outlinewidth": 0,
             "ticks": ""
            },
            "colorscale": [
             [
              0,
              "#0d0887"
             ],
             [
              0.1111111111111111,
              "#46039f"
             ],
             [
              0.2222222222222222,
              "#7201a8"
             ],
             [
              0.3333333333333333,
              "#9c179e"
             ],
             [
              0.4444444444444444,
              "#bd3786"
             ],
             [
              0.5555555555555556,
              "#d8576b"
             ],
             [
              0.6666666666666666,
              "#ed7953"
             ],
             [
              0.7777777777777778,
              "#fb9f3a"
             ],
             [
              0.8888888888888888,
              "#fdca26"
             ],
             [
              1,
              "#f0f921"
             ]
            ],
            "type": "heatmapgl"
           }
          ],
          "histogram": [
           {
            "marker": {
             "pattern": {
              "fillmode": "overlay",
              "size": 10,
              "solidity": 0.2
             }
            },
            "type": "histogram"
           }
          ],
          "histogram2d": [
           {
            "colorbar": {
             "outlinewidth": 0,
             "ticks": ""
            },
            "colorscale": [
             [
              0,
              "#0d0887"
             ],
             [
              0.1111111111111111,
              "#46039f"
             ],
             [
              0.2222222222222222,
              "#7201a8"
             ],
             [
              0.3333333333333333,
              "#9c179e"
             ],
             [
              0.4444444444444444,
              "#bd3786"
             ],
             [
              0.5555555555555556,
              "#d8576b"
             ],
             [
              0.6666666666666666,
              "#ed7953"
             ],
             [
              0.7777777777777778,
              "#fb9f3a"
             ],
             [
              0.8888888888888888,
              "#fdca26"
             ],
             [
              1,
              "#f0f921"
             ]
            ],
            "type": "histogram2d"
           }
          ],
          "histogram2dcontour": [
           {
            "colorbar": {
             "outlinewidth": 0,
             "ticks": ""
            },
            "colorscale": [
             [
              0,
              "#0d0887"
             ],
             [
              0.1111111111111111,
              "#46039f"
             ],
             [
              0.2222222222222222,
              "#7201a8"
             ],
             [
              0.3333333333333333,
              "#9c179e"
             ],
             [
              0.4444444444444444,
              "#bd3786"
             ],
             [
              0.5555555555555556,
              "#d8576b"
             ],
             [
              0.6666666666666666,
              "#ed7953"
             ],
             [
              0.7777777777777778,
              "#fb9f3a"
             ],
             [
              0.8888888888888888,
              "#fdca26"
             ],
             [
              1,
              "#f0f921"
             ]
            ],
            "type": "histogram2dcontour"
           }
          ],
          "mesh3d": [
           {
            "colorbar": {
             "outlinewidth": 0,
             "ticks": ""
            },
            "type": "mesh3d"
           }
          ],
          "parcoords": [
           {
            "line": {
             "colorbar": {
              "outlinewidth": 0,
              "ticks": ""
             }
            },
            "type": "parcoords"
           }
          ],
          "pie": [
           {
            "automargin": true,
            "type": "pie"
           }
          ],
          "scatter": [
           {
            "fillpattern": {
             "fillmode": "overlay",
             "size": 10,
             "solidity": 0.2
            },
            "type": "scatter"
           }
          ],
          "scatter3d": [
           {
            "line": {
             "colorbar": {
              "outlinewidth": 0,
              "ticks": ""
             }
            },
            "marker": {
             "colorbar": {
              "outlinewidth": 0,
              "ticks": ""
             }
            },
            "type": "scatter3d"
           }
          ],
          "scattercarpet": [
           {
            "marker": {
             "colorbar": {
              "outlinewidth": 0,
              "ticks": ""
             }
            },
            "type": "scattercarpet"
           }
          ],
          "scattergeo": [
           {
            "marker": {
             "colorbar": {
              "outlinewidth": 0,
              "ticks": ""
             }
            },
            "type": "scattergeo"
           }
          ],
          "scattergl": [
           {
            "marker": {
             "colorbar": {
              "outlinewidth": 0,
              "ticks": ""
             }
            },
            "type": "scattergl"
           }
          ],
          "scattermapbox": [
           {
            "marker": {
             "colorbar": {
              "outlinewidth": 0,
              "ticks": ""
             }
            },
            "type": "scattermapbox"
           }
          ],
          "scatterpolar": [
           {
            "marker": {
             "colorbar": {
              "outlinewidth": 0,
              "ticks": ""
             }
            },
            "type": "scatterpolar"
           }
          ],
          "scatterpolargl": [
           {
            "marker": {
             "colorbar": {
              "outlinewidth": 0,
              "ticks": ""
             }
            },
            "type": "scatterpolargl"
           }
          ],
          "scatterternary": [
           {
            "marker": {
             "colorbar": {
              "outlinewidth": 0,
              "ticks": ""
             }
            },
            "type": "scatterternary"
           }
          ],
          "surface": [
           {
            "colorbar": {
             "outlinewidth": 0,
             "ticks": ""
            },
            "colorscale": [
             [
              0,
              "#0d0887"
             ],
             [
              0.1111111111111111,
              "#46039f"
             ],
             [
              0.2222222222222222,
              "#7201a8"
             ],
             [
              0.3333333333333333,
              "#9c179e"
             ],
             [
              0.4444444444444444,
              "#bd3786"
             ],
             [
              0.5555555555555556,
              "#d8576b"
             ],
             [
              0.6666666666666666,
              "#ed7953"
             ],
             [
              0.7777777777777778,
              "#fb9f3a"
             ],
             [
              0.8888888888888888,
              "#fdca26"
             ],
             [
              1,
              "#f0f921"
             ]
            ],
            "type": "surface"
           }
          ],
          "table": [
           {
            "cells": {
             "fill": {
              "color": "#EBF0F8"
             },
             "line": {
              "color": "white"
             }
            },
            "header": {
             "fill": {
              "color": "#C8D4E3"
             },
             "line": {
              "color": "white"
             }
            },
            "type": "table"
           }
          ]
         },
         "layout": {
          "annotationdefaults": {
           "arrowcolor": "#2a3f5f",
           "arrowhead": 0,
           "arrowwidth": 1
          },
          "autotypenumbers": "strict",
          "coloraxis": {
           "colorbar": {
            "outlinewidth": 0,
            "ticks": ""
           }
          },
          "colorscale": {
           "diverging": [
            [
             0,
             "#8e0152"
            ],
            [
             0.1,
             "#c51b7d"
            ],
            [
             0.2,
             "#de77ae"
            ],
            [
             0.3,
             "#f1b6da"
            ],
            [
             0.4,
             "#fde0ef"
            ],
            [
             0.5,
             "#f7f7f7"
            ],
            [
             0.6,
             "#e6f5d0"
            ],
            [
             0.7,
             "#b8e186"
            ],
            [
             0.8,
             "#7fbc41"
            ],
            [
             0.9,
             "#4d9221"
            ],
            [
             1,
             "#276419"
            ]
           ],
           "sequential": [
            [
             0,
             "#0d0887"
            ],
            [
             0.1111111111111111,
             "#46039f"
            ],
            [
             0.2222222222222222,
             "#7201a8"
            ],
            [
             0.3333333333333333,
             "#9c179e"
            ],
            [
             0.4444444444444444,
             "#bd3786"
            ],
            [
             0.5555555555555556,
             "#d8576b"
            ],
            [
             0.6666666666666666,
             "#ed7953"
            ],
            [
             0.7777777777777778,
             "#fb9f3a"
            ],
            [
             0.8888888888888888,
             "#fdca26"
            ],
            [
             1,
             "#f0f921"
            ]
           ],
           "sequentialminus": [
            [
             0,
             "#0d0887"
            ],
            [
             0.1111111111111111,
             "#46039f"
            ],
            [
             0.2222222222222222,
             "#7201a8"
            ],
            [
             0.3333333333333333,
             "#9c179e"
            ],
            [
             0.4444444444444444,
             "#bd3786"
            ],
            [
             0.5555555555555556,
             "#d8576b"
            ],
            [
             0.6666666666666666,
             "#ed7953"
            ],
            [
             0.7777777777777778,
             "#fb9f3a"
            ],
            [
             0.8888888888888888,
             "#fdca26"
            ],
            [
             1,
             "#f0f921"
            ]
           ]
          },
          "colorway": [
           "#636efa",
           "#EF553B",
           "#00cc96",
           "#ab63fa",
           "#FFA15A",
           "#19d3f3",
           "#FF6692",
           "#B6E880",
           "#FF97FF",
           "#FECB52"
          ],
          "font": {
           "color": "#2a3f5f"
          },
          "geo": {
           "bgcolor": "white",
           "lakecolor": "white",
           "landcolor": "#E5ECF6",
           "showlakes": true,
           "showland": true,
           "subunitcolor": "white"
          },
          "hoverlabel": {
           "align": "left"
          },
          "hovermode": "closest",
          "mapbox": {
           "style": "light"
          },
          "paper_bgcolor": "white",
          "plot_bgcolor": "#E5ECF6",
          "polar": {
           "angularaxis": {
            "gridcolor": "white",
            "linecolor": "white",
            "ticks": ""
           },
           "bgcolor": "#E5ECF6",
           "radialaxis": {
            "gridcolor": "white",
            "linecolor": "white",
            "ticks": ""
           }
          },
          "scene": {
           "xaxis": {
            "backgroundcolor": "#E5ECF6",
            "gridcolor": "white",
            "gridwidth": 2,
            "linecolor": "white",
            "showbackground": true,
            "ticks": "",
            "zerolinecolor": "white"
           },
           "yaxis": {
            "backgroundcolor": "#E5ECF6",
            "gridcolor": "white",
            "gridwidth": 2,
            "linecolor": "white",
            "showbackground": true,
            "ticks": "",
            "zerolinecolor": "white"
           },
           "zaxis": {
            "backgroundcolor": "#E5ECF6",
            "gridcolor": "white",
            "gridwidth": 2,
            "linecolor": "white",
            "showbackground": true,
            "ticks": "",
            "zerolinecolor": "white"
           }
          },
          "shapedefaults": {
           "line": {
            "color": "#2a3f5f"
           }
          },
          "ternary": {
           "aaxis": {
            "gridcolor": "white",
            "linecolor": "white",
            "ticks": ""
           },
           "baxis": {
            "gridcolor": "white",
            "linecolor": "white",
            "ticks": ""
           },
           "bgcolor": "#E5ECF6",
           "caxis": {
            "gridcolor": "white",
            "linecolor": "white",
            "ticks": ""
           }
          },
          "title": {
           "x": 0.05
          },
          "xaxis": {
           "automargin": true,
           "gridcolor": "white",
           "linecolor": "white",
           "ticks": "",
           "title": {
            "standoff": 15
           },
           "zerolinecolor": "white",
           "zerolinewidth": 2
          },
          "yaxis": {
           "automargin": true,
           "gridcolor": "white",
           "linecolor": "white",
           "ticks": "",
           "title": {
            "standoff": 15
           },
           "zerolinecolor": "white",
           "zerolinewidth": 2
          }
         }
        },
        "width": 800,
        "xaxis": {
         "title": {
          "text": "skull_width"
         }
        },
        "yaxis": {
         "title": {
          "text": "head_length"
         }
        }
       }
      }
     },
     "metadata": {},
     "output_type": "display_data"
    }
   ],
   "source": [
    "fig = go.Figure()\n",
    "\n",
    "# 각 'age' 그룹에 대해 산점도 추가\n",
    "for age in range(1, 10):\n",
    "    # 'age' 열의 값에 따라 데이터 분리\n",
    "    df_age = df[df['age'] == age]\n",
    "\n",
    "    fig.add_trace(go.Scatter(\n",
    "        x=df_age['skull_width'],\n",
    "        y=df_age['head_length'],\n",
    "        mode='markers',\n",
    "        name=f'Age {age}'\n",
    "    ))\n",
    "\n",
    "fig.update_layout(\n",
    "    width=800,\n",
    "    height=700,\n",
    "    xaxis_title=\"skull_width\",\n",
    "    yaxis_title=\"head_length\",\n",
    ")\n",
    "\n",
    "fig.show()\n"
   ]
  },
  {
   "cell_type": "code",
   "execution_count": 15,
   "metadata": {},
   "outputs": [
    {
     "data": {
      "application/vnd.plotly.v1+json": {
       "config": {
        "plotlyServerURL": "https://plot.ly"
       },
       "data": [
        {
         "hovertemplate": "age=1.0<br>skull_width=%{x}<br>head_length=%{marker.size}<br>sex=%{marker.color}<extra></extra>",
         "legendgroup": "",
         "marker": {
          "color": [
           0,
           0,
           0,
           1,
           1,
           0,
           0,
           1,
           0,
           0
          ],
          "coloraxis": "coloraxis",
          "size": [
           85.9,
           82.5,
           86.7,
           84.7,
           93.1,
           85.8,
           86.5,
           94.7,
           89.5,
           88.6
          ],
          "sizemode": "area",
          "sizeref": 0.25775,
          "symbol": "circle"
         },
         "mode": "markers",
         "name": "",
         "orientation": "v",
         "showlegend": false,
         "type": "scatter",
         "x": [
          52.4,
          52.3,
          52.6,
          51.5,
          54.8,
          50,
          51,
          67.7,
          56,
          54.7
         ],
         "xaxis": "x",
         "y": [
          85.9,
          82.5,
          86.7,
          84.7,
          93.1,
          85.8,
          86.5,
          94.7,
          89.5,
          88.6
         ],
         "yaxis": "y"
        }
       ],
       "frames": [
        {
         "data": [
          {
           "hovertemplate": "age=1.0<br>skull_width=%{x}<br>head_length=%{marker.size}<br>sex=%{marker.color}<extra></extra>",
           "legendgroup": "",
           "marker": {
            "color": [
             0,
             0,
             0,
             1,
             1,
             0,
             0,
             1,
             0,
             0
            ],
            "coloraxis": "coloraxis",
            "size": [
             85.9,
             82.5,
             86.7,
             84.7,
             93.1,
             85.8,
             86.5,
             94.7,
             89.5,
             88.6
            ],
            "sizemode": "area",
            "sizeref": 0.25775,
            "symbol": "circle"
           },
           "mode": "markers",
           "name": "",
           "orientation": "v",
           "showlegend": false,
           "type": "scatter",
           "x": [
            52.4,
            52.3,
            52.6,
            51.5,
            54.8,
            50,
            51,
            67.7,
            56,
            54.7
           ],
           "xaxis": "x",
           "y": [
            85.9,
            82.5,
            86.7,
            84.7,
            93.1,
            85.8,
            86.5,
            94.7,
            89.5,
            88.6
           ],
           "yaxis": "y"
          }
         ],
         "name": "1.0"
        },
        {
         "data": [
          {
           "hovertemplate": "age=2.0<br>skull_width=%{x}<br>head_length=%{marker.size}<br>sex=%{marker.color}<extra></extra>",
           "legendgroup": "",
           "marker": {
            "color": [
             0,
             0,
             1,
             0,
             1,
             0,
             1,
             1,
             1,
             1,
             0,
             0,
             0,
             0,
             0,
             1
            ],
            "coloraxis": "coloraxis",
            "size": [
             90.1,
             94.4,
             91.3,
             102.5,
             92.1,
             90.6,
             90,
             90.5,
             89.3,
             89.6,
             90.7,
             103.1,
             98.5,
             93.5,
             95.3,
             91.5
            ],
            "sizemode": "area",
            "sizeref": 0.25775,
            "symbol": "circle"
           },
           "mode": "markers",
           "name": "",
           "orientation": "v",
           "showlegend": false,
           "type": "scatter",
           "x": [
            54.8,
            54.9,
            57.7,
            62.8,
            54.4,
            55.7,
            55.5,
            54.5,
            54.8,
            58,
            56.3,
            63.2,
            60.7,
            55.7,
            58.2,
            56.3
           ],
           "xaxis": "x",
           "y": [
            90.1,
            94.4,
            91.3,
            102.5,
            92.1,
            90.6,
            90,
            90.5,
            89.3,
            89.6,
            90.7,
            103.1,
            98.5,
            93.5,
            95.3,
            91.5
           ],
           "yaxis": "y"
          }
         ],
         "name": "2.0"
        },
        {
         "data": [
          {
           "hovertemplate": "age=3.0<br>skull_width=%{x}<br>head_length=%{marker.size}<br>sex=%{marker.color}<extra></extra>",
           "legendgroup": "",
           "marker": {
            "color": [
             0,
             0,
             1,
             0,
             1,
             1,
             1,
             0,
             1,
             0,
             0,
             1,
             0,
             0,
             0,
             1,
             0,
             0,
             0,
             1,
             1,
             1,
             0,
             1,
             0,
             0,
             0
            ],
            "coloraxis": "coloraxis",
            "size": [
             94.5,
             91,
             91,
             85.3,
             90.4,
             91.3,
             93.1,
             90.7,
             96.9,
             99.9,
             89.2,
             93.6,
             91.4,
             97.8,
             92.6,
             88.2,
             89.5,
             88.4,
             95.4,
             90,
             93.3,
             92.8,
             90.6,
             95.9,
             96.3,
             95.8,
             92.8
            ],
            "sizemode": "area",
            "sizeref": 0.25775,
            "symbol": "circle"
           },
           "mode": "markers",
           "name": "",
           "orientation": "v",
           "showlegend": false,
           "type": "scatter",
           "x": [
            64.2,
            53.1,
            55,
            54.1,
            55.8,
            58,
            58.1,
            55.9,
            56.5,
            61.5,
            54,
            59.9,
            54.6,
            59.6,
            54.6,
            53.2,
            56.2,
            54.6,
            57.6,
            53.8,
            56.2,
            56,
            56,
            58.1,
            58.5,
            58.5,
            54.1
           ],
           "xaxis": "x",
           "y": [
            94.5,
            91,
            91,
            85.3,
            90.4,
            91.3,
            93.1,
            90.7,
            96.9,
            99.9,
            89.2,
            93.6,
            91.4,
            97.8,
            92.6,
            88.2,
            89.5,
            88.4,
            95.4,
            90,
            93.3,
            92.8,
            90.6,
            95.9,
            96.3,
            95.8,
            92.8
           ],
           "yaxis": "y"
          }
         ],
         "name": "3.0"
        },
        {
         "data": [
          {
           "hovertemplate": "age=4.0<br>skull_width=%{x}<br>head_length=%{marker.size}<br>sex=%{marker.color}<extra></extra>",
           "legendgroup": "",
           "marker": {
            "color": [
             0,
             1,
             0,
             1,
             0,
             0,
             0,
             1,
             1,
             1,
             1,
             0,
             0,
             0
            ],
            "coloraxis": "coloraxis",
            "size": [
             94.8,
             88.7,
             93.3,
             86,
             95.4,
             91.5,
             91.6,
             94.8,
             92.5,
             95.1,
             94.3,
             94.4,
             93.8,
             91.6
            ],
            "sizemode": "area",
            "sizeref": 0.25775,
            "symbol": "circle"
           },
           "mode": "markers",
           "name": "",
           "orientation": "v",
           "showlegend": false,
           "type": "scatter",
           "x": [
            55.7,
            52,
            57.6,
            54,
            59.2,
            55.2,
            56,
            56.3,
            56.1,
            59.4,
            56.7,
            57.9,
            56.8,
            56.6
           ],
           "xaxis": "x",
           "y": [
            94.8,
            88.7,
            93.3,
            86,
            95.4,
            91.5,
            91.6,
            94.8,
            92.5,
            95.1,
            94.3,
            94.4,
            93.8,
            91.6
           ],
           "yaxis": "y"
          }
         ],
         "name": "4.0"
        },
        {
         "data": [
          {
           "hovertemplate": "age=5.0<br>skull_width=%{x}<br>head_length=%{marker.size}<br>sex=%{marker.color}<extra></extra>",
           "legendgroup": "",
           "marker": {
            "color": [
             1,
             0,
             0,
             0,
             1,
             1,
             1,
             0,
             0,
             1,
             0,
             0
            ],
            "coloraxis": "coloraxis",
            "size": [
             94.9,
             95.1,
             92.9,
             98,
             94.4,
             93.5,
             95.6,
             98.6,
             92.4,
             91.6,
             94.1,
             93.2
            ],
            "sizemode": "area",
            "sizeref": 0.25775,
            "symbol": "circle"
           },
           "mode": "markers",
           "name": "",
           "orientation": "v",
           "showlegend": false,
           "type": "scatter",
           "x": [
            55.6,
            59.9,
            57.6,
            55.6,
            55.4,
            57.4,
            59.6,
            63.2,
            56.8,
            56.4,
            56,
            68.6
           ],
           "xaxis": "x",
           "y": [
            94.9,
            95.1,
            92.9,
            98,
            94.4,
            93.5,
            95.6,
            98.6,
            92.4,
            91.6,
            94.1,
            93.2
           ],
           "yaxis": "y"
          }
         ],
         "name": "5.0"
        },
        {
         "data": [
          {
           "hovertemplate": "age=6.0<br>skull_width=%{x}<br>head_length=%{marker.size}<br>sex=%{marker.color}<extra></extra>",
           "legendgroup": "",
           "marker": {
            "color": [
             0,
             0,
             0,
             1,
             1,
             1,
             0,
             1,
             1,
             1,
             0,
             1
            ],
            "coloraxis": "coloraxis",
            "size": [
             97.6,
             93.8,
             92.8,
             91.8,
             92.4,
             94.8,
             97.7,
             93.2,
             94,
             92.5,
             93.6,
             92
            ],
            "sizemode": "area",
            "sizeref": 0.25775,
            "symbol": "circle"
           },
           "mode": "markers",
           "name": "",
           "orientation": "v",
           "showlegend": false,
           "type": "scatter",
           "x": [
            61,
            58.1,
            57.6,
            58,
            55,
            57.6,
            58.4,
            57.1,
            60,
            57.6,
            56.2,
            56.4
           ],
           "xaxis": "x",
           "y": [
            97.6,
            93.8,
            92.8,
            91.8,
            92.4,
            94.8,
            97.7,
            93.2,
            94,
            92.5,
            93.6,
            92
           ],
           "yaxis": "y"
          }
         ],
         "name": "6.0"
        },
        {
         "data": [
          {
           "hovertemplate": "age=7.0<br>skull_width=%{x}<br>head_length=%{marker.size}<br>sex=%{marker.color}<extra></extra>",
           "legendgroup": "",
           "marker": {
            "color": [
             0,
             1,
             0,
             0,
             0,
             0,
             0
            ],
            "coloraxis": "coloraxis",
            "size": [
             96.9,
             91.9,
             95.7,
             92.4,
             93.3,
             96,
             91.8
            ],
            "sizemode": "area",
            "sizeref": 0.25775,
            "symbol": "circle"
           },
           "mode": "markers",
           "name": "",
           "orientation": "v",
           "showlegend": false,
           "type": "scatter",
           "x": [
            63,
            56.4,
            59,
            56,
            59.3,
            59,
            57.6
           ],
           "xaxis": "x",
           "y": [
            96.9,
            91.9,
            95.7,
            92.4,
            93.3,
            96,
            91.8
           ],
           "yaxis": "y"
          }
         ],
         "name": "7.0"
        },
        {
         "data": [
          {
           "hovertemplate": "age=8.0<br>skull_width=%{x}<br>head_length=%{marker.size}<br>sex=%{marker.color}<extra></extra>",
           "legendgroup": "",
           "marker": {
            "color": [
             0
            ],
            "coloraxis": "coloraxis",
            "size": [
             94.1
            ],
            "sizemode": "area",
            "sizeref": 0.25775,
            "symbol": "circle"
           },
           "mode": "markers",
           "name": "",
           "orientation": "v",
           "showlegend": false,
           "type": "scatter",
           "x": [
            60.4
           ],
           "xaxis": "x",
           "y": [
            94.1
           ],
           "yaxis": "y"
          }
         ],
         "name": "8.0"
        },
        {
         "data": [
          {
           "hovertemplate": "age=9.0<br>skull_width=%{x}<br>head_length=%{marker.size}<br>sex=%{marker.color}<extra></extra>",
           "legendgroup": "",
           "marker": {
            "color": [
             1,
             1
            ],
            "coloraxis": "coloraxis",
            "size": [
             93.3,
             93.4
            ],
            "sizemode": "area",
            "sizeref": 0.25775,
            "symbol": "circle"
           },
           "mode": "markers",
           "name": "",
           "orientation": "v",
           "showlegend": false,
           "type": "scatter",
           "x": [
            57.2,
            56.3
           ],
           "xaxis": "x",
           "y": [
            93.3,
            93.4
           ],
           "yaxis": "y"
          }
         ],
         "name": "9.0"
        }
       ],
       "layout": {
        "coloraxis": {
         "colorbar": {
          "title": {
           "text": "sex"
          }
         },
         "colorscale": [
          [
           0,
           "#0d0887"
          ],
          [
           0.1111111111111111,
           "#46039f"
          ],
          [
           0.2222222222222222,
           "#7201a8"
          ],
          [
           0.3333333333333333,
           "#9c179e"
          ],
          [
           0.4444444444444444,
           "#bd3786"
          ],
          [
           0.5555555555555556,
           "#d8576b"
          ],
          [
           0.6666666666666666,
           "#ed7953"
          ],
          [
           0.7777777777777778,
           "#fb9f3a"
          ],
          [
           0.8888888888888888,
           "#fdca26"
          ],
          [
           1,
           "#f0f921"
          ]
         ]
        },
        "height": 600,
        "legend": {
         "itemsizing": "constant",
         "tracegroupgap": 0
        },
        "margin": {
         "t": 60
        },
        "sliders": [
         {
          "active": 0,
          "currentvalue": {
           "prefix": "age="
          },
          "len": 0.9,
          "pad": {
           "b": 10,
           "t": 60
          },
          "steps": [
           {
            "args": [
             [
              "1.0"
             ],
             {
              "frame": {
               "duration": 0,
               "redraw": false
              },
              "fromcurrent": true,
              "mode": "immediate",
              "transition": {
               "duration": 0,
               "easing": "linear"
              }
             }
            ],
            "label": "1.0",
            "method": "animate"
           },
           {
            "args": [
             [
              "2.0"
             ],
             {
              "frame": {
               "duration": 0,
               "redraw": false
              },
              "fromcurrent": true,
              "mode": "immediate",
              "transition": {
               "duration": 0,
               "easing": "linear"
              }
             }
            ],
            "label": "2.0",
            "method": "animate"
           },
           {
            "args": [
             [
              "3.0"
             ],
             {
              "frame": {
               "duration": 0,
               "redraw": false
              },
              "fromcurrent": true,
              "mode": "immediate",
              "transition": {
               "duration": 0,
               "easing": "linear"
              }
             }
            ],
            "label": "3.0",
            "method": "animate"
           },
           {
            "args": [
             [
              "4.0"
             ],
             {
              "frame": {
               "duration": 0,
               "redraw": false
              },
              "fromcurrent": true,
              "mode": "immediate",
              "transition": {
               "duration": 0,
               "easing": "linear"
              }
             }
            ],
            "label": "4.0",
            "method": "animate"
           },
           {
            "args": [
             [
              "5.0"
             ],
             {
              "frame": {
               "duration": 0,
               "redraw": false
              },
              "fromcurrent": true,
              "mode": "immediate",
              "transition": {
               "duration": 0,
               "easing": "linear"
              }
             }
            ],
            "label": "5.0",
            "method": "animate"
           },
           {
            "args": [
             [
              "6.0"
             ],
             {
              "frame": {
               "duration": 0,
               "redraw": false
              },
              "fromcurrent": true,
              "mode": "immediate",
              "transition": {
               "duration": 0,
               "easing": "linear"
              }
             }
            ],
            "label": "6.0",
            "method": "animate"
           },
           {
            "args": [
             [
              "7.0"
             ],
             {
              "frame": {
               "duration": 0,
               "redraw": false
              },
              "fromcurrent": true,
              "mode": "immediate",
              "transition": {
               "duration": 0,
               "easing": "linear"
              }
             }
            ],
            "label": "7.0",
            "method": "animate"
           },
           {
            "args": [
             [
              "8.0"
             ],
             {
              "frame": {
               "duration": 0,
               "redraw": false
              },
              "fromcurrent": true,
              "mode": "immediate",
              "transition": {
               "duration": 0,
               "easing": "linear"
              }
             }
            ],
            "label": "8.0",
            "method": "animate"
           },
           {
            "args": [
             [
              "9.0"
             ],
             {
              "frame": {
               "duration": 0,
               "redraw": false
              },
              "fromcurrent": true,
              "mode": "immediate",
              "transition": {
               "duration": 0,
               "easing": "linear"
              }
             }
            ],
            "label": "9.0",
            "method": "animate"
           }
          ],
          "x": 0.1,
          "xanchor": "left",
          "y": 0,
          "yanchor": "top"
         }
        ],
        "template": {
         "data": {
          "bar": [
           {
            "error_x": {
             "color": "#2a3f5f"
            },
            "error_y": {
             "color": "#2a3f5f"
            },
            "marker": {
             "line": {
              "color": "#E5ECF6",
              "width": 0.5
             },
             "pattern": {
              "fillmode": "overlay",
              "size": 10,
              "solidity": 0.2
             }
            },
            "type": "bar"
           }
          ],
          "barpolar": [
           {
            "marker": {
             "line": {
              "color": "#E5ECF6",
              "width": 0.5
             },
             "pattern": {
              "fillmode": "overlay",
              "size": 10,
              "solidity": 0.2
             }
            },
            "type": "barpolar"
           }
          ],
          "carpet": [
           {
            "aaxis": {
             "endlinecolor": "#2a3f5f",
             "gridcolor": "white",
             "linecolor": "white",
             "minorgridcolor": "white",
             "startlinecolor": "#2a3f5f"
            },
            "baxis": {
             "endlinecolor": "#2a3f5f",
             "gridcolor": "white",
             "linecolor": "white",
             "minorgridcolor": "white",
             "startlinecolor": "#2a3f5f"
            },
            "type": "carpet"
           }
          ],
          "choropleth": [
           {
            "colorbar": {
             "outlinewidth": 0,
             "ticks": ""
            },
            "type": "choropleth"
           }
          ],
          "contour": [
           {
            "colorbar": {
             "outlinewidth": 0,
             "ticks": ""
            },
            "colorscale": [
             [
              0,
              "#0d0887"
             ],
             [
              0.1111111111111111,
              "#46039f"
             ],
             [
              0.2222222222222222,
              "#7201a8"
             ],
             [
              0.3333333333333333,
              "#9c179e"
             ],
             [
              0.4444444444444444,
              "#bd3786"
             ],
             [
              0.5555555555555556,
              "#d8576b"
             ],
             [
              0.6666666666666666,
              "#ed7953"
             ],
             [
              0.7777777777777778,
              "#fb9f3a"
             ],
             [
              0.8888888888888888,
              "#fdca26"
             ],
             [
              1,
              "#f0f921"
             ]
            ],
            "type": "contour"
           }
          ],
          "contourcarpet": [
           {
            "colorbar": {
             "outlinewidth": 0,
             "ticks": ""
            },
            "type": "contourcarpet"
           }
          ],
          "heatmap": [
           {
            "colorbar": {
             "outlinewidth": 0,
             "ticks": ""
            },
            "colorscale": [
             [
              0,
              "#0d0887"
             ],
             [
              0.1111111111111111,
              "#46039f"
             ],
             [
              0.2222222222222222,
              "#7201a8"
             ],
             [
              0.3333333333333333,
              "#9c179e"
             ],
             [
              0.4444444444444444,
              "#bd3786"
             ],
             [
              0.5555555555555556,
              "#d8576b"
             ],
             [
              0.6666666666666666,
              "#ed7953"
             ],
             [
              0.7777777777777778,
              "#fb9f3a"
             ],
             [
              0.8888888888888888,
              "#fdca26"
             ],
             [
              1,
              "#f0f921"
             ]
            ],
            "type": "heatmap"
           }
          ],
          "heatmapgl": [
           {
            "colorbar": {
             "outlinewidth": 0,
             "ticks": ""
            },
            "colorscale": [
             [
              0,
              "#0d0887"
             ],
             [
              0.1111111111111111,
              "#46039f"
             ],
             [
              0.2222222222222222,
              "#7201a8"
             ],
             [
              0.3333333333333333,
              "#9c179e"
             ],
             [
              0.4444444444444444,
              "#bd3786"
             ],
             [
              0.5555555555555556,
              "#d8576b"
             ],
             [
              0.6666666666666666,
              "#ed7953"
             ],
             [
              0.7777777777777778,
              "#fb9f3a"
             ],
             [
              0.8888888888888888,
              "#fdca26"
             ],
             [
              1,
              "#f0f921"
             ]
            ],
            "type": "heatmapgl"
           }
          ],
          "histogram": [
           {
            "marker": {
             "pattern": {
              "fillmode": "overlay",
              "size": 10,
              "solidity": 0.2
             }
            },
            "type": "histogram"
           }
          ],
          "histogram2d": [
           {
            "colorbar": {
             "outlinewidth": 0,
             "ticks": ""
            },
            "colorscale": [
             [
              0,
              "#0d0887"
             ],
             [
              0.1111111111111111,
              "#46039f"
             ],
             [
              0.2222222222222222,
              "#7201a8"
             ],
             [
              0.3333333333333333,
              "#9c179e"
             ],
             [
              0.4444444444444444,
              "#bd3786"
             ],
             [
              0.5555555555555556,
              "#d8576b"
             ],
             [
              0.6666666666666666,
              "#ed7953"
             ],
             [
              0.7777777777777778,
              "#fb9f3a"
             ],
             [
              0.8888888888888888,
              "#fdca26"
             ],
             [
              1,
              "#f0f921"
             ]
            ],
            "type": "histogram2d"
           }
          ],
          "histogram2dcontour": [
           {
            "colorbar": {
             "outlinewidth": 0,
             "ticks": ""
            },
            "colorscale": [
             [
              0,
              "#0d0887"
             ],
             [
              0.1111111111111111,
              "#46039f"
             ],
             [
              0.2222222222222222,
              "#7201a8"
             ],
             [
              0.3333333333333333,
              "#9c179e"
             ],
             [
              0.4444444444444444,
              "#bd3786"
             ],
             [
              0.5555555555555556,
              "#d8576b"
             ],
             [
              0.6666666666666666,
              "#ed7953"
             ],
             [
              0.7777777777777778,
              "#fb9f3a"
             ],
             [
              0.8888888888888888,
              "#fdca26"
             ],
             [
              1,
              "#f0f921"
             ]
            ],
            "type": "histogram2dcontour"
           }
          ],
          "mesh3d": [
           {
            "colorbar": {
             "outlinewidth": 0,
             "ticks": ""
            },
            "type": "mesh3d"
           }
          ],
          "parcoords": [
           {
            "line": {
             "colorbar": {
              "outlinewidth": 0,
              "ticks": ""
             }
            },
            "type": "parcoords"
           }
          ],
          "pie": [
           {
            "automargin": true,
            "type": "pie"
           }
          ],
          "scatter": [
           {
            "fillpattern": {
             "fillmode": "overlay",
             "size": 10,
             "solidity": 0.2
            },
            "type": "scatter"
           }
          ],
          "scatter3d": [
           {
            "line": {
             "colorbar": {
              "outlinewidth": 0,
              "ticks": ""
             }
            },
            "marker": {
             "colorbar": {
              "outlinewidth": 0,
              "ticks": ""
             }
            },
            "type": "scatter3d"
           }
          ],
          "scattercarpet": [
           {
            "marker": {
             "colorbar": {
              "outlinewidth": 0,
              "ticks": ""
             }
            },
            "type": "scattercarpet"
           }
          ],
          "scattergeo": [
           {
            "marker": {
             "colorbar": {
              "outlinewidth": 0,
              "ticks": ""
             }
            },
            "type": "scattergeo"
           }
          ],
          "scattergl": [
           {
            "marker": {
             "colorbar": {
              "outlinewidth": 0,
              "ticks": ""
             }
            },
            "type": "scattergl"
           }
          ],
          "scattermapbox": [
           {
            "marker": {
             "colorbar": {
              "outlinewidth": 0,
              "ticks": ""
             }
            },
            "type": "scattermapbox"
           }
          ],
          "scatterpolar": [
           {
            "marker": {
             "colorbar": {
              "outlinewidth": 0,
              "ticks": ""
             }
            },
            "type": "scatterpolar"
           }
          ],
          "scatterpolargl": [
           {
            "marker": {
             "colorbar": {
              "outlinewidth": 0,
              "ticks": ""
             }
            },
            "type": "scatterpolargl"
           }
          ],
          "scatterternary": [
           {
            "marker": {
             "colorbar": {
              "outlinewidth": 0,
              "ticks": ""
             }
            },
            "type": "scatterternary"
           }
          ],
          "surface": [
           {
            "colorbar": {
             "outlinewidth": 0,
             "ticks": ""
            },
            "colorscale": [
             [
              0,
              "#0d0887"
             ],
             [
              0.1111111111111111,
              "#46039f"
             ],
             [
              0.2222222222222222,
              "#7201a8"
             ],
             [
              0.3333333333333333,
              "#9c179e"
             ],
             [
              0.4444444444444444,
              "#bd3786"
             ],
             [
              0.5555555555555556,
              "#d8576b"
             ],
             [
              0.6666666666666666,
              "#ed7953"
             ],
             [
              0.7777777777777778,
              "#fb9f3a"
             ],
             [
              0.8888888888888888,
              "#fdca26"
             ],
             [
              1,
              "#f0f921"
             ]
            ],
            "type": "surface"
           }
          ],
          "table": [
           {
            "cells": {
             "fill": {
              "color": "#EBF0F8"
             },
             "line": {
              "color": "white"
             }
            },
            "header": {
             "fill": {
              "color": "#C8D4E3"
             },
             "line": {
              "color": "white"
             }
            },
            "type": "table"
           }
          ]
         },
         "layout": {
          "annotationdefaults": {
           "arrowcolor": "#2a3f5f",
           "arrowhead": 0,
           "arrowwidth": 1
          },
          "autotypenumbers": "strict",
          "coloraxis": {
           "colorbar": {
            "outlinewidth": 0,
            "ticks": ""
           }
          },
          "colorscale": {
           "diverging": [
            [
             0,
             "#8e0152"
            ],
            [
             0.1,
             "#c51b7d"
            ],
            [
             0.2,
             "#de77ae"
            ],
            [
             0.3,
             "#f1b6da"
            ],
            [
             0.4,
             "#fde0ef"
            ],
            [
             0.5,
             "#f7f7f7"
            ],
            [
             0.6,
             "#e6f5d0"
            ],
            [
             0.7,
             "#b8e186"
            ],
            [
             0.8,
             "#7fbc41"
            ],
            [
             0.9,
             "#4d9221"
            ],
            [
             1,
             "#276419"
            ]
           ],
           "sequential": [
            [
             0,
             "#0d0887"
            ],
            [
             0.1111111111111111,
             "#46039f"
            ],
            [
             0.2222222222222222,
             "#7201a8"
            ],
            [
             0.3333333333333333,
             "#9c179e"
            ],
            [
             0.4444444444444444,
             "#bd3786"
            ],
            [
             0.5555555555555556,
             "#d8576b"
            ],
            [
             0.6666666666666666,
             "#ed7953"
            ],
            [
             0.7777777777777778,
             "#fb9f3a"
            ],
            [
             0.8888888888888888,
             "#fdca26"
            ],
            [
             1,
             "#f0f921"
            ]
           ],
           "sequentialminus": [
            [
             0,
             "#0d0887"
            ],
            [
             0.1111111111111111,
             "#46039f"
            ],
            [
             0.2222222222222222,
             "#7201a8"
            ],
            [
             0.3333333333333333,
             "#9c179e"
            ],
            [
             0.4444444444444444,
             "#bd3786"
            ],
            [
             0.5555555555555556,
             "#d8576b"
            ],
            [
             0.6666666666666666,
             "#ed7953"
            ],
            [
             0.7777777777777778,
             "#fb9f3a"
            ],
            [
             0.8888888888888888,
             "#fdca26"
            ],
            [
             1,
             "#f0f921"
            ]
           ]
          },
          "colorway": [
           "#636efa",
           "#EF553B",
           "#00cc96",
           "#ab63fa",
           "#FFA15A",
           "#19d3f3",
           "#FF6692",
           "#B6E880",
           "#FF97FF",
           "#FECB52"
          ],
          "font": {
           "color": "#2a3f5f"
          },
          "geo": {
           "bgcolor": "white",
           "lakecolor": "white",
           "landcolor": "#E5ECF6",
           "showlakes": true,
           "showland": true,
           "subunitcolor": "white"
          },
          "hoverlabel": {
           "align": "left"
          },
          "hovermode": "closest",
          "mapbox": {
           "style": "light"
          },
          "paper_bgcolor": "white",
          "plot_bgcolor": "#E5ECF6",
          "polar": {
           "angularaxis": {
            "gridcolor": "white",
            "linecolor": "white",
            "ticks": ""
           },
           "bgcolor": "#E5ECF6",
           "radialaxis": {
            "gridcolor": "white",
            "linecolor": "white",
            "ticks": ""
           }
          },
          "scene": {
           "xaxis": {
            "backgroundcolor": "#E5ECF6",
            "gridcolor": "white",
            "gridwidth": 2,
            "linecolor": "white",
            "showbackground": true,
            "ticks": "",
            "zerolinecolor": "white"
           },
           "yaxis": {
            "backgroundcolor": "#E5ECF6",
            "gridcolor": "white",
            "gridwidth": 2,
            "linecolor": "white",
            "showbackground": true,
            "ticks": "",
            "zerolinecolor": "white"
           },
           "zaxis": {
            "backgroundcolor": "#E5ECF6",
            "gridcolor": "white",
            "gridwidth": 2,
            "linecolor": "white",
            "showbackground": true,
            "ticks": "",
            "zerolinecolor": "white"
           }
          },
          "shapedefaults": {
           "line": {
            "color": "#2a3f5f"
           }
          },
          "ternary": {
           "aaxis": {
            "gridcolor": "white",
            "linecolor": "white",
            "ticks": ""
           },
           "baxis": {
            "gridcolor": "white",
            "linecolor": "white",
            "ticks": ""
           },
           "bgcolor": "#E5ECF6",
           "caxis": {
            "gridcolor": "white",
            "linecolor": "white",
            "ticks": ""
           }
          },
          "title": {
           "x": 0.05
          },
          "xaxis": {
           "automargin": true,
           "gridcolor": "white",
           "linecolor": "white",
           "ticks": "",
           "title": {
            "standoff": 15
           },
           "zerolinecolor": "white",
           "zerolinewidth": 2
          },
          "yaxis": {
           "automargin": true,
           "gridcolor": "white",
           "linecolor": "white",
           "ticks": "",
           "title": {
            "standoff": 15
           },
           "zerolinecolor": "white",
           "zerolinewidth": 2
          }
         }
        },
        "updatemenus": [
         {
          "buttons": [
           {
            "args": [
             null,
             {
              "frame": {
               "duration": 1000,
               "redraw": false
              },
              "fromcurrent": true,
              "mode": "immediate",
              "transition": {
               "duration": 500,
               "easing": "linear"
              }
             }
            ],
            "label": "&#9654;",
            "method": "animate"
           },
           {
            "args": [
             [
              null
             ],
             {
              "frame": {
               "duration": 0,
               "redraw": false
              },
              "fromcurrent": true,
              "mode": "immediate",
              "transition": {
               "duration": 0,
               "easing": "linear"
              }
             }
            ],
            "label": "&#9724;",
            "method": "animate"
           }
          ],
          "direction": "left",
          "pad": {
           "r": 10,
           "t": 70
          },
          "showactive": false,
          "type": "buttons",
          "x": 0.1,
          "xanchor": "right",
          "y": 0,
          "yanchor": "top"
         }
        ],
        "width": 800,
        "xaxis": {
         "anchor": "y",
         "domain": [
          0,
          1
         ],
         "range": [
          50,
          68.6
         ],
         "title": {
          "text": "skull_width"
         }
        },
        "yaxis": {
         "anchor": "x",
         "domain": [
          0,
          1
         ],
         "range": [
          82.5,
          103.1
         ],
         "title": {
          "text": "head_length"
         }
        }
       }
      }
     },
     "metadata": {},
     "output_type": "display_data"
    }
   ],
   "source": [
    "df_tmp = df.copy()\n",
    "df_tmp.sort_values(by='age', inplace=True)\n",
    "\n",
    "fig = px.scatter(df_tmp, x=\"skull_width\", y=\"head_length\", size=\"head_length\", \n",
    "                 color=\"sex\", \n",
    "                 animation_frame=\"age\", \n",
    "                 range_x=[df_tmp['skull_width'].min(), df_tmp['skull_width'].max()], \n",
    "                 range_y=[df_tmp['head_length'].min(), df_tmp['head_length'].max()])\n",
    "\n",
    "fig.update_layout(\n",
    "    width=800,  \n",
    "    height=600,  \n",
    ")\n",
    "\n",
    "# Remove the play button\n",
    "fig.layout.updatemenus[0].buttons[0].args[1][\"frame\"][\"duration\"] = 1000\n",
    "fig.show()"
   ]
  },
  {
   "attachments": {},
   "cell_type": "markdown",
   "metadata": {},
   "source": [
    "# Split, Scaler"
   ]
  },
  {
   "cell_type": "code",
   "execution_count": 32,
   "metadata": {},
   "outputs": [
    {
     "data": {
      "text/html": [
       "<div>\n",
       "<style scoped>\n",
       "    .dataframe tbody tr th:only-of-type {\n",
       "        vertical-align: middle;\n",
       "    }\n",
       "\n",
       "    .dataframe tbody tr th {\n",
       "        vertical-align: top;\n",
       "    }\n",
       "\n",
       "    .dataframe thead th {\n",
       "        text-align: right;\n",
       "    }\n",
       "</style>\n",
       "<table border=\"1\" class=\"dataframe\">\n",
       "  <thead>\n",
       "    <tr style=\"text-align: right;\">\n",
       "      <th></th>\n",
       "      <th>head_length</th>\n",
       "      <th>skull_width</th>\n",
       "      <th>total_length</th>\n",
       "      <th>chest</th>\n",
       "      <th>belly</th>\n",
       "      <th>eye</th>\n",
       "    </tr>\n",
       "  </thead>\n",
       "  <tbody>\n",
       "    <tr>\n",
       "      <th>76</th>\n",
       "      <td>93.6</td>\n",
       "      <td>56.2</td>\n",
       "      <td>84.0</td>\n",
       "      <td>25.0</td>\n",
       "      <td>35.0</td>\n",
       "      <td>16.2</td>\n",
       "    </tr>\n",
       "    <tr>\n",
       "      <th>19</th>\n",
       "      <td>94.8</td>\n",
       "      <td>56.3</td>\n",
       "      <td>89.0</td>\n",
       "      <td>27.0</td>\n",
       "      <td>36.0</td>\n",
       "      <td>15.5</td>\n",
       "    </tr>\n",
       "    <tr>\n",
       "      <th>27</th>\n",
       "      <td>93.8</td>\n",
       "      <td>56.8</td>\n",
       "      <td>87.0</td>\n",
       "      <td>27.0</td>\n",
       "      <td>30.0</td>\n",
       "      <td>15.3</td>\n",
       "    </tr>\n",
       "    <tr>\n",
       "      <th>51</th>\n",
       "      <td>97.6</td>\n",
       "      <td>61.0</td>\n",
       "      <td>93.5</td>\n",
       "      <td>28.5</td>\n",
       "      <td>32.5</td>\n",
       "      <td>15.8</td>\n",
       "    </tr>\n",
       "    <tr>\n",
       "      <th>61</th>\n",
       "      <td>91.3</td>\n",
       "      <td>58.0</td>\n",
       "      <td>90.5</td>\n",
       "      <td>27.0</td>\n",
       "      <td>32.0</td>\n",
       "      <td>16.0</td>\n",
       "    </tr>\n",
       "    <tr>\n",
       "      <th>...</th>\n",
       "      <td>...</td>\n",
       "      <td>...</td>\n",
       "      <td>...</td>\n",
       "      <td>...</td>\n",
       "      <td>...</td>\n",
       "      <td>...</td>\n",
       "    </tr>\n",
       "    <tr>\n",
       "      <th>78</th>\n",
       "      <td>85.8</td>\n",
       "      <td>50.0</td>\n",
       "      <td>81.0</td>\n",
       "      <td>22.0</td>\n",
       "      <td>28.5</td>\n",
       "      <td>14.8</td>\n",
       "    </tr>\n",
       "    <tr>\n",
       "      <th>9</th>\n",
       "      <td>91.8</td>\n",
       "      <td>58.0</td>\n",
       "      <td>89.5</td>\n",
       "      <td>27.5</td>\n",
       "      <td>32.0</td>\n",
       "      <td>14.4</td>\n",
       "    </tr>\n",
       "    <tr>\n",
       "      <th>75</th>\n",
       "      <td>92.4</td>\n",
       "      <td>56.8</td>\n",
       "      <td>89.0</td>\n",
       "      <td>26.0</td>\n",
       "      <td>33.0</td>\n",
       "      <td>17.8</td>\n",
       "    </tr>\n",
       "    <tr>\n",
       "      <th>12</th>\n",
       "      <td>95.1</td>\n",
       "      <td>59.9</td>\n",
       "      <td>89.5</td>\n",
       "      <td>27.0</td>\n",
       "      <td>32.0</td>\n",
       "      <td>15.8</td>\n",
       "    </tr>\n",
       "    <tr>\n",
       "      <th>37</th>\n",
       "      <td>92.4</td>\n",
       "      <td>56.0</td>\n",
       "      <td>80.5</td>\n",
       "      <td>27.0</td>\n",
       "      <td>30.0</td>\n",
       "      <td>15.9</td>\n",
       "    </tr>\n",
       "  </tbody>\n",
       "</table>\n",
       "<p>70 rows × 6 columns</p>\n",
       "</div>"
      ],
      "text/plain": [
       "    head_length  skull_width  total_length  chest  belly   eye\n",
       "76         93.6         56.2          84.0   25.0   35.0  16.2\n",
       "19         94.8         56.3          89.0   27.0   36.0  15.5\n",
       "27         93.8         56.8          87.0   27.0   30.0  15.3\n",
       "51         97.6         61.0          93.5   28.5   32.5  15.8\n",
       "61         91.3         58.0          90.5   27.0   32.0  16.0\n",
       "..          ...          ...           ...    ...    ...   ...\n",
       "78         85.8         50.0          81.0   22.0   28.5  14.8\n",
       "9          91.8         58.0          89.5   27.5   32.0  14.4\n",
       "75         92.4         56.8          89.0   26.0   33.0  17.8\n",
       "12         95.1         59.9          89.5   27.0   32.0  15.8\n",
       "37         92.4         56.0          80.5   27.0   30.0  15.9\n",
       "\n",
       "[70 rows x 6 columns]"
      ]
     },
     "execution_count": 32,
     "metadata": {},
     "output_type": "execute_result"
    }
   ],
   "source": [
    "X = df[['head_length', 'skull_width', 'total_length', 'chest', 'belly', 'eye']]\n",
    "y = df.iloc[:, 2]\n",
    "\n",
    "\n",
    "X[['head_length', 'skull_width']].apply(lambda x: x * 10)\n",
    "\n",
    "X_train, X_test, y_train, y_test = train_test_split(X, y, test_size=0.3, random_state=1)\n",
    "\n",
    "X_train"
   ]
  },
  {
   "cell_type": "code",
   "execution_count": 33,
   "metadata": {},
   "outputs": [
    {
     "data": {
      "text/html": [
       "<div>\n",
       "<style scoped>\n",
       "    .dataframe tbody tr th:only-of-type {\n",
       "        vertical-align: middle;\n",
       "    }\n",
       "\n",
       "    .dataframe tbody tr th {\n",
       "        vertical-align: top;\n",
       "    }\n",
       "\n",
       "    .dataframe thead th {\n",
       "        text-align: right;\n",
       "    }\n",
       "</style>\n",
       "<table border=\"1\" class=\"dataframe\">\n",
       "  <thead>\n",
       "    <tr style=\"text-align: right;\">\n",
       "      <th></th>\n",
       "      <th>head_length</th>\n",
       "      <th>skull_width</th>\n",
       "      <th>total_length</th>\n",
       "      <th>chest</th>\n",
       "      <th>belly</th>\n",
       "      <th>eye</th>\n",
       "    </tr>\n",
       "  </thead>\n",
       "  <tbody>\n",
       "    <tr>\n",
       "      <th>76</th>\n",
       "      <td>0.250758</td>\n",
       "      <td>-0.231903</td>\n",
       "      <td>-0.902074</td>\n",
       "      <td>-0.930751</td>\n",
       "      <td>0.824067</td>\n",
       "      <td>0.912015</td>\n",
       "    </tr>\n",
       "    <tr>\n",
       "      <th>19</th>\n",
       "      <td>0.630284</td>\n",
       "      <td>-0.194925</td>\n",
       "      <td>0.430103</td>\n",
       "      <td>0.038060</td>\n",
       "      <td>1.180146</td>\n",
       "      <td>0.267156</td>\n",
       "    </tr>\n",
       "    <tr>\n",
       "      <th>27</th>\n",
       "      <td>0.314012</td>\n",
       "      <td>-0.010037</td>\n",
       "      <td>-0.102768</td>\n",
       "      <td>0.038060</td>\n",
       "      <td>-0.956325</td>\n",
       "      <td>0.082910</td>\n",
       "    </tr>\n",
       "    <tr>\n",
       "      <th>51</th>\n",
       "      <td>1.515844</td>\n",
       "      <td>1.543028</td>\n",
       "      <td>1.629061</td>\n",
       "      <td>0.764669</td>\n",
       "      <td>-0.066129</td>\n",
       "      <td>0.543524</td>\n",
       "    </tr>\n",
       "    <tr>\n",
       "      <th>61</th>\n",
       "      <td>-0.476666</td>\n",
       "      <td>0.433696</td>\n",
       "      <td>0.829756</td>\n",
       "      <td>0.038060</td>\n",
       "      <td>-0.244168</td>\n",
       "      <td>0.727770</td>\n",
       "    </tr>\n",
       "    <tr>\n",
       "      <th>...</th>\n",
       "      <td>...</td>\n",
       "      <td>...</td>\n",
       "      <td>...</td>\n",
       "      <td>...</td>\n",
       "      <td>...</td>\n",
       "      <td>...</td>\n",
       "    </tr>\n",
       "    <tr>\n",
       "      <th>78</th>\n",
       "      <td>-2.216160</td>\n",
       "      <td>-2.524522</td>\n",
       "      <td>-1.701379</td>\n",
       "      <td>-2.383969</td>\n",
       "      <td>-1.490443</td>\n",
       "      <td>-0.377703</td>\n",
       "    </tr>\n",
       "    <tr>\n",
       "      <th>9</th>\n",
       "      <td>-0.318531</td>\n",
       "      <td>0.433696</td>\n",
       "      <td>0.563320</td>\n",
       "      <td>0.280263</td>\n",
       "      <td>-0.244168</td>\n",
       "      <td>-0.746194</td>\n",
       "    </tr>\n",
       "    <tr>\n",
       "      <th>75</th>\n",
       "      <td>-0.128768</td>\n",
       "      <td>-0.010037</td>\n",
       "      <td>0.430103</td>\n",
       "      <td>-0.446345</td>\n",
       "      <td>0.111910</td>\n",
       "      <td>2.385979</td>\n",
       "    </tr>\n",
       "    <tr>\n",
       "      <th>12</th>\n",
       "      <td>0.725165</td>\n",
       "      <td>1.136273</td>\n",
       "      <td>0.563320</td>\n",
       "      <td>0.038060</td>\n",
       "      <td>-0.244168</td>\n",
       "      <td>0.543524</td>\n",
       "    </tr>\n",
       "    <tr>\n",
       "      <th>37</th>\n",
       "      <td>-0.128768</td>\n",
       "      <td>-0.305859</td>\n",
       "      <td>-1.834597</td>\n",
       "      <td>0.038060</td>\n",
       "      <td>-0.956325</td>\n",
       "      <td>0.635647</td>\n",
       "    </tr>\n",
       "  </tbody>\n",
       "</table>\n",
       "<p>70 rows × 6 columns</p>\n",
       "</div>"
      ],
      "text/plain": [
       "    head_length  skull_width  total_length     chest     belly       eye\n",
       "76     0.250758    -0.231903     -0.902074 -0.930751  0.824067  0.912015\n",
       "19     0.630284    -0.194925      0.430103  0.038060  1.180146  0.267156\n",
       "27     0.314012    -0.010037     -0.102768  0.038060 -0.956325  0.082910\n",
       "51     1.515844     1.543028      1.629061  0.764669 -0.066129  0.543524\n",
       "61    -0.476666     0.433696      0.829756  0.038060 -0.244168  0.727770\n",
       "..          ...          ...           ...       ...       ...       ...\n",
       "78    -2.216160    -2.524522     -1.701379 -2.383969 -1.490443 -0.377703\n",
       "9     -0.318531     0.433696      0.563320  0.280263 -0.244168 -0.746194\n",
       "75    -0.128768    -0.010037      0.430103 -0.446345  0.111910  2.385979\n",
       "12     0.725165     1.136273      0.563320  0.038060 -0.244168  0.543524\n",
       "37    -0.128768    -0.305859     -1.834597  0.038060 -0.956325  0.635647\n",
       "\n",
       "[70 rows x 6 columns]"
      ]
     },
     "execution_count": 33,
     "metadata": {},
     "output_type": "execute_result"
    }
   ],
   "source": [
    "std = StandardScaler()\n",
    "std_scaler_col = ['head_length', 'skull_width', 'total_length', 'chest', 'belly', 'eye']\n",
    "X_train[std_scaler_col] = std.fit_transform(X_train[std_scaler_col])\n",
    "X_test[std_scaler_col] = std.transform(X_test[std_scaler_col])\n",
    "\n",
    "X_train"
   ]
  },
  {
   "attachments": {},
   "cell_type": "markdown",
   "metadata": {},
   "source": [
    "# 모델_1번에 최적의 파라미터로 학습 및 평가"
   ]
  },
  {
   "cell_type": "code",
   "execution_count": 24,
   "metadata": {},
   "outputs": [
    {
     "name": "stdout",
     "output_type": "stream",
     "text": [
      "MAE: 1.2560177028195103\n",
      "MSE: 2.6943499948124576\n",
      "RMSE: 1.6414475303257359\n"
     ]
    },
    {
     "data": {
      "image/png": "[encoded data removed]",
      "text/plain": [
       "<Figure size 640x480 with 1 Axes>"
      ]
     },
     "metadata": {},
     "output_type": "display_data"
    }
   ],
   "source": [
    "param_grid = {'n_estimators': [100, 300, 500],\n",
    "              'max_depth': [3, 5, 7],\n",
    "              'min_samples_split': [2, 4, 6],\n",
    "              'min_samples_leaf': [1, 2, 4]}\n",
    "\n",
    "rf = RandomForestRegressor(random_state=1)\n",
    "gs = GridSearchCV(estimator=rf, param_grid=param_grid, scoring='neg_mean_squared_error', cv=10, n_jobs=-1)\n",
    "gs.fit(X_train, y_train)\n",
    "best_model = gs.best_estimator_\n",
    "y_pred = best_model.predict(X_test)\n",
    "\n",
    "# 모델 평가\n",
    "mse = mean_squared_error(y_test, y_pred)\n",
    "mae = mean_absolute_error(y_test, y_pred)\n",
    "rmse = np.sqrt(mse)\n",
    "print('MAE:', mae)\n",
    "print('MSE:', mse)\n",
    "print('RMSE:', rmse)\n",
    "\n",
    "# 잔차 그래프 그리기\n",
    "residuals = y_test - y_pred\n",
    "plt.scatter(y_pred, residuals)\n",
    "plt.xlabel('Predicted Values')\n",
    "plt.ylabel('Residuals')\n",
    "plt.axhline(y=0, color='black', linestyle='--')\n",
    "plt.show()"
   ]
  },
  {
   "attachments": {},
   "cell_type": "markdown",
   "metadata": {},
   "source": [
    "# 모델_1번의 학습곡선"
   ]
  },
  {
   "cell_type": "code",
   "execution_count": 32,
   "metadata": {},
   "outputs": [
    {
     "data": {
      "image/png": "[encoded data removed]",
      "text/plain": [
       "<Figure size 1000x600 with 1 Axes>"
      ]
     },
     "metadata": {},
     "output_type": "display_data"
    }
   ],
   "source": [
    "rf = RandomForestRegressor(random_state=1, n_jobs=-1)\n",
    "\n",
    "sizes, train_scores, val_scores = learning_curve(estimator=rf, X=X_train, y=y_train,\n",
    "                                                train_sizes=np.linspace(0.1, 1.0, 10),\n",
    "                                                cv=10, n_jobs=-1)\n",
    "\n",
    "train_mean = np.mean(train_scores, axis=1)\n",
    "train_std = np.std(train_scores, axis=1)\n",
    "val_mean = np.mean(val_scores, axis=1)\n",
    "val_std = np.std(val_scores, axis=1)\n",
    "\n",
    "plt.figure(figsize=(10, 6))\n",
    "plt.plot(sizes, train_mean, label='Training Error')\n",
    "plt.fill_between(sizes, train_mean - train_std, train_mean + train_std, alpha=0.2)\n",
    "plt.plot(sizes, val_mean, label='Validation Error')\n",
    "plt.fill_between(sizes, val_mean - val_std, val_mean + val_std, alpha=0.2)\n",
    "\n",
    "plt.title('Learning Curve')\n",
    "plt.xlabel('Training Set Size')\n",
    "plt.ylabel('Mean Squared Error')\n",
    "plt.legend(loc='best')\n",
    "plt.grid(True)\n",
    "plt.show()"
   ]
  },
  {
   "attachments": {},
   "cell_type": "markdown",
   "metadata": {},
   "source": [
    "# 모델_2번에 최적의 파라미터로 학습 및 평가"
   ]
  },
  {
   "cell_type": "code",
   "execution_count": 25,
   "metadata": {},
   "outputs": [
    {
     "data": {
      "image/png": "[encoded data removed]",
      "text/plain": [
       "<Figure size 1000x600 with 1 Axes>"
      ]
     },
     "metadata": {},
     "output_type": "display_data"
    }
   ],
   "source": [
    "svr = SVR()\n",
    "sizes, train_scores, val_scores = learning_curve(estimator=svr, X=X_train, y=y_train,\n",
    "                                                train_sizes=np.linspace(0.1, 1.0, 10),\n",
    "                                                cv=10, n_jobs=-1)\n",
    "\n",
    "train_mean = np.mean(train_scores, axis=1)\n",
    "train_std = np.std(train_scores, axis=1)\n",
    "val_mean = np.mean(val_scores, axis=1)\n",
    "val_std = np.std(val_scores, axis=1)\n",
    "\n",
    "plt.figure(figsize=(10, 6))\n",
    "plt.plot(sizes, train_mean, label='Training Error')\n",
    "plt.fill_between(sizes, train_mean - train_std, train_mean + train_std, alpha=0.2)\n",
    "plt.plot(sizes, val_mean, label='Validation Error')\n",
    "plt.fill_between(sizes, val_mean - val_std, val_mean + val_std, alpha=0.2)\n",
    "\n",
    "plt.title('Learning Curve')\n",
    "plt.xlabel('Training Set Size')\n",
    "plt.ylabel('Mean Squared Error')\n",
    "plt.legend(loc='best')\n",
    "plt.grid(True)\n",
    "plt.show()\n"
   ]
  },
  {
   "cell_type": "code",
   "execution_count": 23,
   "metadata": {},
   "outputs": [
    {
     "name": "stdout",
     "output_type": "stream",
     "text": [
      "MAE: 1.3689477735846585\n",
      "MSE: 3.067811657287233\n",
      "RMSE: 1.751516958892272\n"
     ]
    },
    {
     "data": {
      "image/png": "[encoded data removed]",
      "text/plain": [
       "<Figure size 640x480 with 1 Axes>"
      ]
     },
     "metadata": {},
     "output_type": "display_data"
    }
   ],
   "source": [
    "from sklearn.svm import SVR\n",
    "\n",
    "param_grid = {'C': [0.1, 1, 10],\n",
    "              'epsilon': [0.1, 0.2, 0.3],\n",
    "              'kernel': ['linear', 'rbf', 'poly']}\n",
    "\n",
    "svm = SVR()\n",
    "gs = GridSearchCV(estimator=svm, param_grid=param_grid, scoring='neg_mean_squared_error', cv=10, n_jobs=-1)\n",
    "gs.fit(X_train, y_train)\n",
    "best_model = gs.best_estimator_\n",
    "y_pred = best_model.predict(X_test)\n",
    "\n",
    "# 모델 평가\n",
    "mse = mean_squared_error(y_test, y_pred)\n",
    "mae = mean_absolute_error(y_test, y_pred)\n",
    "rmse = np.sqrt(mse)\n",
    "print('MAE:', mae)\n",
    "print('MSE:', mse)\n",
    "print('RMSE:', rmse)\n",
    "\n",
    "# 잔차 그래프 그리기\n",
    "residuals = y_test - y_pred\n",
    "plt.scatter(y_pred, residuals)\n",
    "plt.xlabel('Predicted Values')\n",
    "plt.ylabel('Residuals')\n",
    "plt.axhline(y=0, color='black', linestyle='--')\n",
    "plt.show()\n"
   ]
  },
  {
   "attachments": {},
   "cell_type": "markdown",
   "metadata": {},
   "source": [
    "# 모델_3번의 모델에 최적의 파라미터로 학습 및 평가"
   ]
  },
  {
   "cell_type": "code",
   "execution_count": 18,
   "metadata": {},
   "outputs": [
    {
     "name": "stdout",
     "output_type": "stream",
     "text": [
      "MAE: 1.6646307591469056\n",
      "MSE: 4.168389516917063\n",
      "RMSE: 2.041663419106358\n"
     ]
    },
    {
     "data": {
      "image/png": "[encoded data removed]",
      "text/plain": [
       "<Figure size 640x480 with 1 Axes>"
      ]
     },
     "metadata": {},
     "output_type": "display_data"
    }
   ],
   "source": [
    "# 모델 학습 및 예측\n",
    "xgb_pipe = make_pipeline(xgb.XGBRegressor(objective='reg:squarederror', random_state=1, n_jobs=-1))\n",
    "param_grid = {'xgbregressor__max_depth': [3, 5, 7],\n",
    "              'xgbregressor__learning_rate': [0.01, 0.05, 0.1, 0.15],\n",
    "              'xgbregressor__n_estimators': [100, 300, 500],\n",
    "              'xgbregressor__min_child_weight': [1, 3, 5],\n",
    "              'xgbregressor__colsample_bytree': [0.5, 0.7],\n",
    "              'xgbregressor__reg_alpha': [0, 0.03, 0.1],\n",
    "              'xgbregressor__reg_lambda': [0.1, 0.5, 1],\n",
    "              'xgbregressor__objective': ['reg:squarederror']}\n",
    "\n",
    "gs = GridSearchCV(estimator=xgb_pipe, param_grid=param_grid, scoring='neg_mean_squared_error', cv=10, n_jobs=-1)\n",
    "gs.fit(X_train, y_train)\n",
    "best_model = gs.best_estimator_\n",
    "y_pred = best_model.predict(X_test)\n",
    "\n",
    "# 모델 평가\n",
    "mse = mean_squared_error(y_test, y_pred)\n",
    "mae = mean_absolute_error(y_test, y_pred)\n",
    "rmse = np.sqrt(mse)\n",
    "print('MAE:', mae)\n",
    "print('MSE:', mse)\n",
    "print('RMSE:', rmse)\n",
    "\n",
    "# 잔차 그래프 그리기\n",
    "residuals = y_test - y_pred\n",
    "plt.scatter(y_pred, residuals)\n",
    "plt.xlabel('Predicted Values')\n",
    "plt.ylabel('Residuals')\n",
    "plt.axhline(y=0, color='black', linestyle='--')\n",
    "plt.show()"
   ]
  },
  {
   "attachments": {},
   "cell_type": "markdown",
   "metadata": {},
   "source": [
    "# 모델_3번의 학습곡선"
   ]
  },
  {
   "cell_type": "code",
   "execution_count": 31,
   "metadata": {},
   "outputs": [
    {
     "data": {
      "image/png": "[encoded data removed]",
      "text/plain": [
       "<Figure size 1000x600 with 1 Axes>"
      ]
     },
     "metadata": {},
     "output_type": "display_data"
    }
   ],
   "source": [
    "xgb = XGBRegressor(objective='reg:squarederror', random_state=1, n_jobs=-1)\n",
    "\n",
    "sizes, train_scores, val_scores = learning_curve(estimator=xgb, X=X_train, y=y_train,\n",
    "                                                train_sizes=np.linspace(0.1, 1.0, 10),\n",
    "                                                cv=10, n_jobs=-1)\n",
    "\n",
    "train_mean = np.mean(train_scores, axis=1)\n",
    "train_std = np.std(train_scores, axis=1)\n",
    "val_mean = np.mean(val_scores, axis=1)\n",
    "val_std = np.std(val_scores, axis=1)\n",
    "\n",
    "plt.figure(figsize=(10, 6))\n",
    "plt.plot(sizes, train_mean, label='Training Error')\n",
    "plt.fill_between(sizes, train_mean - train_std, train_mean + train_std, alpha=0.2)\n",
    "plt.plot(sizes, val_mean, label='Validation Error')\n",
    "plt.fill_between(sizes, val_mean - val_std, val_mean + val_std, alpha=0.2)\n",
    "\n",
    "plt.title('Learning Curve')\n",
    "plt.xlabel('Training Set Size')\n",
    "plt.ylabel('Mean Squared Error')\n",
    "plt.legend(loc='best')\n",
    "plt.grid(True)\n",
    "plt.show()\n"
   ]
  }
 ],
 "metadata": {
  "kernelspec": {
   "display_name": "myvenv",
   "language": "python",
   "name": "python3"
  },
  "language_info": {
   "codemirror_mode": {
    "name": "ipython",
    "version": 3
   },
   "file_extension": ".py",
   "mimetype": "text/x-python",
   "name": "python",
   "nbconvert_exporter": "python",
   "pygments_lexer": "ipython3",
   "version": "3.11.3"
  },
  "orig_nbformat": 4
 },
 "nbformat": 4,
 "nbformat_minor": 2
}
