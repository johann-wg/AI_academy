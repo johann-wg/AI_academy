{
 "cells": [
  {
   "cell_type": "code",
   "execution_count": 1,
   "metadata": {},
   "outputs": [],
   "source": [
    "import os\n",
    "import numpy as np\n",
    "import cv2\n",
    "import matplotlib.pyplot as plt\n",
    "\n",
    "def fileList(path_before):\n",
    "    file_list = os.listdir(path_before)\n",
    "    names = []\n",
    "    for file in file_list:\n",
    "        names.append(file)\n",
    "    names.sort()\n",
    "    return names\n"
   ]
  },
  {
   "cell_type": "code",
   "execution_count": 20,
   "metadata": {},
   "outputs": [],
   "source": [
    "X = []\n",
    "y = []\n",
    "Type = []\n",
    "\n",
    "for type in fileList('MVTec_grid'):\n",
    "    # if type == 'good':\n",
    "    #     for name in fileList('MVTec_grid/good'):\n",
    "    #         good.append(plt.imread('MVTec_grid/good/'+name))\n",
    "\n",
    "    # else:\n",
    "\n",
    "    for name in fileList('MVTec_grid/' + type):\n",
    "        image = plt.imread('MVTec_grid/'+type+'/'+name)\n",
    "        X.append(cv2.resize(image, (200, 200)))\n",
    "        y.append(type != 'good')\n",
    "        Type.append(type)\n",
    "\n",
    "X = np.array(X)\n",
    "X = np.expand_dims(X, axis=-1)\n",
    "y = np.array(y)"
   ]
  },
  {
   "cell_type": "code",
   "execution_count": 29,
   "metadata": {},
   "outputs": [],
   "source": [
    "# 업샘플링 야매로\n",
    "\n",
    "X = []\n",
    "y = []\n",
    "Type = []\n",
    "\n",
    "for type in fileList('MVTec_grid'):\n",
    "    # if type == 'good':\n",
    "    #     for name in fileList('MVTec_grid/good'):\n",
    "    #         good.append(plt.imread('MVTec_grid/good/'+name))\n",
    "\n",
    "    # else:\n",
    "\n",
    "    for name in fileList('MVTec_grid/' + type):\n",
    "        image = plt.imread('MVTec_grid/'+type+'/'+name)\n",
    "        image = cv2.resize(image, (100, 100))\n",
    "        if type != 'good':\n",
    "            X.append(image)\n",
    "            y.append(type != 'good')\n",
    "            Type.append(type)\n",
    "        X.append(image)\n",
    "        y.append(type != 'good')\n",
    "        Type.append(type)\n",
    "\n",
    "X = np.array(X)\n",
    "X = np.expand_dims(X, axis=-1)\n",
    "y = np.array(y)"
   ]
  },
  {
   "cell_type": "code",
   "execution_count": 30,
   "metadata": {},
   "outputs": [],
   "source": [
    "from sklearn.model_selection import train_test_split\n",
    "\n",
    "X_train, X_test, y_train, y_test = train_test_split(X, y, test_size=0.2, stratify=Type)"
   ]
  },
  {
   "cell_type": "code",
   "execution_count": 31,
   "metadata": {},
   "outputs": [
    {
     "name": "stdout",
     "output_type": "stream",
     "text": [
      "(302, 100, 100, 1) (302,)\n",
      "(76, 100, 100, 1) (76,)\n"
     ]
    }
   ],
   "source": [
    "print(X_train.shape, y_train.shape)\n",
    "print(X_test.shape, y_test.shape)"
   ]
  },
  {
   "cell_type": "code",
   "execution_count": 35,
   "metadata": {},
   "outputs": [
    {
     "name": "stdout",
     "output_type": "stream",
     "text": [
      "Model: \"model_4\"\n",
      "_________________________________________________________________\n",
      " Layer (type)                Output Shape              Param #   \n",
      "=================================================================\n",
      " input_9 (InputLayer)        [(None, 100, 100, 1)]     0         \n",
      "                                                                 \n",
      " conv2d_19 (Conv2D)          (None, 100, 100, 64)      1664      \n",
      "                                                                 \n",
      " max_pooling2d_6 (MaxPooling  (None, 50, 50, 64)       0         \n",
      " 2D)                                                             \n",
      "                                                                 \n",
      " batch_normalization_27 (Bat  (None, 50, 50, 64)       256       \n",
      " chNormalization)                                                \n",
      "                                                                 \n",
      " activation_27 (Activation)  (None, 50, 50, 64)        0         \n",
      "                                                                 \n",
      " conv2d_20 (Conv2D)          (None, 50, 50, 128)       73856     \n",
      "                                                                 \n",
      " max_pooling2d_7 (MaxPooling  (None, 25, 25, 128)      0         \n",
      " 2D)                                                             \n",
      "                                                                 \n",
      " batch_normalization_28 (Bat  (None, 25, 25, 128)      512       \n",
      " chNormalization)                                                \n",
      "                                                                 \n",
      " activation_28 (Activation)  (None, 25, 25, 128)       0         \n",
      "                                                                 \n",
      " conv2d_21 (Conv2D)          (None, 25, 25, 128)       147584    \n",
      "                                                                 \n",
      " max_pooling2d_8 (MaxPooling  (None, 12, 12, 128)      0         \n",
      " 2D)                                                             \n",
      "                                                                 \n",
      " batch_normalization_29 (Bat  (None, 12, 12, 128)      512       \n",
      " chNormalization)                                                \n",
      "                                                                 \n",
      " activation_29 (Activation)  (None, 12, 12, 128)       0         \n",
      "                                                                 \n",
      " global_max_pooling2d_8 (Glo  (None, 128)              0         \n",
      " balMaxPooling2D)                                                \n",
      "                                                                 \n",
      " dense_16 (Dense)            (None, 128)               16512     \n",
      "                                                                 \n",
      " batch_normalization_30 (Bat  (None, 128)              512       \n",
      " chNormalization)                                                \n",
      "                                                                 \n",
      " activation_30 (Activation)  (None, 128)               0         \n",
      "                                                                 \n",
      " dropout_12 (Dropout)        (None, 128)               0         \n",
      "                                                                 \n",
      " dense_17 (Dense)            (None, 64)                8256      \n",
      "                                                                 \n",
      " batch_normalization_31 (Bat  (None, 64)               256       \n",
      " chNormalization)                                                \n",
      "                                                                 \n",
      " activation_31 (Activation)  (None, 64)                0         \n",
      "                                                                 \n",
      " dropout_13 (Dropout)        (None, 64)                0         \n",
      "                                                                 \n",
      " dense_18 (Dense)            (None, 64)                4160      \n",
      "                                                                 \n",
      " batch_normalization_32 (Bat  (None, 64)               256       \n",
      " chNormalization)                                                \n",
      "                                                                 \n",
      " activation_32 (Activation)  (None, 64)                0         \n",
      "                                                                 \n",
      " dropout_14 (Dropout)        (None, 64)                0         \n",
      "                                                                 \n",
      " dense_19 (Dense)            (None, 1)                 65        \n",
      "                                                                 \n",
      "=================================================================\n",
      "Total params: 254,401\n",
      "Trainable params: 253,249\n",
      "Non-trainable params: 1,152\n",
      "_________________________________________________________________\n"
     ]
    }
   ],
   "source": [
    "from tensorflow.keras import layers\n",
    "from tensorflow.keras.models import Model\n",
    "from tensorflow.keras.callbacks import EarlyStopping\n",
    "\n",
    "inputs = layers.Input(shape=(100, 100, 1))\n",
    "\n",
    "# Body\n",
    "x = layers.Conv2D(64, (5, 5), padding='same', strides=1)(inputs)\n",
    "x = layers.MaxPooling2D((2,2), strides=2)(x)\n",
    "x = layers.BatchNormalization()(x)  # 배치정규화\n",
    "x = layers.Activation('relu')(x)\n",
    "\n",
    "x = layers.Conv2D(128, (3, 3), padding='same', strides=1)(x)\n",
    "x = layers.MaxPooling2D((2,2), strides=2)(x)\n",
    "x = layers.BatchNormalization()(x)  # 배치정규화\n",
    "x = layers.Activation('relu')(x)\n",
    "\n",
    "x = layers.Conv2D(128, (3, 3), padding='same', strides=1)(x)\n",
    "x = layers.MaxPooling2D((2,2), strides=2)(x)\n",
    "x = layers.BatchNormalization()(x)  # 배치정규화\n",
    "x = layers.Activation('relu')(x)\n",
    "\n",
    "# Neck\n",
    "x = layers.GlobalMaxPooling2D()(x)\n",
    "\n",
    "# Header\n",
    "x = layers.Dense(128)(x) # 바로 activation하지말고 아래와 같이 하는 것이 성능 더 좋음\n",
    "x = layers.BatchNormalization()(x)  # 배치정규화\n",
    "x = layers.Activation('relu')(x)\n",
    "x = layers.Dropout(0.2)(x)\n",
    "\n",
    "x = layers.Dense(64)(x) # 바로 activation하지말고 아래와 같이 하는 것이 성능 더 좋음\n",
    "x = layers.BatchNormalization()(x)  # 배치정규화\n",
    "x = layers.Activation('relu')(x)\n",
    "x = layers.Dropout(0.2)(x)\n",
    "\n",
    "x = layers.Dense(64)(x) # 바로 activation하지말고 아래와 같이 하는 것이 성능 더 좋음\n",
    "x = layers.BatchNormalization()(x)  # 배치정규화\n",
    "x = layers.Activation('relu')(x)\n",
    "x = layers.Dropout(0.2)(x)\n",
    "\n",
    "outputs = layers.Dense(1, activation='sigmoid')(x)\n",
    "\n",
    "model = Model(inputs=inputs, outputs=outputs)\n",
    "model.compile(optimizer='adam', loss='binary_crossentropy', metrics=['acc'])\n",
    "model.summary()"
   ]
  },
  {
   "cell_type": "code",
   "execution_count": 36,
   "metadata": {},
   "outputs": [
    {
     "name": "stdout",
     "output_type": "stream",
     "text": [
      "Epoch 1/300\n"
     ]
    },
    {
     "name": "stdout",
     "output_type": "stream",
     "text": [
      "2/2 [==============================] - 8s 3s/step - loss: 0.7240 - acc: 0.5685 - val_loss: 0.6841 - val_acc: 0.7541\n",
      "Epoch 2/300\n",
      "2/2 [==============================] - 0s 200ms/step - loss: 0.5192 - acc: 0.7137 - val_loss: 0.6760 - val_acc: 0.7541\n",
      "Epoch 3/300\n",
      "2/2 [==============================] - 0s 200ms/step - loss: 0.4945 - acc: 0.7593 - val_loss: 0.6693 - val_acc: 0.7541\n",
      "Epoch 4/300\n",
      "2/2 [==============================] - 0s 197ms/step - loss: 0.3905 - acc: 0.8714 - val_loss: 0.6652 - val_acc: 0.7541\n",
      "Epoch 5/300\n",
      "2/2 [==============================] - 0s 198ms/step - loss: 0.3474 - acc: 0.9004 - val_loss: 0.6571 - val_acc: 0.7541\n",
      "Epoch 6/300\n",
      "2/2 [==============================] - 0s 199ms/step - loss: 0.3242 - acc: 0.9004 - val_loss: 0.6483 - val_acc: 0.7541\n",
      "Epoch 7/300\n",
      "2/2 [==============================] - 0s 198ms/step - loss: 0.2634 - acc: 0.9253 - val_loss: 0.6384 - val_acc: 0.7541\n",
      "Epoch 8/300\n",
      "2/2 [==============================] - 0s 198ms/step - loss: 0.2468 - acc: 0.9502 - val_loss: 0.6282 - val_acc: 0.7541\n",
      "Epoch 9/300\n",
      "2/2 [==============================] - 0s 198ms/step - loss: 0.2061 - acc: 0.9585 - val_loss: 0.6170 - val_acc: 0.7541\n",
      "Epoch 10/300\n",
      "2/2 [==============================] - 0s 201ms/step - loss: 0.2098 - acc: 0.9710 - val_loss: 0.6064 - val_acc: 0.7541\n",
      "Epoch 11/300\n",
      "2/2 [==============================] - 0s 198ms/step - loss: 0.1698 - acc: 0.9710 - val_loss: 0.5980 - val_acc: 0.7541\n",
      "Epoch 12/300\n",
      "2/2 [==============================] - 0s 197ms/step - loss: 0.1287 - acc: 1.0000 - val_loss: 0.5917 - val_acc: 0.7541\n",
      "Epoch 13/300\n",
      "2/2 [==============================] - 0s 198ms/step - loss: 0.1317 - acc: 0.9959 - val_loss: 0.5853 - val_acc: 0.7541\n",
      "Epoch 14/300\n",
      "2/2 [==============================] - 0s 201ms/step - loss: 0.1096 - acc: 0.9917 - val_loss: 0.5792 - val_acc: 0.7541\n",
      "Epoch 15/300\n",
      "2/2 [==============================] - 0s 199ms/step - loss: 0.0865 - acc: 1.0000 - val_loss: 0.5736 - val_acc: 0.7541\n",
      "Epoch 16/300\n",
      "2/2 [==============================] - 0s 197ms/step - loss: 0.0737 - acc: 1.0000 - val_loss: 0.5688 - val_acc: 0.7541\n",
      "Epoch 17/300\n",
      "2/2 [==============================] - 0s 206ms/step - loss: 0.0753 - acc: 1.0000 - val_loss: 0.5649 - val_acc: 0.7541\n",
      "Epoch 18/300\n",
      "2/2 [==============================] - 0s 199ms/step - loss: 0.0689 - acc: 1.0000 - val_loss: 0.5620 - val_acc: 0.7541\n",
      "Epoch 19/300\n",
      "2/2 [==============================] - 0s 204ms/step - loss: 0.0618 - acc: 1.0000 - val_loss: 0.5600 - val_acc: 0.7541\n",
      "Epoch 20/300\n",
      "2/2 [==============================] - 0s 199ms/step - loss: 0.0568 - acc: 1.0000 - val_loss: 0.5587 - val_acc: 0.7541\n",
      "Epoch 21/300\n",
      "2/2 [==============================] - 0s 196ms/step - loss: 0.0441 - acc: 1.0000 - val_loss: 0.5580 - val_acc: 0.7541\n",
      "Epoch 22/300\n",
      "2/2 [==============================] - 0s 200ms/step - loss: 0.0498 - acc: 1.0000 - val_loss: 0.5579 - val_acc: 0.7541\n",
      "Epoch 23/300\n",
      "2/2 [==============================] - 0s 194ms/step - loss: 0.0377 - acc: 1.0000 - val_loss: 0.5583 - val_acc: 0.7541\n",
      "Epoch 24/300\n",
      "2/2 [==============================] - 0s 194ms/step - loss: 0.0398 - acc: 1.0000 - val_loss: 0.5589 - val_acc: 0.7541\n",
      "Epoch 25/300\n",
      "2/2 [==============================] - 0s 192ms/step - loss: 0.0359 - acc: 1.0000 - val_loss: 0.5596 - val_acc: 0.7541\n",
      "Epoch 26/300\n",
      "2/2 [==============================] - 0s 198ms/step - loss: 0.0358 - acc: 0.9959 - val_loss: 0.5606 - val_acc: 0.7541\n",
      "Epoch 27/300\n",
      "2/2 [==============================] - 0s 197ms/step - loss: 0.0321 - acc: 1.0000 - val_loss: 0.5618 - val_acc: 0.7541\n",
      "Epoch 28/300\n",
      "2/2 [==============================] - 0s 194ms/step - loss: 0.0275 - acc: 1.0000 - val_loss: 0.5633 - val_acc: 0.7541\n",
      "Epoch 29/300\n",
      "2/2 [==============================] - 0s 196ms/step - loss: 0.0251 - acc: 1.0000 - val_loss: 0.5654 - val_acc: 0.7541\n",
      "Epoch 30/300\n",
      "2/2 [==============================] - 0s 198ms/step - loss: 0.0255 - acc: 1.0000 - val_loss: 0.5680 - val_acc: 0.7541\n",
      "Epoch 31/300\n",
      "2/2 [==============================] - 0s 198ms/step - loss: 0.0282 - acc: 1.0000 - val_loss: 0.5715 - val_acc: 0.7541\n",
      "Epoch 32/300\n",
      "2/2 [==============================] - 0s 209ms/step - loss: 0.0240 - acc: 1.0000 - val_loss: 0.5755 - val_acc: 0.7541\n"
     ]
    }
   ],
   "source": [
    "es_callback = EarlyStopping(monitor='val_loss', patience=10, restore_best_weights=True)\n",
    "history = model.fit(X_train, y_train, validation_split=0.2, batch_size=128, epochs=300, callbacks=[es_callback])"
   ]
  },
  {
   "cell_type": "code",
   "execution_count": 37,
   "metadata": {},
   "outputs": [
    {
     "name": "stdout",
     "output_type": "stream",
     "text": [
      "3/3 [==============================] - 1s 112ms/step\n"
     ]
    },
    {
     "data": {
      "text/plain": [
       "array([[0.24395809],\n",
       "       [0.24320099],\n",
       "       [0.24344335],\n",
       "       [0.24414183],\n",
       "       [0.24294576],\n",
       "       [0.24270564],\n",
       "       [0.24338521],\n",
       "       [0.24282674],\n",
       "       [0.24472474],\n",
       "       [0.24326144],\n",
       "       [0.2446615 ],\n",
       "       [0.2445654 ],\n",
       "       [0.24326968],\n",
       "       [0.24469772],\n",
       "       [0.24252811],\n",
       "       [0.2443559 ],\n",
       "       [0.24284802],\n",
       "       [0.2436616 ],\n",
       "       [0.24266806],\n",
       "       [0.24302544],\n",
       "       [0.24456973],\n",
       "       [0.244257  ],\n",
       "       [0.242308  ],\n",
       "       [0.24372435],\n",
       "       [0.24346766],\n",
       "       [0.2447891 ],\n",
       "       [0.24378951],\n",
       "       [0.24249786],\n",
       "       [0.24257496],\n",
       "       [0.24452017],\n",
       "       [0.24296866],\n",
       "       [0.24486692],\n",
       "       [0.24336934],\n",
       "       [0.24380766],\n",
       "       [0.24467857],\n",
       "       [0.24404424],\n",
       "       [0.24276833],\n",
       "       [0.24309462],\n",
       "       [0.24390809],\n",
       "       [0.24320784],\n",
       "       [0.24280332],\n",
       "       [0.24428278],\n",
       "       [0.24493276],\n",
       "       [0.24184434],\n",
       "       [0.24292395],\n",
       "       [0.24558882],\n",
       "       [0.24282104],\n",
       "       [0.24482468],\n",
       "       [0.24348445],\n",
       "       [0.24426138],\n",
       "       [0.24390809],\n",
       "       [0.24474736],\n",
       "       [0.24404424],\n",
       "       [0.24363165],\n",
       "       [0.24327648],\n",
       "       [0.24317034],\n",
       "       [0.24487069],\n",
       "       [0.24286187],\n",
       "       [0.24359702],\n",
       "       [0.24396566],\n",
       "       [0.24313453],\n",
       "       [0.24308543],\n",
       "       [0.24289562],\n",
       "       [0.24379183],\n",
       "       [0.24351476],\n",
       "       [0.24471629],\n",
       "       [0.2446252 ],\n",
       "       [0.24361795],\n",
       "       [0.24449028],\n",
       "       [0.24503236],\n",
       "       [0.24378322],\n",
       "       [0.24398902],\n",
       "       [0.2432935 ],\n",
       "       [0.24288766],\n",
       "       [0.24298263],\n",
       "       [0.24406375]], dtype=float32)"
      ]
     },
     "execution_count": 37,
     "metadata": {},
     "output_type": "execute_result"
    }
   ],
   "source": [
    "p_test = model.predict(X_test)\n",
    "p_test"
   ]
  },
  {
   "cell_type": "code",
   "execution_count": 38,
   "metadata": {},
   "outputs": [
    {
     "name": "stdout",
     "output_type": "stream",
     "text": [
      "3/3 [==============================] - 0s 54ms/step\n",
      "정확도 : 0.6973684210526315\n",
      "f1 : 0.0\n"
     ]
    },
    {
     "data": {
      "text/plain": [
       "<Figure size 640x480 with 0 Axes>"
      ]
     },
     "metadata": {},
     "output_type": "display_data"
    },
    {
     "data": {
      "image/png": "[encoded data removed]",
      "text/plain": [
       "<Figure size 640x480 with 2 Axes>"
      ]
     },
     "metadata": {},
     "output_type": "display_data"
    }
   ],
   "source": [
    "from sklearn.metrics import accuracy_score, f1_score, confusion_matrix, ConfusionMatrixDisplay, roc_auc_score, roc_curve\n",
    "\n",
    "p_test = model.predict(X_test)\n",
    "p_test_bin = p_test>=0.5\n",
    "\n",
    "print('정확도 :', accuracy_score(y_test, p_test_bin))\n",
    "print('f1 :', f1_score(y_test, p_test_bin))\n",
    "\n",
    "plt.figure()\n",
    "ConfusionMatrixDisplay(confusion_matrix=confusion_matrix(y_test, p_test_bin), display_labels=['Good', 'Bad']).plot(cmap='Blues')\n",
    "plt.show()\n"
   ]
  },
  {
   "cell_type": "code",
   "execution_count": 39,
   "metadata": {},
   "outputs": [
    {
     "data": {
      "image/png": "[encoded data removed]",
      "text/plain": [
       "<Figure size 640x480 with 1 Axes>"
      ]
     },
     "metadata": {},
     "output_type": "display_data"
    }
   ],
   "source": [
    "fpr, tpr, _ = roc_curve(y_test, p_test)\n",
    "auc = roc_auc_score(y_test, p_test)\n",
    "\n",
    "plt.figure()\n",
    "plt.plot(fpr, tpr)\n",
    "plt.plot([0,1], [0,1], linestyle='--')\n",
    "plt.text(0.5, 0.3, f'AUC = {auc:.4f}', fontsize=20)\n",
    "plt.xlabel('FPR')\n",
    "plt.ylabel('TPR')\n",
    "plt.show()"
   ]
  },
  {
   "cell_type": "code",
   "execution_count": null,
   "metadata": {},
   "outputs": [],
   "source": []
  }
 ],
 "metadata": {
  "kernelspec": {
   "display_name": "tensor",
   "language": "python",
   "name": "python3"
  },
  "language_info": {
   "codemirror_mode": {
    "name": "ipython",
    "version": 3
   },
   "file_extension": ".py",
   "mimetype": "text/x-python",
   "name": "python",
   "nbconvert_exporter": "python",
   "pygments_lexer": "ipython3",
   "version": "3.8.10"
  },
  "orig_nbformat": 4
 },
 "nbformat": 4,
 "nbformat_minor": 2
}
