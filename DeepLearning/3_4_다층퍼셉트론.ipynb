{
 "cells": [
  {
   "cell_type": "code",
   "execution_count": 1,
   "metadata": {},
   "outputs": [],
   "source": [
    "import numpy as np\n",
    "import matplotlib.pyplot as plt\n",
    "from matplotlib.colors import ListedColormap"
   ]
  },
  {
   "attachments": {},
   "cell_type": "markdown",
   "metadata": {},
   "source": [
    "# p.260"
   ]
  },
  {
   "cell_type": "code",
   "execution_count": 2,
   "metadata": {},
   "outputs": [],
   "source": [
    "U = np.random.rand(2,3) # 연결강도\n",
    "W = np.random.rand(3,2) # 연결강도\n",
    "learning_rate = 1.0 # 학습률"
   ]
  },
  {
   "cell_type": "code",
   "execution_count": 3,
   "metadata": {},
   "outputs": [],
   "source": [
    "def sigmoid(v): # 순전파\n",
    "    return 1 / (1+np.exp(-v))\n",
    "\n",
    "def derivative_sigmoid(v): # sigmoid 미분, 역전파\n",
    "    s = sigmoid(v)  # s가 y\n",
    "    return s * (1 - s)"
   ]
  },
  {
   "cell_type": "code",
   "execution_count": 4,
   "metadata": {},
   "outputs": [],
   "source": [
    "inputs = np.zeros(2)\n",
    "\n",
    "h_sum, h_out, h_deriv = np.zeros(3), np.zeros(3), np.zeros(3)\n",
    "h_error, h_delta = np.zeros(3), np.zeros(3)\n",
    "\n",
    "y_sum, y_out, y_deriv = np.zeros(2), np.zeros(2), np.zeros(2)\n",
    "y_error, y_delta = np.zeros(2), np.zeros(2)"
   ]
  },
  {
   "cell_type": "code",
   "execution_count": 5,
   "metadata": {},
   "outputs": [],
   "source": [
    "def forward_xh(x): # x -> h\n",
    "    global inputs, h_sum, h_out, h_deriv\n",
    "    inputs = x\n",
    "    h_sum = U.T.dot(inputs) # inputs.dot(U)\n",
    "    h_out = sigmoid(h_sum)\n",
    "    h_deriv = derivative_sigmoid(h_sum)\n",
    "\n",
    "def forward_hy(): # h -> y\n",
    "    global y_sum, y_out, y_deriv\n",
    "    y_sum = W.T.dot(h_out)  # h_out.dot(W)\n",
    "    y_out = sigmoid(y_sum)\n",
    "    y_deriv = derivative_sigmoid(y_sum)\n",
    "\n",
    "def compute_error(target):\n",
    "    return y_out - target  # 예측치에서 target을 뺀 오차"
   ]
  },
  {
   "cell_type": "code",
   "execution_count": 6,
   "metadata": {},
   "outputs": [],
   "source": [
    "def backward_y(error): # y -> h\n",
    "    global y_error, y_delta, W\n",
    "    y_error = error\n",
    "    y_delta = y_error * y_deriv\n",
    "    dW = -learning_rate * np.outer(h_out, y_delta) # 외적\n",
    "    W += dW\n",
    "\n",
    "def backward_h(): # h -> x\n",
    "    global h_error, h_delta, U\n",
    "    h_error = W.dot(y_delta)\n",
    "    h_delta = h_error * h_deriv\n",
    "    dU = -learning_rate * np.outer(inputs, h_delta) # 외적\n",
    "    U += dU\n",
    "\n",
    "def train(x, target):\n",
    "    forward_xh(x)\n",
    "    forward_hy()\n",
    "    e = compute_error(target)\n",
    "    backward_y(e)\n",
    "    backward_h()\n",
    "    return e**2 # 모니터링용"
   ]
  },
  {
   "cell_type": "code",
   "execution_count": 7,
   "metadata": {},
   "outputs": [],
   "source": [
    "U = np.random.rand(2,3) # 연결강도\n",
    "W = np.random.rand(3,2) # 연결강도\n",
    "learning_rate = 1 # 학습률\n",
    "\n",
    "loss = []\n",
    "for i in range(1000):\n",
    "    e_accum = 0\n",
    "    true = np.array([1,0])\n",
    "    false = np.array([0,1])\n",
    "    e_accum += train(np.array([0,0]), false)\n",
    "    e_accum += train(np.array([0,1]), true)\n",
    "    e_accum += train(np.array([1,1]), false)\n",
    "    e_accum += train(np.array([1,0]), true) # e**2의 시그마 값 => L\n",
    "    loss.append(e_accum)"
   ]
  },
  {
   "cell_type": "code",
   "execution_count": 8,
   "metadata": {},
   "outputs": [
    {
     "data": {
      "image/png": "[encoded data removed]",
      "text/plain": [
       "<Figure size 640x480 with 1 Axes>"
      ]
     },
     "metadata": {},
     "output_type": "display_data"
    }
   ],
   "source": [
    "plt.plot(loss)\n",
    "plt.ylabel('loss')\n",
    "plt.xlabel('training')\n",
    "plt.show()"
   ]
  },
  {
   "cell_type": "code",
   "execution_count": 9,
   "metadata": {},
   "outputs": [
    {
     "data": {
      "text/plain": [
       "array([0.02773196, 0.02750383])"
      ]
     },
     "execution_count": 9,
     "metadata": {},
     "output_type": "execute_result"
    }
   ],
   "source": [
    "loss[-1]"
   ]
  },
  {
   "cell_type": "code",
   "execution_count": 10,
   "metadata": {},
   "outputs": [],
   "source": [
    "def test(X):\n",
    "    y_hat = [] # 예측값을 hat이라고 함\n",
    "    for x in X:\n",
    "        forward_xh(x)\n",
    "        forward_hy()\n",
    "        y_hat.append(y_out)\n",
    "    return y_hat"
   ]
  },
  {
   "attachments": {},
   "cell_type": "markdown",
   "metadata": {},
   "source": [
    "# 합해서 1 즉, 100%가 나오지는 않는다"
   ]
  },
  {
   "cell_type": "code",
   "execution_count": 11,
   "metadata": {},
   "outputs": [
    {
     "data": {
      "text/plain": [
       "[array([0.12063282, 0.87981993]),\n",
       " array([0.92452098, 0.07516473]),\n",
       " array([0.92436478, 0.07531918]),\n",
       " array([0.03865928, 0.96160069])]"
      ]
     },
     "execution_count": 11,
     "metadata": {},
     "output_type": "execute_result"
    }
   ],
   "source": [
    "test(np.array([[0,0],[0,1],[1,0],[1,1]]))"
   ]
  },
  {
   "cell_type": "code",
   "execution_count": null,
   "metadata": {},
   "outputs": [],
   "source": []
  },
  {
   "attachments": {},
   "cell_type": "markdown",
   "metadata": {},
   "source": [
    "# 다층 퍼셉트론으로 비선형 회귀"
   ]
  },
  {
   "attachments": {},
   "cell_type": "markdown",
   "metadata": {},
   "source": [
    "* 예측하고자 하는 값이 하나\n",
    "* 마지막 노드에는 활성화 함수 씌우면 안 됨 (linear unit 상태로 냅둬야 함)"
   ]
  },
  {
   "attachments": {},
   "cell_type": "markdown",
   "metadata": {},
   "source": [
    "### 딥러닝은 똑같은 모델로도 출력 노드만 바꾸면 분류, 회귀 등 상황에 따라 만들 수 있다"
   ]
  },
  {
   "attachments": {},
   "cell_type": "markdown",
   "metadata": {},
   "source": [
    "# 딥러닝 모델만 잘 만들면 여기저기 잘 쓸 수 있다"
   ]
  },
  {
   "cell_type": "code",
   "execution_count": null,
   "metadata": {},
   "outputs": [],
   "source": []
  }
 ],
 "metadata": {
  "kernelspec": {
   "display_name": "myvenv",
   "language": "python",
   "name": "python3"
  },
  "language_info": {
   "codemirror_mode": {
    "name": "ipython",
    "version": 3
   },
   "file_extension": ".py",
   "mimetype": "text/x-python",
   "name": "python",
   "nbconvert_exporter": "python",
   "pygments_lexer": "ipython3",
   "version": "3.11.3"
  },
  "orig_nbformat": 4
 },
 "nbformat": 4,
 "nbformat_minor": 2
}
