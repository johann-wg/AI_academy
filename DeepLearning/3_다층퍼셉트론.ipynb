{
 "cells": [
  {
   "cell_type": "code",
   "execution_count": 1,
   "metadata": {},
   "outputs": [],
   "source": [
    "import numpy as np\n",
    "import matplotlib.pyplot as plt\n",
    "from matplotlib.colors import ListedColormap"
   ]
  },
  {
   "attachments": {},
   "cell_type": "markdown",
   "metadata": {},
   "source": [
    "# p.260"
   ]
  },
  {
   "cell_type": "code",
   "execution_count": 2,
   "metadata": {},
   "outputs": [],
   "source": [
    "U = np.random.rand(2,3) # 연결강도\n",
    "W = np.random.rand(3,2) # 연결강도\n",
    "learning_rate = 1.0 # 학습률"
   ]
  },
  {
   "cell_type": "code",
   "execution_count": 3,
   "metadata": {},
   "outputs": [],
   "source": [
    "def sigmoid(v): # 순전파\n",
    "    return 1 / (1+np.exp(-v))\n",
    "\n",
    "def derivative_sigmoid(v): # sigmoid 미분, 역전파\n",
    "    s = sigmoid(v)  # s가 y\n",
    "    return s * (1 - s)"
   ]
  },
  {
   "cell_type": "code",
   "execution_count": 4,
   "metadata": {},
   "outputs": [],
   "source": [
    "inputs = np.zeros(2)\n",
    "\n",
    "h_sum, h_out, h_deriv = np.zeros(3), np.zeros(3), np.zeros(3)\n",
    "h_error, h_delta = np.zeros(3), np.zeros(3)\n",
    "\n",
    "y_sum, y_out, y_deriv = np.zeros(2), np.zeros(2), np.zeros(2)\n",
    "y_error, y_delta = np.zeros(2), np.zeros(2)"
   ]
  },
  {
   "cell_type": "code",
   "execution_count": 5,
   "metadata": {},
   "outputs": [],
   "source": [
    "def forward_xh(x): # x -> h\n",
    "    global inputs, h_sum, h_out, h_deriv\n",
    "    inputs = x\n",
    "    h_sum = U.T.dot(inputs) # inputs.dot(U)\n",
    "    h_out = sigmoid(h_sum)\n",
    "    h_deriv = derivative_sigmoid(h_sum)\n",
    "\n",
    "def forward_hy(): # h -> y\n",
    "    global y_sum, y_out, y_deriv\n",
    "    y_sum = W.T.dot(h_out)  # h_out.dot(W)\n",
    "    y_out = sigmoid(y_sum)\n",
    "    y_deriv = derivative_sigmoid(y_sum)\n",
    "\n",
    "def compute_error(target):\n",
    "    return y_out - target  # 예측치에서 target을 뺀 오차"
   ]
  },
  {
   "cell_type": "code",
   "execution_count": null,
   "metadata": {},
   "outputs": [],
   "source": []
  }
 ],
 "metadata": {
  "kernelspec": {
   "display_name": "myvenv",
   "language": "python",
   "name": "python3"
  },
  "language_info": {
   "codemirror_mode": {
    "name": "ipython",
    "version": 3
   },
   "file_extension": ".py",
   "mimetype": "text/x-python",
   "name": "python",
   "nbconvert_exporter": "python",
   "pygments_lexer": "ipython3",
   "version": "3.11.3"
  },
  "orig_nbformat": 4
 },
 "nbformat": 4,
 "nbformat_minor": 2
}
