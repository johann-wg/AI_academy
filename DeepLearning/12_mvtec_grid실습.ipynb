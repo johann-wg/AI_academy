{
 "cells": [
  {
   "cell_type": "code",
   "execution_count": 4,
   "metadata": {},
   "outputs": [],
   "source": [
    "import os\n",
    "import numpy as np\n",
    "import cv2\n",
    "import matplotlib.pyplot as plt\n",
    "\n",
    "def fileList(path_before):\n",
    "    file_list = os.listdir(path_before)\n",
    "    names = []\n",
    "    for file in file_list:\n",
    "        names.append(file)\n",
    "    names.sort()\n",
    "    return names\n"
   ]
  },
  {
   "cell_type": "code",
   "execution_count": 40,
   "metadata": {},
   "outputs": [],
   "source": [
    "# good = []\n",
    "# good_label = []\n",
    "# bad = []\n",
    "# bad_label = []\n",
    "\n",
    "# for type in fileList('MVTec_grid'):\n",
    "#     if type == 'good':\n",
    "#         for name in fileList('MVTec_grid/good'):\n",
    "#             good.append(plt.imread('MVTec_grid/good/'+name))\n",
    "#             good_label.append(0)\n",
    "\n",
    "#     else:\n",
    "#         for name in fileList('MVTec_grid/' + type):\n",
    "#             bad.append(plt.imread('MVTec_grid/'+type+'/'+name))\n",
    "#             bad_label.append(1)\n",
    "\n",
    "# good_original = good\n",
    "# bad_original = bad\n",
    "\n",
    "# good = np.array(good)\n",
    "# bad = np.array(bad)"
   ]
  },
  {
   "cell_type": "code",
   "execution_count": 24,
   "metadata": {},
   "outputs": [],
   "source": [
    "X = []\n",
    "y = []\n",
    "category = []\n",
    "height = 100\n",
    "width = 100\n",
    "\n",
    "for type in fileList('MVTec_grid'):\n",
    "    for name in fileList('MVTec_grid/'+type):\n",
    "        image = plt.imread('MVTec_grid/'+type+'/'+name)\n",
    "        X.append(cv2.resize(image, (height, width)))\n",
    "        y.append(int(type != 'good'))\n",
    "        category.append(type)\n",
    "\n",
    "X = np.array(X)\n",
    "X = np.expand_dims(X, axis=-1)\n",
    "y = np.array(y)"
   ]
  },
  {
   "cell_type": "code",
   "execution_count": 25,
   "metadata": {},
   "outputs": [
    {
     "name": "stdout",
     "output_type": "stream",
     "text": [
      "(321, 100, 100, 1)\n",
      "(321,)\n"
     ]
    }
   ],
   "source": [
    "print(X.shape)\n",
    "print(y.shape)"
   ]
  },
  {
   "cell_type": "code",
   "execution_count": 26,
   "metadata": {},
   "outputs": [],
   "source": [
    "# # good 레이블들을 numpy 배열로 변환\n",
    "# good_label = np.zeros(len(good), dtype=int)\n",
    "# # bad 레이블들을 numpy 배열로 변환\n",
    "# bad_label = np.ones(len(bad), dtype=int)\n",
    "\n",
    "# # 모든 이미지들을 하나로 합치기\n",
    "# all_images = np.concatenate((good, bad), axis=0)\n",
    "\n",
    "# # 모든 레이블들을 하나로 합치기\n",
    "# all_labels = np.concatenate((good_label, bad_label), axis=0)"
   ]
  },
  {
   "cell_type": "code",
   "execution_count": 27,
   "metadata": {},
   "outputs": [],
   "source": [
    "from sklearn.model_selection import train_test_split\n",
    "\n",
    "x_train, x_test, y_train, y_test = train_test_split(X, y, test_size=0.2, stratify=category, random_state=0)"
   ]
  },
  {
   "cell_type": "code",
   "execution_count": 30,
   "metadata": {},
   "outputs": [
    {
     "name": "stdout",
     "output_type": "stream",
     "text": [
      "(256, 100, 100, 1)\n",
      "(256,)\n"
     ]
    }
   ],
   "source": [
    "print(x_train.shape)\n",
    "print(y_train.shape)"
   ]
  },
  {
   "cell_type": "markdown",
   "metadata": {},
   "source": [
    "- 채널차원\n",
    "- 트레인 테스트 골고루 해야 함(bent, glue..)"
   ]
  },
  {
   "cell_type": "code",
   "execution_count": 36,
   "metadata": {},
   "outputs": [
    {
     "name": "stdout",
     "output_type": "stream",
     "text": [
      "Model: \"model_2\"\n",
      "_________________________________________________________________\n",
      " Layer (type)                Output Shape              Param #   \n",
      "=================================================================\n",
      " input_3 (InputLayer)        [(None, 100, 100, 1)]     0         \n",
      "                                                                 \n",
      " conv2d_6 (Conv2D)           (None, 100, 100, 32)      320       \n",
      "                                                                 \n",
      " max_pooling2d_6 (MaxPoolin  (None, 50, 50, 32)        0         \n",
      " g2D)                                                            \n",
      "                                                                 \n",
      " batch_normalization_10 (Ba  (None, 50, 50, 32)        128       \n",
      " tchNormalization)                                               \n",
      "                                                                 \n",
      " activation_10 (Activation)  (None, 50, 50, 32)        0         \n",
      "                                                                 \n",
      " conv2d_7 (Conv2D)           (None, 50, 50, 64)        18496     \n",
      "                                                                 \n",
      " max_pooling2d_7 (MaxPoolin  (None, 25, 25, 64)        0         \n",
      " g2D)                                                            \n",
      "                                                                 \n",
      " batch_normalization_11 (Ba  (None, 25, 25, 64)        256       \n",
      " tchNormalization)                                               \n",
      "                                                                 \n",
      " activation_11 (Activation)  (None, 25, 25, 64)        0         \n",
      "                                                                 \n",
      " conv2d_8 (Conv2D)           (None, 25, 25, 128)       73856     \n",
      "                                                                 \n",
      " max_pooling2d_8 (MaxPoolin  (None, 12, 12, 128)       0         \n",
      " g2D)                                                            \n",
      "                                                                 \n",
      " batch_normalization_12 (Ba  (None, 12, 12, 128)       512       \n",
      " tchNormalization)                                               \n",
      "                                                                 \n",
      " activation_12 (Activation)  (None, 12, 12, 128)       0         \n",
      "                                                                 \n",
      " global_max_pooling2d_2 (Gl  (None, 128)               0         \n",
      " obalMaxPooling2D)                                               \n",
      "                                                                 \n",
      " dense_6 (Dense)             (None, 64)                8256      \n",
      "                                                                 \n",
      " batch_normalization_13 (Ba  (None, 64)                256       \n",
      " tchNormalization)                                               \n",
      "                                                                 \n",
      " activation_13 (Activation)  (None, 64)                0         \n",
      "                                                                 \n",
      " dropout_4 (Dropout)         (None, 64)                0         \n",
      "                                                                 \n",
      " dense_7 (Dense)             (None, 32)                2080      \n",
      "                                                                 \n",
      " batch_normalization_14 (Ba  (None, 32)                128       \n",
      " tchNormalization)                                               \n",
      "                                                                 \n",
      " activation_14 (Activation)  (None, 32)                0         \n",
      "                                                                 \n",
      " dropout_5 (Dropout)         (None, 32)                0         \n",
      "                                                                 \n",
      " dense_8 (Dense)             (None, 32)                1056      \n",
      "                                                                 \n",
      " batch_normalization_15 (Ba  (None, 32)                128       \n",
      " tchNormalization)                                               \n",
      "                                                                 \n",
      " activation_15 (Activation)  (None, 32)                0         \n",
      "                                                                 \n",
      " dropout_6 (Dropout)         (None, 32)                0         \n",
      "                                                                 \n",
      " dense_9 (Dense)             (None, 1)                 33        \n",
      "                                                                 \n",
      "=================================================================\n",
      "Total params: 105505 (412.13 KB)\n",
      "Trainable params: 104801 (409.38 KB)\n",
      "Non-trainable params: 704 (2.75 KB)\n",
      "_________________________________________________________________\n"
     ]
    }
   ],
   "source": [
    "from tensorflow.keras import layers, Model\n",
    "\n",
    "channels = 1\n",
    "\n",
    "inputs = layers.Input(shape=(height, width, channels))\n",
    "\n",
    "# Body\n",
    "x = layers.Conv2D(32, (3, 3), padding='same')(inputs)\n",
    "x = layers.MaxPooling2D((2, 2), strides=2)(x)\n",
    "x = layers.BatchNormalization()(x)\n",
    "x = layers.Activation('relu')(x)\n",
    "\n",
    "x = layers.Conv2D(64, (3, 3), padding='same')(x)\n",
    "x = layers.MaxPooling2D((2, 2), strides=2)(x)\n",
    "x = layers.BatchNormalization()(x)\n",
    "x = layers.Activation('relu')(x)\n",
    "\n",
    "x = layers.Conv2D(128, (3, 3), padding='same')(x)\n",
    "x = layers.MaxPooling2D((2, 2), strides=2)(x)\n",
    "x = layers.BatchNormalization()(x)\n",
    "x = layers.Activation('relu')(x)\n",
    "\n",
    "# Neck\n",
    "x = layers.GlobalMaxPooling2D()(x)\n",
    "\n",
    "# Header\n",
    "x = layers.Dense(64)(x)\n",
    "x = layers.BatchNormalization()(x)\n",
    "x = layers.Activation('relu')(x)\n",
    "x = layers.Dropout(0.2)(x)\n",
    "\n",
    "x = layers.Dense(32)(x)\n",
    "x = layers.BatchNormalization()(x)\n",
    "x = layers.Activation('relu')(x)\n",
    "x = layers.Dropout(0.2)(x)\n",
    "\n",
    "x = layers.Dense(32)(x)\n",
    "x = layers.BatchNormalization()(x)\n",
    "x = layers.Activation('relu')(x)\n",
    "x = layers.Dropout(0.2)(x)\n",
    "\n",
    "outputs = layers.Dense(1, activation='sigmoid')(x)\n",
    "\n",
    "model = Model(inputs=inputs, outputs=outputs)\n",
    "model.compile(optimizer='adam', loss='binary_crossentropy', metrics=['acc'])\n",
    "model.summary()"
   ]
  },
  {
   "cell_type": "code",
   "execution_count": 37,
   "metadata": {},
   "outputs": [
    {
     "name": "stdout",
     "output_type": "stream",
     "text": [
      "Epoch 1/300\n",
      "13/13 [==============================] - 3s 106ms/step - loss: 0.9037 - acc: 0.4363 - val_loss: 0.7019 - val_acc: 0.2308\n",
      "Epoch 2/300\n",
      "13/13 [==============================] - 1s 91ms/step - loss: 0.7580 - acc: 0.5343 - val_loss: 0.6942 - val_acc: 0.2308\n",
      "Epoch 3/300\n",
      "13/13 [==============================] - 1s 91ms/step - loss: 0.6621 - acc: 0.5490 - val_loss: 0.6751 - val_acc: 0.7692\n",
      "Epoch 4/300\n",
      "13/13 [==============================] - 1s 91ms/step - loss: 0.5824 - acc: 0.6814 - val_loss: 0.6517 - val_acc: 0.7692\n",
      "Epoch 5/300\n",
      "13/13 [==============================] - 1s 92ms/step - loss: 0.5131 - acc: 0.7500 - val_loss: 0.6208 - val_acc: 0.7692\n",
      "Epoch 6/300\n",
      "13/13 [==============================] - 1s 93ms/step - loss: 0.5009 - acc: 0.7647 - val_loss: 0.5890 - val_acc: 0.7692\n",
      "Epoch 7/300\n",
      "13/13 [==============================] - 1s 93ms/step - loss: 0.4208 - acc: 0.8382 - val_loss: 0.5667 - val_acc: 0.7692\n",
      "Epoch 8/300\n",
      "13/13 [==============================] - 1s 92ms/step - loss: 0.3711 - acc: 0.8676 - val_loss: 0.5518 - val_acc: 0.7692\n",
      "Epoch 9/300\n",
      "13/13 [==============================] - 1s 92ms/step - loss: 0.3606 - acc: 0.8578 - val_loss: 0.5441 - val_acc: 0.7692\n",
      "Epoch 10/300\n",
      "13/13 [==============================] - 1s 97ms/step - loss: 0.3269 - acc: 0.8824 - val_loss: 0.5404 - val_acc: 0.7692\n",
      "Epoch 11/300\n",
      "13/13 [==============================] - 1s 113ms/step - loss: 0.2919 - acc: 0.9216 - val_loss: 0.5410 - val_acc: 0.7692\n",
      "Epoch 12/300\n",
      "13/13 [==============================] - 1s 100ms/step - loss: 0.2987 - acc: 0.9069 - val_loss: 0.5461 - val_acc: 0.7692\n",
      "Epoch 13/300\n",
      "13/13 [==============================] - 1s 96ms/step - loss: 0.2322 - acc: 0.9510 - val_loss: 0.5588 - val_acc: 0.7692\n",
      "Epoch 14/300\n",
      "13/13 [==============================] - 1s 94ms/step - loss: 0.2149 - acc: 0.9412 - val_loss: 0.5682 - val_acc: 0.7692\n",
      "Epoch 15/300\n",
      "13/13 [==============================] - 1s 97ms/step - loss: 0.2178 - acc: 0.9265 - val_loss: 0.5691 - val_acc: 0.7692\n",
      "Epoch 16/300\n",
      "13/13 [==============================] - 1s 96ms/step - loss: 0.1619 - acc: 0.9755 - val_loss: 0.5696 - val_acc: 0.7692\n",
      "Epoch 17/300\n",
      "13/13 [==============================] - 1s 95ms/step - loss: 0.1722 - acc: 0.9608 - val_loss: 0.5753 - val_acc: 0.7692\n",
      "Epoch 18/300\n",
      "13/13 [==============================] - 1s 95ms/step - loss: 0.1456 - acc: 0.9902 - val_loss: 0.5785 - val_acc: 0.7692\n",
      "Epoch 19/300\n",
      "13/13 [==============================] - 1s 95ms/step - loss: 0.1437 - acc: 0.9804 - val_loss: 0.5843 - val_acc: 0.7692\n",
      "Epoch 20/300\n",
      "13/13 [==============================] - 1s 93ms/step - loss: 0.1331 - acc: 0.9804 - val_loss: 0.5823 - val_acc: 0.7692\n"
     ]
    }
   ],
   "source": [
    "from tensorflow.keras.callbacks import EarlyStopping\n",
    "\n",
    "es_callback = EarlyStopping(monitor='val_loss', patience=10, restore_best_weights=True)\n",
    "history = model.fit(x_train, y_train, validation_split=0.2, batch_size=16, epochs=300, callbacks=[es_callback])"
   ]
  },
  {
   "cell_type": "code",
   "execution_count": 38,
   "metadata": {},
   "outputs": [
    {
     "name": "stdout",
     "output_type": "stream",
     "text": [
      "3/3 [==============================] - 0s 24ms/step\n"
     ]
    },
    {
     "data": {
      "text/plain": [
       "array([[0.24104387],\n",
       "       [0.2395902 ],\n",
       "       [0.24059659],\n",
       "       [0.24008238],\n",
       "       [0.24018504],\n",
       "       [0.24056123],\n",
       "       [0.24030691],\n",
       "       [0.24071449],\n",
       "       [0.24073188],\n",
       "       [0.23967738],\n",
       "       [0.24000993],\n",
       "       [0.23998463],\n",
       "       [0.2402317 ],\n",
       "       [0.2404245 ],\n",
       "       [0.24057415],\n",
       "       [0.24065433],\n",
       "       [0.24082202],\n",
       "       [0.23986836],\n",
       "       [0.24019594],\n",
       "       [0.2406268 ],\n",
       "       [0.24131688],\n",
       "       [0.24074352],\n",
       "       [0.23965672],\n",
       "       [0.24007499],\n",
       "       [0.24050726],\n",
       "       [0.23996074],\n",
       "       [0.24098234],\n",
       "       [0.24030568],\n",
       "       [0.2404723 ],\n",
       "       [0.240211  ],\n",
       "       [0.24062353],\n",
       "       [0.23945114],\n",
       "       [0.23959652],\n",
       "       [0.24016272],\n",
       "       [0.24069653],\n",
       "       [0.23982552],\n",
       "       [0.24036668],\n",
       "       [0.24085087],\n",
       "       [0.24042399],\n",
       "       [0.24052997],\n",
       "       [0.24041092],\n",
       "       [0.24059492],\n",
       "       [0.24104804],\n",
       "       [0.2402294 ],\n",
       "       [0.24023812],\n",
       "       [0.24010597],\n",
       "       [0.2407484 ],\n",
       "       [0.23981969],\n",
       "       [0.2400384 ],\n",
       "       [0.24030389],\n",
       "       [0.2407642 ],\n",
       "       [0.24016231],\n",
       "       [0.24047624],\n",
       "       [0.24102433],\n",
       "       [0.24001843],\n",
       "       [0.24044226],\n",
       "       [0.24044101],\n",
       "       [0.24072385],\n",
       "       [0.24012522],\n",
       "       [0.24085985],\n",
       "       [0.23969479],\n",
       "       [0.24031529],\n",
       "       [0.24005301],\n",
       "       [0.24100651],\n",
       "       [0.24094605]], dtype=float32)"
      ]
     },
     "execution_count": 38,
     "metadata": {},
     "output_type": "execute_result"
    }
   ],
   "source": [
    "p_test = model.predict(x_test)\n",
    "p_test"
   ]
  },
  {
   "cell_type": "code",
   "execution_count": 39,
   "metadata": {},
   "outputs": [
    {
     "name": "stdout",
     "output_type": "stream",
     "text": [
      "정확도 : 0.8307692307692308\n",
      "f1 : 0.0\n"
     ]
    },
    {
     "data": {
      "text/plain": [
       "<Figure size 640x480 with 0 Axes>"
      ]
     },
     "metadata": {},
     "output_type": "display_data"
    },
    {
     "data": {
      "image/png": "[encoded data removed]",
      "text/plain": [
       "<Figure size 640x480 with 2 Axes>"
      ]
     },
     "metadata": {},
     "output_type": "display_data"
    }
   ],
   "source": [
    "from sklearn.metrics import accuracy_score, f1_score, confusion_matrix, ConfusionMatrixDisplay, roc_auc_score, roc_curve\n",
    "\n",
    "p_test_bin = p_test>=0.5\n",
    "\n",
    "print('정확도 :', accuracy_score(y_test, p_test_bin))\n",
    "print('f1 :', f1_score(y_test, p_test_bin))\n",
    "\n",
    "plt.figure()\n",
    "ConfusionMatrixDisplay(confusion_matrix=confusion_matrix(y_test, p_test_bin), display_labels=['Good', 'Bad']).plot(cmap='Blues')\n",
    "plt.show()\n"
   ]
  },
  {
   "cell_type": "code",
   "execution_count": null,
   "metadata": {},
   "outputs": [],
   "source": []
  }
 ],
 "metadata": {
  "kernelspec": {
   "display_name": "tensor",
   "language": "python",
   "name": "python3"
  },
  "language_info": {
   "codemirror_mode": {
    "name": "ipython",
    "version": 3
   },
   "file_extension": ".py",
   "mimetype": "text/x-python",
   "name": "python",
   "nbconvert_exporter": "python",
   "pygments_lexer": "ipython3",
   "version": "3.11.1"
  },
  "orig_nbformat": 4
 },
 "nbformat": 4,
 "nbformat_minor": 2
}
