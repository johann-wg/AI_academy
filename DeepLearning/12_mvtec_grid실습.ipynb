{
 "cells": [
  {
   "cell_type": "code",
   "execution_count": 11,
   "metadata": {},
   "outputs": [],
   "source": [
    "import os\n",
    "import numpy as np\n",
    "import cv2\n",
    "import matplotlib.pyplot as plt\n",
    "\n",
    "def fileList(path_before):\n",
    "    file_list = os.listdir(path_before)\n",
    "    names = []\n",
    "    for file in file_list:\n",
    "        names.append(file)\n",
    "    names.sort()\n",
    "    return names\n"
   ]
  },
  {
   "cell_type": "code",
   "execution_count": 10,
   "metadata": {},
   "outputs": [
    {
     "data": {
      "text/plain": [
       "['bent', 'broken', 'glue', 'good', 'metal_contamination', 'thread']"
      ]
     },
     "execution_count": 10,
     "metadata": {},
     "output_type": "execute_result"
    }
   ],
   "source": [
    "os.listdir('MVTec_grid')"
   ]
  },
  {
   "cell_type": "code",
   "execution_count": 7,
   "metadata": {},
   "outputs": [
    {
     "data": {
      "text/plain": [
       "['bent', 'broken', 'glue', 'good', 'metal_contamination', 'thread']"
      ]
     },
     "execution_count": 7,
     "metadata": {},
     "output_type": "execute_result"
    }
   ],
   "source": [
    "fileList('MVTec_grid')"
   ]
  },
  {
   "cell_type": "code",
   "execution_count": 85,
   "metadata": {},
   "outputs": [],
   "source": [
    "import numpy as np\n",
    "good = []\n",
    "good_label = []\n",
    "bad = []\n",
    "bad_label = []\n",
    "\n",
    "for type in fileList('MVTec_grid'):\n",
    "    if type == 'good':\n",
    "        for name in fileList('MVTec_grid/good'):\n",
    "            good.append(plt.imread('MVTec_grid/good/'+name))\n",
    "            good_label.append(0)\n",
    "\n",
    "    else:\n",
    "        for name in fileList('MVTec_grid/' + type):\n",
    "            bad.append(plt.imread('MVTec_grid/'+type+'/'+name))\n",
    "            bad_label.append(1)\n",
    "\n",
    "good_original = good\n",
    "bad_original = bad\n",
    "\n",
    "good = np.array(good)\n",
    "bad = np.array(bad)"
   ]
  },
  {
   "cell_type": "code",
   "execution_count": 114,
   "metadata": {},
   "outputs": [
    {
     "name": "stdout",
     "output_type": "stream",
     "text": [
      "(264, 256, 256)\n",
      "(57, 256, 256)\n"
     ]
    }
   ],
   "source": [
    "import numpy as np\n",
    "height = 256\n",
    "width = 256\n",
    "\n",
    "resized_good = []\n",
    "for image in good_original:\n",
    "    re_image = cv2.resize(image, (width, height))\n",
    "    resized_good.append(re_image)\n",
    "\n",
    "resized_bad = []\n",
    "for image in bad_original:\n",
    "    re_image = cv2.resize(image, (width, height))\n",
    "    resized_bad.append(re_image)\n",
    "\n",
    "resized_good = np.array(resized_good)\n",
    "resized_bad = np.array(resized_bad)\n",
    "print(resized_good.shape)\n",
    "print(resized_bad.shape)"
   ]
  },
  {
   "cell_type": "code",
   "execution_count": 115,
   "metadata": {},
   "outputs": [],
   "source": [
    "good = np.expand_dims(resized_good, axis=-1)\n",
    "bad = np.expand_dims(resized_bad, axis=-1)"
   ]
  },
  {
   "cell_type": "code",
   "execution_count": 116,
   "metadata": {},
   "outputs": [
    {
     "name": "stdout",
     "output_type": "stream",
     "text": [
      "(264, 256, 256, 1)\n",
      "(57, 256, 256, 1)\n"
     ]
    }
   ],
   "source": [
    "print(good.shape)\n",
    "print(bad.shape)"
   ]
  },
  {
   "cell_type": "code",
   "execution_count": 117,
   "metadata": {},
   "outputs": [],
   "source": [
    "# good 레이블들을 numpy 배열로 변환\n",
    "good_label = np.zeros(len(good), dtype=int)\n",
    "# bad 레이블들을 numpy 배열로 변환\n",
    "bad_label = np.ones(len(bad), dtype=int)\n",
    "\n",
    "# 모든 이미지들을 하나로 합치기\n",
    "all_images = np.concatenate((good, bad), axis=0)\n",
    "\n",
    "# 모든 레이블들을 하나로 합치기\n",
    "all_labels = np.concatenate((good_label, bad_label), axis=0)"
   ]
  },
  {
   "cell_type": "code",
   "execution_count": 118,
   "metadata": {},
   "outputs": [],
   "source": [
    "from sklearn.model_selection import train_test_split\n",
    "\n",
    "x_train, x_test, y_train, y_test = train_test_split(all_images, all_labels, test_size=0.2, random_state=0)"
   ]
  },
  {
   "cell_type": "code",
   "execution_count": 153,
   "metadata": {},
   "outputs": [
    {
     "name": "stdout",
     "output_type": "stream",
     "text": [
      "Train Set Label Distribution:\n",
      "0    206\n",
      "1     50\n",
      "Name: count, dtype: int64\n",
      "Test Set Label Distribution:\n",
      "0    58\n",
      "1     7\n",
      "Name: count, dtype: int64\n"
     ]
    }
   ],
   "source": [
    "import pandas as pd\n",
    "\n",
    "X_train, X_test, y_train, y_test = train_test_split(all_images, all_labels, test_size=0.2, random_state=30)\n",
    "\n",
    "# 데이터가 골고루 섞였는지 확인\n",
    "print(\"Train Set Label Distribution:\")\n",
    "print(pd.Series(y_train).value_counts())\n",
    "print(\"Test Set Label Distribution:\")\n",
    "print(pd.Series(y_test).value_counts())"
   ]
  },
  {
   "cell_type": "code",
   "execution_count": 154,
   "metadata": {},
   "outputs": [
    {
     "data": {
      "text/plain": [
       "(256, 256, 256, 1)"
      ]
     },
     "execution_count": 154,
     "metadata": {},
     "output_type": "execute_result"
    }
   ],
   "source": [
    "x_train.shape"
   ]
  },
  {
   "cell_type": "code",
   "execution_count": 155,
   "metadata": {},
   "outputs": [
    {
     "data": {
      "text/plain": [
       "(256,)"
      ]
     },
     "execution_count": 155,
     "metadata": {},
     "output_type": "execute_result"
    }
   ],
   "source": [
    "y_train.shape"
   ]
  },
  {
   "cell_type": "markdown",
   "metadata": {},
   "source": [
    "- 채널차원\n",
    "- 트레인 테스트 골고루 해야 함(bent, glue..)"
   ]
  },
  {
   "cell_type": "code",
   "execution_count": 156,
   "metadata": {},
   "outputs": [
    {
     "name": "stdout",
     "output_type": "stream",
     "text": [
      "Model: \"model_12\"\n",
      "_________________________________________________________________\n",
      " Layer (type)                Output Shape              Param #   \n",
      "=================================================================\n",
      " input_14 (InputLayer)       [(None, 256, 256, 1)]     0         \n",
      "                                                                 \n",
      " conv2d_31 (Conv2D)          (None, 256, 256, 64)      640       \n",
      "                                                                 \n",
      " max_pooling2d_30 (MaxPoolin  (None, 128, 128, 64)     0         \n",
      " g2D)                                                            \n",
      "                                                                 \n",
      " batch_normalization_51 (Bat  (None, 128, 128, 64)     256       \n",
      " chNormalization)                                                \n",
      "                                                                 \n",
      " activation_51 (Activation)  (None, 128, 128, 64)      0         \n",
      "                                                                 \n",
      " global_max_pooling2d_12 (Gl  (None, 64)               0         \n",
      " obalMaxPooling2D)                                               \n",
      "                                                                 \n",
      " dense_33 (Dense)            (None, 32)                2080      \n",
      "                                                                 \n",
      " batch_normalization_52 (Bat  (None, 32)               128       \n",
      " chNormalization)                                                \n",
      "                                                                 \n",
      " activation_52 (Activation)  (None, 32)                0         \n",
      "                                                                 \n",
      " dropout_21 (Dropout)        (None, 32)                0         \n",
      "                                                                 \n",
      " dense_34 (Dense)            (None, 1)                 33        \n",
      "                                                                 \n",
      "=================================================================\n",
      "Total params: 3,137\n",
      "Trainable params: 2,945\n",
      "Non-trainable params: 192\n",
      "_________________________________________________________________\n"
     ]
    }
   ],
   "source": [
    "from tensorflow.keras import layers, Model\n",
    "\n",
    "channels = 1\n",
    "\n",
    "inputs = layers.Input(shape=(height, width, channels))\n",
    "\n",
    "# Body\n",
    "x = layers.Conv2D(32, (3, 3), padding='same')(inputs)\n",
    "x = layers.MaxPooling2D((2, 2), strides=2)(x)\n",
    "x = layers.BatchNormalization()(x)\n",
    "x = layers.Activation('relu')(x)\n",
    "\n",
    "x = layers.Conv2D(64, (3, 3), padding='same')(inputs)\n",
    "x = layers.MaxPooling2D((2, 2), strides=2)(x)\n",
    "x = layers.BatchNormalization()(x)\n",
    "x = layers.Activation('relu')(x)\n",
    "\n",
    "# x = layers.Conv2D(128, (3, 3), padding='same')(inputs)\n",
    "# x = layers.MaxPooling2D((2, 2), strides=2)(x)\n",
    "# x = layers.BatchNormalization()(x)\n",
    "# x = layers.Activation('relu')(x)\n",
    "\n",
    "# Neck\n",
    "x = layers.GlobalMaxPooling2D()(x)\n",
    "\n",
    "# Header\n",
    "# x = layers.Dense(64)(x)\n",
    "# x = layers.BatchNormalization()(x)\n",
    "# x = layers.Activation('relu')(x)\n",
    "# x = layers.Dropout(0.2)(x)\n",
    "\n",
    "x = layers.Dense(32)(x)\n",
    "x = layers.BatchNormalization()(x)\n",
    "x = layers.Activation('relu')(x)\n",
    "x = layers.Dropout(0.2)(x)\n",
    "\n",
    "outputs = layers.Dense(1, activation='sigmoid')(x)\n",
    "\n",
    "model = Model(inputs=inputs, outputs=outputs)\n",
    "model.compile(optimizer='adam', loss='binary_crossentropy', metrics=['acc'])\n",
    "model.summary()"
   ]
  },
  {
   "cell_type": "code",
   "execution_count": 157,
   "metadata": {},
   "outputs": [
    {
     "name": "stdout",
     "output_type": "stream",
     "text": [
      "Epoch 1/300\n",
      "13/13 [==============================] - 1s 70ms/step - loss: 0.9161 - acc: 0.3676 - val_loss: 0.6883 - val_acc: 0.7115\n",
      "Epoch 2/300\n",
      "13/13 [==============================] - 1s 62ms/step - loss: 0.8307 - acc: 0.3873 - val_loss: 0.6396 - val_acc: 0.8077\n",
      "Epoch 3/300\n",
      "13/13 [==============================] - 1s 61ms/step - loss: 0.7182 - acc: 0.5098 - val_loss: 0.5883 - val_acc: 0.8077\n",
      "Epoch 4/300\n",
      "13/13 [==============================] - 1s 61ms/step - loss: 0.6618 - acc: 0.6127 - val_loss: 0.5440 - val_acc: 0.8077\n",
      "Epoch 5/300\n",
      "13/13 [==============================] - 1s 62ms/step - loss: 0.5817 - acc: 0.6912 - val_loss: 0.5110 - val_acc: 0.8077\n",
      "Epoch 6/300\n",
      "13/13 [==============================] - 1s 62ms/step - loss: 0.5359 - acc: 0.7598 - val_loss: 0.4939 - val_acc: 0.8077\n",
      "Epoch 7/300\n",
      "13/13 [==============================] - 1s 61ms/step - loss: 0.5166 - acc: 0.8235 - val_loss: 0.4896 - val_acc: 0.8077\n",
      "Epoch 8/300\n",
      "13/13 [==============================] - 1s 62ms/step - loss: 0.5049 - acc: 0.7794 - val_loss: 0.4991 - val_acc: 0.8077\n",
      "Epoch 9/300\n",
      "13/13 [==============================] - 1s 61ms/step - loss: 0.4560 - acc: 0.8333 - val_loss: 0.5207 - val_acc: 0.8077\n",
      "Epoch 10/300\n",
      "13/13 [==============================] - 1s 61ms/step - loss: 0.4255 - acc: 0.8333 - val_loss: 0.5518 - val_acc: 0.8077\n",
      "Epoch 11/300\n",
      "13/13 [==============================] - 1s 62ms/step - loss: 0.4130 - acc: 0.8725 - val_loss: 0.5969 - val_acc: 0.8077\n",
      "Epoch 12/300\n",
      "13/13 [==============================] - 1s 61ms/step - loss: 0.4173 - acc: 0.8578 - val_loss: 0.6554 - val_acc: 0.8077\n",
      "Epoch 13/300\n",
      "13/13 [==============================] - 1s 62ms/step - loss: 0.3970 - acc: 0.8431 - val_loss: 0.6952 - val_acc: 0.8077\n",
      "Epoch 14/300\n",
      "13/13 [==============================] - 1s 62ms/step - loss: 0.4061 - acc: 0.8480 - val_loss: 0.7602 - val_acc: 0.8077\n",
      "Epoch 15/300\n",
      "13/13 [==============================] - 1s 62ms/step - loss: 0.4249 - acc: 0.8333 - val_loss: 0.8351 - val_acc: 0.8077\n",
      "Epoch 16/300\n",
      "13/13 [==============================] - 1s 62ms/step - loss: 0.3781 - acc: 0.8529 - val_loss: 0.8708 - val_acc: 0.8077\n",
      "Epoch 17/300\n",
      "13/13 [==============================] - 1s 62ms/step - loss: 0.3472 - acc: 0.8676 - val_loss: 0.9057 - val_acc: 0.8077\n"
     ]
    }
   ],
   "source": [
    "from tensorflow.keras.callbacks import EarlyStopping\n",
    "\n",
    "es_callback = EarlyStopping(monitor='val_loss', patience=10, restore_best_weights=True)\n",
    "history = model.fit(x_train, y_train, validation_split=0.2, batch_size=16, epochs=300, callbacks=[es_callback])"
   ]
  },
  {
   "cell_type": "code",
   "execution_count": 158,
   "metadata": {},
   "outputs": [
    {
     "name": "stdout",
     "output_type": "stream",
     "text": [
      "WARNING:tensorflow:5 out of the last 13 calls to <function Model.make_predict_function.<locals>.predict_function at 0x000002DA89ABB160> triggered tf.function retracing. Tracing is expensive and the excessive number of tracings could be due to (1) creating @tf.function repeatedly in a loop, (2) passing tensors with different shapes, (3) passing Python objects instead of tensors. For (1), please define your @tf.function outside of the loop. For (2), @tf.function has reduce_retracing=True option that can avoid unnecessary retracing. For (3), please refer to https://www.tensorflow.org/guide/function#controlling_retracing and https://www.tensorflow.org/api_docs/python/tf/function for  more details.\n",
      "3/3 [==============================] - 0s 30ms/step\n"
     ]
    },
    {
     "data": {
      "text/plain": [
       "array([[0.18335895],\n",
       "       [0.18037803],\n",
       "       [0.18386567],\n",
       "       [0.18812491],\n",
       "       [0.18303981],\n",
       "       [0.18202332],\n",
       "       [0.18346478],\n",
       "       [0.18661934],\n",
       "       [0.18047577],\n",
       "       [0.1868348 ],\n",
       "       [0.1820625 ],\n",
       "       [0.183067  ],\n",
       "       [0.17745121],\n",
       "       [0.18496706],\n",
       "       [0.18294966],\n",
       "       [0.17962737],\n",
       "       [0.1864846 ],\n",
       "       [0.18983097],\n",
       "       [0.18356968],\n",
       "       [0.1853312 ],\n",
       "       [0.18943691],\n",
       "       [0.18679982],\n",
       "       [0.18387063],\n",
       "       [0.18906291],\n",
       "       [0.18242802],\n",
       "       [0.18719256],\n",
       "       [0.18647654],\n",
       "       [0.18132591],\n",
       "       [0.18507245],\n",
       "       [0.18972744],\n",
       "       [0.18761636],\n",
       "       [0.18426381],\n",
       "       [0.18320878],\n",
       "       [0.18425219],\n",
       "       [0.1830598 ],\n",
       "       [0.18363132],\n",
       "       [0.18494402],\n",
       "       [0.18849716],\n",
       "       [0.1870157 ],\n",
       "       [0.1804222 ],\n",
       "       [0.18293564],\n",
       "       [0.18942687],\n",
       "       [0.18518223],\n",
       "       [0.18010147],\n",
       "       [0.1859918 ],\n",
       "       [0.18062966],\n",
       "       [0.18239255],\n",
       "       [0.18389265],\n",
       "       [0.18523113],\n",
       "       [0.1811532 ],\n",
       "       [0.18963397],\n",
       "       [0.18489137],\n",
       "       [0.18163128],\n",
       "       [0.18385373],\n",
       "       [0.1788337 ],\n",
       "       [0.18754922],\n",
       "       [0.1848024 ],\n",
       "       [0.18512402],\n",
       "       [0.18096642],\n",
       "       [0.18908477],\n",
       "       [0.18309736],\n",
       "       [0.18286985],\n",
       "       [0.18543108],\n",
       "       [0.17758833],\n",
       "       [0.18410143]], dtype=float32)"
      ]
     },
     "execution_count": 158,
     "metadata": {},
     "output_type": "execute_result"
    }
   ],
   "source": [
    "p_test = model.predict(x_test)\n",
    "p_test"
   ]
  },
  {
   "cell_type": "code",
   "execution_count": 159,
   "metadata": {},
   "outputs": [
    {
     "name": "stdout",
     "output_type": "stream",
     "text": [
      "정확도 : 0.8923076923076924\n",
      "f1 : 0.0\n"
     ]
    },
    {
     "data": {
      "text/plain": [
       "<Figure size 640x480 with 0 Axes>"
      ]
     },
     "metadata": {},
     "output_type": "display_data"
    },
    {
     "data": {
      "image/png": "[encoded data removed]",
      "text/plain": [
       "<Figure size 640x480 with 2 Axes>"
      ]
     },
     "metadata": {},
     "output_type": "display_data"
    }
   ],
   "source": [
    "from sklearn.metrics import accuracy_score, f1_score, confusion_matrix, ConfusionMatrixDisplay, roc_auc_score, roc_curve\n",
    "\n",
    "p_test_bin = p_test>=0.5\n",
    "\n",
    "print('정확도 :', accuracy_score(y_test, p_test_bin))\n",
    "print('f1 :', f1_score(y_test, p_test_bin))\n",
    "\n",
    "plt.figure()\n",
    "ConfusionMatrixDisplay(confusion_matrix=confusion_matrix(y_test, p_test_bin), display_labels=['Good', 'Bad']).plot(cmap='Blues')\n",
    "plt.show()\n"
   ]
  },
  {
   "cell_type": "code",
   "execution_count": null,
   "metadata": {},
   "outputs": [],
   "source": []
  }
 ],
 "metadata": {
  "kernelspec": {
   "display_name": "tensor",
   "language": "python",
   "name": "python3"
  },
  "language_info": {
   "codemirror_mode": {
    "name": "ipython",
    "version": 3
   },
   "file_extension": ".py",
   "mimetype": "text/x-python",
   "name": "python",
   "nbconvert_exporter": "python",
   "pygments_lexer": "ipython3",
   "version": "3.8.10"
  },
  "orig_nbformat": 4
 },
 "nbformat": 4,
 "nbformat_minor": 2
}
