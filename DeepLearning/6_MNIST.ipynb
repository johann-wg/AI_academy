{
 "cells": [
  {
   "cell_type": "code",
   "execution_count": 1,
   "metadata": {},
   "outputs": [
    {
     "name": "stdout",
     "output_type": "stream",
     "text": [
      "(60000, 28, 28) (60000,)\n",
      "(10000, 28, 28) (10000,)\n"
     ]
    }
   ],
   "source": [
    "import numpy as np\n",
    "import tensorflow as tf\n",
    "from tensorflow import keras\n",
    "import matplotlib.pyplot as plt\n",
    "\n",
    "from tensorflow.keras.datasets import mnist\n",
    "\n",
    "(x_train, y_train), (x_test, y_test) = mnist.load_data()\n",
    "\n",
    "print(x_train.shape, y_train.shape)\n",
    "print(x_test.shape, y_test.shape)"
   ]
  },
  {
   "attachments": {},
   "cell_type": "markdown",
   "metadata": {},
   "source": [
    "# (B, H, W) 이미지에 대한 차원 표기법\n",
    "* (배치 사이즈, 높이(세로), 폭(가로))"
   ]
  },
  {
   "cell_type": "code",
   "execution_count": 2,
   "metadata": {},
   "outputs": [
    {
     "data": {
      "image/png": "[encoded data removed]",
      "text/plain": [
       "<Figure size 640x480 with 1 Axes>"
      ]
     },
     "metadata": {},
     "output_type": "display_data"
    }
   ],
   "source": [
    "plt.imshow(x_train[0], cmap='Greys')\n",
    "plt.show()"
   ]
  },
  {
   "cell_type": "code",
   "execution_count": 3,
   "metadata": {},
   "outputs": [
    {
     "data": {
      "text/plain": [
       "array([5, 0, 4, ..., 5, 6, 8], dtype=uint8)"
      ]
     },
     "execution_count": 3,
     "metadata": {},
     "output_type": "execute_result"
    }
   ],
   "source": [
    "y_train"
   ]
  },
  {
   "attachments": {},
   "cell_type": "markdown",
   "metadata": {},
   "source": [
    "* 이미지 스케일링(정규화)은 결국 0 ~ 255이기 때문에 255로 나누어 주면 된다.\n",
    "* 은닉층의 노드 수는 2의 제곱수를 사용\n",
    "* sparse_categorical_crossentropy는 원핫인코딩도 자동으로 해줌\n",
    "* 이진분류일 때는 binary_crossentropy해야 함"
   ]
  },
  {
   "cell_type": "code",
   "execution_count": 4,
   "metadata": {},
   "outputs": [
    {
     "name": "stdout",
     "output_type": "stream",
     "text": [
      "Model: \"model\"\n",
      "_________________________________________________________________\n",
      " Layer (type)                Output Shape              Param #   \n",
      "=================================================================\n",
      " input_1 (InputLayer)        [(None, 28, 28)]          0         \n",
      "                                                                 \n",
      " flatten (Flatten)           (None, 784)               0         \n",
      "                                                                 \n",
      " dense (Dense)               (None, 256)               200960    \n",
      "                                                                 \n",
      " dense_1 (Dense)             (None, 10)                2570      \n",
      "                                                                 \n",
      "=================================================================\n",
      "Total params: 203,530\n",
      "Trainable params: 203,530\n",
      "Non-trainable params: 0\n",
      "_________________________________________________________________\n"
     ]
    }
   ],
   "source": [
    "from tensorflow.keras.layers import Input, Flatten, Dense\n",
    "\n",
    "x_train, x_test = x_train / 255, x_test / 255\n",
    "\n",
    "inputs = Input(shape=(28, 28))\n",
    "x = Flatten()(inputs)\n",
    "x = Dense(256, activation='relu')(x)\n",
    "outputs = Dense(10, activation='softmax')(x)\n",
    "\n",
    "model = keras.Model(inputs=inputs, outputs=outputs)\n",
    "model.compile(optimizer='adam', loss='sparse_categorical_crossentropy', metrics=['accuracy'])\n",
    "model.summary()"
   ]
  },
  {
   "cell_type": "code",
   "execution_count": 5,
   "metadata": {},
   "outputs": [
    {
     "name": "stdout",
     "output_type": "stream",
     "text": [
      "Epoch 1/10\n",
      "1875/1875 [==============================] - 2s 881us/step - loss: 0.2262 - accuracy: 0.9337\n",
      "Epoch 2/10\n",
      "1875/1875 [==============================] - 2s 867us/step - loss: 0.0917 - accuracy: 0.9721\n",
      "Epoch 3/10\n",
      "1875/1875 [==============================] - 2s 886us/step - loss: 0.0618 - accuracy: 0.9813\n",
      "Epoch 4/10\n",
      "1875/1875 [==============================] - 2s 908us/step - loss: 0.0439 - accuracy: 0.9864\n",
      "Epoch 5/10\n",
      "1875/1875 [==============================] - 2s 882us/step - loss: 0.0324 - accuracy: 0.9899\n",
      "Epoch 6/10\n",
      "1875/1875 [==============================] - 2s 879us/step - loss: 0.0248 - accuracy: 0.9924\n",
      "Epoch 7/10\n",
      "1875/1875 [==============================] - 2s 902us/step - loss: 0.0203 - accuracy: 0.9937\n",
      "Epoch 8/10\n",
      "1875/1875 [==============================] - 2s 886us/step - loss: 0.0163 - accuracy: 0.9949\n",
      "Epoch 9/10\n",
      "1875/1875 [==============================] - 2s 902us/step - loss: 0.0141 - accuracy: 0.9956\n",
      "Epoch 10/10\n",
      "1875/1875 [==============================] - 2s 884us/step - loss: 0.0110 - accuracy: 0.9963\n"
     ]
    },
    {
     "data": {
      "text/plain": [
       "<keras.callbacks.History at 0x2951afa09d0>"
      ]
     },
     "execution_count": 5,
     "metadata": {},
     "output_type": "execute_result"
    }
   ],
   "source": [
    "model.fit(x_train, y_train, epochs=10)"
   ]
  },
  {
   "cell_type": "code",
   "execution_count": 7,
   "metadata": {},
   "outputs": [
    {
     "name": "stdout",
     "output_type": "stream",
     "text": [
      "313/313 [==============================] - 1s 1ms/step - loss: 0.0926 - accuracy: 0.9775\n",
      "loss:  0.09256531298160553 acc:  0.9775000214576721\n"
     ]
    }
   ],
   "source": [
    "eval_loss, eval_acc = model.evaluate(x_test, y_test)\n",
    "print('loss: ', eval_loss, 'acc: ', eval_acc)"
   ]
  },
  {
   "attachments": {},
   "cell_type": "markdown",
   "metadata": {},
   "source": [
    "* 배치 경사 하강법\n",
    "* 확률적 경사 하강법 - 부분 극소점(local minimum)에 빠질 위험\n",
    "* 미니 배치 경사 하강법 - 디폴트가 32(낮음), 보통 128~256 / 배치가 작을 경우, 확률적 경사 하강법과 비슷해짐"
   ]
  },
  {
   "cell_type": "code",
   "execution_count": null,
   "metadata": {},
   "outputs": [],
   "source": []
  },
  {
   "cell_type": "code",
   "execution_count": 8,
   "metadata": {},
   "outputs": [
    {
     "name": "stdout",
     "output_type": "stream",
     "text": [
      "Model: \"model_1\"\n",
      "_________________________________________________________________\n",
      " Layer (type)                Output Shape              Param #   \n",
      "=================================================================\n",
      " input_2 (InputLayer)        [(None, 28, 28)]          0         \n",
      "                                                                 \n",
      " flatten_1 (Flatten)         (None, 784)               0         \n",
      "                                                                 \n",
      " dense_2 (Dense)             (None, 64)                50240     \n",
      "                                                                 \n",
      " dense_3 (Dense)             (None, 64)                4160      \n",
      "                                                                 \n",
      " dense_4 (Dense)             (None, 64)                4160      \n",
      "                                                                 \n",
      " dense_5 (Dense)             (None, 10)                650       \n",
      "                                                                 \n",
      "=================================================================\n",
      "Total params: 59,210\n",
      "Trainable params: 59,210\n",
      "Non-trainable params: 0\n",
      "_________________________________________________________________\n"
     ]
    }
   ],
   "source": [
    "from tensorflow.keras.layers import Input, Flatten, Dense\n",
    "\n",
    "# x_train, x_test = x_train / 255, x_test / 255\n",
    "\n",
    "inputs = Input(shape=(28, 28))\n",
    "x = Flatten()(inputs)\n",
    "x = Dense(64, activation='relu')(x)\n",
    "x = Dense(64, activation='relu')(x)\n",
    "x = Dense(64, activation='relu')(x)\n",
    "outputs = Dense(10, activation='softmax')(x)\n",
    "\n",
    "model = keras.Model(inputs=inputs, outputs=outputs)\n",
    "model.compile(optimizer='adam', loss='sparse_categorical_crossentropy', metrics=['accuracy'])\n",
    "model.summary()"
   ]
  },
  {
   "attachments": {},
   "cell_type": "markdown",
   "metadata": {},
   "source": [
    "# 아주 간단\n",
    "* validation_split=  알아서 검증셋 만들어줌, 매 epoch마다 k겹교차검증처럼 해줌"
   ]
  },
  {
   "cell_type": "code",
   "execution_count": 10,
   "metadata": {},
   "outputs": [
    {
     "name": "stdout",
     "output_type": "stream",
     "text": [
      "Epoch 1/10\n",
      "375/375 [==============================] - 1s 2ms/step - loss: 0.0129 - accuracy: 0.9961 - val_loss: 0.1024 - val_accuracy: 0.9762\n",
      "Epoch 2/10\n",
      "375/375 [==============================] - 1s 1ms/step - loss: 0.0063 - accuracy: 0.9985 - val_loss: 0.1063 - val_accuracy: 0.9767\n",
      "Epoch 3/10\n",
      "375/375 [==============================] - 1s 1ms/step - loss: 0.0045 - accuracy: 0.9992 - val_loss: 0.1103 - val_accuracy: 0.9753\n",
      "Epoch 4/10\n",
      "375/375 [==============================] - 1s 1ms/step - loss: 0.0033 - accuracy: 0.9995 - val_loss: 0.1132 - val_accuracy: 0.9753\n",
      "Epoch 5/10\n",
      "375/375 [==============================] - 1s 1ms/step - loss: 0.0023 - accuracy: 0.9998 - val_loss: 0.1202 - val_accuracy: 0.9751\n",
      "Epoch 6/10\n",
      "375/375 [==============================] - 1s 1ms/step - loss: 0.0023 - accuracy: 0.9997 - val_loss: 0.1258 - val_accuracy: 0.9753\n",
      "Epoch 7/10\n",
      "375/375 [==============================] - 1s 1ms/step - loss: 0.0022 - accuracy: 0.9997 - val_loss: 0.1328 - val_accuracy: 0.9744\n",
      "Epoch 8/10\n",
      "375/375 [==============================] - 1s 1ms/step - loss: 0.0051 - accuracy: 0.9985 - val_loss: 0.1435 - val_accuracy: 0.9727\n",
      "Epoch 9/10\n",
      "375/375 [==============================] - 1s 1ms/step - loss: 0.0141 - accuracy: 0.9950 - val_loss: 0.1383 - val_accuracy: 0.9732\n",
      "Epoch 10/10\n",
      "375/375 [==============================] - 1s 1ms/step - loss: 0.0069 - accuracy: 0.9977 - val_loss: 0.1483 - val_accuracy: 0.9723\n"
     ]
    },
    {
     "data": {
      "text/plain": [
       "<keras.callbacks.History at 0x29665a807f0>"
      ]
     },
     "execution_count": 10,
     "metadata": {},
     "output_type": "execute_result"
    }
   ],
   "source": [
    "model.fit(x_train, y_train, epochs=10, batch_size=128, validation_split=0.2)"
   ]
  },
  {
   "attachments": {},
   "cell_type": "markdown",
   "metadata": {},
   "source": [
    "- loss: 0.0069 - accuracy: 0.9977 - val_loss: 0.1483 - val_accuracy: 0.9723   \n",
    "과적합"
   ]
  },
  {
   "attachments": {},
   "cell_type": "markdown",
   "metadata": {},
   "source": [
    "* <h2>드롭아웃</h2>  과대적합을 완화하기 위해"
   ]
  },
  {
   "cell_type": "code",
   "execution_count": 11,
   "metadata": {},
   "outputs": [
    {
     "name": "stdout",
     "output_type": "stream",
     "text": [
      "Model: \"model_2\"\n",
      "_________________________________________________________________\n",
      " Layer (type)                Output Shape              Param #   \n",
      "=================================================================\n",
      " input_3 (InputLayer)        [(None, 28, 28)]          0         \n",
      "                                                                 \n",
      " flatten_2 (Flatten)         (None, 784)               0         \n",
      "                                                                 \n",
      " dense_6 (Dense)             (None, 64)                50240     \n",
      "                                                                 \n",
      " dropout (Dropout)           (None, 64)                0         \n",
      "                                                                 \n",
      " dense_7 (Dense)             (None, 64)                4160      \n",
      "                                                                 \n",
      " dropout_1 (Dropout)         (None, 64)                0         \n",
      "                                                                 \n",
      " dense_8 (Dense)             (None, 64)                4160      \n",
      "                                                                 \n",
      " dropout_2 (Dropout)         (None, 64)                0         \n",
      "                                                                 \n",
      " dense_9 (Dense)             (None, 10)                650       \n",
      "                                                                 \n",
      "=================================================================\n",
      "Total params: 59,210\n",
      "Trainable params: 59,210\n",
      "Non-trainable params: 0\n",
      "_________________________________________________________________\n"
     ]
    }
   ],
   "source": [
    "from tensorflow.keras.layers import Input, Flatten, Dense, Dropout\n",
    "\n",
    "# x_train, x_test = x_train / 255, x_test / 255\n",
    "\n",
    "inputs = Input(shape=(28, 28))\n",
    "x = Flatten()(inputs)\n",
    "x = Dense(64, activation='relu')(x)\n",
    "x = Dropout(0.2)(x)\n",
    "x = Dense(64, activation='relu')(x)\n",
    "x = Dropout(0.2)(x)\n",
    "x = Dense(64, activation='relu')(x)\n",
    "x = Dropout(0.2)(x)\n",
    "outputs = Dense(10, activation='softmax')(x)\n",
    "\n",
    "model = keras.Model(inputs=inputs, outputs=outputs)\n",
    "model.compile(optimizer='adam', loss='sparse_categorical_crossentropy', metrics=['accuracy'])\n",
    "model.summary()"
   ]
  },
  {
   "cell_type": "code",
   "execution_count": 12,
   "metadata": {},
   "outputs": [
    {
     "name": "stdout",
     "output_type": "stream",
     "text": [
      "Epoch 1/10\n",
      "375/375 [==============================] - 1s 2ms/step - loss: 0.6865 - accuracy: 0.7813 - val_loss: 0.2184 - val_accuracy: 0.9330\n",
      "Epoch 2/10\n",
      "375/375 [==============================] - 1s 1ms/step - loss: 0.2981 - accuracy: 0.9123 - val_loss: 0.1712 - val_accuracy: 0.9488\n",
      "Epoch 3/10\n",
      "375/375 [==============================] - 1s 1ms/step - loss: 0.2396 - accuracy: 0.9301 - val_loss: 0.1389 - val_accuracy: 0.9591\n",
      "Epoch 4/10\n",
      "375/375 [==============================] - 1s 1ms/step - loss: 0.2028 - accuracy: 0.9400 - val_loss: 0.1278 - val_accuracy: 0.9633\n",
      "Epoch 5/10\n",
      "375/375 [==============================] - 0s 1ms/step - loss: 0.1808 - accuracy: 0.9475 - val_loss: 0.1218 - val_accuracy: 0.9647\n",
      "Epoch 6/10\n",
      "375/375 [==============================] - 0s 1ms/step - loss: 0.1616 - accuracy: 0.9525 - val_loss: 0.1167 - val_accuracy: 0.9673\n",
      "Epoch 7/10\n",
      "375/375 [==============================] - 1s 1ms/step - loss: 0.1522 - accuracy: 0.9547 - val_loss: 0.1110 - val_accuracy: 0.9676\n",
      "Epoch 8/10\n",
      "375/375 [==============================] - 0s 1ms/step - loss: 0.1376 - accuracy: 0.9598 - val_loss: 0.1088 - val_accuracy: 0.9684\n",
      "Epoch 9/10\n",
      "375/375 [==============================] - 0s 1ms/step - loss: 0.1348 - accuracy: 0.9595 - val_loss: 0.1025 - val_accuracy: 0.9695\n",
      "Epoch 10/10\n",
      "375/375 [==============================] - 1s 1ms/step - loss: 0.1256 - accuracy: 0.9625 - val_loss: 0.1051 - val_accuracy: 0.9716\n"
     ]
    },
    {
     "data": {
      "text/plain": [
       "<keras.callbacks.History at 0x29666137550>"
      ]
     },
     "execution_count": 12,
     "metadata": {},
     "output_type": "execute_result"
    }
   ],
   "source": [
    "model.fit(x_train, y_train, epochs=10, batch_size=128, validation_split=0.2)"
   ]
  },
  {
   "attachments": {},
   "cell_type": "markdown",
   "metadata": {},
   "source": [
    "- loss: 0.1256 - accuracy: 0.9625 - val_loss: 0.1051 - val_accuracy: 0.9716   \n",
    "loss와 val_loss가 <u>비슷함</u> **good**"
   ]
  },
  {
   "attachments": {},
   "cell_type": "markdown",
   "metadata": {},
   "source": [
    "- 자동으로 val_loss를 보고 과대적합을 막기 위해 epoch을 끊는 방법\n",
    "- monitor - 무엇을 보고 할 것인지 / patience 최고 기록에서 넘어가는 epoch을 몇 개까지로 정할 것인가\n",
    "- restore_best_weights=True 꼭 "
   ]
  },
  {
   "cell_type": "code",
   "execution_count": 18,
   "metadata": {},
   "outputs": [
    {
     "name": "stdout",
     "output_type": "stream",
     "text": [
      "Epoch 1/20\n",
      "375/375 - 1s - loss: 0.0658 - accuracy: 0.9792 - val_loss: 0.0954 - val_accuracy: 0.9750 - 609ms/epoch - 2ms/step\n",
      "Epoch 2/20\n",
      "375/375 - 0s - loss: 0.0640 - accuracy: 0.9805 - val_loss: 0.0952 - val_accuracy: 0.9752 - 456ms/epoch - 1ms/step\n",
      "Epoch 3/20\n",
      "375/375 - 0s - loss: 0.0634 - accuracy: 0.9804 - val_loss: 0.0978 - val_accuracy: 0.9738 - 451ms/epoch - 1ms/step\n",
      "Epoch 4/20\n",
      "375/375 - 0s - loss: 0.0623 - accuracy: 0.9809 - val_loss: 0.0956 - val_accuracy: 0.9761 - 445ms/epoch - 1ms/step\n",
      "Epoch 5/20\n",
      "375/375 - 0s - loss: 0.0598 - accuracy: 0.9815 - val_loss: 0.0956 - val_accuracy: 0.9747 - 450ms/epoch - 1ms/step\n",
      "Epoch 6/20\n",
      "375/375 - 0s - loss: 0.0580 - accuracy: 0.9814 - val_loss: 0.0909 - val_accuracy: 0.9769 - 454ms/epoch - 1ms/step\n",
      "Epoch 7/20\n",
      "375/375 - 0s - loss: 0.0585 - accuracy: 0.9819 - val_loss: 0.0969 - val_accuracy: 0.9757 - 462ms/epoch - 1ms/step\n",
      "Epoch 8/20\n",
      "375/375 - 0s - loss: 0.0592 - accuracy: 0.9814 - val_loss: 0.0959 - val_accuracy: 0.9756 - 458ms/epoch - 1ms/step\n",
      "Epoch 9/20\n",
      "375/375 - 0s - loss: 0.0600 - accuracy: 0.9814 - val_loss: 0.0966 - val_accuracy: 0.9760 - 445ms/epoch - 1ms/step\n",
      "Epoch 10/20\n",
      "375/375 - 0s - loss: 0.0573 - accuracy: 0.9822 - val_loss: 0.1007 - val_accuracy: 0.9749 - 447ms/epoch - 1ms/step\n",
      "Epoch 11/20\n",
      "375/375 - 0s - loss: 0.0576 - accuracy: 0.9821 - val_loss: 0.0981 - val_accuracy: 0.9767 - 450ms/epoch - 1ms/step\n"
     ]
    },
    {
     "data": {
      "text/plain": [
       "<keras.callbacks.History at 0x29653fa85e0>"
      ]
     },
     "execution_count": 18,
     "metadata": {},
     "output_type": "execute_result"
    }
   ],
   "source": [
    "from tensorflow.keras.callbacks import EarlyStopping\n",
    "\n",
    "stopper = EarlyStopping(monitor='val_loss', patience=5, mode='min', restore_best_weights=True)\n",
    "model.fit(x_train, y_train, epochs=20, batch_size=128, validation_split=0.2, callbacks=[stopper], verbose=2)"
   ]
  }
 ],
 "metadata": {
  "kernelspec": {
   "display_name": "tensor",
   "language": "python",
   "name": "python3"
  },
  "language_info": {
   "codemirror_mode": {
    "name": "ipython",
    "version": 3
   },
   "file_extension": ".py",
   "mimetype": "text/x-python",
   "name": "python",
   "nbconvert_exporter": "python",
   "pygments_lexer": "ipython3",
   "version": "3.8.10"
  },
  "orig_nbformat": 4
 },
 "nbformat": 4,
 "nbformat_minor": 2
}
