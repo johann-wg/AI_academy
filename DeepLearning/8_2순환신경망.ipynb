{
 "cells": [
  {
   "cell_type": "markdown",
   "metadata": {},
   "source": [
    "# 10. 순환 신경망"
   ]
  },
  {
   "cell_type": "markdown",
   "metadata": {},
   "source": [
    "* 피드포워드 신경망 feedforward\n",
    "* 순환 신경망\n",
    "* 순환 신경망의 상위버전이 트랜스포머. 요즘엔 순환신경망 안 씀\n",
    "* 시계열, 문장, 영상 -> 시퀀스\n",
    "  \n",
    "* 순환 에지는 **이전 순간(t-1)에 발생한 정보를 다음 순간 (t)에 전달할 수 있기** 때문에\n",
    "* 순환 신경망의 뉴런은 일정한 지속시간을 갖고 길이가 가변적, 문맥 의존적인 입력을 처리 가능\n",
    "* 이렇게 단순한 순환 신경망을 **바닐라 순환 신경망**\n",
    "* vanilla 튜닝 하지 않은 처음 그대로\n",
    "* 활성화 함수는 거의 tanh를 사용"
   ]
  },
  {
   "cell_type": "code",
   "execution_count": null,
   "metadata": {},
   "outputs": [],
   "source": []
  }
 ],
 "metadata": {
  "language_info": {
   "name": "python"
  },
  "orig_nbformat": 4
 },
 "nbformat": 4,
 "nbformat_minor": 2
}
