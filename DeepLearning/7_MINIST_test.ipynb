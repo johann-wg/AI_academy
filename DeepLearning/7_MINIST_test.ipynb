{
 "cells": [
  {
   "cell_type": "code",
   "execution_count": 2,
   "metadata": {},
   "outputs": [
    {
     "name": "stdout",
     "output_type": "stream",
     "text": [
      "(60000, 28, 28) (60000,)\n",
      "(10000, 28, 28) (10000,)\n"
     ]
    }
   ],
   "source": [
    "import numpy as np\n",
    "import tensorflow as tf\n",
    "from tensorflow import keras\n",
    "import matplotlib.pyplot as plt\n",
    "\n",
    "from tensorflow.keras.datasets import mnist\n",
    "\n",
    "(x_train, y_train), (x_test, y_test) = mnist.load_data()\n",
    "\n",
    "print(x_train.shape, y_train.shape)\n",
    "print(x_test.shape, y_test.shape)"
   ]
  },
  {
   "cell_type": "code",
   "execution_count": 3,
   "metadata": {},
   "outputs": [
    {
     "name": "stdout",
     "output_type": "stream",
     "text": [
      "(60000, 28, 28, 1)\n",
      "(10000, 28, 28, 1)\n"
     ]
    }
   ],
   "source": [
    "x_train_sc, x_test_sc = x_train / 255, x_test / 255\n",
    "x_train_sc = np.expand_dims(x_train_sc, axis=-1) # 흑백채널 하나\n",
    "x_test_sc = np.expand_dims(x_test_sc, axis=-1)\n",
    "print(x_train_sc.shape)\n",
    "print(x_test_sc.shape)"
   ]
  },
  {
   "cell_type": "code",
   "execution_count": 4,
   "metadata": {},
   "outputs": [
    {
     "name": "stdout",
     "output_type": "stream",
     "text": [
      "Model: \"model_4\"\n",
      "_________________________________________________________________\n",
      " Layer (type)                Output Shape              Param #   \n",
      "=================================================================\n",
      " input_5 (InputLayer)        [(None, 28, 28, 1)]       0         \n",
      "                                                                 \n",
      " conv2d_12 (Conv2D)          (None, 28, 28, 32)        320       \n",
      "                                                                 \n",
      " max_pooling2d_8 (MaxPooling  (None, 14, 14, 32)       0         \n",
      " 2D)                                                             \n",
      "                                                                 \n",
      " conv2d_13 (Conv2D)          (None, 14, 14, 32)        9248      \n",
      "                                                                 \n",
      " max_pooling2d_9 (MaxPooling  (None, 7, 7, 32)         0         \n",
      " 2D)                                                             \n",
      "                                                                 \n",
      " conv2d_14 (Conv2D)          (None, 7, 7, 32)          9248      \n",
      "                                                                 \n",
      " flatten_2 (Flatten)         (None, 1568)              0         \n",
      "                                                                 \n",
      " dense_12 (Dense)            (None, 64)                100416    \n",
      "                                                                 \n",
      " dense_13 (Dense)            (None, 64)                4160      \n",
      "                                                                 \n",
      " dense_14 (Dense)            (None, 10)                650       \n",
      "                                                                 \n",
      "=================================================================\n",
      "Total params: 124,042\n",
      "Trainable params: 124,042\n",
      "Non-trainable params: 0\n",
      "_________________________________________________________________\n"
     ]
    }
   ],
   "source": [
    "model = keras.models.load_model('models/mnist_cnn.h5')\n",
    "model.summary()"
   ]
  },
  {
   "cell_type": "code",
   "execution_count": 5,
   "metadata": {},
   "outputs": [
    {
     "name": "stdout",
     "output_type": "stream",
     "text": [
      "313/313 [==============================] - 2s 1ms/step - loss: 0.0439 - accuracy: 0.9863\n",
      "loss:  0.043949194252491 acc:  0.986299991607666\n"
     ]
    }
   ],
   "source": [
    "eval_loss, eval_acc = model.evaluate(x_test_sc, y_test)\n",
    "print('loss: ', eval_loss, 'acc: ', eval_acc)"
   ]
  },
  {
   "cell_type": "code",
   "execution_count": null,
   "metadata": {},
   "outputs": [],
   "source": [
    "import sys\n",
    "from PyQt5.QtWidgets import *\n",
    "from PyQt5.QtGui import *\n",
    "from PyQt5.QtCore import *\n",
    "import numpy as np\n",
    "import tensorflow as tf\n",
    "\n",
    "\n",
    "class MyApp(QMainWindow):\n",
    "\n",
    "    def __init__(self):\n",
    "        super().__init__()\n",
    "        self.image = QImage(QSize(400, 400), QImage.Format_RGB32)\n",
    "        self.image.fill(Qt.white)\n",
    "        self.drawing = False\n",
    "        self.brush_size = 10\n",
    "        self.brush_color = Qt.black\n",
    "        self.last_point = QPoint()\n",
    "        self.loaded_model = None\n",
    "        self.initUI()\n",
    "\n",
    "    def initUI(self):\n",
    "        menubar = self.menuBar()\n",
    "        menubar.setNativeMenuBar(False)\n",
    "        filemenu = menubar.addMenu('File')\n",
    "\n",
    "        load_model_action = QAction('Load model', self)\n",
    "        load_model_action.setShortcut('Ctrl+L')\n",
    "        load_model_action.triggered.connect(self.load_model)\n",
    "\n",
    "        save_action = QAction('Save', self)\n",
    "        save_action.setShortcut('Ctrl+S')\n",
    "        save_action.triggered.connect(self.save)\n",
    "\n",
    "        clear_action = QAction('Clear', self)\n",
    "        clear_action.setShortcut('Ctrl+C')\n",
    "        clear_action.triggered.connect(self.clear)\n",
    "\n",
    "        filemenu.addAction(load_model_action)\n",
    "        filemenu.addAction(save_action)\n",
    "        filemenu.addAction(clear_action)\n",
    "\n",
    "        self.statusbar = self.statusBar()\n",
    "\n",
    "        self.setWindowTitle('MNIST Classifier')\n",
    "        self.setGeometry(300, 300, 400, 400)\n",
    "        self.show()\n",
    "\n",
    "    def paintEvent(self, e):\n",
    "        canvas = QPainter(self)\n",
    "        canvas.drawImage(self.rect(), self.image, self.image.rect())\n",
    "\n",
    "    def mousePressEvent(self, e):\n",
    "        if e.button() == Qt.LeftButton:\n",
    "            self.drawing = True\n",
    "            self.last_point = e.pos()\n",
    "\n",
    "    def mouseMoveEvent(self, e):\n",
    "        if (e.buttons() & Qt.LeftButton) & self.drawing:\n",
    "            painter = QPainter(self.image)\n",
    "            painter.setPen(QPen(self.brush_color, self.brush_size, Qt.SolidLine, Qt.RoundCap))\n",
    "            painter.drawLine(self.last_point, e.pos())\n",
    "            self.last_point = e.pos()\n",
    "            self.update()\n",
    "\n",
    "    def mouseReleaseEvent(self, e):\n",
    "        if e.button() == Qt.LeftButton:\n",
    "            self.drawing = False\n",
    "\n",
    "            arr = np.zeros((28, 28))\n",
    "            for i in range(28):\n",
    "                for j in range(28):\n",
    "                    arr[j, i] = 1 - self.image.scaled(28, 28).pixelColor(i, j).getRgb()[0] / 255.0\n",
    "            arr = arr.reshape(-1, 28, 28, 1)\n",
    "\n",
    "            if self.loaded_model:\n",
    "                pred = self.loaded_model.predict(arr)[0]\n",
    "                pred_num = str(np.argmax(pred))\n",
    "                self.statusbar.showMessage('숫자 ' + pred_num + '입니다.')\n",
    "\n",
    "    def load_model(self):\n",
    "        fname, _ = QFileDialog.getOpenFileName(self, 'Load Model', '')\n",
    "\n",
    "        if fname:\n",
    "            self.loaded_model = tf.keras.models.load_model(fname)\n",
    "            self.statusbar.showMessage('Model loaded.')\n",
    "\n",
    "    def save(self):\n",
    "        fpath, _ = QFileDialog.getSaveFileName(self, 'Save Image', '', \"PNG(*.png);;JPEG(*.jpg *.jpeg);;All Files(*.*) \")\n",
    "\n",
    "        if fpath:\n",
    "            self.image.scaled(28, 28).save(fpath)\n",
    "\n",
    "    def clear(self):\n",
    "        self.image.fill(Qt.white)\n",
    "        self.update()\n",
    "        self.statusbar.clearMessage()\n",
    "\n",
    "\n",
    "if __name__ == '__main__':\n",
    "    app = QApplication(sys.argv)\n",
    "    ex = MyApp()\n",
    "    sys.exit(app.exec_())"
   ]
  },
  {
   "cell_type": "code",
   "execution_count": null,
   "metadata": {},
   "outputs": [],
   "source": []
  }
 ],
 "metadata": {
  "kernelspec": {
   "display_name": "tensor",
   "language": "python",
   "name": "python3"
  },
  "language_info": {
   "codemirror_mode": {
    "name": "ipython",
    "version": 3
   },
   "file_extension": ".py",
   "mimetype": "text/x-python",
   "name": "python",
   "nbconvert_exporter": "python",
   "pygments_lexer": "ipython3",
   "version": "3.8.10"
  },
  "orig_nbformat": 4
 },
 "nbformat": 4,
 "nbformat_minor": 2
}
