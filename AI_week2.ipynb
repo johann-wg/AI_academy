{
 "cells": [
  {
   "attachments": {},
   "cell_type": "markdown",
   "metadata": {},
   "source": [
    "# 두 개의 리스트의 공통 요소를 출력"
   ]
  },
  {
   "cell_type": "code",
   "execution_count": 1,
   "metadata": {},
   "outputs": [
    {
     "name": "stdout",
     "output_type": "stream",
     "text": [
      "{3, 4, 5}\n"
     ]
    }
   ],
   "source": [
    "list1 = [1,2,3,4,5]\n",
    "list2 = [3,4,5,6,7]\n",
    "print(set(list1) & set(list2))"
   ]
  },
  {
   "cell_type": "code",
   "execution_count": 4,
   "metadata": {},
   "outputs": [
    {
     "name": "stdout",
     "output_type": "stream",
     "text": [
      "[3, 4, 5]\n"
     ]
    }
   ],
   "source": [
    "list1 = [1,2,3,4,5]\n",
    "list2 = [3,4,5,6,7]\n",
    "count = []\n",
    "for i in list1:\n",
    "    for j in list2:\n",
    "        if i == j:\n",
    "            count.append(i)\n",
    "print(count)"
   ]
  },
  {
   "cell_type": "code",
   "execution_count": 5,
   "metadata": {},
   "outputs": [
    {
     "name": "stdout",
     "output_type": "stream",
     "text": [
      "[3, 4, 5]\n"
     ]
    }
   ],
   "source": [
    "list1 = [1,2,3,4,5]\n",
    "list2 = [3,4,5,6,7]\n",
    "count = []\n",
    "for i in list1:\n",
    "    if i in list2:\n",
    "        count.append(i)\n",
    "print(count)"
   ]
  },
  {
   "attachments": {},
   "cell_type": "markdown",
   "metadata": {},
   "source": [
    "# 'o'의 개수를 출력"
   ]
  },
  {
   "cell_type": "code",
   "execution_count": null,
   "metadata": {},
   "outputs": [
    {
     "name": "stdout",
     "output_type": "stream",
     "text": [
      "2\n"
     ]
    }
   ],
   "source": [
    "text = 'Hello, Python!'\n",
    "print(text.count('o'))"
   ]
  },
  {
   "cell_type": "code",
   "execution_count": 2,
   "metadata": {},
   "outputs": [
    {
     "name": "stdout",
     "output_type": "stream",
     "text": [
      "2\n"
     ]
    }
   ],
   "source": [
    "text = 'Hello, Python!'\n",
    "result = 0\n",
    "for i in text:\n",
    "    if 'o' in i:\n",
    "        result += 1\n",
    "print(result)"
   ]
  },
  {
   "cell_type": "code",
   "execution_count": 4,
   "metadata": {},
   "outputs": [
    {
     "name": "stdout",
     "output_type": "stream",
     "text": [
      "('daisy', 32, 'F')\n"
     ]
    }
   ],
   "source": [
    "employees = [('alice', 27,'F'), ('bob',33,'M'), ('charlie',40,'M'),('dave',29,'M'), ('daisy', 32, 'F')]\n",
    "lst = []\n",
    "for i in employees:\n",
    "    if i[1] >= 30 and i[2] == 'F':\n",
    "        lst.append(i)\n",
    "print(i)"
   ]
  },
  {
   "cell_type": "code",
   "execution_count": 21,
   "metadata": {},
   "outputs": [
    {
     "name": "stdout",
     "output_type": "stream",
     "text": [
      "alice : C\n",
      "bob : B\n",
      "charlie : A\n",
      "daisy : A\n",
      "dave : F\n"
     ]
    }
   ],
   "source": [
    "dict = {'alice':77, 'bob':81, 'charlie':95, 'daisy':90, 'dave':65}\n",
    "for j, i in dict.items():\n",
    "    if i >= 90:\n",
    "        print(j, ': A')\n",
    "    elif i >= 80:\n",
    "        print(j, ': B')\n",
    "    elif i >= 70:\n",
    "        print(j, ': C')\n",
    "    else:\n",
    "        print(j, ': F')"
   ]
  },
  {
   "cell_type": "code",
   "execution_count": 19,
   "metadata": {},
   "outputs": [
    {
     "data": {
      "text/plain": [
       "81"
      ]
     },
     "execution_count": 19,
     "metadata": {},
     "output_type": "execute_result"
    }
   ],
   "source": [
    "dict = {'alice':77, 'bob':81, 'charlie':95, 'daisy':90, 'dave':65}\n",
    "dict.get('bob')"
   ]
  },
  {
   "cell_type": "code",
   "execution_count": 2,
   "metadata": {},
   "outputs": [
    {
     "name": "stdout",
     "output_type": "stream",
     "text": [
      "10과 20의 곱은 200입니다.\n"
     ]
    }
   ],
   "source": [
    "def print_mult(a, b):\n",
    "    print(f\"{a}과 {b}의 곱은 {a*b}입니다.\")\n",
    "\n",
    "print_mult(10, 20)"
   ]
  },
  {
   "cell_type": "code",
   "execution_count": 4,
   "metadata": {},
   "outputs": [
    {
     "name": "stdout",
     "output_type": "stream",
     "text": [
      "100.0\n"
     ]
    }
   ],
   "source": [
    "def print_area(width, height):\n",
    "    return width * height / 2\n",
    "\n",
    "print(print_area(10, 20))"
   ]
  },
  {
   "cell_type": "code",
   "execution_count": 6,
   "metadata": {},
   "outputs": [
    {
     "name": "stdout",
     "output_type": "stream",
     "text": [
      "반지름 10인 원의 면적은 65.94, 원의 둘레는 346.185\n"
     ]
    }
   ],
   "source": [
    "def circle_area_circum(radius):\n",
    "    area = 3.14 * radius * 2\n",
    "    circum = 3.14 * radius ** 2\n",
    "    return area, circum\n",
    "\n",
    "result1, result2 = circle_area_circum(10.5)\n",
    "print(f\"반지름 10인 원의 면적은 {result1}, 원의 둘레는 {result2}\")"
   ]
  },
  {
   "attachments": {},
   "cell_type": "markdown",
   "metadata": {},
   "source": [
    "# 약-5 ~ 256 까지는 파이썬은 내부적으로  \n",
    "# 숫자가 같으면 변수가 달라도 같은 곳에 저장한다(id함수)"
   ]
  },
  {
   "attachments": {},
   "cell_type": "markdown",
   "metadata": {},
   "source": [
    "# 참조?"
   ]
  },
  {
   "attachments": {},
   "cell_type": "markdown",
   "metadata": {},
   "source": [
    "# 매개변수 n=1(1을 디폴트로) 과 _ 사용법  \n",
    "# 디폴트 매개변수는 뒤로"
   ]
  },
  {
   "cell_type": "code",
   "execution_count": 13,
   "metadata": {},
   "outputs": [
    {
     "name": "stdout",
     "output_type": "stream",
     "text": [
      "********************\n",
      "********************\n",
      "********************\n",
      "********************\n"
     ]
    }
   ],
   "source": [
    "def print_star(n = 1): # 매개변수 n은 디폴트 값이 1을 가짐, 어떤 숫자든 가능\n",
    "    for _ in range(n):\n",
    "        print(\"*\" * 20)\n",
    "\n",
    "print_star(4)"
   ]
  },
  {
   "attachments": {},
   "cell_type": "markdown",
   "metadata": {},
   "source": [
    "# p226 / 4-20"
   ]
  },
  {
   "cell_type": "code",
   "execution_count": 15,
   "metadata": {},
   "outputs": [
    {
     "name": "stdout",
     "output_type": "stream",
     "text": [
      "div(4) =  2.0\n",
      "div(6, 3) =  2.0\n"
     ]
    }
   ],
   "source": [
    "def div(a, b = 2):\n",
    "    return a / b\n",
    "\n",
    "print('div(4) = ', div(4))\n",
    "print('div(6, 3) = ', div(6, 3))\n"
   ]
  },
  {
   "attachments": {},
   "cell_type": "markdown",
   "metadata": {},
   "source": [
    "# 키워드 인자는 순서대로 입력하지 않아도 된다"
   ]
  },
  {
   "cell_type": "code",
   "execution_count": 17,
   "metadata": {},
   "outputs": [
    {
     "data": {
      "text/plain": [
       "5.0"
      ]
     },
     "execution_count": 17,
     "metadata": {},
     "output_type": "execute_result"
    }
   ],
   "source": [
    "def div(a, b = 2):\n",
    "    return a / b\n",
    "\n",
    "div(b=4, a=20)"
   ]
  },
  {
   "cell_type": "code",
   "execution_count": 29,
   "metadata": {},
   "outputs": [
    {
     "name": "stdout",
     "output_type": "stream",
     "text": [
      "3\n",
      "3\n"
     ]
    }
   ],
   "source": [
    "def test(a, b=1, c=1, d=1):\n",
    "    return 3\n",
    "\n",
    "print(test(1,1,c=1,d=1))\n",
    "print(test(1, d=1,c=2))\n"
   ]
  },
  {
   "attachments": {},
   "cell_type": "markdown",
   "metadata": {},
   "source": [
    "# 가변인자 (*args):  \n",
    "### 튜플형태"
   ]
  },
  {
   "cell_type": "code",
   "execution_count": 32,
   "metadata": {},
   "outputs": [
    {
     "data": {
      "text/plain": [
       "60"
      ]
     },
     "execution_count": 32,
     "metadata": {},
     "output_type": "execute_result"
    }
   ],
   "source": [
    "def sum_nums(*args):\n",
    "    result = 0\n",
    "    for i in args:\n",
    "        result += i\n",
    "    return result\n",
    "\n",
    "sum_nums(10,20,30)"
   ]
  },
  {
   "cell_type": "code",
   "execution_count": 38,
   "metadata": {},
   "outputs": [
    {
     "data": {
      "text/plain": [
       "30.0"
      ]
     },
     "execution_count": 38,
     "metadata": {},
     "output_type": "execute_result"
    }
   ],
   "source": [
    "def avg(*args):\n",
    "    result = 0\n",
    "    for i in args:\n",
    "        result += i\n",
    "    result = result / len(args)\n",
    "    return result\n",
    "\n",
    "avg(10, 20, 30, 40, 50)"
   ]
  },
  {
   "cell_type": "code",
   "execution_count": 37,
   "metadata": {},
   "outputs": [
    {
     "data": {
      "text/plain": [
       "10"
      ]
     },
     "execution_count": 37,
     "metadata": {},
     "output_type": "execute_result"
    }
   ],
   "source": [
    "def min_nums(*args):\n",
    "    result = min(args)\n",
    "    return result\n",
    "\n",
    "min(20, 40, 50, 10)"
   ]
  },
  {
   "cell_type": "code",
   "execution_count": 39,
   "metadata": {},
   "outputs": [
    {
     "ename": "SyntaxError",
     "evalue": "incomplete input (2932963840.py, line 4)",
     "output_type": "error",
     "traceback": [
      "\u001b[1;36m  Cell \u001b[1;32mIn[39], line 4\u001b[1;36m\u001b[0m\n\u001b[1;33m    \u001b[0m\n\u001b[1;37m    ^\u001b[0m\n\u001b[1;31mSyntaxError\u001b[0m\u001b[1;31m:\u001b[0m incomplete input\n"
     ]
    }
   ],
   "source": [
    "def min_nums(*args):\n",
    "    for i in args[1:]:\n",
    "        if i < args[0]:\n",
    "            "
   ]
  },
  {
   "attachments": {},
   "cell_type": "markdown",
   "metadata": {},
   "source": [
    "# p260 / 4.3"
   ]
  },
  {
   "cell_type": "code",
   "execution_count": 44,
   "metadata": {},
   "outputs": [
    {
     "name": "stdout",
     "output_type": "stream",
     "text": [
      "100과 200중 큰 수는 : 200\n",
      "100과 200중 작은 수는 : 100\n"
     ]
    }
   ],
   "source": [
    "def max_min(a, b):\n",
    "    result1 = max(a,b)\n",
    "    result2 = min(a,b)\n",
    "    return result1, result2\n",
    "\n",
    "result1, result2 = max_min(100, 200)\n",
    "print('100과 200중 큰 수는 :', result1)\n",
    "print('100과 200중 작은 수는 :', result2)\n"
   ]
  },
  {
   "cell_type": "code",
   "execution_count": 46,
   "metadata": {},
   "outputs": [
    {
     "name": "stdout",
     "output_type": "stream",
     "text": [
      "100과 200중 큰 수는 : 200\n",
      "100과 200중 작은 수는 : 100\n"
     ]
    }
   ],
   "source": [
    "def max1(a, b):\n",
    "    if a > b:\n",
    "        return a\n",
    "    else:\n",
    "        return b\n",
    "    \n",
    "def min1(a, b):\n",
    "    if a < b:\n",
    "        return a\n",
    "    else:\n",
    "        return b\n",
    "    \n",
    "print('100과 200중 큰 수는 :', max1(100, 200))\n",
    "print('100과 200중 작은 수는 :', min1(100, 200))"
   ]
  },
  {
   "cell_type": "code",
   "execution_count": 59,
   "metadata": {},
   "outputs": [
    {
     "name": "stdout",
     "output_type": "stream",
     "text": [
      "13.0\n",
      "20\n",
      "9\n"
     ]
    }
   ],
   "source": [
    "def mean(a,b,c):\n",
    "    result = (a+b+c) / 3\n",
    "    return result\n",
    "\n",
    "def max3(a,b,c):\n",
    "    if a > b:\n",
    "        if a > c:\n",
    "            return a\n",
    "        else:\n",
    "            return c\n",
    "    else:\n",
    "        if b > c:\n",
    "            return b\n",
    "        else:\n",
    "            return c\n",
    "\n",
    "def min3(a,b,c):\n",
    "    if a < b:\n",
    "        if a < c:\n",
    "            return a\n",
    "        else:\n",
    "            return c\n",
    "    else:\n",
    "        if b < c:\n",
    "            return b\n",
    "        else:\n",
    "            return c\n",
    "    \n",
    "print(mean(20,10,9))\n",
    "print(max3(20,10,9))\n",
    "print(min3(20,10,9))"
   ]
  },
  {
   "cell_type": "code",
   "execution_count": 84,
   "metadata": {},
   "outputs": [
    {
     "name": "stdout",
     "output_type": "stream",
     "text": [
      "넓이 : 314.0, 둘레 : 62.800000000000004\n",
      "넓이 : 1017.36, 둘레 : 113.04\n",
      "넓이 : 13677.84, 둘레 : 414.48\n",
      "프로그램을 종료합니다.\n"
     ]
    }
   ],
   "source": [
    "def area_and_circumference(r):\n",
    "    pi = 3.14\n",
    "    while True:\n",
    "        r = int(input(\"반지름을 입력하시오 : \"))\n",
    "        if r < 0:\n",
    "            print('프로그램을 종료합니다.')\n",
    "            break\n",
    "        area = pi * r ** 2\n",
    "        circum = 2 * pi * r\n",
    "        print(f\"넓이 : {area}, 둘레 : {circum}\")\n",
    "\n",
    "area_and_circumference(5)"
   ]
  },
  {
   "cell_type": "code",
   "execution_count": 98,
   "metadata": {},
   "outputs": [
    {
     "name": "stdout",
     "output_type": "stream",
     "text": [
      "5 X 1 = 5\n",
      "5 X 2 = 10\n",
      "5 X 3 = 15\n",
      "5 X 4 = 20\n",
      "5 X 5 = 25\n",
      "5 X 6 = 30\n",
      "5 X 7 = 35\n",
      "5 X 8 = 40\n",
      "5 X 9 = 45\n",
      "7 X 1 = 7\n",
      "7 X 2 = 14\n",
      "7 X 3 = 21\n",
      "7 X 4 = 28\n",
      "7 X 5 = 35\n",
      "7 X 6 = 42\n",
      "7 X 7 = 49\n",
      "7 X 8 = 56\n",
      "7 X 9 = 63\n",
      "구구단을 종료합니다.\n"
     ]
    }
   ],
   "source": [
    "def gugu():\n",
    "    while True:\n",
    "        n = int(input('2와 9사이의 숫자를 입력하세요.(범위를 벗어나면 종료됩니다.)'))\n",
    "        if n > 1 and n < 10: \n",
    "            for i in range(1, 10):\n",
    "                print(f\"{n} X {i} = {n * i}\")\n",
    "        else:\n",
    "            print(\"프로그램을 종료합니다.\")\n",
    "            break\n",
    "        \n",
    "gugu()    "
   ]
  },
  {
   "cell_type": "code",
   "execution_count": null,
   "metadata": {},
   "outputs": [],
   "source": []
  }
 ],
 "metadata": {
  "kernelspec": {
   "display_name": "Python 3 (ipykernel)",
   "language": "python",
   "name": "python3"
  },
  "language_info": {
   "codemirror_mode": {
    "name": "ipython",
    "version": 3
   },
   "file_extension": ".py",
   "mimetype": "text/x-python",
   "name": "python",
   "nbconvert_exporter": "python",
   "pygments_lexer": "ipython3",
   "version": "3.10.9"
  }
 },
 "nbformat": 4,
 "nbformat_minor": 2
}
