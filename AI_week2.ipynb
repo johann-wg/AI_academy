{
 "cells": [
  {
   "attachments": {},
   "cell_type": "markdown",
   "metadata": {},
   "source": [
    "# 두 개의 리스트의 공통 요소를 출력"
   ]
  },
  {
   "cell_type": "code",
   "execution_count": 1,
   "metadata": {},
   "outputs": [
    {
     "name": "stdout",
     "output_type": "stream",
     "text": [
      "{3, 4, 5}\n"
     ]
    }
   ],
   "source": [
    "list1 = [1,2,3,4,5]\n",
    "list2 = [3,4,5,6,7]\n",
    "print(set(list1) & set(list2))"
   ]
  },
  {
   "cell_type": "code",
   "execution_count": 4,
   "metadata": {},
   "outputs": [
    {
     "name": "stdout",
     "output_type": "stream",
     "text": [
      "[3, 4, 5]\n"
     ]
    }
   ],
   "source": [
    "list1 = [1,2,3,4,5]\n",
    "list2 = [3,4,5,6,7]\n",
    "count = []\n",
    "for i in list1:\n",
    "    for j in list2:\n",
    "        if i == j:\n",
    "            count.append(i)\n",
    "print(count)"
   ]
  },
  {
   "cell_type": "code",
   "execution_count": 5,
   "metadata": {},
   "outputs": [
    {
     "name": "stdout",
     "output_type": "stream",
     "text": [
      "[3, 4, 5]\n"
     ]
    }
   ],
   "source": [
    "list1 = [1,2,3,4,5]\n",
    "list2 = [3,4,5,6,7]\n",
    "count = []\n",
    "for i in list1:\n",
    "    if i in list2:\n",
    "        count.append(i)\n",
    "print(count)"
   ]
  },
  {
   "attachments": {},
   "cell_type": "markdown",
   "metadata": {},
   "source": [
    "# 'o'의 개수를 출력"
   ]
  },
  {
   "cell_type": "code",
   "execution_count": null,
   "metadata": {},
   "outputs": [
    {
     "name": "stdout",
     "output_type": "stream",
     "text": [
      "2\n"
     ]
    }
   ],
   "source": [
    "text = 'Hello, Python!'\n",
    "print(text.count('o'))"
   ]
  },
  {
   "cell_type": "code",
   "execution_count": 2,
   "metadata": {},
   "outputs": [
    {
     "name": "stdout",
     "output_type": "stream",
     "text": [
      "2\n"
     ]
    }
   ],
   "source": [
    "text = 'Hello, Python!'\n",
    "result = 0\n",
    "for i in text:\n",
    "    if 'o' in i:\n",
    "        result += 1\n",
    "print(result)"
   ]
  },
  {
   "cell_type": "code",
   "execution_count": 4,
   "metadata": {},
   "outputs": [
    {
     "name": "stdout",
     "output_type": "stream",
     "text": [
      "('daisy', 32, 'F')\n"
     ]
    }
   ],
   "source": [
    "employees = [('alice', 27,'F'), ('bob',33,'M'), ('charlie',40,'M'),('dave',29,'M'), ('daisy', 32, 'F')]\n",
    "lst = []\n",
    "for i in employees:\n",
    "    if i[1] >= 30 and i[2] == 'F':\n",
    "        lst.append(i)\n",
    "print(i)"
   ]
  },
  {
   "cell_type": "code",
   "execution_count": 21,
   "metadata": {},
   "outputs": [
    {
     "name": "stdout",
     "output_type": "stream",
     "text": [
      "alice : C\n",
      "bob : B\n",
      "charlie : A\n",
      "daisy : A\n",
      "dave : F\n"
     ]
    }
   ],
   "source": [
    "dict = {'alice':77, 'bob':81, 'charlie':95, 'daisy':90, 'dave':65}\n",
    "for j, i in dict.items():\n",
    "    if i >= 90:\n",
    "        print(j, ': A')\n",
    "    elif i >= 80:\n",
    "        print(j, ': B')\n",
    "    elif i >= 70:\n",
    "        print(j, ': C')\n",
    "    else:\n",
    "        print(j, ': F')"
   ]
  },
  {
   "cell_type": "code",
   "execution_count": 19,
   "metadata": {},
   "outputs": [
    {
     "data": {
      "text/plain": [
       "81"
      ]
     },
     "execution_count": 19,
     "metadata": {},
     "output_type": "execute_result"
    }
   ],
   "source": [
    "dict = {'alice':77, 'bob':81, 'charlie':95, 'daisy':90, 'dave':65}\n",
    "dict.get('bob')"
   ]
  },
  {
   "cell_type": "code",
   "execution_count": 2,
   "metadata": {},
   "outputs": [
    {
     "name": "stdout",
     "output_type": "stream",
     "text": [
      "10과 20의 곱은 200입니다.\n"
     ]
    }
   ],
   "source": [
    "def print_mult(a, b):\n",
    "    print(f\"{a}과 {b}의 곱은 {a*b}입니다.\")\n",
    "\n",
    "print_mult(10, 20)"
   ]
  },
  {
   "cell_type": "code",
   "execution_count": 4,
   "metadata": {},
   "outputs": [
    {
     "name": "stdout",
     "output_type": "stream",
     "text": [
      "100.0\n"
     ]
    }
   ],
   "source": [
    "def print_area(width, height):\n",
    "    return width * height / 2\n",
    "\n",
    "print(print_area(10, 20))"
   ]
  },
  {
   "cell_type": "code",
   "execution_count": 6,
   "metadata": {},
   "outputs": [
    {
     "name": "stdout",
     "output_type": "stream",
     "text": [
      "반지름 10인 원의 면적은 65.94, 원의 둘레는 346.185\n"
     ]
    }
   ],
   "source": [
    "def circle_area_circum(radius):\n",
    "    area = 3.14 * radius * 2\n",
    "    circum = 3.14 * radius ** 2\n",
    "    return area, circum\n",
    "\n",
    "result1, result2 = circle_area_circum(10.5)\n",
    "print(f\"반지름 10인 원의 면적은 {result1}, 원의 둘레는 {result2}\")"
   ]
  },
  {
   "attachments": {},
   "cell_type": "markdown",
   "metadata": {},
   "source": [
    "# 약-5 ~ 256 까지는 파이썬은 내부적으로  \n",
    "# 숫자가 같으면 변수가 달라도 같은 곳에 저장한다(id함수)"
   ]
  },
  {
   "attachments": {},
   "cell_type": "markdown",
   "metadata": {},
   "source": [
    "# 참조?"
   ]
  },
  {
   "attachments": {},
   "cell_type": "markdown",
   "metadata": {},
   "source": [
    "# 매개변수 n=1(1을 디폴트로) 과 _ 사용법  \n",
    "# 디폴트 매개변수는 뒤로"
   ]
  },
  {
   "cell_type": "code",
   "execution_count": 13,
   "metadata": {},
   "outputs": [
    {
     "name": "stdout",
     "output_type": "stream",
     "text": [
      "********************\n",
      "********************\n",
      "********************\n",
      "********************\n"
     ]
    }
   ],
   "source": [
    "def print_star(n = 1): # 매개변수 n은 디폴트 값이 1을 가짐, 어떤 숫자든 가능\n",
    "    for _ in range(n):\n",
    "        print(\"*\" * 20)\n",
    "\n",
    "print_star(4)"
   ]
  },
  {
   "attachments": {},
   "cell_type": "markdown",
   "metadata": {},
   "source": [
    "# p226 / 4-20"
   ]
  },
  {
   "cell_type": "code",
   "execution_count": 15,
   "metadata": {},
   "outputs": [
    {
     "name": "stdout",
     "output_type": "stream",
     "text": [
      "div(4) =  2.0\n",
      "div(6, 3) =  2.0\n"
     ]
    }
   ],
   "source": [
    "def div(a, b = 2):\n",
    "    return a / b\n",
    "\n",
    "print('div(4) = ', div(4))\n",
    "print('div(6, 3) = ', div(6, 3))\n"
   ]
  },
  {
   "attachments": {},
   "cell_type": "markdown",
   "metadata": {},
   "source": [
    "# 키워드 인자는 순서대로 입력하지 않아도 된다"
   ]
  },
  {
   "cell_type": "code",
   "execution_count": 17,
   "metadata": {},
   "outputs": [
    {
     "data": {
      "text/plain": [
       "5.0"
      ]
     },
     "execution_count": 17,
     "metadata": {},
     "output_type": "execute_result"
    }
   ],
   "source": [
    "def div(a, b = 2):\n",
    "    return a / b\n",
    "\n",
    "div(b=4, a=20)"
   ]
  },
  {
   "cell_type": "code",
   "execution_count": 29,
   "metadata": {},
   "outputs": [
    {
     "name": "stdout",
     "output_type": "stream",
     "text": [
      "3\n",
      "3\n"
     ]
    }
   ],
   "source": [
    "def test(a, b=1, c=1, d=1):\n",
    "    return 3\n",
    "\n",
    "print(test(1,1,c=1,d=1))\n",
    "print(test(1, d=1,c=2))\n"
   ]
  },
  {
   "attachments": {},
   "cell_type": "markdown",
   "metadata": {},
   "source": [
    "# 가변인자 (*args):  \n",
    "### 튜플형태"
   ]
  },
  {
   "cell_type": "code",
   "execution_count": 32,
   "metadata": {},
   "outputs": [
    {
     "data": {
      "text/plain": [
       "60"
      ]
     },
     "execution_count": 32,
     "metadata": {},
     "output_type": "execute_result"
    }
   ],
   "source": [
    "def sum_nums(*args):\n",
    "    result = 0\n",
    "    for i in args:\n",
    "        result += i\n",
    "    return result\n",
    "\n",
    "sum_nums(10,20,30)"
   ]
  },
  {
   "cell_type": "code",
   "execution_count": 38,
   "metadata": {},
   "outputs": [
    {
     "data": {
      "text/plain": [
       "30.0"
      ]
     },
     "execution_count": 38,
     "metadata": {},
     "output_type": "execute_result"
    }
   ],
   "source": [
    "def avg(*args):\n",
    "    result = 0\n",
    "    for i in args:\n",
    "        result += i\n",
    "    result = result / len(args)\n",
    "    return result\n",
    "\n",
    "avg(10, 20, 30, 40, 50)"
   ]
  },
  {
   "cell_type": "code",
   "execution_count": 37,
   "metadata": {},
   "outputs": [
    {
     "data": {
      "text/plain": [
       "10"
      ]
     },
     "execution_count": 37,
     "metadata": {},
     "output_type": "execute_result"
    }
   ],
   "source": [
    "def min_nums(*args):\n",
    "    result = min(args)\n",
    "    return result\n",
    "\n",
    "min(20, 40, 50, 10)"
   ]
  },
  {
   "cell_type": "code",
   "execution_count": 39,
   "metadata": {},
   "outputs": [
    {
     "ename": "SyntaxError",
     "evalue": "incomplete input (2932963840.py, line 4)",
     "output_type": "error",
     "traceback": [
      "\u001b[1;36m  Cell \u001b[1;32mIn[39], line 4\u001b[1;36m\u001b[0m\n\u001b[1;33m    \u001b[0m\n\u001b[1;37m    ^\u001b[0m\n\u001b[1;31mSyntaxError\u001b[0m\u001b[1;31m:\u001b[0m incomplete input\n"
     ]
    }
   ],
   "source": [
    "def min_nums(*args):\n",
    "    for i in args[1:]:\n",
    "        if i < args[0]:\n",
    "            "
   ]
  },
  {
   "attachments": {},
   "cell_type": "markdown",
   "metadata": {},
   "source": [
    "# p260 / 4.3"
   ]
  },
  {
   "cell_type": "code",
   "execution_count": 44,
   "metadata": {},
   "outputs": [
    {
     "name": "stdout",
     "output_type": "stream",
     "text": [
      "100과 200중 큰 수는 : 200\n",
      "100과 200중 작은 수는 : 100\n"
     ]
    }
   ],
   "source": [
    "def max_min(a, b):\n",
    "    result1 = max(a,b)\n",
    "    result2 = min(a,b)\n",
    "    return result1, result2\n",
    "\n",
    "result1, result2 = max_min(100, 200)\n",
    "print('100과 200중 큰 수는 :', result1)\n",
    "print('100과 200중 작은 수는 :', result2)\n"
   ]
  },
  {
   "cell_type": "code",
   "execution_count": 46,
   "metadata": {},
   "outputs": [
    {
     "name": "stdout",
     "output_type": "stream",
     "text": [
      "100과 200중 큰 수는 : 200\n",
      "100과 200중 작은 수는 : 100\n"
     ]
    }
   ],
   "source": [
    "def max1(a, b):\n",
    "    if a > b:\n",
    "        return a\n",
    "    else:\n",
    "        return b\n",
    "    \n",
    "def min1(a, b):\n",
    "    if a < b:\n",
    "        return a\n",
    "    else:\n",
    "        return b\n",
    "    \n",
    "print('100과 200중 큰 수는 :', max1(100, 200))\n",
    "print('100과 200중 작은 수는 :', min1(100, 200))"
   ]
  },
  {
   "cell_type": "code",
   "execution_count": 59,
   "metadata": {},
   "outputs": [
    {
     "name": "stdout",
     "output_type": "stream",
     "text": [
      "13.0\n",
      "20\n",
      "9\n"
     ]
    }
   ],
   "source": [
    "def mean(a,b,c):\n",
    "    result = (a+b+c) / 3\n",
    "    return result\n",
    "\n",
    "def max3(a,b,c):\n",
    "    if a > b:\n",
    "        if a > c:\n",
    "            return a\n",
    "        else:\n",
    "            return c\n",
    "    else:\n",
    "        if b > c:\n",
    "            return b\n",
    "        else:\n",
    "            return c\n",
    "\n",
    "def min3(a,b,c):\n",
    "    if a < b:\n",
    "        if a < c:\n",
    "            return a\n",
    "        else:\n",
    "            return c\n",
    "    else:\n",
    "        if b < c:\n",
    "            return b\n",
    "        else:\n",
    "            return c\n",
    "    \n",
    "print(mean(20,10,9))\n",
    "print(max3(20,10,9))\n",
    "print(min3(20,10,9))"
   ]
  },
  {
   "cell_type": "code",
   "execution_count": 84,
   "metadata": {},
   "outputs": [
    {
     "name": "stdout",
     "output_type": "stream",
     "text": [
      "넓이 : 314.0, 둘레 : 62.800000000000004\n",
      "넓이 : 1017.36, 둘레 : 113.04\n",
      "넓이 : 13677.84, 둘레 : 414.48\n",
      "프로그램을 종료합니다.\n"
     ]
    }
   ],
   "source": [
    "def area_and_circumference(r):\n",
    "    pi = 3.14\n",
    "    while True:\n",
    "        r = int(input(\"반지름을 입력하시오 : \"))\n",
    "        if r < 0:\n",
    "            print('프로그램을 종료합니다.')\n",
    "            break\n",
    "        area = pi * r ** 2\n",
    "        circum = 2 * pi * r\n",
    "        print(f\"넓이 : {area}, 둘레 : {circum}\")\n",
    "\n",
    "area_and_circumference(5)"
   ]
  },
  {
   "cell_type": "code",
   "execution_count": 98,
   "metadata": {},
   "outputs": [
    {
     "name": "stdout",
     "output_type": "stream",
     "text": [
      "5 X 1 = 5\n",
      "5 X 2 = 10\n",
      "5 X 3 = 15\n",
      "5 X 4 = 20\n",
      "5 X 5 = 25\n",
      "5 X 6 = 30\n",
      "5 X 7 = 35\n",
      "5 X 8 = 40\n",
      "5 X 9 = 45\n",
      "7 X 1 = 7\n",
      "7 X 2 = 14\n",
      "7 X 3 = 21\n",
      "7 X 4 = 28\n",
      "7 X 5 = 35\n",
      "7 X 6 = 42\n",
      "7 X 7 = 49\n",
      "7 X 8 = 56\n",
      "7 X 9 = 63\n",
      "구구단을 종료합니다.\n"
     ]
    }
   ],
   "source": [
    "def gugu():\n",
    "    while True:\n",
    "        n = int(input('2와 9사이의 숫자를 입력하세요.(범위를 벗어나면 종료됩니다.)'))\n",
    "        if n > 1 and n < 10: \n",
    "            for i in range(1, 10):\n",
    "                print(f\"{n} X {i} = {n * i}\")\n",
    "        else:\n",
    "            print(\"프로그램을 종료합니다.\")\n",
    "            break\n",
    "\n",
    "\n",
    "gugu()    "
   ]
  },
  {
   "cell_type": "code",
   "execution_count": 27,
   "metadata": {},
   "outputs": [
    {
     "name": "stdout",
     "output_type": "stream",
     "text": [
      "[2, 4, 6, 8, 10]\n",
      "[1, 3, 5, 7, 9]\n",
      "[2, 4, 6, 8, 10]\n",
      "[1, 3, 5, 7, 9]\n"
     ]
    }
   ],
   "source": [
    "my_list = [1,2,3,4,5,6,7,8,9,10]\n",
    "\n",
    "def even(a):\n",
    "    even = []   \n",
    "    for num in a:\n",
    "        if num % 2 == 0:\n",
    "            even.append(num)\n",
    "    return even\n",
    "\n",
    "def odd(a):\n",
    "    odd = []\n",
    "    for num in a:\n",
    "        if num % 2 != 0:\n",
    "            odd.append(num)\n",
    "    return odd     \n",
    "\n",
    "print(even(my_list))\n",
    "print(odd(my_list))\n",
    "\n",
    "\n",
    "def even2(num_list):\n",
    "    return [num for num in num_list if num % 2 == 0]\n",
    "def odd2(num_list):\n",
    "    return [num for num in num_list if num % 2 != 0]\n",
    "\n",
    "print(even2(my_list))\n",
    "print(odd2(my_list))"
   ]
  },
  {
   "cell_type": "code",
   "execution_count": 28,
   "metadata": {},
   "outputs": [
    {
     "name": "stdout",
     "output_type": "stream",
     "text": [
      "[3, 4]\n",
      "[3, 4]\n"
     ]
    }
   ],
   "source": [
    "list_01 = [0,1,2,3,4]\n",
    "list_02 = [3,4,5,6,7]\n",
    "\n",
    "def common(a, b):\n",
    "    lst = []\n",
    "    for num in a:\n",
    "        if num in b:\n",
    "            lst.append(num)\n",
    "    return lst\n",
    "\n",
    "print(common(list_01, list_02))\n",
    "\n",
    "\n",
    "def common2(a, b):\n",
    "    return [num for num in a if num in b]\n",
    "\n",
    "print(common2(list_01, list_02))"
   ]
  },
  {
   "cell_type": "code",
   "execution_count": 29,
   "metadata": {},
   "outputs": [
    {
     "name": "stdout",
     "output_type": "stream",
     "text": [
      "냐옹 냐옹\n"
     ]
    }
   ],
   "source": [
    "class Cat:\n",
    "    def meow(self):\n",
    "        print('냐옹 냐옹')\n",
    "nabi = Cat()\n",
    "nabi.meow()"
   ]
  },
  {
   "cell_type": "code",
   "execution_count": 32,
   "metadata": {},
   "outputs": [
    {
     "name": "stdout",
     "output_type": "stream",
     "text": [
      "Help on method_descriptor:\n",
      "\n",
      "split(self, /, sep=None, maxsplit=-1)\n",
      "    Return a list of the substrings in the string, using sep as the separator string.\n",
      "    \n",
      "      sep\n",
      "        The separator used to split the string.\n",
      "    \n",
      "        When set to None (the default value), will split on any whitespace\n",
      "        character (including \\\\n \\\\r \\\\t \\\\f and spaces) and will discard\n",
      "        empty strings from the result.\n",
      "      maxsplit\n",
      "        Maximum number of splits (starting from the left).\n",
      "        -1 (the default value) means no limit.\n",
      "    \n",
      "    Note, str.split() is mainly useful for data that has been intentionally\n",
      "    delimited.  With natural text that includes punctuation, consider using\n",
      "    the regular expression module.\n",
      "\n"
     ]
    }
   ],
   "source": [
    "help(str.split)"
   ]
  },
  {
   "cell_type": "code",
   "execution_count": null,
   "metadata": {},
   "outputs": [],
   "source": []
  },
  {
   "attachments": {},
   "cell_type": "markdown",
   "metadata": {},
   "source": [
    "# 파이토치 PyTorch 케라스와 비슷한"
   ]
  },
  {
   "cell_type": "code",
   "execution_count": 33,
   "metadata": {},
   "outputs": [
    {
     "name": "stdout",
     "output_type": "stream",
     "text": [
      "멍멍~\n"
     ]
    }
   ],
   "source": [
    "class Dog:\n",
    "    def bark(self):\n",
    "        print(\"멍멍~\")\n",
    "\n",
    "shiba = Dog()\n",
    "shiba.bark()"
   ]
  },
  {
   "cell_type": "code",
   "execution_count": 34,
   "metadata": {},
   "outputs": [
    {
     "name": "stdout",
     "output_type": "stream",
     "text": [
      "내 이름은 나비, 색깔은 노랑, 크기는 소형, 야옹 야옹~\n",
      "내 이름은 네로, 색깔은 검정, 크기는 중형, 야옹 야옹~\n",
      "내 이름은 미미, 색깔은 하양, 크기는 중형, 야옹 야옹~\n"
     ]
    }
   ],
   "source": [
    "class Cat:\n",
    "    def __init__(self, name, color, size):\n",
    "        self.name = name\n",
    "        self.color = color\n",
    "        self.size = size\n",
    "    \n",
    "    def meow(self):\n",
    "        print(f\"내 이름은 {self.name}, 색깔은 {self.color}, 크기는 {self.size}, 야옹 야옹~\")\n",
    "    \n",
    "nabi = Cat('나비', '노랑', '소형')\n",
    "nero = Cat('네로', '검정', '중형')\n",
    "mimi = Cat('미미', '하양', '중형')\n",
    "\n",
    "nabi.meow()\n",
    "nero.meow()\n",
    "mimi.meow()"
   ]
  },
  {
   "cell_type": "code",
   "execution_count": 35,
   "metadata": {},
   "outputs": [
    {
     "data": {
      "text/plain": [
       "'나비'"
      ]
     },
     "execution_count": 35,
     "metadata": {},
     "output_type": "execute_result"
    }
   ],
   "source": [
    "nabi.name"
   ]
  },
  {
   "attachments": {},
   "cell_type": "markdown",
   "metadata": {},
   "source": [
    "# __str__는 print를 해야 함.  \n",
    "# __call__은 print하지 않았을 때 나오는 출력"
   ]
  },
  {
   "cell_type": "code",
   "execution_count": 40,
   "metadata": {},
   "outputs": [
    {
     "name": "stdout",
     "output_type": "stream",
     "text": [
      "1\n"
     ]
    },
    {
     "ename": "TypeError",
     "evalue": "__str__ returned non-string (type NoneType)",
     "output_type": "error",
     "traceback": [
      "\u001b[1;31m---------------------------------------------------------------------------\u001b[0m",
      "\u001b[1;31mTypeError\u001b[0m                                 Traceback (most recent call last)",
      "Cell \u001b[1;32mIn[40], line 23\u001b[0m\n\u001b[0;32m     20\u001b[0m v1 \u001b[39m=\u001b[39m Vector(\u001b[39m1\u001b[39m, \u001b[39m3\u001b[39m)\n\u001b[0;32m     21\u001b[0m v2 \u001b[39m=\u001b[39m Vector(\u001b[39m-\u001b[39m\u001b[39m1\u001b[39m, \u001b[39m0\u001b[39m)\n\u001b[1;32m---> 23\u001b[0m \u001b[39mprint\u001b[39;49m(v1)\n",
      "\u001b[1;31mTypeError\u001b[0m: __str__ returned non-string (type NoneType)"
     ]
    }
   ],
   "source": [
    "class Vector:\n",
    "    def __init__(self, x, y):\n",
    "        self.x = x\n",
    "        self.y = y\n",
    "\n",
    "    def __str__(self):\n",
    "        return print(self.x)\n",
    "    \n",
    "    def __add__(self, other):\n",
    "        return Vector(self.x + other.x, self.y + other.y)\n",
    "    \n",
    "    def add(self, other):\n",
    "        return Vector(self.x + other.x, self.y + other.y)\n",
    "    \n",
    "    def __call__(self, x, y):\n",
    "        self.x += x\n",
    "        self.y += y\n",
    "        \n",
    "\n",
    "v1 = Vector(1, 3)\n",
    "v2 = Vector(-1, 0)\n",
    "\n",
    "print(v1)"
   ]
  },
  {
   "attachments": {},
   "cell_type": "markdown",
   "metadata": {},
   "source": [
    "# p565"
   ]
  },
  {
   "cell_type": "code",
   "execution_count": 67,
   "metadata": {},
   "outputs": [
    {
     "name": "stdout",
     "output_type": "stream",
     "text": [
      "이름 : 홍길동\n",
      "계좌번호 : 12345-67890\n",
      "잔액 : 0원\n",
      "1000원이 입금되었습니다. 잔액은 1000원입니다.\n",
      "이름 : 홍길동\n",
      "계좌번호 : 12345-67890\n",
      "잔액 : 1000원\n",
      "500원이 출금되었습니다. 잔액은 500원입니다.\n"
     ]
    }
   ],
   "source": [
    "class BankAccount:\n",
    "    \"\"\"\n",
    "    메서드 목록\n",
    "    \"\"\"\n",
    "\n",
    "    def __init__(self, name, account_num, balance = 0):\n",
    "        self.__name = name\n",
    "        self.__account_num = account_num\n",
    "        self.__balance = balance\n",
    "    \n",
    "    def __str__(self):\n",
    "        return f\"이름 : {self.__name}\\n계좌번호 : {self.__account_num}\\n잔액 : {self.__balance}원\"\n",
    "\n",
    "    def get_name(self):\n",
    "        return self.__name\n",
    "    \n",
    "    def get_account_num(self):\n",
    "        return self.__account_num\n",
    "    \n",
    "    def get_balance(self):\n",
    "        return self.__balance\n",
    "\n",
    "    def get_money(self):\n",
    "        return self.__balance\n",
    "\n",
    "    def deposit(self, money):\n",
    "        self.__balance += money\n",
    "        print(f\"{money}원이 입금되었습니다. 잔액은 {self.__balance}원입니다.\")\n",
    "\n",
    "    def withdraw(self, money):\n",
    "        if self.__balance > money:\n",
    "            return print(f\"{money}원이 출금되었습니다. 잔액은 {self.__balance - money}원입니다.\")\n",
    "        else:\n",
    "            return print(f\"계좌 잔고는 {self.__balance}원으로 인출 요구 금액 {money}원보다 작습니다.\")\n",
    "\n",
    "\n",
    "\n",
    "acc1 = BankAccount(\"홍길동\", \"12345-67890\")\n",
    "print(acc1)\n",
    "acc1.deposit(1000)\n",
    "print(acc1)\n",
    "acc1.withdraw(500)"
   ]
  },
  {
   "attachments": {},
   "cell_type": "markdown",
   "metadata": {},
   "source": [
    "# lambda"
   ]
  },
  {
   "cell_type": "code",
   "execution_count": 72,
   "metadata": {},
   "outputs": [
    {
     "name": "stdout",
     "output_type": "stream",
     "text": [
      "[1, 4, 9, 16, 25]\n",
      "[2, 12, 30, 56]\n"
     ]
    }
   ],
   "source": [
    "print(list(map(lambda x: x**2, [1,2,3,4,5])))\n",
    "print(list(map(lambda x: x[0]*x[1], [(1,2),(3,4),(5,6),(7,8)])))\n"
   ]
  },
  {
   "attachments": {},
   "cell_type": "markdown",
   "metadata": {},
   "source": [
    "# filter"
   ]
  },
  {
   "cell_type": "code",
   "execution_count": 97,
   "metadata": {},
   "outputs": [
    {
     "name": "stdout",
     "output_type": "stream",
     "text": [
      "[1, 3, 5]\n"
     ]
    },
    {
     "ename": "NameError",
     "evalue": "name 'x' is not defined",
     "output_type": "error",
     "traceback": [
      "\u001b[1;31m---------------------------------------------------------------------------\u001b[0m",
      "\u001b[1;31mNameError\u001b[0m                                 Traceback (most recent call last)",
      "Cell \u001b[1;32mIn[97], line 2\u001b[0m\n\u001b[0;32m      1\u001b[0m \u001b[39mprint\u001b[39m(\u001b[39mlist\u001b[39m(\u001b[39mfilter\u001b[39m(\u001b[39mlambda\u001b[39;00m x: x \u001b[39m%\u001b[39m \u001b[39m2\u001b[39m \u001b[39m!=\u001b[39m\u001b[39m0\u001b[39m, [\u001b[39m1\u001b[39m,\u001b[39m2\u001b[39m,\u001b[39m3\u001b[39m,\u001b[39m4\u001b[39m,\u001b[39m5\u001b[39m])))\n\u001b[1;32m----> 2\u001b[0m \u001b[39mprint\u001b[39m(\u001b[39mlist\u001b[39m(\u001b[39mfilter\u001b[39m(x \u001b[39mif\u001b[39;00m x \u001b[39m%\u001b[39m \u001b[39m2\u001b[39m \u001b[39m!=\u001b[39m \u001b[39m0\u001b[39m \u001b[39melse\u001b[39;00m \u001b[39mFalse\u001b[39;00m, [\u001b[39m1\u001b[39m,\u001b[39m2\u001b[39m,\u001b[39m3\u001b[39m,\u001b[39m4\u001b[39m,\u001b[39m5\u001b[39m]))) \u001b[39m# 첫 번째 인자가 함수가 아니라서 안 됨!!\u001b[39;00m\n",
      "\u001b[1;31mNameError\u001b[0m: name 'x' is not defined"
     ]
    }
   ],
   "source": [
    "print(list(filter(lambda x: x % 2 !=0, [1,2,3,4,5])))\n",
    "print(list(filter(x if x % 2 != 0 else False, [1,2,3,4,5]))) # 첫 번째 인자가 함수가 아니라서 안 됨!!"
   ]
  },
  {
   "attachments": {},
   "cell_type": "markdown",
   "metadata": {},
   "source": [
    "### 'Calculator'라는 이름의 클래스를 선언. 이 클래스는 add(), subtract(), multiple(), divide()라는 네 가지 멤버함수를 가진다."
   ]
  },
  {
   "cell_type": "code",
   "execution_count": 93,
   "metadata": {},
   "outputs": [
    {
     "name": "stdout",
     "output_type": "stream",
     "text": [
      "6에 8을 더하면 14입니다.\n",
      "6에 8을 빼면 -2입니다.\n",
      "6에 8을 곱하면 48입니다.\n",
      "6에 8을 나누면 0.75입니다.\n"
     ]
    }
   ],
   "source": [
    "class Calculator:\n",
    "    \"\"\"\n",
    "    테스트\n",
    "    \"\"\"\n",
    "    \n",
    "    def __init__(self, x, y):\n",
    "        self.x = x\n",
    "        self.y = y\n",
    "    \n",
    "    def add(self):\n",
    "        return f\"{self.x}에 {self.y}을 더하면 {self.x + self.y}입니다.\"\n",
    "    \n",
    "    def subtract(self):\n",
    "        return f\"{self.x}에 {self.y}을 빼면 {self.x - self.y}입니다.\"\n",
    "    \n",
    "    def multiple(self):\n",
    "        return f\"{self.x}에 {self.y}을 곱하면 {self.x * self.y}입니다.\"\n",
    "    \n",
    "    def divide(self):\n",
    "        return f\"{self.x}에 {self.y}을 나누면 {self.x / self.y}입니다.\"\n",
    "    \n",
    "\n",
    "temp = Calculator(6,8)\n",
    "print(temp.add())\n",
    "print(temp.subtract())\n",
    "print(temp.multiple())\n",
    "print(temp.divide())\n",
    "temp.divide()"
   ]
  },
  {
   "attachments": {},
   "cell_type": "markdown",
   "metadata": {},
   "source": [
    "### 원의 넓이를 구하는 프로그램. 원은 'circle'클래스로 설계, 원의 넓이를 구하는 함수 'get_area()'라는 클래스의 멤버함수를 구현"
   ]
  },
  {
   "cell_type": "code",
   "execution_count": 99,
   "metadata": {},
   "outputs": [
    {
     "name": "stdout",
     "output_type": "stream",
     "text": [
      "반지름 11의 면적은 379.94\n",
      "반지름 11의 면적 69.08\n"
     ]
    }
   ],
   "source": [
    "class Circle:\n",
    "    def __init__(self, radius, pi = 3.14):\n",
    "        self.radius = radius\n",
    "        self.pi = pi\n",
    "\n",
    "    def get_are(self):\n",
    "        return f\"반지름 {self.radius}의 면적은 {self.pi * self.radius ** 2}\"\n",
    "    \n",
    "    def get_circumference(self):\n",
    "        return f\"반지름 {self.radius}의 면적 {self.pi * 2 * self.radius}\"\n",
    "    \n",
    "one = Circle(11)\n",
    "print(one.get_are())\n",
    "print(one.get_circumference())"
   ]
  },
  {
   "attachments": {},
   "cell_type": "markdown",
   "metadata": {},
   "source": [
    "# sorted에서 key를 활용한 정렬!!!!!!!!"
   ]
  },
  {
   "cell_type": "code",
   "execution_count": 111,
   "metadata": {},
   "outputs": [
    {
     "data": {
      "text/plain": [
       "[['길동', 21], ['춘향', 16], ['심청', 16]]"
      ]
     },
     "execution_count": 111,
     "metadata": {},
     "output_type": "execute_result"
    }
   ],
   "source": [
    "sorted([5,7,1,-4], reverse=True)\n",
    "sorted([['길동', 21], ['춘향', 16],['심청', 17]], key=lambda x: x[1])  # 동갑이면 무작위로 출력\n",
    "sorted([['길동', 21], ['춘향', 16],['심청', 17]], key=lambda x: x[1], reverse=True)\n",
    "sorted([['길동', 21], ['춘향', 16],['심청', 16]], key=lambda x: (x[1], x[0]), reverse=True) #동갑이면 이름으로 다시 정렬\n"
   ]
  },
  {
   "attachments": {},
   "cell_type": "markdown",
   "metadata": {},
   "source": [
    "# p618\n",
    "10.6 / 10.12  /10.13 /\n"
   ]
  },
  {
   "cell_type": "code",
   "execution_count": 115,
   "metadata": {},
   "outputs": [
    {
     "name": "stdout",
     "output_type": "stream",
     "text": [
      "[24, 144, 144]\n"
     ]
    }
   ],
   "source": [
    "n_list = [44, 66, 34, 144, 98, 568, 234, 345]\n",
    "new_list = [24, 144]\n",
    "new_list += filter(lambda x: x % 12 == 0, n_list)\n",
    "print(new_list)"
   ]
  },
  {
   "attachments": {},
   "cell_type": "markdown",
   "metadata": {},
   "source": [
    "# upper 사용방법 다시 복습"
   ]
  },
  {
   "cell_type": "code",
   "execution_count": 127,
   "metadata": {},
   "outputs": [
    {
     "name": "stdout",
     "output_type": "stream",
     "text": [
      "['SUN', 'MON', 'TUE', 'WED', 'THU', 'FRI', 'SAT']\n"
     ]
    }
   ],
   "source": [
    "lst = ['sunday', 'monday', 'tuesday', 'wednesday', 'thursday', 'friday', 'saturday']\n",
    "new_lst = list(map(lambda x: x.upper()[:3], lst))\n",
    "print(new_lst)"
   ]
  },
  {
   "cell_type": "code",
   "execution_count": 125,
   "metadata": {},
   "outputs": [
    {
     "name": "stdout",
     "output_type": "stream",
     "text": [
      "[2004, 2008, 2012, 2016, 2020, 2024, 2028]\n"
     ]
    }
   ],
   "source": [
    "temp = list(filter(lambda x: (x % 4 ==0 and x % 100 !=0) or (x % 400 ==0), range(2001, 2031)))\n",
    "print(temp)\n",
    "\n"
   ]
  },
  {
   "attachments": {},
   "cell_type": "markdown",
   "metadata": {},
   "source": [
    "## mylist = [3,6,3,2,4,8,23]을 홀수 -> 짝수 순으로 정렬. 같은 홀수끼리, 짝수끼리는 오름차순으로 정렬"
   ]
  },
  {
   "cell_type": "code",
   "execution_count": 129,
   "metadata": {},
   "outputs": [
    {
     "data": {
      "text/plain": [
       "[3, 3, 23, 2, 4, 6, 8]"
      ]
     },
     "execution_count": 129,
     "metadata": {},
     "output_type": "execute_result"
    }
   ],
   "source": [
    "mylist = [3,6,3,2,4,8,23]\n",
    "sorted(mylist, key=lambda x:(x%2==0, x))"
   ]
  },
  {
   "cell_type": "code",
   "execution_count": null,
   "metadata": {},
   "outputs": [],
   "source": []
  }
 ],
 "metadata": {
  "kernelspec": {
   "display_name": "Python 3 (ipykernel)",
   "language": "python",
   "name": "python3"
  },
  "language_info": {
   "codemirror_mode": {
    "name": "ipython",
    "version": 3
   },
   "file_extension": ".py",
   "mimetype": "text/x-python",
   "name": "python",
   "nbconvert_exporter": "python",
   "pygments_lexer": "ipython3",
   "version": "3.11.3"
  }
 },
 "nbformat": 4,
 "nbformat_minor": 2
}
