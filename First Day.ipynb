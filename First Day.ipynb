{
 "cells": [
  {
   "cell_type": "code",
   "execution_count": 15,
   "id": "91fdbdc0",
   "metadata": {},
   "outputs": [
    {
     "name": "stdout",
     "output_type": "stream",
     "text": [
      "Hello World!\n"
     ]
    }
   ],
   "source": [
    "print(\"Hello World!\")"
   ]
  },
  {
   "attachments": {},
   "cell_type": "markdown",
   "id": "0ad9f44c",
   "metadata": {},
   "source": [
    "**동해물과 백두산이 마르고 닳도록**"
   ]
  },
  {
   "attachments": {},
   "cell_type": "markdown",
   "id": "39f1089f",
   "metadata": {},
   "source": [
    "# 우아아아아\n",
    "* 날짜 : 2023년\n",
    "* 장소 : 창원대학교"
   ]
  },
  {
   "cell_type": "code",
   "execution_count": 16,
   "id": "a237f734",
   "metadata": {},
   "outputs": [
    {
     "name": "stdout",
     "output_type": "stream",
     "text": [
      "5\n"
     ]
    }
   ],
   "source": [
    "def add (a, b):\n",
    "    return a + b\n",
    "print(add(2,3))"
   ]
  },
  {
   "cell_type": "code",
   "execution_count": 17,
   "id": "f88912e3",
   "metadata": {},
   "outputs": [
    {
     "name": "stdout",
     "output_type": "stream",
     "text": [
      "5\n"
     ]
    }
   ],
   "source": [
    "add = lambda x, y : x + y\n",
    "\n",
    "print(add(2, 3))"
   ]
  },
  {
   "cell_type": "code",
   "execution_count": 18,
   "id": "43cdf572",
   "metadata": {},
   "outputs": [
    {
     "name": "stdout",
     "output_type": "stream",
     "text": [
      "HelloWorld!\n"
     ]
    }
   ],
   "source": [
    "print(\"Hello\" + \"World!\")"
   ]
  },
  {
   "cell_type": "code",
   "execution_count": 19,
   "id": "bd8c38c8",
   "metadata": {},
   "outputs": [
    {
     "name": "stdout",
     "output_type": "stream",
     "text": [
      "Hello Python!\n",
      "Hello Python!\n",
      "Hello Python!\n",
      "300\n"
     ]
    }
   ],
   "source": [
    "print(\"Hello Python!\")\n",
    "print(\"Hello Python!\")\n",
    "print(\"Hello Python!\")\n",
    "print(100+200)"
   ]
  },
  {
   "cell_type": "code",
   "execution_count": 20,
   "id": "23cfc93d",
   "metadata": {},
   "outputs": [
    {
     "name": "stdout",
     "output_type": "stream",
     "text": [
      "***********************************\n",
      "안녕하세요~\n",
      "저는 홍길동입니다.\n",
      "대한대학교 정보통신공학과 1학년입니다\n",
      "***********************************\n"
     ]
    }
   ],
   "source": [
    "print(\"***********************************\")\n",
    "print(\"안녕하세요~\")\n",
    "print(\"저는 홍길동입니다.\")\n",
    "print(\"대한대학교 정보통신공학과 1학년입니다\")\n",
    "\n",
    "print(\"***********************************\")"
   ]
  },
  {
   "cell_type": "code",
   "execution_count": 21,
   "id": "2b1e8ad6",
   "metadata": {},
   "outputs": [
    {
     "name": "stdout",
     "output_type": "stream",
     "text": [
      "***********************************\n",
      "안녕하세요~\n",
      "저는 홍길동입니다.\n",
      "대한대학교 정보통신공학과 1학년입니다\n",
      "***********************************\n"
     ]
    }
   ],
   "source": [
    "print(\"***********************************\",\n",
    "      \"안녕하세요~\",\n",
    "      \"저는 홍길동입니다.\",\n",
    "      \"대한대학교 정보통신공학과 1학년입니다\",\n",
    "      \"***********************************\", sep=\"\\n\")"
   ]
  },
  {
   "cell_type": "code",
   "execution_count": 22,
   "id": "7d344be8",
   "metadata": {},
   "outputs": [
    {
     "name": "stdout",
     "output_type": "stream",
     "text": [
      "***********************************\n",
      "안녕하세요~\n",
      "저는 홍길동입니다.\n",
      "대한대학교 정보통신공학과 1학년입니다\n",
      "***********************************\n"
     ]
    }
   ],
   "source": [
    "print(\"\"\"***********************************\n",
    "안녕하세요~\n",
    "저는 홍길동입니다.\n",
    "대한대학교 정보통신공학과 1학년입니다\n",
    "***********************************\"\"\")"
   ]
  },
  {
   "cell_type": "code",
   "execution_count": 23,
   "id": "102496cb",
   "metadata": {},
   "outputs": [
    {
     "name": "stdout",
     "output_type": "stream",
     "text": [
      "120km\n"
     ]
    }
   ],
   "source": [
    "print(int(80 * 1.5),\"km\",sep=\"\")"
   ]
  },
  {
   "cell_type": "code",
   "execution_count": 24,
   "id": "f2c21ee8",
   "metadata": {},
   "outputs": [
    {
     "name": "stdout",
     "output_type": "stream",
     "text": [
      "제 나이는 33입니다\n"
     ]
    }
   ],
   "source": [
    "print(\"제 나이는 \", 2023-1990,\"입니다\",sep=\"\")\n",
    "# seperate"
   ]
  },
  {
   "cell_type": "code",
   "execution_count": 25,
   "id": "686607a8",
   "metadata": {},
   "outputs": [
    {
     "name": "stdout",
     "output_type": "stream",
     "text": [
      "1234567890123.1416\n"
     ]
    }
   ],
   "source": [
    "pi = 1234567890123.1415678\n",
    "print(\"{:10.4f}\".format(pi))\n",
    "# 인덱싱"
   ]
  },
  {
   "cell_type": "code",
   "execution_count": 26,
   "id": "4f6792ff",
   "metadata": {},
   "outputs": [
    {
     "name": "stdout",
     "output_type": "stream",
     "text": [
      "섭씨 화씨\n",
      "0   32.0\n",
      "10   50.0\n",
      "20   68.0\n",
      "30   86.0\n",
      "40   104.0\n",
      "50   122.0\n"
     ]
    }
   ],
   "source": [
    "print(\"섭씨\", \"화씨\")\n",
    "for i in range(0, 60, 10):\n",
    "    celsius = 0\n",
    "    celsius = i\n",
    "    fahreniheit = (9/5) * celsius + 32\n",
    "    print(celsius, \" \",fahreniheit)"
   ]
  },
  {
   "cell_type": "code",
   "execution_count": 27,
   "id": "930f6cd5",
   "metadata": {},
   "outputs": [
    {
     "ename": "ValueError",
     "evalue": "invalid literal for int() with base 10: ''",
     "output_type": "error",
     "traceback": [
      "\u001b[1;31m---------------------------------------------------------------------------\u001b[0m",
      "\u001b[1;31mValueError\u001b[0m                                Traceback (most recent call last)",
      "Cell \u001b[1;32mIn[27], line 1\u001b[0m\n\u001b[1;32m----> 1\u001b[0m c\u001b[39m=\u001b[39m \u001b[39mint\u001b[39;49m(\u001b[39minput\u001b[39;49m(\u001b[39m\"\u001b[39;49m\u001b[39m섭씨온도를 입력하세요 : \u001b[39;49m\u001b[39m\"\u001b[39;49m))\n\u001b[0;32m      2\u001b[0m f \u001b[39m=\u001b[39m (\u001b[39m9\u001b[39m\u001b[39m/\u001b[39m\u001b[39m5\u001b[39m) \u001b[39m*\u001b[39m c \u001b[39m+\u001b[39m \u001b[39m32\u001b[39m\n\u001b[0;32m      3\u001b[0m \u001b[39mprint\u001b[39m(\u001b[39mf\u001b[39m\u001b[39m\"\u001b[39m\u001b[39m섭씨 \u001b[39m\u001b[39m{\u001b[39;00mc\u001b[39m}\u001b[39;00m\u001b[39m도 화씨는 \u001b[39m\u001b[39m{\u001b[39;00mf\u001b[39m}\u001b[39;00m\u001b[39m도 입니다.\u001b[39m\u001b[39m\"\u001b[39m)\n",
      "\u001b[1;31mValueError\u001b[0m: invalid literal for int() with base 10: ''"
     ]
    }
   ],
   "source": [
    "c= int(input(\"섭씨온도를 입력하세요 : \"))\n",
    "f = (9/5) * c + 32\n",
    "print(f\"섭씨 {c}도 화씨는 {f}도 입니다.\")"
   ]
  },
  {
   "cell_type": "code",
   "execution_count": null,
   "id": "f4a0165b",
   "metadata": {},
   "outputs": [],
   "source": [
    "# 두 값 a,b의 평균을 출력하는 프로그램을 작성하시오.\n",
    "# 국적, 이름, 출생년도를 입력받아, 국적, 이름, 나이를 출력하는 프로그램을 작성하시오. (ex)저는 대한민국에서\n",
    "# 원의 반지름을 입력받아 원의 면적을 구하는 프로그램을 작성하시오. (공식은 알아서)"
   ]
  },
  {
   "cell_type": "code",
   "execution_count": null,
   "id": "b509522a",
   "metadata": {},
   "outputs": [
    {
     "name": "stdout",
     "output_type": "stream",
     "text": [
      "6와 89의 평균은 :  47.5\n"
     ]
    }
   ],
   "source": [
    "def avr (a, b):\n",
    "    return (a+b)/2\n",
    "x = int(input(\"첫 번째 값을 입력하시오 : \"))\n",
    "y = int(input(\"두 번째 값을 입력하시오 : \"))\n",
    "print(f\"{x}와 {y}의 평균은 : \", avr(x,y))"
   ]
  },
  {
   "cell_type": "code",
   "execution_count": null,
   "id": "28ba9d0b",
   "metadata": {},
   "outputs": [
    {
     "name": "stdout",
     "output_type": "stream",
     "text": [
      "저는 미국에서 태어난 마이클입니다. 나이는 24살입니다.\n"
     ]
    }
   ],
   "source": [
    "a = input(\"국적을 입력하시오 : \")\n",
    "b = input(\"이름을 입력하시오 : \")\n",
    "c = int(input(\"출생년도를 입력하시오 : \"))\n",
    "print(f\"저는 {a}에서 태어난 {b}입니다. 나이는 {2023 - c}살입니다.\")"
   ]
  },
  {
   "cell_type": "code",
   "execution_count": null,
   "id": "e9c861d4",
   "metadata": {},
   "outputs": [
    {
     "name": "stdout",
     "output_type": "stream",
     "text": [
      "반지름이 6인 원의 면적은 113.04입니다.\n"
     ]
    }
   ],
   "source": [
    "def pi (n):\n",
    "    return 3.14 * n**2\n",
    "z = int(input(\"원의 반지름을 입력하시오 : \"))\n",
    "print(f\"반지름이 {z}인 원의 면적은 {pi(z)}입니다.\")"
   ]
  },
  {
   "cell_type": "code",
   "execution_count": null,
   "id": "84d66eac",
   "metadata": {},
   "outputs": [
    {
     "name": "stdout",
     "output_type": "stream",
     "text": [
      "이름 :  홍길동\n",
      "10년 후 나이 :  40\n"
     ]
    }
   ],
   "source": [
    "name = str(input(\"이름을 입력하세요 : \"))\n",
    "print(\"이름 : \", name)\n",
    "age = int(input(\"나이를 입력하세요 : \"))\n",
    "print(\"10년 후 나이 : \", age + 10)"
   ]
  },
  {
   "attachments": {},
   "cell_type": "markdown",
   "id": "3f242acf",
   "metadata": {},
   "source": [
    "# **2023년 05월 03일**"
   ]
  },
  {
   "cell_type": "code",
   "execution_count": 11,
   "id": "768f4cf0",
   "metadata": {},
   "outputs": [
    {
     "name": "stdout",
     "output_type": "stream",
     "text": [
      "10.500000 20\n"
     ]
    }
   ],
   "source": [
    "print(\"%f %d\" %(10.5, 20))\n",
    "# d는 십진수"
   ]
  },
  {
   "cell_type": "code",
   "execution_count": 22,
   "id": "a95d9026",
   "metadata": {},
   "outputs": [
    {
     "name": "stdout",
     "output_type": "stream",
     "text": [
      "10.00     이름\n"
     ]
    }
   ],
   "source": [
    "print(\"{:<10.2f}{}\".format(10,\"이름\"))\n",
    "# < 좌측정렬 / > 우측정렬"
   ]
  },
  {
   "cell_type": "code",
   "execution_count": 26,
   "id": "00054c04",
   "metadata": {},
   "outputs": [
    {
     "name": "stdout",
     "output_type": "stream",
     "text": [
      "사각형의 면적 : 1800\n"
     ]
    }
   ],
   "source": [
    "# p.105 2.3\n",
    "width = 30\n",
    "height = 60\n",
    "area = width * height\n",
    "print(\"사각형의 면적 :\", area)"
   ]
  },
  {
   "cell_type": "code",
   "execution_count": 24,
   "id": "27720262",
   "metadata": {},
   "outputs": [
    {
     "name": "stdout",
     "output_type": "stream",
     "text": [
      "원의 둘레 = 62.830383999999995, 원의 면적 = 314.15191999999996\n"
     ]
    }
   ],
   "source": [
    "# p.108  2.13문제\n",
    "r = int(input(\"원의 반지름을 입력하세요 : \"))\n",
    "pi = 3.1415192\n",
    "print(f\"원의 둘레 = {2*pi*r}, 원의 면적 = {pi*r**2}\")"
   ]
  },
  {
   "cell_type": "code",
   "execution_count": 25,
   "id": "bff5a45c",
   "metadata": {},
   "outputs": [
    {
     "name": "stdout",
     "output_type": "stream",
     "text": [
      "10 / 5의 몫 : 2\n",
      "10 / 5의 나머지 : 0\n"
     ]
    }
   ],
   "source": [
    "a = int(input(\"정수 a를 입력하시오 : \"))\n",
    "b = int(input(\"정수 b를 입력하시오 : \"))\n",
    "print(f\"{a} / {b}의 몫 : {a//b}\")\n",
    "print(f\"{a} / {b}의 나머지 : {a%b}\")"
   ]
  },
  {
   "cell_type": "code",
   "execution_count": 2,
   "id": "e3465bd8",
   "metadata": {},
   "outputs": [
    {
     "name": "stdout",
     "output_type": "stream",
     "text": [
      "[1, 2, 3, 4, 5, 6, 7, 8, 9]\n"
     ]
    }
   ],
   "source": [
    "list4 = list(range(1, 10))\n",
    "print(list4)"
   ]
  },
  {
   "cell_type": "code",
   "execution_count": 11,
   "id": "3d2a1f72",
   "metadata": {},
   "outputs": [
    {
     "name": "stdout",
     "output_type": "stream",
     "text": [
      "['a', 'b', 'c', 'd', 'e', 'g']\n"
     ]
    }
   ],
   "source": [
    "a = ['a', 'b', 'c', 'd', 'e', 'f', 'g']\n",
    "b = [1, 2, 3, 4, 5, 6, 7]\n",
    "a.index('c')\n",
    "a.count('a')\n",
    "# a.extend(b)\n",
    "a.insert(2, 'z')\n",
    "a.remove('f')\n",
    "# a.pop()\n",
    "a.pop(2)\n",
    "print(a)"
   ]
  },
  {
   "cell_type": "code",
   "execution_count": 13,
   "id": "216e1334",
   "metadata": {},
   "outputs": [
    {
     "name": "stdout",
     "output_type": "stream",
     "text": [
      "['c', 'd', 'e', 'g']\n"
     ]
    }
   ],
   "source": [
    "a.remove(a[0])\n",
    "print(a)"
   ]
  },
  {
   "cell_type": "code",
   "execution_count": 14,
   "id": "b67023b5",
   "metadata": {},
   "outputs": [
    {
     "name": "stdout",
     "output_type": "stream",
     "text": [
      "['g', 'e', 'd', 'c']\n"
     ]
    }
   ],
   "source": [
    "a.reverse()\n",
    "print(a)"
   ]
  },
  {
   "cell_type": "code",
   "execution_count": 29,
   "id": "6eb3b471",
   "metadata": {
    "collapsed": true,
    "jupyter": {
     "outputs_hidden": true
    },
    "tags": []
   },
   "outputs": [
    {
     "name": "stdout",
     "output_type": "stream",
     "text": [
      "     범죄대분류      범죄중분류     서울     부산     대구     인천     광주     대전     울산    세종   \n",
      "0     강력범죄       살인기수     67     20     13     17     11      8     12     2  \\\n",
      "1     강력범죄      살인미수등     96     41     23     34      7     16     11     1   \n",
      "2     강력범죄         강도    274    161     60    103     44     64     29     0   \n",
      "3     강력범죄         강간    969    383    216    304    216    181    132     3   \n",
      "4     강력범죄       유사강간    118     24     21     35     17     14     10     1   \n",
      "5     강력범죄       강제추행   4282    991    645    924    495    362    293    34   \n",
      "6     강력범죄  기타강간강제추행등     94     37     20     31     22     12      9     0   \n",
      "7     강력범죄         방화    315    117     86     94     48     41     36     5   \n",
      "8     절도범죄         절도  55280  20136  12759  10679   8438   9495   5449   638   \n",
      "9     폭력범죄         상해   7174   4675   2736   2179   1162   1516   1353   117   \n",
      "10    폭력범죄         폭행  36904   8852   6607   9774   5386   4054   4213   139   \n",
      "11    폭력범죄       체포감금    186     67     39     81     26     36     20     3   \n",
      "12    폭력범죄         협박   1844    682    443    433    297    286    175    29   \n",
      "13    폭력범죄       약취유인     45      6      6     12      5      4      1     1   \n",
      "14    폭력범죄      폭력행위등   6725   2449   1595   1988    817   1045    906    71   \n",
      "15    폭력범죄         공갈    634    558    263    222    118     94     79     4   \n",
      "16    폭력범죄         손괴  11735   3639   3019   3365   1791   1804   1530    88   \n",
      "17    지능범죄       직무유기    106     37     25     14     22     20     10    16   \n",
      "18    지능범죄       직권남용     98     28     14     12     10     14     12     2   \n",
      "19    지능범죄        증수뢰     57     15      8     11     10      3      0     1   \n",
      "20    지능범죄         통화    801     75     84    121     30     72     17     1   \n",
      "21    지능범죄       문서인장   3336   1259    691    689    455    451    346    36   \n",
      "22    지능범죄     유가증권인지    125      5      9     14      3      4      3     2   \n",
      "23    지능범죄         사기  53879  20533  11507  13141   7669   7250   5606   487   \n",
      "24    지능범죄         횡령  13314   2980   1725   2763   1416   1216    794   122   \n",
      "25    지능범죄         배임   1135    315    132    173    109     82    110    13   \n",
      "26    풍속범죄      성풍속범죄   5421   1164    933   1190    376    438    257    22   \n",
      "27    풍속범죄       도박범죄   1320    921    485    390    216    251    146     7   \n",
      "28  특별경제범죄     특별경제범죄  22075  13868   3421   5751   2535   1635   1289   187   \n",
      "29    마약범죄       마약범죄   1360    759    393    557     69     78     67     2   \n",
      "30    보건범죄       보건범죄   3941   1832    417    654    760    204    230    15   \n",
      "31    환경범죄       환경범죄     53    198     19     69      8     13     53     2   \n",
      "32    교통범죄       교통범죄  74958  35841  39725  31163  23412  13556  16600  1056   \n",
      "33    노동범죄       노동범죄    215    190     31     28     13     14     63     0   \n",
      "34    안보범죄       안보범죄     38      4      4     20      3      4      2     0   \n",
      "35    선거범죄       선거범죄     24     24     18     19      9      8     15     5   \n",
      "36    병역범죄       병역범죄   4591    959    800   1200    371    630    382    86   \n",
      "37    기타범죄       기타범죄  41752  19868   9766  13677   5301   4602   4881   462   \n",
      "\n",
      "    ...  경남 밀양  경남 사천  경남 양산  경남 진주  경남 창원  경남 통영  제주 서귀포  제주 제주  기타도시   도시이외  \n",
      "0   ...      1      0      2      4      7      2       0     11     7     30  \n",
      "1   ...      5      5      6      0     13      2       1     16     4     44  \n",
      "2   ...      1      4      2     13     26      3       4     29     4     65  \n",
      "3   ...     10     12     35     63     85     11      14     64    18    328  \n",
      "4   ...      1      1      3      1      8      1       1     12     0     33  \n",
      "5   ...     20     22     59     58    172     36      32    165    28    764  \n",
      "6   ...      1      2      1      4     13      3       1     11     2     55  \n",
      "7   ...      2      7      9     12     33      0      12     23     4    148  \n",
      "8   ...    313    358   1205   2032   5860    602     921   3309   643  11754  \n",
      "9   ...    134    194    307    408   1187    321     269    532   149   3941  \n",
      "10  ...    136    252    613    698   2650    319     570   1919   363   5712  \n",
      "11  ...      0      2     10     10     17      5       3      9     4     87  \n",
      "12  ...     17     15     49     58    160     26      56    234    44    547  \n",
      "13  ...      0      0      0      0      3      0       0      4     0     14  \n",
      "14  ...     82     78    144    202    669    138     145    383    95   2477  \n",
      "15  ...      9      0     16     19     87     11       8     37    26    178  \n",
      "16  ...    105    129    323    286   1199    186     331   1018   144   3029  \n",
      "17  ...      0      2      2      5      5      2       0      7     2     62  \n",
      "18  ...      0      2      5      3      4      1       2     10     2     40  \n",
      "19  ...      0      1      0      1      2      0       2      1     2     24  \n",
      "20  ...      1      2      2      6     12      2       2     14     4     61  \n",
      "21  ...     16     16     47     60    267     22      34    162   118    896  \n",
      "22  ...      0      0      0      0      0      0       0      0     2     12  \n",
      "23  ...    431    601   1256   1441   6170    592     695   2734  2097  14465  \n",
      "24  ...     51     52    180    165    708     74     122    439   235   1988  \n",
      "25  ...     11      5     19     19     62     11     131     36    33    308  \n",
      "26  ...      5      6     52     37    164     12      27    236    73    306  \n",
      "27  ...     16     10     24     27    124     89      38    106    46    744  \n",
      "28  ...    109    145    310    399   1018    111     269    982  1631   3027  \n",
      "29  ...     43     24     25     90    122     10       6     20    16    509  \n",
      "30  ...     51     29     57    123    258     19      37    131    36    843  \n",
      "31  ...     19     18      7     20     77     21      24     22    30    503  \n",
      "32  ...   1216   2517   3759   3351  12650   2936    3581  10857  2325  43877  \n",
      "33  ...      0      1     10      0     19     43       3      6     1     45  \n",
      "34  ...      1      0      0      1      1      0       0      0     1      6  \n",
      "35  ...      4      5      3     30     17      4      12     11     3    267  \n",
      "36  ...     57     42    158     92    355     52      52    190   155    808  \n",
      "37  ...    410   1040    978    933   3643   1594    1331   3130  1341  17797  \n",
      "\n",
      "[38 rows x 90 columns]\n"
     ]
    }
   ],
   "source": [
    "import pandas as pd\n",
    "# pd.set_option('display.max_rows', None)\n",
    "df = pd.read_csv('C:/Users/PC/Bcode/data.csv', encoding='euc-kr')\n",
    "\n",
    "print(df)"
   ]
  },
  {
   "cell_type": "code",
   "execution_count": 37,
   "id": "c7007d4e",
   "metadata": {},
   "outputs": [
    {
     "data": {
      "text/plain": [
       "['Iron Man', 'Captain America', 'Thor', 'Hulk', 'Black Widow', 'Hawkeye']"
      ]
     },
     "execution_count": 37,
     "metadata": {},
     "output_type": "execute_result"
    }
   ],
   "source": [
    "marvel_heroes = [\"Iron Man\", \"Captain America\", \"Thor\", \"Hulk\", \"Black Widow\"]\n",
    "marvel_heroes.append(\"Hawkeye\")\n",
    "marvel_heroes"
   ]
  },
  {
   "cell_type": "code",
   "execution_count": 38,
   "id": "730f7f95",
   "metadata": {},
   "outputs": [
    {
     "data": {
      "text/plain": [
       "['Hulk', 'Black Widow', 'Hawkeye']"
      ]
     },
     "execution_count": 38,
     "metadata": {},
     "output_type": "execute_result"
    }
   ],
   "source": [
    "marvel_heroes[3:]"
   ]
  },
  {
   "cell_type": "code",
   "execution_count": 39,
   "id": "11914c82",
   "metadata": {},
   "outputs": [
    {
     "data": {
      "text/plain": [
       "['Iron Man', 'Captain America', 'Thor', 'Hulk', 'Hawkeye']"
      ]
     },
     "execution_count": 39,
     "metadata": {},
     "output_type": "execute_result"
    }
   ],
   "source": [
    "marvel_heroes.remove('Black Widow')\n",
    "marvel_heroes"
   ]
  },
  {
   "cell_type": "code",
   "execution_count": 41,
   "id": "cac7034b",
   "metadata": {},
   "outputs": [
    {
     "data": {
      "text/plain": [
       "['Iron Man', 'Captain America', 'Thor', 'Hulk', 'Hawkeye']"
      ]
     },
     "execution_count": 41,
     "metadata": {},
     "output_type": "execute_result"
    }
   ],
   "source": [
    "marvel_herose = sorted(marvel_heroes)\n",
    "marvel_heroes"
   ]
  },
  {
   "cell_type": "code",
   "execution_count": 42,
   "id": "5757747e",
   "metadata": {},
   "outputs": [
    {
     "data": {
      "text/plain": [
       "[1, 2, 3]"
      ]
     },
     "execution_count": 42,
     "metadata": {},
     "output_type": "execute_result"
    }
   ],
   "source": [
    "fruit = {'apple':[1,2,3], 'banana':['yellow','sweet','long']}\n",
    "fruit['apple']"
   ]
  },
  {
   "cell_type": "code",
   "execution_count": 43,
   "id": "00d77f4e",
   "metadata": {},
   "outputs": [
    {
     "data": {
      "text/plain": [
       "1"
      ]
     },
     "execution_count": 43,
     "metadata": {},
     "output_type": "execute_result"
    }
   ],
   "source": [
    "fruit['apple'][0]"
   ]
  },
  {
   "cell_type": "code",
   "execution_count": 44,
   "id": "e692c525",
   "metadata": {},
   "outputs": [
    {
     "data": {
      "text/plain": [
       "{'apple': [1, 2, 3],\n",
       " 'banana': ['yellow', 'sweet', 'long'],\n",
       " 'orange': [4, 5, 6]}"
      ]
     },
     "execution_count": 44,
     "metadata": {},
     "output_type": "execute_result"
    }
   ],
   "source": [
    "fruit['orange'] = [4,5,6]\n",
    "fruit"
   ]
  },
  {
   "attachments": {},
   "cell_type": "markdown",
   "id": "a65d9a31",
   "metadata": {},
   "source": [
    "# **2023년 5월 4일**"
   ]
  },
  {
   "cell_type": "code",
   "execution_count": 8,
   "id": "a23f31d4",
   "metadata": {},
   "outputs": [
    {
     "name": "stdout",
     "output_type": "stream",
     "text": [
      "banana\n",
      "['banana']\n",
      "['apple', 'banana']\n",
      "['kiwi', 'melon']\n",
      "['banana', 'orange', 'melon']\n"
     ]
    }
   ],
   "source": [
    "my_list = ['apple', 'banana', 'cherry', 'orange', 'kiwi', 'melon']\n",
    "print(my_list[1])\n",
    "print(my_list[1:2])\n",
    "print(my_list[:2])\n",
    "print(my_list[4:])\n",
    "print(my_list[1::2])"
   ]
  },
  {
   "cell_type": "code",
   "execution_count": 10,
   "id": "b5b1ec07",
   "metadata": {},
   "outputs": [
    {
     "name": "stdout",
     "output_type": "stream",
     "text": [
      "3\n",
      "{'apple': 1, 'banana': 2, 'cherry': 3, 'kiwi': 4, 'mango': 7}\n",
      "['banana', 'cherry']\n",
      "[('apple', 1), ('banana', 2)]\n"
     ]
    }
   ],
   "source": [
    "my_dict = {'apple':1,'banana':2,'cherry':3, 'kiwi':4}\n",
    "print(my_dict['cherry'])\n",
    "my_dict['mango'] = 7\n",
    "print(my_dict)\n",
    "\n",
    "# 딕셔너리는 인덱스(순서)가 없기 때문에 순서를 만들기 위해 리스트로 만듦\n",
    "keys = list(my_dict.keys())\n",
    "print(keys[1:3])\n",
    "items = list(my_dict.items())\n",
    "print(items[:2])"
   ]
  },
  {
   "cell_type": "code",
   "execution_count": 3,
   "id": "0dec64a3",
   "metadata": {},
   "outputs": [
    {
     "name": "stdout",
     "output_type": "stream",
     "text": [
      "90\n",
      "[2, 1]\n"
     ]
    }
   ],
   "source": [
    "my_dict = {'score':[88,90,100], 'rank':[3,2,1]}\n",
    "print(my_dict['score'][1])\n",
    "print(my_dict['rank'][1:3])"
   ]
  },
  {
   "cell_type": "code",
   "execution_count": 16,
   "id": "fd17a9c1",
   "metadata": {},
   "outputs": [
    {
     "name": "stdout",
     "output_type": "stream",
     "text": [
      "Both numbers are not equal\n"
     ]
    }
   ],
   "source": [
    "num_a = 100\n",
    "num_b = 200\n",
    "if num_a == num_b:\n",
    "    print(\"Both numbers are equal\")\n",
    "else:\n",
    "    print(\"Both numbers are not equal\")\n",
    "    "
   ]
  },
  {
   "cell_type": "code",
   "execution_count": 14,
   "id": "37952b72",
   "metadata": {},
   "outputs": [
    {
     "name": "stdout",
     "output_type": "stream",
     "text": [
      "Both numbers are equal\n"
     ]
    }
   ],
   "source": [
    "num_a = 300\n",
    "num_b = 300\n",
    "if num_a == num_b:\n",
    "    print(\"Both numbers are equal\")\n",
    "else:\n",
    "    print(\"Both numbers are not equal\")\n",
    "    "
   ]
  },
  {
   "cell_type": "code",
   "execution_count": 19,
   "id": "6cc12974",
   "metadata": {},
   "outputs": [
    {
     "name": "stdout",
     "output_type": "stream",
     "text": [
      "7 is Odd\n"
     ]
    }
   ],
   "source": [
    "num = int(input(\"Enter a number: \"))\n",
    "if num % 2 == 0:\n",
    "   print(\"%d is Even\" %num)\n",
    "else:\n",
    "   print(\"%d is Odd\" %num)"
   ]
  },
  {
   "cell_type": "code",
   "execution_count": 23,
   "id": "58767f60",
   "metadata": {},
   "outputs": [
    {
     "name": "stdout",
     "output_type": "stream",
     "text": [
      "Number is negative\n"
     ]
    }
   ],
   "source": [
    "num_a = -10\n",
    "if num_a < 0:\n",
    "    print(\"Number is negative\")\n",
    "else:\n",
    "    print(\"Number is positive\")\n",
    "    \n",
    "    if num_a % 2 == 0:\n",
    "        print(\"Number is even\")\n",
    "    else:\n",
    "        print(\"Number is odd\")"
   ]
  },
  {
   "cell_type": "code",
   "execution_count": 24,
   "id": "edafe37f",
   "metadata": {},
   "outputs": [
    {
     "name": "stdout",
     "output_type": "stream",
     "text": [
      "C\n"
     ]
    }
   ],
   "source": [
    "score = 72\n",
    "if score >= 90:\n",
    "    print(\"A\")\n",
    "elif score >= 80:\n",
    "    print(\"B\")\n",
    "elif score >= 70:\n",
    "    print(\"C\")\n",
    "elif score >= 60:\n",
    "    print(\"D\")\n",
    "else:\n",
    "    print(\"F\")\n"
   ]
  },
  {
   "cell_type": "code",
   "execution_count": 27,
   "id": "0294ec94",
   "metadata": {},
   "outputs": [
    {
     "name": "stdout",
     "output_type": "stream",
     "text": [
      "1 2 3 4 5 "
     ]
    }
   ],
   "source": [
    "for i in [1,2,3,4,5]:\n",
    "    print(i, end=\" \")"
   ]
  },
  {
   "cell_type": "code",
   "execution_count": 31,
   "id": "b98c038e",
   "metadata": {},
   "outputs": [
    {
     "name": "stdout",
     "output_type": "stream",
     "text": [
      "0\n",
      "1\n",
      "2\n",
      "3\n",
      "4\n"
     ]
    }
   ],
   "source": [
    "for i in range(len(my_dict)):\n",
    "    print(i)"
   ]
  },
  {
   "cell_type": "code",
   "execution_count": 4,
   "id": "9fd4eddd",
   "metadata": {},
   "outputs": [
    {
     "name": "stdout",
     "output_type": "stream",
     "text": [
      "2\n",
      "5\n",
      "7\n",
      "3\n",
      "8\n"
     ]
    }
   ],
   "source": [
    "a = [2,5,7,3,8]\n",
    "for i in range(len(a)):\n",
    "    print(a[i])"
   ]
  },
  {
   "cell_type": "code",
   "execution_count": 6,
   "id": "cc64164e",
   "metadata": {},
   "outputs": [
    {
     "name": "stdout",
     "output_type": "stream",
     "text": [
      "(2, 1)\n",
      "(5, 3)\n",
      "(7, 4)\n",
      "(3, 5)\n",
      "(8, 6)\n"
     ]
    }
   ],
   "source": [
    "a = [2,5,7,3,8]\n",
    "b = [1,3,4,5,6]\n",
    "for i in zip(a,b):\n",
    "    print(i)"
   ]
  },
  {
   "cell_type": "code",
   "execution_count": 7,
   "id": "7f8be2ba",
   "metadata": {},
   "outputs": [
    {
     "name": "stdout",
     "output_type": "stream",
     "text": [
      "2 1\n",
      "5 3\n",
      "7 4\n",
      "3 5\n",
      "8 6\n"
     ]
    }
   ],
   "source": [
    "a = [2,5,7,3,8]\n",
    "b = [1,3,4,5,6]\n",
    "for i,j in zip(a,b):\n",
    "    print(i,j)"
   ]
  },
  {
   "cell_type": "code",
   "execution_count": 8,
   "id": "ec67f2df",
   "metadata": {},
   "outputs": [
    {
     "name": "stdout",
     "output_type": "stream",
     "text": [
      "(0, 2)\n",
      "(1, 5)\n",
      "(2, 7)\n",
      "(3, 3)\n",
      "(4, 8)\n"
     ]
    }
   ],
   "source": [
    "a = [2,5,7,3,8]\n",
    "for i in enumerate(a):\n",
    "    print(i)"
   ]
  },
  {
   "cell_type": "code",
   "execution_count": 9,
   "id": "04d6a940",
   "metadata": {},
   "outputs": [
    {
     "name": "stdout",
     "output_type": "stream",
     "text": [
      "0 2\n",
      "1 5\n",
      "2 7\n",
      "3 3\n",
      "4 8\n"
     ]
    }
   ],
   "source": [
    "a = [2,5,7,3,8]\n",
    "for i,j in enumerate(a):\n",
    "    print(i, j)"
   ]
  },
  {
   "cell_type": "code",
   "execution_count": 10,
   "id": "87548512",
   "metadata": {},
   "outputs": [
    {
     "data": {
      "text/plain": [
       "True"
      ]
     },
     "execution_count": 10,
     "metadata": {},
     "output_type": "execute_result"
    }
   ],
   "source": [
    "c = {1:'1', 3:'3'}\n",
    "'3' in c.values()  # value 값을 찾을 때"
   ]
  },
  {
   "attachments": {},
   "cell_type": "markdown",
   "id": "5eb6e61f",
   "metadata": {},
   "source": [
    "**itertools 파이썬 기본 라이브러리 , 제너레이터 많이 있음** (combinations)"
   ]
  },
  {
   "attachments": {},
   "cell_type": "markdown",
   "id": "fae2121a",
   "metadata": {},
   "source": [
    "**반복자 - 문자열, 리스트, 튜플, 딕셔너리, 제너레이터**"
   ]
  },
  {
   "attachments": {},
   "cell_type": "markdown",
   "id": "d1605cd1",
   "metadata": {},
   "source": [
    "**range는 값이 아닌, 범위를 생성. 필요할 때 그 범위 안의 값을 반환. 그래서 메모리 괜찮**"
   ]
  },
  {
   "cell_type": "code",
   "execution_count": 42,
   "id": "38596268",
   "metadata": {},
   "outputs": [
    {
     "data": {
      "text/plain": [
       "True"
      ]
     },
     "execution_count": 42,
     "metadata": {},
     "output_type": "execute_result"
    }
   ],
   "source": [
    "# range는 제너레이터임. 메모리를 별로 안 잡아먹음\n",
    "10000000000000000000000000000 in (range(11000000000000000000000000000))"
   ]
  },
  {
   "cell_type": "code",
   "execution_count": 17,
   "id": "82a2166a",
   "metadata": {},
   "outputs": [
    {
     "ename": "OverflowError",
     "evalue": "Python int too large to convert to C ssize_t",
     "output_type": "error",
     "traceback": [
      "\u001b[1;31m---------------------------------------------------------------------------\u001b[0m",
      "\u001b[1;31mOverflowError\u001b[0m                             Traceback (most recent call last)",
      "Cell \u001b[1;32mIn[17], line 1\u001b[0m\n\u001b[1;32m----> 1\u001b[0m \u001b[39m10000000000000000\u001b[39m \u001b[39min\u001b[39;00m \u001b[39mlen\u001b[39;49m(\u001b[39mrange\u001b[39;49m(\u001b[39m11000000000000000000\u001b[39;49m))\n",
      "\u001b[1;31mOverflowError\u001b[0m: Python int too large to convert to C ssize_t"
     ]
    }
   ],
   "source": [
    "10000000000000000 in len(range(11000000000000000000))"
   ]
  },
  {
   "cell_type": "code",
   "execution_count": 22,
   "id": "1e562078",
   "metadata": {},
   "outputs": [
    {
     "name": "stdout",
     "output_type": "stream",
     "text": [
      "world\n"
     ]
    }
   ],
   "source": [
    "if 0:\n",
    "    print(\"true\")\n",
    "else:\n",
    "    print(\"false\")"
   ]
  },
  {
   "cell_type": "code",
   "execution_count": 27,
   "id": "4bff6d1f",
   "metadata": {},
   "outputs": [
    {
     "name": "stdout",
     "output_type": "stream",
     "text": [
      "false\n"
     ]
    }
   ],
   "source": [
    "if []:\n",
    "    print(\"true\")\n",
    "else:\n",
    "    print(\"false\")"
   ]
  },
  {
   "cell_type": "code",
   "execution_count": 28,
   "id": "6f64d581",
   "metadata": {},
   "outputs": [
    {
     "name": "stdout",
     "output_type": "stream",
     "text": [
      "false\n"
     ]
    }
   ],
   "source": [
    "if None:\n",
    "    print(\"true\")\n",
    "else:\n",
    "    print(\"false\")"
   ]
  },
  {
   "cell_type": "code",
   "execution_count": 30,
   "id": "aa8b5eeb",
   "metadata": {},
   "outputs": [
    {
     "name": "stdout",
     "output_type": "stream",
     "text": [
      "9\n",
      "7\n",
      "5\n",
      "3\n",
      "1\n"
     ]
    }
   ],
   "source": [
    "lst = [1,3,5,7,9]\n",
    "while lst:\n",
    "    print(lst.pop())\n",
    "# 마지막에 리스트에 아무것도 남지 않아서, while문 끝남"
   ]
  },
  {
   "attachments": {},
   "cell_type": "markdown",
   "id": "2ee8b332",
   "metadata": {},
   "source": [
    "# break"
   ]
  },
  {
   "cell_type": "code",
   "execution_count": 33,
   "id": "0b38de52",
   "metadata": {},
   "outputs": [
    {
     "name": "stdout",
     "output_type": "stream",
     "text": [
      "9\n",
      "7\n",
      "5\n"
     ]
    }
   ],
   "source": [
    "lst = [1,3,5,7,9]\n",
    "while lst:\n",
    "    a = lst.pop()\n",
    "    print(a)\n",
    "    if a == 5:\n",
    "        break\n",
    "\n",
    "# break는 자신의 코드블록에서만 벗어남. 만약 두 번째 블록에서 break하면 첫 번째 문으로 넘어감."
   ]
  },
  {
   "cell_type": "code",
   "execution_count": 39,
   "id": "6295e154",
   "metadata": {},
   "outputs": [
    {
     "name": "stdout",
     "output_type": "stream",
     "text": [
      "1\n",
      "1가 6보다 작음\n",
      "3\n",
      "3가 6보다 작음\n",
      "5\n",
      "5가 6보다 작음\n",
      "7\n",
      "9\n"
     ]
    }
   ],
   "source": [
    "for i in [1,3,5,7,9]:\n",
    "    print(i)\n",
    "    if i > 6:\n",
    "        continue\n",
    "    print('%d가 6보다 작음' %i)"
   ]
  },
  {
   "cell_type": "code",
   "execution_count": 4,
   "id": "db3cd53f",
   "metadata": {},
   "outputs": [
    {
     "name": "stdout",
     "output_type": "stream",
     "text": [
      "2.5\n",
      "오류가 없으면 else로 넘어감\n"
     ]
    }
   ],
   "source": [
    "a = 5\n",
    "b = 2\n",
    "try:\n",
    "    print(a/b)\n",
    "except:\n",
    "    print(\"Error\")\n",
    "else:\n",
    "    print(\"오류가 없으면 else로 넘어감\")"
   ]
  },
  {
   "cell_type": "code",
   "execution_count": 7,
   "id": "2455780c",
   "metadata": {},
   "outputs": [
    {
     "name": "stdout",
     "output_type": "stream",
     "text": [
      "Error\n",
      "그냥 마지막에 하는 거??\n"
     ]
    }
   ],
   "source": [
    "a = 5\n",
    "b = 0\n",
    "try:\n",
    "    print(a/b)\n",
    "except:\n",
    "    print(\"Error\")\n",
    "finally:\n",
    "    print(\"그냥 마지막에 하는 거??\")"
   ]
  },
  {
   "cell_type": "code",
   "execution_count": 9,
   "id": "2dad99c8",
   "metadata": {},
   "outputs": [
    {
     "ename": "TypeError",
     "evalue": "정수만 가능합니다.",
     "output_type": "error",
     "traceback": [
      "\u001b[1;31m---------------------------------------------------------------------------\u001b[0m",
      "\u001b[1;31mTypeError\u001b[0m                                 Traceback (most recent call last)",
      "Cell \u001b[1;32mIn[9], line 5\u001b[0m\n\u001b[0;32m      3\u001b[0m     \u001b[39mprint\u001b[39m(a)\n\u001b[0;32m      4\u001b[0m \u001b[39melse\u001b[39;00m:\n\u001b[1;32m----> 5\u001b[0m     \u001b[39mraise\u001b[39;00m \u001b[39mTypeError\u001b[39;00m(\u001b[39m\"\u001b[39m\u001b[39m정수만 가능합니다.\u001b[39m\u001b[39m\"\u001b[39m)\n",
      "\u001b[1;31mTypeError\u001b[0m: 정수만 가능합니다."
     ]
    }
   ],
   "source": [
    "a = \"2\"\n",
    "if type(a) == int:\n",
    "    print(a)\n",
    "else:\n",
    "    raise TypeError(\"정수만 가능합니다.\")"
   ]
  },
  {
   "cell_type": "code",
   "execution_count": 10,
   "id": "47dc8171",
   "metadata": {},
   "outputs": [
    {
     "data": {
      "text/plain": [
       "140735360568504"
      ]
     },
     "execution_count": 10,
     "metadata": {},
     "output_type": "execute_result"
    }
   ],
   "source": [
    "id(a)"
   ]
  },
  {
   "attachments": {},
   "cell_type": "markdown",
   "id": "6d9f6264",
   "metadata": {},
   "source": [
    "**1.두 개의 정수를 입력하여 첫 번째 숫자가 두 번째 정수로 나누어 떨어지는지 검사하는 프로그램 작성**\n"
   ]
  },
  {
   "cell_type": "code",
   "execution_count": 25,
   "id": "3b0c04a5",
   "metadata": {},
   "outputs": [
    {
     "name": "stdout",
     "output_type": "stream",
     "text": [
      "나눠떨어지지 않습니다.\n"
     ]
    }
   ],
   "source": [
    "a = int(input(\"Enter a number: \"))\n",
    "b = int(input(\"Enter a number: \"))\n",
    "if a % b :\n",
    "    print(\"나눠떨어지지 않습니다.\")\n",
    "else:\n",
    "    print(\"나눠떨어집니다.\")"
   ]
  },
  {
   "attachments": {},
   "cell_type": "markdown",
   "id": "3ef3525b",
   "metadata": {},
   "source": [
    "**2. 세개의 정수를 입력하여 가장 작은 값을 찾는 프로그램**\n"
   ]
  },
  {
   "cell_type": "code",
   "execution_count": 16,
   "id": "06a3517a",
   "metadata": {},
   "outputs": [
    {
     "name": "stdout",
     "output_type": "stream",
     "text": [
      "가장 작은 숫자는 :  4\n"
     ]
    }
   ],
   "source": [
    "a = int(input(\"Enter a number: \"))\n",
    "b = int(input(\"Enter a number: \"))\n",
    "c = int(input(\"Enter a number: \"))\n",
    "print(\"가장 작은 숫자는 : \", min(a,b,c))"
   ]
  },
  {
   "cell_type": "code",
   "execution_count": 29,
   "id": "1e6c5e83",
   "metadata": {},
   "outputs": [
    {
     "name": "stdout",
     "output_type": "stream",
     "text": [
      "5\n"
     ]
    }
   ],
   "source": [
    "a = int(input(\"Enter a number: \"))\n",
    "b = int(input(\"Enter a number: \"))\n",
    "c = int(input(\"Enter a number: \"))\n",
    "lst = [a, b, c]\n",
    "answer = lst[0]\n",
    "for i in lst[1:]:\n",
    "    if i < answer:\n",
    "        answer = i\n",
    "print(answer)"
   ]
  },
  {
   "cell_type": "code",
   "execution_count": 32,
   "id": "1bb85cf3",
   "metadata": {},
   "outputs": [
    {
     "name": "stdout",
     "output_type": "stream",
     "text": [
      "[5, 6, 8]\n"
     ]
    }
   ],
   "source": [
    "lst = list(map(int, input().split(\" \")))\n",
    "print(lst)\n",
    "# 값이 여러 개일 때는 int로 전부 int로 바꿀 수 없어서 map함수를 쓴다."
   ]
  },
  {
   "attachments": {},
   "cell_type": "markdown",
   "id": "afa70ea7",
   "metadata": {},
   "source": [
    "**3.2부터 50사이의 모든 짝수를 출력하는 프로그램**"
   ]
  },
  {
   "cell_type": "code",
   "execution_count": 35,
   "id": "010321aa",
   "metadata": {},
   "outputs": [
    {
     "name": "stdout",
     "output_type": "stream",
     "text": [
      "2,4,6,8,10,12,14,16,18,20,22,24,26,28,30,32,34,36,38,40,42,44,46,48,50,"
     ]
    }
   ],
   "source": [
    "for i in range(2, 51):\n",
    "    if i % 2 == 0:   # if not i % 2:\n",
    "        print(i, end=\",\")"
   ]
  },
  {
   "attachments": {},
   "cell_type": "markdown",
   "id": "e8683067",
   "metadata": {},
   "source": [
    "**4.리스트 [11,22,23,99,81,93,35]에 저장된 원소들의 합을 구하는 프로그램**"
   ]
  },
  {
   "cell_type": "code",
   "execution_count": 22,
   "id": "7ac3bca8",
   "metadata": {},
   "outputs": [
    {
     "name": "stdout",
     "output_type": "stream",
     "text": [
      "364\n"
     ]
    }
   ],
   "source": [
    "a = [11,22,23,99,81,93,35]\n",
    "r = 0\n",
    "for i in a:\n",
    "    r += i\n",
    "print(r)"
   ]
  },
  {
   "cell_type": "code",
   "execution_count": 37,
   "id": "46587fcb",
   "metadata": {},
   "outputs": [
    {
     "data": {
      "text/plain": [
       "364"
      ]
     },
     "execution_count": 37,
     "metadata": {},
     "output_type": "execute_result"
    }
   ],
   "source": [
    "sum([11,22,23,99,81,93,35])"
   ]
  },
  {
   "attachments": {},
   "cell_type": "markdown",
   "id": "51764b3e",
   "metadata": {},
   "source": [
    "**5. 1부터 100까지의 숫자 중에서 3과 5의 공배수의 합을 구하는 프로그램**"
   ]
  },
  {
   "cell_type": "code",
   "execution_count": 39,
   "id": "6e44921d",
   "metadata": {},
   "outputs": [
    {
     "name": "stdout",
     "output_type": "stream",
     "text": [
      "15 30 45 60 75 90 \n",
      " 315\n"
     ]
    }
   ],
   "source": [
    "result = 0\n",
    "for i in range(1, 101):\n",
    "    if i % 3 == 0 and i % 5 == 0:\n",
    "        print(i, end=\" \")\n",
    "        result += i\n",
    "\n",
    "print('\\n',result)"
   ]
  },
  {
   "cell_type": "code",
   "execution_count": 40,
   "id": "5812035a",
   "metadata": {},
   "outputs": [
    {
     "name": "stdout",
     "output_type": "stream",
     "text": [
      "315\n"
     ]
    }
   ],
   "source": [
    "a = set(range(3,101,3))&set(range(5,101,5))\n",
    "print(sum(a))"
   ]
  },
  {
   "cell_type": "code",
   "execution_count": null,
   "id": "ab27c537",
   "metadata": {},
   "outputs": [],
   "source": []
  }
 ],
 "metadata": {
  "kernelspec": {
   "display_name": "Python 3 (ipykernel)",
   "language": "python",
   "name": "python3"
  },
  "language_info": {
   "codemirror_mode": {
    "name": "ipython",
    "version": 3
   },
   "file_extension": ".py",
   "mimetype": "text/x-python",
   "name": "python",
   "nbconvert_exporter": "python",
   "pygments_lexer": "ipython3",
   "version": "3.11.3"
  }
 },
 "nbformat": 4,
 "nbformat_minor": 5
}
