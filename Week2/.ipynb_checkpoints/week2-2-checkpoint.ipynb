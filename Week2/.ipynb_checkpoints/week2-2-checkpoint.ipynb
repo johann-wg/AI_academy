{
 "cells": [
  {
   "cell_type": "markdown",
   "metadata": {},
   "source": [
    "# 2023.05.10 파이썬 실습"
   ]
  },
  {
   "cell_type": "code",
   "execution_count": 58,
   "metadata": {},
   "outputs": [
    {
     "name": "stdout",
     "output_type": "stream",
     "text": [
      "[0, 1, 2, 5, 6, 7]\n",
      "{0, 1, 2, 5, 6, 7}\n"
     ]
    }
   ],
   "source": [
    "# 공통 요소 제외한 나머지 요소 반환 함수 작성\n",
    "list_1 = [0,1,2,3,4]\n",
    "list_2 = [3,4,5,6,7]\n",
    "def except_common(a, b):\n",
    "    lst = []\n",
    "    for i in a:\n",
    "        if i not in b:\n",
    "            lst.append(i)\n",
    "    for j in b:\n",
    "        if j not in a:\n",
    "            lst.append(j)\n",
    "        \n",
    "    return lst\n",
    "\n",
    "def except_common2(a,b):\n",
    "    return set(a) ^ set(b)\n",
    "        \n",
    "\n",
    "print(except_common(list_1, list_2))\n",
    "print(except_common2(list_1, list_2))"
   ]
  },
  {
   "cell_type": "code",
   "execution_count": 60,
   "metadata": {},
   "outputs": [
    {
     "name": "stdout",
     "output_type": "stream",
     "text": [
      "alice\n",
      "bob\n",
      "ethan\n"
     ]
    },
    {
     "data": {
      "text/plain": [
       "[('alice', 82), ('bob', 90), ('ethan', 94)]"
      ]
     },
     "execution_count": 60,
     "metadata": {},
     "output_type": "execute_result"
    }
   ],
   "source": [
    "# 딕셔너리에서 80점 이상 학생의 이름 출력 함수\n",
    "dict_score = {'alice':82, 'bob':90, 'charlie':75, 'david':67, 'ethan':94}\n",
    "\n",
    "def temp(dict):\n",
    "    for i, j in dict.items():\n",
    "        if j >= 80:\n",
    "            print(i)\n",
    "\n",
    "def temp2(dict):\n",
    "    return list(filter(lambda x: x[1] >=80, dict_score.items()))\n",
    "    # 앞에 map 씌우면 이름만 가능\n",
    "\n",
    "temp(dict_score)\n",
    "temp2(dict_score)"
   ]
  },
  {
   "cell_type": "code",
   "execution_count": 62,
   "metadata": {},
   "outputs": [
    {
     "name": "stdout",
     "output_type": "stream",
     "text": [
      "['apple', 'banana', 'cherry']\n",
      "['apple', 'banana', 'cherry']\n"
     ]
    }
   ],
   "source": [
    "# 딕셔너리 값과 일치하는 리스트의 요소만 반환하는 함수 작성\n",
    "fruits = ['apple', 'banana', 'cherry', 'duria']\n",
    "fruit_dict = {'a':'apple', 'b':'banana', 'c':'cherry'}\n",
    "\n",
    "def temp(l, d):\n",
    "    temp_lst = []\n",
    "    for i in d.values():\n",
    "        if i in l:\n",
    "            temp_lst.append(i)\n",
    "    return temp_lst\n",
    "\n",
    "\n",
    "\n",
    "print(temp(fruits, fruit_dict))\n",
    "print(list(filter(lambda x: x in fruit_dict.values(), fruits)))"
   ]
  },
  {
   "cell_type": "code",
   "execution_count": 91,
   "metadata": {},
   "outputs": [
    {
     "name": "stdout",
     "output_type": "stream",
     "text": [
      "대문자 : 5, 소문자 4, 숫자 3\n",
      "대문자 : 5, 소문자 4, 숫자 3\n",
      "None\n"
     ]
    }
   ],
   "source": [
    "# 문자열 입력받아 해당 문자열에 대문자, 소문자, 숫자가 각각 몇개씩 있는지 출력하는 함수 작성\n",
    "# 만약 입력된 문자열이 없으면 \"문자열이 입력되지 않았습니다.\"라는 문장을 출력\n",
    "# isupper()  / islower() / isdigit()\n",
    "\n",
    "def temp_s(s):\n",
    "    count1 = 0\n",
    "    count2 = 0\n",
    "    count3 = 0\n",
    "    for i in s:\n",
    "        if 65 <= ord(i) <=90:\n",
    "            count1 += 1\n",
    "        elif 97 <= ord(i) <=122:\n",
    "            count2 += 1\n",
    "        elif 48 <= ord(i) <=57:\n",
    "            count3 += 1\n",
    "\n",
    "    return f\"대문자 : {count1}, 소문자 {count2}, 숫자 {count3}\"\n",
    "    \n",
    "\n",
    "\n",
    "def count_s(string):\n",
    "    if string:\n",
    "        count_u = 0\n",
    "        count_l = 0\n",
    "        count_d = 0\n",
    "        for c in string:\n",
    "            if c.isupper():\n",
    "                count_u += 1\n",
    "            elif c.islower():\n",
    "                count_l += 1\n",
    "            elif c.isdigit():\n",
    "                count_d += 1\n",
    "        print(f\"대문자 : {count_u}, 소문자 {count_l}, 숫자 {count_d}\")\n",
    "    else:\n",
    "        print(\"문자열이 입력되지 않았습니다.\")\n",
    "\n",
    "string_a = 'se345DFrfFFG'\n",
    "print(temp_s(string_a))\n",
    "print(count_s(string_a))"
   ]
  },
  {
   "cell_type": "code",
   "execution_count": 2,
   "metadata": {},
   "outputs": [
    {
     "name": "stdout",
     "output_type": "stream",
     "text": [
      "7\n"
     ]
    },
    {
     "data": {
      "text/plain": [
       "True"
      ]
     },
     "execution_count": 2,
     "metadata": {},
     "output_type": "execute_result"
    }
   ],
   "source": [
    "a = 'sdfeggf'\n",
    "count = 0\n",
    "for i in a:\n",
    "    count += i.islower()\n",
    "print(count)\n",
    "\n",
    "a.islower()"
   ]
  },
  {
   "cell_type": "code",
   "execution_count": 99,
   "metadata": {},
   "outputs": [
    {
     "data": {
      "text/plain": [
       "'grapefruit'"
      ]
     },
     "execution_count": 99,
     "metadata": {},
     "output_type": "execute_result"
    }
   ],
   "source": [
    "# 아래 리스트에 존재하는 문자열 중에서 가장 긴 문자열을 찾는 프로그램 작성. \n",
    "# 먼저 LongestStringFinder라는 클래스를 정의한다. \n",
    "# find_longest_string()이라는 멤버함수 가진다. 이 함수가 반환하는 값이 가장 큰 문자열\n",
    "string_list = ['apple', 'banana', 'orange', 'grapefruit', 'pear']\n",
    "\n",
    "class LongestStringFinder:\n",
    "    def find_longest_string(self, lst):\n",
    "        lst.sort(key=len, reverse=True)\n",
    "        return lst[0]\n",
    "\n",
    "    def findlogest(self, list_s):\n",
    "        temp = ''\n",
    "        for string in list_s:\n",
    "            if len(string) > len(temp):\n",
    "                temp = string\n",
    "        return temp\n",
    "\n",
    "\n",
    "LongestStringFinder().find_longest_string(string_list)\n",
    "LongestStringFinder().findlogest(string_list)\n",
    "      \n",
    "\n"
   ]
  },
  {
   "cell_type": "code",
   "execution_count": 1,
   "metadata": {},
   "outputs": [
    {
     "name": "stdout",
     "output_type": "stream",
     "text": [
      "1덧셈\n",
      "2뺄셈\n",
      "3곱셈\n",
      "4나눗셈\n",
      "5종료\n",
      "원하는 작업을 선택하세요 : 1\n",
      "첫 번째 숫자를 입력하세요 :5\n",
      "1덧셈\n",
      "2뺄셈\n",
      "3곱셈\n",
      "4나눗셈\n",
      "5종료\n",
      "원하는 작업을 선택하세요 : 2\n",
      "첫 번째 숫자를 입력하세요 :3\n",
      "1덧셈\n",
      "2뺄셈\n",
      "3곱셈\n",
      "4나눗셈\n",
      "5종료\n",
      "원하는 작업을 선택하세요 : 5\n",
      "프로그램을 종료합니다.\n",
      "결과 : 2\n"
     ]
    }
   ],
   "source": [
    "class Calculator:\n",
    "    def __init__(self):\n",
    "        self.answer = 0\n",
    "    \n",
    "    def start(self):\n",
    "        while True:\n",
    "            process = int(input('1덧셈\\n2뺄셈\\n3곱셈\\n4나눗셈\\n5종료\\n원하는 작업을 선택하세요 : '))\n",
    "            if process == 1: self.add()\n",
    "            elif process == 2: self.sub()\n",
    "            elif process == 3: self.mul()\n",
    "            elif process == 4: self.div()\n",
    "            elif process == 5: \n",
    "                print(\"프로그램을 종료합니다.\")\n",
    "                break\n",
    "            else: print(\"유효하지 않은 숫자입니다.\\n\")\n",
    "            print(\"결과 :\", self.answer)\n",
    "\n",
    "    def add(self):\n",
    "        num1 = int(input(\"첫 번째 숫자를 입력하세요 :\"))\n",
    "        self.answer += num1\n",
    "        \n",
    "\n",
    "    def sub(self):\n",
    "        num1 = int(input(\"첫 번째 숫자를 입력하세요 :\"))\n",
    "        self.answer -= num1\n",
    "        \n",
    " \n",
    "    def mul(self):\n",
    "        num1 = int(input(\"첫 번째 숫자를 입력하세요 :\"))\n",
    "        self.answer *= num1\n",
    "        \n",
    "\n",
    "    def div(self):\n",
    "        num1 = int(input(\"첫 번째 숫자를 입력하세요 :\"))\n",
    "        self.answer /= num1\n",
    "\n",
    "\n",
    "Calculator().start()"
   ]
  },
  {
   "cell_type": "code",
   "execution_count": 6,
   "metadata": {},
   "outputs": [
    {
     "name": "stdout",
     "output_type": "stream",
     "text": [
      "유효하지 않은 숫자입니다.\n",
      "유효하지 않은 숫자입니다.\n"
     ]
    }
   ],
   "source": [
    "# 계산기 클래스를 정의하고, 이를 이용한 계산기 프로그램 작성\n",
    "# 1덧셈\n",
    "# 2뺄셈  \n",
    "# 3곱셈  \n",
    "# 4나눗셈  \n",
    "# 5종료\n",
    "# 원하는 작업을 선택하세요 : 1\n",
    "# 숫자를 입력하세요 : 5\n",
    "# 결과 : 5.0\n",
    "\n",
    "class computa:\n",
    "    def start(self):\n",
    "        while True:\n",
    "            oper = int(input(\"\"\"원하는 작업을 선택하세요\\n\n",
    "            1 덧셈\n",
    "            2 뺄셈\n",
    "            3 곱셈\n",
    "            4 나눗셈\n",
    "            5 종료\"\"\"))\n",
    "            if oper == 1: self.add()\n",
    "            elif oper == 2: self.sub()\n",
    "            elif oper == 3: self.mul()\n",
    "            elif oper == 4: self.div()\n",
    "            elif oper == 5: break\n",
    "            else: print(\"유효하지 않은 숫자입니다.\")\n",
    "        \n",
    "    def add(self):\n",
    "        num1 = int(input(\"첫 번째 숫자를 입력하세요 : \"))\n",
    "        num2 = int(input(\"두 번째 숫자를 입력하세요 : \"))\n",
    "        print(f\"결과 : {num1 + num2}\")\n",
    "    def sub(self):\n",
    "        num1 = int(input(\"첫 번째 숫자를 입력하세요 : \"))\n",
    "        num2 = int(input(\"두 번째 숫자를 입력하세요 : \"))\n",
    "        print(f\"결과 : {num1 - num2}\")\n",
    "    def mul(self):\n",
    "        num1 = int(input(\"첫 번째 숫자를 입력하세요 : \"))\n",
    "        num2 = int(input(\"두 번째 숫자를 입력하세요 : \"))\n",
    "        print(f\"결과 : {num1 * num2}\")\n",
    "    def div(self):\n",
    "        num1 = int(input(\"첫 번째 숫자를 입력하세요 : \"))\n",
    "        num2 = int(input(\"두 번째 숫자를 입력하세요 : \"))\n",
    "        print(f\"결과 : {num1 / num2}\")\n",
    "\n",
    "computa().start()"
   ]
  },
  {
   "cell_type": "code",
   "execution_count": null,
   "metadata": {},
   "outputs": [],
   "source": []
  }
 ],
 "metadata": {
  "kernelspec": {
   "display_name": "Python 3 (ipykernel)",
   "language": "python",
   "name": "python3"
  },
  "language_info": {
   "codemirror_mode": {
    "name": "ipython",
    "version": 3
   },
   "file_extension": ".py",
   "mimetype": "text/x-python",
   "name": "python",
   "nbconvert_exporter": "python",
   "pygments_lexer": "ipython3",
   "version": "3.10.9"
  }
 },
 "nbformat": 4,
 "nbformat_minor": 2
}
