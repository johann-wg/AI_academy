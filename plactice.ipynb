{
 "cells": [
  {
   "attachments": {},
   "cell_type": "markdown",
   "metadata": {},
   "source": [
    "# 자연수 뒤집어 배열로 만들기"
   ]
  },
  {
   "cell_type": "code",
   "execution_count": 2,
   "metadata": {},
   "outputs": [
    {
     "data": {
      "text/plain": [
       "[5, 4, 3, 2, 1]"
      ]
     },
     "execution_count": 2,
     "metadata": {},
     "output_type": "execute_result"
    }
   ],
   "source": [
    "def solution(n):\n",
    "    answer = []\n",
    "    for i in reversed(str(n)):\n",
    "        answer.append(int(i))\n",
    "    \n",
    "    return answer\n",
    "\n",
    "solution(12345)"
   ]
  },
  {
   "cell_type": "code",
   "execution_count": null,
   "metadata": {},
   "outputs": [],
   "source": [
    "def digit_reverse(n):\n",
    "    return list(map(int, reversed(str(n))))"
   ]
  },
  {
   "attachments": {},
   "cell_type": "markdown",
   "metadata": {},
   "source": [
    "**놀이기구의 원래 이용료는 price원 인데, 놀이기구를 N 번 째 이용한다면 원래 이용료의 N배를 받기로 하였습니다.<br> 즉, 처음 이용료가 100이었다면 2번째에는 200, 3번째에는 300으로 요금이 인상됩니다.<br>\n",
    "놀이기구를 count번 타게 되면 현재 자신이 가지고 있는 금액에서 얼마가 모자라는지를 return 하도록 solution 함수를 완성하세요.<br>\n",
    "단, 금액이 부족하지 않으면 0을 return 하세요.**"
   ]
  },
  {
   "cell_type": "code",
   "execution_count": 1,
   "metadata": {},
   "outputs": [],
   "source": [
    "def solution(price, money, count):\n",
    "    answer = 0\n",
    "    for i in range(1, count+1):\n",
    "        money -= price * i\n",
    "        if money < 0:\n",
    "            answer = abs(money)\n",
    "        elif money <= price:\n",
    "            answer = 0\n",
    "        else:\n",
    "            answer = -1\n",
    "    return answer"
   ]
  },
  {
   "attachments": {},
   "cell_type": "markdown",
   "metadata": {},
   "source": [
    "# 정수 제곱근 판별  \n",
    "### 모르겠다"
   ]
  },
  {
   "cell_type": "code",
   "execution_count": 17,
   "metadata": {},
   "outputs": [
    {
     "name": "stdout",
     "output_type": "stream",
     "text": [
      "144.0\n",
      "7.464101615137754\n"
     ]
    }
   ],
   "source": [
    "def solution(n):\n",
    "    answer = 0\n",
    "    x = int(n)**(1/2)\n",
    "    if x != float :\n",
    "        answer = (x+1) * (x+1)\n",
    "    else:\n",
    "        answer = -1\n",
    "    return answer\n",
    "print(solution(121))\n",
    "print(solution(3))"
   ]
  },
  {
   "cell_type": "code",
   "execution_count": 3,
   "metadata": {},
   "outputs": [
    {
     "data": {
      "text/plain": [
       "11.0"
      ]
     },
     "execution_count": 3,
     "metadata": {},
     "output_type": "execute_result"
    }
   ],
   "source": [
    "def solution(s):\n",
    "    answer = 0\n",
    "    if s.find('+'):\n",
    "        answer = int(s.replace(\"+\",\"\"))\n",
    "    else :\n",
    "        answer = int(s)\n",
    "\n",
    "    return answer"
   ]
  },
  {
   "cell_type": "code",
   "execution_count": 9,
   "metadata": {},
   "outputs": [
    {
     "data": {
      "text/plain": [
       "9854422"
      ]
     },
     "execution_count": 9,
     "metadata": {},
     "output_type": "execute_result"
    }
   ],
   "source": [
    "def solution(n):\n",
    "    answer = []\n",
    "    for i in str(n):\n",
    "        answer.append(i)\n",
    "        answer.sort(reverse=True)\n",
    "    return int(''.join(answer))\n",
    "\n",
    "\n",
    "solution(2458492)"
   ]
  },
  {
   "cell_type": "code",
   "execution_count": 10,
   "metadata": {},
   "outputs": [
    {
     "data": {
      "text/plain": [
       "9854422"
      ]
     },
     "execution_count": 10,
     "metadata": {},
     "output_type": "execute_result"
    }
   ],
   "source": [
    "def solution(n):\n",
    "    answer = list(str(n))\n",
    "    answer.sort(reverse=True)\n",
    "    return int(''.join(answer))\n",
    "\n",
    "solution(2458492)"
   ]
  },
  {
   "cell_type": "code",
   "execution_count": 15,
   "metadata": {},
   "outputs": [
    {
     "data": {
      "text/plain": [
       "[5, 10]"
      ]
     },
     "execution_count": 15,
     "metadata": {},
     "output_type": "execute_result"
    }
   ],
   "source": [
    "def solution(arr, divisor):\n",
    "    answer = []\n",
    "    for num in arr:\n",
    "        if num % divisor == 0:\n",
    "            answer.append(num)\n",
    "    if len(answer) == 0:\n",
    "        answer = [-1]\n",
    "    answer.sort()\n",
    "    return answer\n",
    "\n",
    "solution([5, 9, 7, 10], 5)"
   ]
  },
  {
   "attachments": {},
   "cell_type": "markdown",
   "metadata": {},
   "source": [
    "# return ~ [i for i in arr if 조건] or [~]"
   ]
  },
  {
   "cell_type": "code",
   "execution_count": 17,
   "metadata": {},
   "outputs": [
    {
     "data": {
      "text/plain": [
       "[5, 10]"
      ]
     },
     "execution_count": 17,
     "metadata": {},
     "output_type": "execute_result"
    }
   ],
   "source": [
    "def solution(arr, divisor): return sorted([n for n in arr if n % divisor == 0]) or [-1]\n",
    "\n",
    "solution([5, 9, 7, 10], 5)"
   ]
  },
  {
   "cell_type": "code",
   "execution_count": 18,
   "metadata": {},
   "outputs": [],
   "source": [
    "def solution(absolutes, signs):\n",
    "    \n",
    "    return answer"
   ]
  },
  {
   "cell_type": "code",
   "execution_count": 19,
   "metadata": {},
   "outputs": [
    {
     "ename": "NameError",
     "evalue": "name 'a' is not defined",
     "output_type": "error",
     "traceback": [
      "\u001b[1;31m---------------------------------------------------------------------------\u001b[0m",
      "\u001b[1;31mNameError\u001b[0m                                 Traceback (most recent call last)",
      "Cell \u001b[1;32mIn[19], line 1\u001b[0m\n\u001b[1;32m----> 1\u001b[0m r \u001b[39m=\u001b[39m a \u001b[39m+\u001b[39m b\n\u001b[0;32m      3\u001b[0m a \u001b[39m=\u001b[39m \u001b[39m1\u001b[39m\n\u001b[0;32m      4\u001b[0m b \u001b[39m=\u001b[39m \u001b[39m2\u001b[39m\n",
      "\u001b[1;31mNameError\u001b[0m: name 'a' is not defined"
     ]
    }
   ],
   "source": [
    "def sum():\n",
    "    resutl = a+b\n",
    "    print(resutl)\n",
    "\n",
    "a = 1\n",
    "b = 2\n",
    "print(r)"
   ]
  },
  {
   "cell_type": "code",
   "execution_count": 20,
   "metadata": {},
   "outputs": [
    {
     "name": "stdout",
     "output_type": "stream",
     "text": [
      "300\n"
     ]
    }
   ],
   "source": [
    "def sum(a, b):\n",
    "    a = 100\n",
    "    b = 200\n",
    "    return a + b\n",
    "    \n",
    "print(sum(10, 20))"
   ]
  },
  {
   "cell_type": "code",
   "execution_count": 22,
   "metadata": {},
   "outputs": [
    {
     "data": {
      "text/plain": [
       "9"
      ]
     },
     "execution_count": 22,
     "metadata": {},
     "output_type": "execute_result"
    }
   ],
   "source": [
    "def solution(absolutes, signs):\n",
    "    answer = 0\n",
    "    for i, j in zip(absolutes, signs):\n",
    "        if j:\n",
    "            answer += i\n",
    "        else:\n",
    "            answer -= i\n",
    "    return answer\n",
    "solution([4,7,12], [True,False,True])"
   ]
  },
  {
   "cell_type": "code",
   "execution_count": 23,
   "metadata": {},
   "outputs": [],
   "source": [
    "def solution(absolutes, signs):\n",
    "    return sum(absolutes if sign else -absolutes for absolutes, sign in zip(absolutes, signs))"
   ]
  },
  {
   "cell_type": "code",
   "execution_count": 1,
   "metadata": {},
   "outputs": [
    {
     "name": "stdout",
     "output_type": "stream",
     "text": [
      "['i', 'love', 'you']\n"
     ]
    }
   ],
   "source": [
    "def solution(my_string):\n",
    "    return my_string.split()\n",
    "\n",
    "solution(\"i love you\")"
   ]
  },
  {
   "cell_type": "code",
   "execution_count": 4,
   "metadata": {},
   "outputs": [
    {
     "data": {
      "text/plain": [
       "6"
      ]
     },
     "execution_count": 4,
     "metadata": {},
     "output_type": "execute_result"
    }
   ],
   "source": [
    "def solution(array):\n",
    "    count = 0\n",
    "    for num in array:\n",
    "        if num in array:\n",
    "            count += 1\n",
    "    return count\n",
    "\n",
    "solution([1,2,3,3,3,4])"
   ]
  },
  {
   "cell_type": "code",
   "execution_count": 2,
   "metadata": {},
   "outputs": [
    {
     "name": "stdout",
     "output_type": "stream",
     "text": [
      "a = 4\n",
      "b = 5\n"
     ]
    }
   ],
   "source": [
    "def solution(a, b):\n",
    "    print(f\"a = {a}\\nb = {b}\")\n",
    "\n",
    "solution(4,5)"
   ]
  },
  {
   "cell_type": "code",
   "execution_count": 1,
   "metadata": {},
   "outputs": [],
   "source": [
    "# 계산기 클래스를 정의하고, 이를 이용한 계산기 프로그램 작성\n",
    "# 1덧셈\n",
    "# 2뺄셈  \n",
    "# 3곱셈  \n",
    "# 4나눗셈  \n",
    "# 5종료\n",
    "# 원하는 작업을 선택하세요 : 1\n",
    "# 숫자를 입력하세요 : 5\n",
    "# 결과 : 5.0\n",
    "\n",
    "class computa:\n",
    "    def start(self):\n",
    "        while True:\n",
    "            oper = int(input(\"\"\"원하는 작업을 선택하세요\\n\n",
    "            1 덧셈\n",
    "            2 뺄셈\n",
    "            3 곱셈\n",
    "            4 나눗셈\n",
    "            5 종료\"\"\"))\n",
    "            if oper == 1: self.add()\n",
    "            elif oper == 2: self.sub()\n",
    "            elif oper == 3: self.mul()\n",
    "            elif oper == 4: self.div()\n",
    "            elif oper == 5: break\n",
    "            else: print(\"유효하지 않은 숫자입니다.\")\n",
    "        \n",
    "    def add(self):\n",
    "        num1 = int(input(\"첫 번째 숫자를 입력하세요 : \"))\n",
    "        num2 = int(input(\"두 번째 숫자를 입력하세요 : \"))\n",
    "        print(f\"결과 : {num1 + num2}\")\n",
    "    def sub(self):\n",
    "        num1 = int(input(\"첫 번째 숫자를 입력하세요 : \"))\n",
    "        num2 = int(input(\"두 번째 숫자를 입력하세요 : \"))\n",
    "        print(f\"결과 : {num1 - num2}\")\n",
    "    def mul(self):\n",
    "        num1 = int(input(\"첫 번째 숫자를 입력하세요 : \"))\n",
    "        num2 = int(input(\"두 번째 숫자를 입력하세요 : \"))\n",
    "        print(f\"결과 : {num1 * num2}\")\n",
    "    def div(self):\n",
    "        num1 = int(input(\"첫 번째 숫자를 입력하세요 : \"))\n",
    "        num2 = int(input(\"두 번째 숫자를 입력하세요 : \"))\n",
    "        print(f\"결과 : {num1 / num2}\")\n",
    "\n",
    "computa().start()"
   ]
  },
  {
   "cell_type": "code",
   "execution_count": 2,
   "metadata": {},
   "outputs": [
    {
     "name": "stdout",
     "output_type": "stream",
     "text": [
      "      col1  col3\n",
      "row1     1     2\n",
      "row2     3     4\n"
     ]
    }
   ],
   "source": [
    "import pandas as pd\n",
    "df = pd.DataFrame(data=[[1,2],[3,4]], index=['row1','row2'], columns=['col1','col3'])\n",
    "print(df)"
   ]
  },
  {
   "cell_type": "code",
   "execution_count": 3,
   "metadata": {},
   "outputs": [
    {
     "name": "stdout",
     "output_type": "stream",
     "text": [
      "      col2  col4\n",
      "row3     5     6\n"
     ]
    }
   ],
   "source": [
    "df2 = pd.DataFrame(data=[[5,6]],index=['row3'],columns=['col2','col4'])\n",
    "print(df2)"
   ]
  },
  {
   "cell_type": "code",
   "execution_count": 5,
   "metadata": {},
   "outputs": [
    {
     "ename": "AttributeError",
     "evalue": "'DataFrame' object has no attribute 'concat'",
     "output_type": "error",
     "traceback": [
      "\u001b[1;31m---------------------------------------------------------------------------\u001b[0m",
      "\u001b[1;31mAttributeError\u001b[0m                            Traceback (most recent call last)",
      "\u001b[1;32m~\\AppData\\Local\\Temp\\ipykernel_14152\\1097516340.py\u001b[0m in \u001b[0;36m?\u001b[1;34m()\u001b[0m\n\u001b[1;32m----> 1\u001b[1;33m \u001b[0mdf\u001b[0m\u001b[1;33m.\u001b[0m\u001b[0mconcat\u001b[0m\u001b[1;33m(\u001b[0m\u001b[0mdf2\u001b[0m\u001b[1;33m)\u001b[0m\u001b[1;33m\u001b[0m\u001b[1;33m\u001b[0m\u001b[0m\n\u001b[0m",
      "\u001b[1;32mc:\\Users\\PC\\anaconda3\\envs\\CW_AI_Academy\\Lib\\site-packages\\pandas\\core\\generic.py\u001b[0m in \u001b[0;36m?\u001b[1;34m(self, name)\u001b[0m\n\u001b[0;32m   5898\u001b[0m             \u001b[1;32mand\u001b[0m \u001b[0mname\u001b[0m \u001b[1;32mnot\u001b[0m \u001b[1;32min\u001b[0m \u001b[0mself\u001b[0m\u001b[1;33m.\u001b[0m\u001b[0m_accessors\u001b[0m\u001b[1;33m\u001b[0m\u001b[1;33m\u001b[0m\u001b[0m\n\u001b[0;32m   5899\u001b[0m             \u001b[1;32mand\u001b[0m \u001b[0mself\u001b[0m\u001b[1;33m.\u001b[0m\u001b[0m_info_axis\u001b[0m\u001b[1;33m.\u001b[0m\u001b[0m_can_hold_identifiers_and_holds_name\u001b[0m\u001b[1;33m(\u001b[0m\u001b[0mname\u001b[0m\u001b[1;33m)\u001b[0m\u001b[1;33m\u001b[0m\u001b[1;33m\u001b[0m\u001b[0m\n\u001b[0;32m   5900\u001b[0m         ):\n\u001b[0;32m   5901\u001b[0m             \u001b[1;32mreturn\u001b[0m \u001b[0mself\u001b[0m\u001b[1;33m[\u001b[0m\u001b[0mname\u001b[0m\u001b[1;33m]\u001b[0m\u001b[1;33m\u001b[0m\u001b[1;33m\u001b[0m\u001b[0m\n\u001b[1;32m-> 5902\u001b[1;33m         \u001b[1;32mreturn\u001b[0m \u001b[0mobject\u001b[0m\u001b[1;33m.\u001b[0m\u001b[0m__getattribute__\u001b[0m\u001b[1;33m(\u001b[0m\u001b[0mself\u001b[0m\u001b[1;33m,\u001b[0m \u001b[0mname\u001b[0m\u001b[1;33m)\u001b[0m\u001b[1;33m\u001b[0m\u001b[1;33m\u001b[0m\u001b[0m\n\u001b[0m",
      "\u001b[1;31mAttributeError\u001b[0m: 'DataFrame' object has no attribute 'concat'"
     ]
    }
   ],
   "source": []
  },
  {
   "cell_type": "code",
   "execution_count": 2,
   "metadata": {},
   "outputs": [
    {
     "ename": "IndexError",
     "evalue": "list index out of range",
     "output_type": "error",
     "traceback": [
      "\u001b[1;31m---------------------------------------------------------------------------\u001b[0m",
      "\u001b[1;31mIndexError\u001b[0m                                Traceback (most recent call last)",
      "Cell \u001b[1;32mIn[2], line 7\u001b[0m\n\u001b[0;32m      4\u001b[0m         answer \u001b[39m+\u001b[39m\u001b[39m=\u001b[39m i \u001b[39m*\u001b[39m \u001b[39msorted\u001b[39m(b, reverse\u001b[39m=\u001b[39m\u001b[39mTrue\u001b[39;00m)[i]\n\u001b[0;32m      5\u001b[0m     \u001b[39mreturn\u001b[39;00m answer\n\u001b[1;32m----> 7\u001b[0m solution([\u001b[39m1\u001b[39;49m, \u001b[39m4\u001b[39;49m, \u001b[39m2\u001b[39;49m], [\u001b[39m5\u001b[39;49m, \u001b[39m4\u001b[39;49m, \u001b[39m4\u001b[39;49m])\n",
      "Cell \u001b[1;32mIn[2], line 4\u001b[0m, in \u001b[0;36msolution\u001b[1;34m(a, b)\u001b[0m\n\u001b[0;32m      2\u001b[0m answer \u001b[39m=\u001b[39m \u001b[39m0\u001b[39m\n\u001b[0;32m      3\u001b[0m \u001b[39mfor\u001b[39;00m i \u001b[39min\u001b[39;00m \u001b[39msorted\u001b[39m(a):\n\u001b[1;32m----> 4\u001b[0m     answer \u001b[39m+\u001b[39m\u001b[39m=\u001b[39m i \u001b[39m*\u001b[39m \u001b[39msorted\u001b[39;49m(b, reverse\u001b[39m=\u001b[39;49m\u001b[39mTrue\u001b[39;49;00m)[i]\n\u001b[0;32m      5\u001b[0m \u001b[39mreturn\u001b[39;00m answer\n",
      "\u001b[1;31mIndexError\u001b[0m: list index out of range"
     ]
    }
   ],
   "source": [
    "def solution(a, b):\n",
    "    answer = 0\n",
    "    for i in sorted(a):\n",
    "        answer += i * sorted(b, reverse=True)[i]\n",
    "    return answer\n",
    "\n",
    "solution([1, 4, 2], [5, 4, 4])"
   ]
  },
  {
   "cell_type": "code",
   "execution_count": 6,
   "metadata": {},
   "outputs": [
    {
     "data": {
      "text/plain": [
       "4"
      ]
     },
     "execution_count": 6,
     "metadata": {},
     "output_type": "execute_result"
    }
   ],
   "source": [
    "a = [1, 4, 2]\n",
    "sorted(a, reverse=True)[0]"
   ]
  },
  {
   "cell_type": "code",
   "execution_count": 1,
   "metadata": {},
   "outputs": [
    {
     "data": {
      "text/plain": [
       "{'월요일': [], '화요일': [], '수요일': [], '목요일': [], '금요일': []}"
      ]
     },
     "execution_count": 1,
     "metadata": {},
     "output_type": "execute_result"
    }
   ],
   "source": [
    "days = ['월요일', '화요일', '수요일', '목요일', '금요일']\n",
    "menu_dict = {day: [] for day in days}\n",
    "menu_dict"
   ]
  },
  {
   "cell_type": "code",
   "execution_count": 9,
   "metadata": {},
   "outputs": [],
   "source": [
    "import pandas as pd\n",
    "import numpy as np\n",
    "import matplotlib.pyplot as plt\n",
    "import seaborn as sns\n",
    "import os\n",
    "\n",
    "plt.rc('font', family='Malgun Gothic')"
   ]
  },
  {
   "cell_type": "code",
   "execution_count": 10,
   "metadata": {},
   "outputs": [
    {
     "data": {
      "text/html": [
       "<div>\n",
       "<style scoped>\n",
       "    .dataframe tbody tr th:only-of-type {\n",
       "        vertical-align: middle;\n",
       "    }\n",
       "\n",
       "    .dataframe tbody tr th {\n",
       "        vertical-align: top;\n",
       "    }\n",
       "\n",
       "    .dataframe thead th {\n",
       "        text-align: right;\n",
       "    }\n",
       "</style>\n",
       "<table border=\"1\" class=\"dataframe\">\n",
       "  <thead>\n",
       "    <tr style=\"text-align: right;\">\n",
       "      <th></th>\n",
       "      <th>Date</th>\n",
       "      <th>TOEI ANIMATION</th>\n",
       "      <th>IG Port</th>\n",
       "    </tr>\n",
       "  </thead>\n",
       "  <tbody>\n",
       "    <tr>\n",
       "      <th>0</th>\n",
       "      <td>2015-01-01</td>\n",
       "      <td>1.000000</td>\n",
       "      <td>1.000000</td>\n",
       "    </tr>\n",
       "    <tr>\n",
       "      <th>1</th>\n",
       "      <td>2015-01-02</td>\n",
       "      <td>1.000000</td>\n",
       "      <td>1.000000</td>\n",
       "    </tr>\n",
       "    <tr>\n",
       "      <th>2</th>\n",
       "      <td>2015-01-05</td>\n",
       "      <td>1.011695</td>\n",
       "      <td>1.014082</td>\n",
       "    </tr>\n",
       "    <tr>\n",
       "      <th>3</th>\n",
       "      <td>2015-01-06</td>\n",
       "      <td>1.001463</td>\n",
       "      <td>1.000000</td>\n",
       "    </tr>\n",
       "    <tr>\n",
       "      <th>4</th>\n",
       "      <td>2015-01-07</td>\n",
       "      <td>0.982457</td>\n",
       "      <td>1.000824</td>\n",
       "    </tr>\n",
       "    <tr>\n",
       "      <th>...</th>\n",
       "      <td>...</td>\n",
       "      <td>...</td>\n",
       "      <td>...</td>\n",
       "    </tr>\n",
       "    <tr>\n",
       "      <th>517</th>\n",
       "      <td>2016-12-26</td>\n",
       "      <td>1.722833</td>\n",
       "      <td>1.113256</td>\n",
       "    </tr>\n",
       "    <tr>\n",
       "      <th>518</th>\n",
       "      <td>2016-12-27</td>\n",
       "      <td>1.740624</td>\n",
       "      <td>1.185588</td>\n",
       "    </tr>\n",
       "    <tr>\n",
       "      <th>519</th>\n",
       "      <td>2016-12-28</td>\n",
       "      <td>1.767312</td>\n",
       "      <td>1.289514</td>\n",
       "    </tr>\n",
       "    <tr>\n",
       "      <th>520</th>\n",
       "      <td>2016-12-29</td>\n",
       "      <td>1.791034</td>\n",
       "      <td>1.430018</td>\n",
       "    </tr>\n",
       "    <tr>\n",
       "      <th>521</th>\n",
       "      <td>2016-12-30</td>\n",
       "      <td>1.791034</td>\n",
       "      <td>1.438333</td>\n",
       "    </tr>\n",
       "  </tbody>\n",
       "</table>\n",
       "<p>522 rows × 3 columns</p>\n",
       "</div>"
      ],
      "text/plain": [
       "           Date  TOEI ANIMATION   IG Port\n",
       "0    2015-01-01        1.000000  1.000000\n",
       "1    2015-01-02        1.000000  1.000000\n",
       "2    2015-01-05        1.011695  1.014082\n",
       "3    2015-01-06        1.001463  1.000000\n",
       "4    2015-01-07        0.982457  1.000824\n",
       "..          ...             ...       ...\n",
       "517  2016-12-26        1.722833  1.113256\n",
       "518  2016-12-27        1.740624  1.185588\n",
       "519  2016-12-28        1.767312  1.289514\n",
       "520  2016-12-29        1.791034  1.430018\n",
       "521  2016-12-30        1.791034  1.438333\n",
       "\n",
       "[522 rows x 3 columns]"
      ]
     },
     "execution_count": 10,
     "metadata": {},
     "output_type": "execute_result"
    }
   ],
   "source": [
    "base_url = ('https://raw.githubusercontent.com/practical-jupyter/sample-data/master/anime/')\n",
    "\n",
    "anime_sotck_return_csv = os.path.join(base_url, 'anime_stock_returns.csv')\n",
    "\n",
    "df = pd.read_csv(anime_sotck_return_csv)\n",
    "df"
   ]
  },
  {
   "cell_type": "code",
   "execution_count": 11,
   "metadata": {},
   "outputs": [],
   "source": [
    "df['Date'] = pd.to_datetime(df['Date'])"
   ]
  },
  {
   "cell_type": "code",
   "execution_count": 12,
   "metadata": {},
   "outputs": [],
   "source": [
    "df.set_index('Date', inplace=True)"
   ]
  },
  {
   "cell_type": "code",
   "execution_count": 14,
   "metadata": {},
   "outputs": [
    {
     "data": {
      "text/html": [
       "<div>\n",
       "<style scoped>\n",
       "    .dataframe tbody tr th:only-of-type {\n",
       "        vertical-align: middle;\n",
       "    }\n",
       "\n",
       "    .dataframe tbody tr th {\n",
       "        vertical-align: top;\n",
       "    }\n",
       "\n",
       "    .dataframe thead th {\n",
       "        text-align: right;\n",
       "    }\n",
       "</style>\n",
       "<table border=\"1\" class=\"dataframe\">\n",
       "  <thead>\n",
       "    <tr style=\"text-align: right;\">\n",
       "      <th></th>\n",
       "      <th>TOEI ANIMATION</th>\n",
       "      <th>IG Port</th>\n",
       "    </tr>\n",
       "    <tr>\n",
       "      <th>Date</th>\n",
       "      <th></th>\n",
       "      <th></th>\n",
       "    </tr>\n",
       "  </thead>\n",
       "  <tbody>\n",
       "    <tr>\n",
       "      <th>2015-01-01</th>\n",
       "      <td>1.000000</td>\n",
       "      <td>1.000000</td>\n",
       "    </tr>\n",
       "    <tr>\n",
       "      <th>2015-01-02</th>\n",
       "      <td>1.000000</td>\n",
       "      <td>1.000000</td>\n",
       "    </tr>\n",
       "    <tr>\n",
       "      <th>2015-01-05</th>\n",
       "      <td>1.011695</td>\n",
       "      <td>1.014082</td>\n",
       "    </tr>\n",
       "    <tr>\n",
       "      <th>2015-01-06</th>\n",
       "      <td>1.001463</td>\n",
       "      <td>1.000000</td>\n",
       "    </tr>\n",
       "    <tr>\n",
       "      <th>2015-01-07</th>\n",
       "      <td>0.982457</td>\n",
       "      <td>1.000824</td>\n",
       "    </tr>\n",
       "    <tr>\n",
       "      <th>...</th>\n",
       "      <td>...</td>\n",
       "      <td>...</td>\n",
       "    </tr>\n",
       "    <tr>\n",
       "      <th>2016-12-26</th>\n",
       "      <td>1.722833</td>\n",
       "      <td>1.113256</td>\n",
       "    </tr>\n",
       "    <tr>\n",
       "      <th>2016-12-27</th>\n",
       "      <td>1.740624</td>\n",
       "      <td>1.185588</td>\n",
       "    </tr>\n",
       "    <tr>\n",
       "      <th>2016-12-28</th>\n",
       "      <td>1.767312</td>\n",
       "      <td>1.289514</td>\n",
       "    </tr>\n",
       "    <tr>\n",
       "      <th>2016-12-29</th>\n",
       "      <td>1.791034</td>\n",
       "      <td>1.430018</td>\n",
       "    </tr>\n",
       "    <tr>\n",
       "      <th>2016-12-30</th>\n",
       "      <td>1.791034</td>\n",
       "      <td>1.438333</td>\n",
       "    </tr>\n",
       "  </tbody>\n",
       "</table>\n",
       "<p>522 rows × 2 columns</p>\n",
       "</div>"
      ],
      "text/plain": [
       "            TOEI ANIMATION   IG Port\n",
       "Date                                \n",
       "2015-01-01        1.000000  1.000000\n",
       "2015-01-02        1.000000  1.000000\n",
       "2015-01-05        1.011695  1.014082\n",
       "2015-01-06        1.001463  1.000000\n",
       "2015-01-07        0.982457  1.000824\n",
       "...                    ...       ...\n",
       "2016-12-26        1.722833  1.113256\n",
       "2016-12-27        1.740624  1.185588\n",
       "2016-12-28        1.767312  1.289514\n",
       "2016-12-29        1.791034  1.430018\n",
       "2016-12-30        1.791034  1.438333\n",
       "\n",
       "[522 rows x 2 columns]"
      ]
     },
     "execution_count": 14,
     "metadata": {},
     "output_type": "execute_result"
    }
   ],
   "source": [
    "df"
   ]
  },
  {
   "cell_type": "code",
   "execution_count": 16,
   "metadata": {},
   "outputs": [
    {
     "data": {
      "image/png": "[encoded data removed]",
      "text/plain": [
       "<Figure size 1200x600 with 1 Axes>"
      ]
     },
     "metadata": {},
     "output_type": "display_data"
    }
   ],
   "source": [
    "plt.style.use('ggplot')\n",
    "fig = plt.figure(figsize=(12,6))\n",
    "\n",
    "ax = fig.add_subplot(111)\n",
    "\n",
    "x = df['IG Port']\n",
    "y = df['TOEI ANIMATION']\n",
    "\n",
    "ax.plot(x,y)\n",
    "\n",
    "ax.set_title('그래프', fontdict={'fontsize':30, 'fontweight':'bold', 'color':'green'})\n",
    "\n",
    "plt.show()"
   ]
  },
  {
   "cell_type": "code",
   "execution_count": null,
   "metadata": {},
   "outputs": [],
   "source": []
  }
 ],
 "metadata": {
  "kernelspec": {
   "display_name": "Python 3",
   "language": "python",
   "name": "python3"
  },
  "language_info": {
   "codemirror_mode": {
    "name": "ipython",
    "version": 3
   },
   "file_extension": ".py",
   "mimetype": "text/x-python",
   "name": "python",
   "nbconvert_exporter": "python",
   "pygments_lexer": "ipython3",
   "version": "3.11.3"
  },
  "orig_nbformat": 4
 },
 "nbformat": 4,
 "nbformat_minor": 2
}
